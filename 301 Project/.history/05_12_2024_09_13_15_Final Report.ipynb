{
 "cells": [
  {
   "cell_type": "markdown",
   "id": "15ef2c57-3d49-451e-a8f9-6331cb0a36bc",
   "metadata": {},
   "source": [
    "## Introduction:"
   ]
  },
  {
   "cell_type": "markdown",
   "id": "a6330ba3-31a5-477a-a2c0-e02a42ada8f5",
   "metadata": {},
   "source": [
    "- ...\n",
    "- ...\n",
    "- ...\n",
    "- ...\n",
    "- ..."
   ]
  },
  {
   "cell_type": "code",
   "execution_count": null,
   "id": "085dcc33-efbf-4574-bf88-9dae3d30d3b0",
   "metadata": {},
   "outputs": [],
   "source": [
    "install.packages(\"leaps\")\n",
    "install.packages(\"Metrics\")"
   ]
  },
  {
   "cell_type": "code",
   "execution_count": null,
   "id": "1f9ec1bc-2d6b-4e88-bd2f-6665b2873918",
   "metadata": {},
   "outputs": [],
   "source": [
    "library(tidyverse)\n",
    "library(lubridate)\n",
    "\n",
    "library(ggplot2)\n",
    "library(broom)\n",
    "library(tidyr)\n",
    "library(dplyr)\n",
    "library(Metrics)\n",
    "library(modelr)\n",
    "library(GGally)\n",
    "\n",
    "library(leaps)\n",
    "library(caret)\n",
    "library(car)\n",
    "library(reshape2)"
   ]
  },
  {
   "cell_type": "markdown",
   "id": "38076367-e4ea-4809-9b3e-5746d45e2baa",
   "metadata": {},
   "source": [
    "## Question: \n",
    "* What factors affect the number of stars a GitHub repository has?\n",
    "* what variables are most correlated with the success of a GitHub repository?\n",
    "* Can we predict the number of stars a GitHub repository will have based on the number of other input variables (e.g. # of Issues, # of Forks, # of days since it was created, ...etc)?\n",
    "* How accurate are the predictions, and what is the best-fit model based on the given input data? "
   ]
  },
  {
   "cell_type": "markdown",
   "id": "189f2d8f-d1d3-42d1-bee9-0938b8600945",
   "metadata": {},
   "source": [
    "## EDA Methods: \n",
    "- I will explore the data with useful visuals that allow me to observe relationships between input variables and response one and among input variables themselves. I also observed how some input variables were highly correlated (multicollinearity) by plotting a heatmap.\n",
    "- in this assignment, I will first convert the 'Created_At' and 'Updated_AT' Date variables to numerical values, where they represent the days since created, updated respectively.\n",
    "- Then, I will clean the Data and use the Forward Selection Algorithm to find the best-fit model.\n",
    "- Afterward, I am going to split the data into training, testing data with a ratio of 80/20.\n",
    "- then, I am going to use the variables from the Forward Selection results to fit an Additive linear regression model.\n",
    "- Then, using the predict function, I am going to predict the number of stars in the testing set using the fitted model.\n",
    "- Finally, I will calculate the RMSE to evaluate the accuracy of the prediction model.*"
   ]
  },
  {
   "cell_type": "markdown",
   "id": "3a210de6-7a6c-48c6-a0c2-e82045f24b1a",
   "metadata": {},
   "source": [
    "This dataset lists over 215000 top projects by star with over 167 stars. The dataset was collected using a GitHub search API. This API will get the first 1000 for a query. By looping through the low to high pairs the API returns less than a thousand repositories when query = Star:{Low}...{High}. The repository includes the name, description, URL, date of creation, date of last update, homepage, size, and stars, among other attributes for a total of 24 attributes.\n",
    "\n",
    "- Name: chr\n",
    "- Description: chr\n",
    "- URL: chr\n",
    "- Created At: dttm\n",
    "- Updated At: dttm\n",
    "- Homepage: chr\n",
    "- Size: dbl\n",
    "- Stars: dbl\n",
    "- Forks: dbl\n",
    "- Issues: dbl\n",
    "- Watchers: dbl\n",
    "- Language: chr\n",
    "- License: chr\n",
    "- Topics: chr\n",
    "- Has Issues: lgl\n",
    "- Has Projects: lgl\n",
    "- Has Downloads: lgl\n",
    "- Has Wiki: lgl\n",
    "- Has Pages: lgl\n",
    "- Has Discussions: lgl\n",
    "- Is Fork: lgl\n",
    "- Is Archived: lgl\n",
    "- Is Template: lgl\n",
    "- Default Branch: chr"
   ]
  },
  {
   "cell_type": "code",
   "execution_count": null,
   "id": "7d0959d1-49b8-4ced-a9ce-23ed3f31838f",
   "metadata": {},
   "outputs": [],
   "source": [
    "df <- read_csv('repositories.csv')"
   ]
  },
  {
   "cell_type": "code",
   "execution_count": null,
   "id": "9ad72db5-9f5a-4e84-8f23-c4f274d064b8",
   "metadata": {},
   "outputs": [],
   "source": [
    "df_subset <- df %>% sample_n(size = 10000)\n",
    "\n",
    "head(df_subset, n = 3)"
   ]
  },
  {
   "cell_type": "code",
   "execution_count": null,
   "id": "d58699fa-3046-4499-bfb5-bb70de82aca2",
   "metadata": {},
   "outputs": [],
   "source": [
    "nrow(df_subset)\n",
    "\n",
    "glimpse(df_subset) \n",
    "\n",
    "colnames(df_subset) "
   ]
  },
  {
   "cell_type": "markdown",
   "id": "e3cc974b-f8c8-4361-b186-539f43095c17",
   "metadata": {},
   "source": [
    "* - I am choosing only those variables because of the limitation on running the Forward Selection Algorithm on all of the given variables. Also, the other columns (e.g. logical variables) contain very redundant data.  \n",
    "Note: I explain more about this issue in the cell just above the Forward Selection cell down below.*"
   ]
  },
  {
   "cell_type": "code",
   "execution_count": null,
   "id": "d39c5894-4139-4741-8ea2-6a37762017e1",
   "metadata": {},
   "outputs": [],
   "source": [
    "features <- c(\"Size\", \"Stars\", \"Forks\",\n",
    "              \"Issues\", 'Watchers', 'Is Archived', 'Has Issues', 'Has Pages',\n",
    "              'Created At', 'Updated At')\n",
    "df_subset_1 <- df_subset %>% select(all_of(features))\n",
    "\n",
    "head(df_subset_1, n = 3)\n",
    "nrow(df_subset_1)\n",
    "sum(is.na(df_subset_1))"
   ]
  },
  {
   "cell_type": "code",
   "execution_count": null,
   "id": "224b0b29-54f7-4d25-8495-2348490ba656",
   "metadata": {},
   "outputs": [],
   "source": [
    "df_subset$'Created At' <- as.Date(strptime(df_subset$'Created At', format = \"%Y-%m-%d %H:%M:%S\"))\n",
    "df_subset$'Updated At' <- as.Date(strptime(df_subset$'Updated At', format = \"%Y-%m-%d %H:%M:%S\"))"
   ]
  },
  {
   "cell_type": "code",
   "execution_count": null,
   "id": "86d214b8-d3b2-4ad2-b210-caf32794b31c",
   "metadata": {},
   "outputs": [],
   "source": [
    "df_subset_2 <- df_subset_1 %>%\n",
    "  mutate(\n",
    "    `Created At` = as.Date(`Created At`),        \n",
    "    `Updated At` = as.Date(`Updated At`),        \n",
    "    repo_age_days = as.numeric(Sys.Date() - `Created At`),\n",
    "    days_since_update = as.numeric(Sys.Date() - `Updated At`)\n",
    "  )\n",
    "\n",
    "head(df_subset_2, n = 3)"
   ]
  },
  {
   "cell_type": "code",
   "execution_count": null,
   "id": "07e62245-cccd-4577-b56a-34d56bfced18",
   "metadata": {},
   "outputs": [],
   "source": [
    "df_subset_3 <- df_subset_2 %>% select(-c('Created At', 'Updated At'))\n",
    "\n",
    "head(df_subset_3, n = 3)"
   ]
  },
  {
   "cell_type": "code",
   "execution_count": null,
   "id": "82a4fcff-8911-4292-8232-15882b4fa26b",
   "metadata": {},
   "outputs": [],
   "source": [
    "non_na_repo_age <- df_subset_3 %>% filter(!is.na(repo_age_days))\n",
    "non_na_days_since_update <- df_subset_3 %>% filter(!is.na(days_since_update))\n",
    "\n",
    "head(df_subset_3 %>% select(repo_age_days, days_since_update, n = 3))"
   ]
  },
  {
   "cell_type": "code",
   "execution_count": null,
   "id": "7eee156d-27bf-464e-9dc8-3b553d09b56b",
   "metadata": {},
   "outputs": [],
   "source": [
    "df_cleaned <- df_subset_3 %>% filter(!is.na(Stars) & !is.na(Forks) & !is.na(repo_age_days))  \n",
    "\n",
    "head(df_cleaned, n = 3)"
   ]
  },
  {
   "cell_type": "code",
   "execution_count": null,
   "id": "70248127-99f7-40c2-8dd6-1be0db9f190a",
   "metadata": {},
   "outputs": [],
   "source": [
    "summary_stats <- df_cleaned %>%\n",
    "  summarize(\n",
    "    count = n(),\n",
    "    avg_stars = mean(Stars, na.rm = TRUE),\n",
    "    avg_forks = mean(Forks, na.rm = TRUE),\n",
    "    avg_issues = mean(Issues, na.rm = TRUE),\n",
    "    avg_repo_age = mean(repo_age_days, na.rm = TRUE),\n",
    "    avg_days_since_update = mean(days_since_update, na.rm = TRUE)\n",
    "  )\n",
    "\n",
    "print(summary_stats)\n",
    "head(df_cleaned, n = 3)\n",
    "nrow(df_cleaned)\n",
    "sum(is.na(df_cleaned))"
   ]
  },
  {
   "cell_type": "markdown",
   "id": "d31c2dc0-9ee8-42f9-b552-57734f0955de",
   "metadata": {},
   "source": [
    "*Now that our data is clean, I am going to perform visualization. I will start by creating a simple linear model plot for each numerical input variable againt our desired reponse variable (Stars).*"
   ]
  },
  {
   "cell_type": "code",
   "execution_count": null,
   "id": "4924b3ab-97bb-4ae2-a9b6-a837b155ecb4",
   "metadata": {},
   "outputs": [],
   "source": [
    "continuous_vars <- c(\"Size\", \"Forks\", \"Issues\")\n",
    "\n",
    "model <- lm(Stars ~ ., data = df_cleaned %>% select(Stars, all_of(continuous_vars)))\n",
    "\n",
    "print(summary(model))\n",
    "\n",
    "for (var in continuous_vars) {\n",
    "  ggplot(df_cleaned, aes_string(x = var, y = \"Stars\")) +\n",
    "    geom_point(alpha = 0.5) +\n",
    "    geom_smooth(method = \"lm\", color = \"red\", se = FALSE) +\n",
    "    labs(title = paste(\"Linear Model Fit for Stars vs\", var)) +\n",
    "    theme_minimal() -> p\n",
    "    \n",
    "  print(p)\n",
    "}"
   ]
  },
  {
   "cell_type": "markdown",
   "id": "4f55c8d6-e26d-4239-adcf-0840b524278e",
   "metadata": {},
   "source": [
    "*To investigate the presence of Multicollinearty, I am going to create a heat map to visulize\n",
    "the corellation between input variables.*"
   ]
  },
  {
   "cell_type": "code",
   "execution_count": null,
   "id": "d450e681-5813-459a-9fc7-e3da34a1db8c",
   "metadata": {},
   "outputs": [],
   "source": [
    "options(repr.plot.width = 15, repr.plot.height = 12) \n",
    "\n",
    "df_cleaned_pair_plots <- \n",
    "    df_cleaned %>% \n",
    "    select(Size, Forks, Issues, Watchers, repo_age_days, days_since_update)%>% \n",
    "    ggpairs(progress = FALSE) +\n",
    "    theme(text = element_text(size = 15))\n",
    "\n",
    "df_cleaned_pair_plots"
   ]
  },
  {
   "cell_type": "code",
   "execution_count": null,
   "id": "8fd90b4d-e2fd-4ece-af1a-a55c87ff5e00",
   "metadata": {},
   "outputs": [],
   "source": [
    "corr_matrix_df_cleaned <- \n",
    "    df_cleaned %>%  \n",
    "    select(Size, Forks, Issues, Watchers, repo_age_days, days_since_update) %>%\n",
    "    cor() %>%\n",
    "    as_tibble(rownames = 'var1') %>%\n",
    "    pivot_longer(-var1, names_to = \"var2\", values_to = \"corr\")\n",
    "\n",
    "head(corr_matrix_df_cleaned)"
   ]
  },
  {
   "cell_type": "code",
   "execution_count": null,
   "id": "0e62a56b-a590-4b0b-9d79-456fbdcfd231",
   "metadata": {},
   "outputs": [],
   "source": [
    "MLR_df_cleaned <- lm(formula = Stars ~ ., data = df_cleaned)\n",
    "\n",
    "MLR_df_cleaned_results <- \n",
    "    tidy(MLR_df_cleaned) %>%\n",
    "    mutate_if(is.numeric, round, 2)\n",
    "\n",
    "head(MLR_df_cleaned_results)"
   ]
  },
  {
   "cell_type": "code",
   "execution_count": null,
   "id": "24c30ead-bf06-4f16-8f86-6d2f19aa6a7f",
   "metadata": {},
   "outputs": [],
   "source": [
    "VIF_MLR_df_cleaned <- vif(MLR_df_cleaned)\n",
    "\n",
    "round(VIF_MLR_df_cleaned, 3)"
   ]
  },
  {
   "cell_type": "markdown",
   "id": "7f52206e-a774-4bcd-a72f-04e434b3f0af",
   "metadata": {},
   "source": [
    "*We can see from the heat map that some of the input variables have a medium linear correlation. \n",
    " e.g. Forks and Issues(0.667). In the next cell, we are going the find out what are their correlation coefficients.*"
   ]
  },
  {
   "cell_type": "markdown",
   "id": "b6a38a8c-aa39-41b4-8acd-528c102f848b",
   "metadata": {},
   "source": [
    "In this cell, I will split the data into training/testing data (80/20 ratio). I will use them to fit the linear regression model, predict 'Stars' values, and evaluate the model.  "
   ]
  },
  {
   "cell_type": "code",
   "execution_count": null,
   "id": "545809fb-9013-4b78-b617-f346816c355d",
   "metadata": {},
   "outputs": [],
   "source": [
    "set.seed(123) # DO NOT CHANGE!\n",
    "\n",
    "GitHub_sample <-\n",
    "    df_cleaned %>%\n",
    "    mutate(id = row_number())\n",
    "\n",
    "training_GitHub <- \n",
    "    GitHub_sample %>%\n",
    "    slice_sample(prop = 0.80, replace = FALSE)\n",
    "\n",
    "testing_GitHub <- \n",
    "    GitHub_sample %>% \n",
    "    anti_join(training_GitHub, by = \"id\") %>%\n",
    "    select(-id)\n",
    "\n",
    "training_GitHub <- \n",
    "    training_GitHub %>% \n",
    "    select(-id)\n",
    "\n",
    "head(training_GitHub)\n",
    "nrow(training_GitHub)\n",
    "\n",
    "nrow(testing_GitHub)"
   ]
  },
  {
   "cell_type": "markdown",
   "id": "8ece48fa-6f3d-4b5d-888a-bdbcad6c0ded",
   "metadata": {},
   "source": [
    "- One of the limitations I faced when running the Forward Selection Algorithm on the given data was that The kernel would collapse and restart entirely.\n",
    "- To solve this problem, I will drop some of the categorical variables that have many levels (>2) and I, from the experience I gained in this course, believe they have little to no utility in predicting the number of stars."
   ]
  },
  {
   "cell_type": "code",
   "execution_count": null,
   "id": "cca645b6-3779-4735-998c-cb7dc9c13019",
   "metadata": {},
   "outputs": [],
   "source": [
    "GitHub_forward_sel <- regsubsets(\n",
    "  Stars ~ ., data = training_GitHub,\n",
    "  method = \"forward\",\n",
    "  nvmax = ncol(training_GitHub) - 1\n",
    ")\n",
    "GitHub_forward_sel\n",
    "\n",
    "GitHub_fwd_summary <- summary(GitHub_forward_sel)\n",
    "\n",
    "GitHub_fwd_summary <- tibble(\n",
    "  n_input_variables = 1:length(GitHub_fwd_summary$rss),  \n",
    "  RSS = GitHub_fwd_summary$rss,\n",
    "  BIC = GitHub_fwd_summary$bic,\n",
    "  Cp = GitHub_fwd_summary$cp\n",
    ")"
   ]
  },
  {
   "cell_type": "code",
   "execution_count": null,
   "id": "e0ca7186-3557-4de3-8c01-efc0b6dc5283",
   "metadata": {},
   "outputs": [],
   "source": [
    "GitHub_fwd_summary\n",
    "summary(GitHub_forward_sel)"
   ]
  },
  {
   "cell_type": "markdown",
   "id": "d1190c44-142e-4af6-85a2-02c1635162b5",
   "metadata": {},
   "source": [
    "- based on the forward selection, the variables for the best-fit model are Size Forks Issues Watchers. Therefore I will fit the training data into a linear regression prediction model using an additive model for all the variables we just selected(4).\n",
    "-  the reason I selected model (4) is that it has the best combination of lowest CP, BIC and the among the highest RSS.*"
   ]
  },
  {
   "cell_type": "code",
   "execution_count": null,
   "id": "6d5c626d-ef2f-40b9-b65c-ad6cbd8bb781",
   "metadata": {},
   "outputs": [],
   "source": [
    "GitHub_full <- lm(Stars ~ Size + Forks + Issues + Watchers + `Is Archived`, data = training_GitHub)\n",
    "\n",
    "GitHub_full"
   ]
  },
  {
   "cell_type": "code",
   "execution_count": null,
   "id": "31caa5d6-bc34-4b06-8711-72419e5152dc",
   "metadata": {},
   "outputs": [],
   "source": [
    "GitHub_test_pred_full <- predict(GitHub_full, newdata = testing_GitHub)\n",
    "\n",
    "head(GitHub_test_pred_full)"
   ]
  },
  {
   "cell_type": "markdown",
   "id": "26452a27-7cfe-452a-a846-cb7364d4a7ae",
   "metadata": {},
   "source": [
    "- including 'Watchers' in the model will lead to perfect prediction. This is because 'Watchers' = 'Stars'.\n",
    "- Therefore the resulting RMSE will equal to 0 (or approximatly 0). "
   ]
  },
  {
   "cell_type": "markdown",
   "id": "eff1030b-0555-4e03-9244-799911980d52",
   "metadata": {},
   "source": [
    "- By using the vif function, and to resolve multicollinearity, I got the following results:\n",
    "- Size: 1.001, Forks: 1.615, Issues: 1.441, Watchers: 2.042, `Has Discussions`: 1.051repo_age_days: 1.087, days_since_update: 1.071.\n",
    "- I observed that 'Watchers' has a strong correlation with both 'Forks' and 'Issues' (0.62 and 0.55 respectively).\n",
    "- Now let's fit a linear regression model by using the best-fit model result from Forward Selection.(without 'Watchers')\n",
    "- Note: I could have removed 'Watchers' before running the Forward Selection Algorithm, however, I wanted to see what the algorithm would select as the best-fit model."
   ]
  },
  {
   "cell_type": "code",
   "execution_count": null,
   "id": "842a677e-6149-466e-9268-6b2e3b906393",
   "metadata": {},
   "outputs": [],
   "source": [
    "GitHub_No_Watchers <- lm(Stars ~ Forks + Issues + `Is Archived` , data = training_GitHub)\n",
    "\n",
    "GitHub_No_Watchers"
   ]
  },
  {
   "cell_type": "code",
   "execution_count": null,
   "id": "53ae783e-67ad-4764-8d5f-193a72b8511b",
   "metadata": {},
   "outputs": [],
   "source": [
    "GitHub_pred_No_Watchers <- predict(GitHub_No_Watchers, newdata = testing_GitHub)\n",
    "\n",
    "head(GitHub_pred_No_Watchers)"
   ]
  },
  {
   "cell_type": "markdown",
   "id": "4ff5380c-134d-4a5e-8b41-efc786fd644f",
   "metadata": {},
   "source": [
    "- Since we saw in the previous assignment visualization that 'Watchers' was perfectly linearly correlated with Stars and also strongly correlated with 'Issues' and 'Forks', now let's fit a simple linear regression model with only 'Forks' as the input then only 'Issues as the input variable.*"
   ]
  },
  {
   "cell_type": "code",
   "execution_count": null,
   "id": "a5f10f93-9513-466d-8041-fc752fd53aa4",
   "metadata": {},
   "outputs": [],
   "source": [
    "GitHub_Simple_Forks <- lm(Stars ~ Forks, data = training_GitHub)\n",
    "\n",
    "\n",
    "GitHub_Simple_Issues <- lm(Stars ~ Issues, data = training_GitHub)\n",
    "\n",
    "GitHub_Simple_Forks\n",
    "GitHub_Simple_Issues"
   ]
  },
  {
   "cell_type": "code",
   "execution_count": null,
   "id": "f2617e53-545d-4304-bd66-b027fff61439",
   "metadata": {},
   "outputs": [],
   "source": [
    "GitHub_test_pred_Simple_Forks <- predict(GitHub_Simple_Forks, newdata = testing_GitHub)\n",
    "\n",
    "GitHub_test_pred_Simple_Issues <- predict(GitHub_Simple_Issues, newdata = testing_GitHub)\n",
    "\n",
    "\n",
    "head(GitHub_test_pred_Simple_Forks)\n",
    "head(GitHub_test_pred_Simple_Issues)"
   ]
  },
  {
   "cell_type": "code",
   "execution_count": null,
   "id": "5e15c7b4-92be-4502-86b5-66f99d631a18",
   "metadata": {},
   "outputs": [],
   "source": [
    "GitHub_RMSE_table <- bind_rows(\n",
    "  tibble(\n",
    "    Model = \"Full Regression\",\n",
    "    RMSE = rmse(model = GitHub_full, data = testing_GitHub)\n",
    "  ),\n",
    "  tibble(\n",
    "    Model = \"Full Regression No Watchers\",\n",
    "    RMSE = rmse(model = GitHub_No_Watchers, data = testing_GitHub)\n",
    "  ),\n",
    "  tibble(\n",
    "    Model = \"Simple Regression (Forks)\",\n",
    "    RMSE = rmse(model = GitHub_Simple_Forks, data = testing_GitHub)\n",
    "  ),\n",
    "  tibble(\n",
    "    Model = \"Simple Regression (Issues)\",\n",
    "    RMSE = rmse(model = GitHub_Simple_Issues, data = testing_GitHub)\n",
    "  )\n",
    ")\n",
    "\n",
    "GitHub_RMSE_table"
   ]
  },
  {
   "cell_type": "markdown",
   "id": "ab6174f8-e38d-443d-8f7d-3f779643e236",
   "metadata": {},
   "source": [
    "- We can conclude from the RMSE values for all the models, except the one with 'Watchers', that the linear regression model that yielded the best prediction is the Forward Selection one (lowest RMSE).\n",
    "- This was expected because, from the visualization of the relationship between input variables and 'Stars' (in the previous assignment), we saw how those variables had a weak linear correlation with the number of stars a repository has."
   ]
  },
  {
   "cell_type": "markdown",
   "id": "de143a19-b090-4058-8ec9-240a0018f078",
   "metadata": {},
   "source": [
    "## Discussion: \n"
   ]
  },
  {
   "cell_type": "markdown",
   "id": "22dca527-f403-4a49-a132-07f67ec0ad75",
   "metadata": {},
   "source": [
    "- The analysis of GitHub repository data revealed that certain features, such as Size, Forks, and Issues show significant correlations with Stars.\n",
    "  - Implications: These findings suggest that the GitHub community highly values active contributions and project size.\n",
    "  - For developers looking to gain visibility, regular updates and long-term project management might be critical strategies. Furthermore, it highlights the importance of continuous engagement with the community to maintain and grow a project's popularity.\n",
    "\n",
    "- Were the Results Expected?\n",
    "  - Yes, the results align with the expected findings. We anticipated that the size of the repository and the number of forks would correlate with higher star counts, as these factors are typically associated with increased engagement and project quality.\n",
    "\n",
    "- Model Improvement:\n",
    "  - Add more features: Introducing additional features like the number of contributors, issue resolution time, or repository license type could enhance the model's predictive power by accounting for more aspects of repository activity.\n",
    "  - Model selection: Experimenting with more advanced regression techniques, such as random forest regression could capture more complex relationships and interactions between features.\n",
    "  -  Outlier handling: Identifying and managing outliers, such as repositories with very high stars despite low activity, could lead to more robust model results.\n",
    "  -  Cross-validation: Implementing cross-validation techniques would help assess the model's performance more thoroughly and prevent overfitting.\n",
    "\n",
    "- Future Questions/Research:\n",
    "  - Impact of contributor diversity: Future research could explore how the diversity of contributors (e.g., the number of unique contributors or contributions from well-known developers) influences the star count.\n",
    "  - Project lifecycle and stars: Investigating how the timing of major updates, milestones, or releases correlates with star growth over time could provide valuable insights for project planning.\n",
    "  - External factors: It would be interesting to study the influence of external factors such as social media activity or media coverage on project popularity, potentially incorporating data from Twitter or Reddit.\n",
    "  - Causality vs. correlation: Future work could focus on determining whether frequent updates directly drive star growth or if other underlying factors are at play (correlation does not imply causation)."
   ]
  },
  {
   "cell_type": "markdown",
   "id": "316c933d-7ecc-43a7-aff7-c82c1cad310c",
   "metadata": {},
   "source": [
    "## Reference: "
   ]
  },
  {
   "cell_type": "markdown",
   "id": "d8d32dd1-159c-4f54-b097-dde490ef5b32",
   "metadata": {},
   "source": [
    "- GitHub. (n.d.). Saving repositories with stars. GitHub Docs. https://docs.github.com/en/get-started/exploring-projects-on-github/saving-repositories-with-stars\n",
    "- Barbos, D. (n.d.). GitHub repositories. Kaggle. https://www.kaggle.com/datasets/donbarbos/github-repos?resource=download\n",
    "- I. J. Mojica Ruiz, M. Nagappan, B. Adams, T. Berger, S. Dienst, and A. E. Hassan, “Impact of ad libraries on ratings of Android mobile apps,” IEEE Software, vol. 31, no. 6, pp. 86–92, 2014.\n",
    "- K. Aggarwal, A. Hindle, and E. Stroulia, “Co-evolution of project documentation and popularity within GitHub,” in 11th Working Conference on Mining Software Repositories (MSR), 2014, pp. 360–363.\n"
   ]
  }
 ],
 "metadata": {
  "kernelspec": {
   "display_name": "R",
   "language": "R",
   "name": "ir"
  },
  "language_info": {
   "codemirror_mode": "r",
   "file_extension": ".r",
   "mimetype": "text/x-r-source",
   "name": "R",
   "pygments_lexer": "r",
   "version": "4.3.3"
  }
 },
 "nbformat": 4,
 "nbformat_minor": 5
}
