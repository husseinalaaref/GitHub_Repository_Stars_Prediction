{
 "cells": [
  {
   "cell_type": "code",
   "execution_count": 3,
   "id": "46dfd43c-6749-40ee-be96-aafa874560f2",
   "metadata": {},
   "outputs": [
    {
     "name": "stderr",
     "output_type": "stream",
     "text": [
      "Updating HTML index of packages in '.Library'\n",
      "\n",
      "Making 'packages.html' ...\n",
      " done\n",
      "\n",
      "Updating HTML index of packages in '.Library'\n",
      "\n",
      "Making 'packages.html' ...\n",
      " done\n",
      "\n"
     ]
    }
   ],
   "source": [
    "install.packages(\"leaps\")\n",
    "install.packages(\"Metrics\")"
   ]
  },
  {
   "cell_type": "code",
   "execution_count": 16,
   "id": "1f9ec1bc-2d6b-4e88-bd2f-6665b2873918",
   "metadata": {},
   "outputs": [],
   "source": [
    "library(tidyverse)\n",
    "library(lubridate)\n",
    "\n",
    "library(ggplot2)\n",
    "library(broom)\n",
    "library(tidyr)\n",
    "library(dplyr)\n",
    "library(Metrics)\n",
    "library(modelr)\n",
    "\n",
    "library(leaps)\n",
    "library(caret)"
   ]
  },
  {
   "cell_type": "markdown",
   "id": "9b63d316-d9d8-4a8f-8216-689664893163",
   "metadata": {},
   "source": [
    "- In the previous assignment, I explored the data with useful visuals that allowed me to observe relationships between input variables and response one and among input variables themselves. I also observed how some input variables were highly correlated (multicollinearity) by plotting a heatmap.\n",
    "- in this assignment, I will first convert the 'Created_At' and 'Updated_AT' Date variables to numerical values, where they represent the days since created, updated respectively.\n",
    "- Then, I will clean the Data and use the Forward Selection Algorithm to find the best-fit model.\n",
    "- Afterward, I am going to split the data into training, testing data with a ratio of 80/20.\n",
    "- then, I am going to use the variables from the Forward Selection results to fit an Additive linear regression model.\n",
    "- Then, using the predict function, I am going to predict the number of stars in the testing set using the fitted model.\n",
    "- Finally, I will calculate the RMSE to evaluate the accuracy of the prediction model.*\n"
   ]
  },
  {
   "cell_type": "code",
   "execution_count": 17,
   "id": "1f7a1023-ec2d-4b14-97f8-0e868e7bebca",
   "metadata": {},
   "outputs": [
    {
     "name": "stderr",
     "output_type": "stream",
     "text": [
      "\u001b[1mRows: \u001b[22m\u001b[34m215029\u001b[39m \u001b[1mColumns: \u001b[22m\u001b[34m24\u001b[39m\n",
      "\u001b[36m──\u001b[39m \u001b[1mColumn specification\u001b[22m \u001b[36m────────────────────────────────────────────────────────\u001b[39m\n",
      "\u001b[1mDelimiter:\u001b[22m \",\"\n",
      "\u001b[31mchr\u001b[39m  (8): Name, Description, URL, Homepage, Language, License, Topics, Defau...\n",
      "\u001b[32mdbl\u001b[39m  (5): Size, Stars, Forks, Issues, Watchers\n",
      "\u001b[33mlgl\u001b[39m  (9): Has Issues, Has Projects, Has Downloads, Has Wiki, Has Pages, Has ...\n",
      "\u001b[34mdttm\u001b[39m (2): Created At, Updated At\n",
      "\n",
      "\u001b[36mℹ\u001b[39m Use `spec()` to retrieve the full column specification for this data.\n",
      "\u001b[36mℹ\u001b[39m Specify the column types or set `show_col_types = FALSE` to quiet this message.\n"
     ]
    }
   ],
   "source": [
    "df <- read_csv('repositories.csv')"
   ]
  },
  {
   "cell_type": "code",
   "execution_count": 18,
   "id": "a2a0ee05-19d3-4e83-bc50-fff1ec0db50d",
   "metadata": {},
   "outputs": [
    {
     "data": {
      "text/html": [
       "<table class=\"dataframe\">\n",
       "<caption>A tibble: 3 × 24</caption>\n",
       "<thead>\n",
       "\t<tr><th scope=col>Name</th><th scope=col>Description</th><th scope=col>URL</th><th scope=col>Created At</th><th scope=col>Updated At</th><th scope=col>Homepage</th><th scope=col>Size</th><th scope=col>Stars</th><th scope=col>Forks</th><th scope=col>Issues</th><th scope=col>⋯</th><th scope=col>Has Issues</th><th scope=col>Has Projects</th><th scope=col>Has Downloads</th><th scope=col>Has Wiki</th><th scope=col>Has Pages</th><th scope=col>Has Discussions</th><th scope=col>Is Fork</th><th scope=col>Is Archived</th><th scope=col>Is Template</th><th scope=col>Default Branch</th></tr>\n",
       "\t<tr><th scope=col>&lt;chr&gt;</th><th scope=col>&lt;chr&gt;</th><th scope=col>&lt;chr&gt;</th><th scope=col>&lt;dttm&gt;</th><th scope=col>&lt;dttm&gt;</th><th scope=col>&lt;chr&gt;</th><th scope=col>&lt;dbl&gt;</th><th scope=col>&lt;dbl&gt;</th><th scope=col>&lt;dbl&gt;</th><th scope=col>&lt;dbl&gt;</th><th scope=col>⋯</th><th scope=col>&lt;lgl&gt;</th><th scope=col>&lt;lgl&gt;</th><th scope=col>&lt;lgl&gt;</th><th scope=col>&lt;lgl&gt;</th><th scope=col>&lt;lgl&gt;</th><th scope=col>&lt;lgl&gt;</th><th scope=col>&lt;lgl&gt;</th><th scope=col>&lt;lgl&gt;</th><th scope=col>&lt;lgl&gt;</th><th scope=col>&lt;chr&gt;</th></tr>\n",
       "</thead>\n",
       "<tbody>\n",
       "\t<tr><td>kvs                         </td><td>💿 KVS: NVMe Key-Value Store       </td><td>https://github.com/synrc/kvs                          </td><td>2013-05-29 11:10:53</td><td>2023-08-31 09:06:02</td><td>https://kvs.n2o.dev</td><td> 917</td><td>174</td><td>50</td><td>0</td><td>⋯</td><td>TRUE</td><td> TRUE</td><td>TRUE</td><td>TRUE</td><td> TRUE</td><td>FALSE</td><td>FALSE</td><td>FALSE</td><td>FALSE</td><td>master</td></tr>\n",
       "\t<tr><td>GPU-GEMS-3D-Fluid-Simulation</td><td>3D fluid simulation on the in Unity</td><td>https://github.com/Scrawk/GPU-GEMS-3D-Fluid-Simulation</td><td>2017-06-21 00:49:51</td><td>2023-09-14 08:04:33</td><td>NA                 </td><td>  77</td><td>261</td><td>39</td><td>0</td><td>⋯</td><td>TRUE</td><td> TRUE</td><td>TRUE</td><td>TRUE</td><td>FALSE</td><td>FALSE</td><td>FALSE</td><td>FALSE</td><td>FALSE</td><td>master</td></tr>\n",
       "\t<tr><td>legacy-dotfiles             </td><td>NA                                 </td><td>https://github.com/rbnis/legacy-dotfiles              </td><td>2018-06-02 11:40:21</td><td>2023-09-13 13:30:09</td><td>NA                 </td><td>5774</td><td>175</td><td>44</td><td>5</td><td>⋯</td><td>TRUE</td><td>FALSE</td><td>TRUE</td><td>TRUE</td><td>FALSE</td><td>FALSE</td><td>FALSE</td><td> TRUE</td><td>FALSE</td><td>master</td></tr>\n",
       "</tbody>\n",
       "</table>\n"
      ],
      "text/latex": [
       "A tibble: 3 × 24\n",
       "\\begin{tabular}{lllllllllllllllllllll}\n",
       " Name & Description & URL & Created At & Updated At & Homepage & Size & Stars & Forks & Issues & ⋯ & Has Issues & Has Projects & Has Downloads & Has Wiki & Has Pages & Has Discussions & Is Fork & Is Archived & Is Template & Default Branch\\\\\n",
       " <chr> & <chr> & <chr> & <dttm> & <dttm> & <chr> & <dbl> & <dbl> & <dbl> & <dbl> & ⋯ & <lgl> & <lgl> & <lgl> & <lgl> & <lgl> & <lgl> & <lgl> & <lgl> & <lgl> & <chr>\\\\\n",
       "\\hline\n",
       "\t kvs                          & 💿 KVS: NVMe Key-Value Store        & https://github.com/synrc/kvs                           & 2013-05-29 11:10:53 & 2023-08-31 09:06:02 & https://kvs.n2o.dev &  917 & 174 & 50 & 0 & ⋯ & TRUE &  TRUE & TRUE & TRUE &  TRUE & FALSE & FALSE & FALSE & FALSE & master\\\\\n",
       "\t GPU-GEMS-3D-Fluid-Simulation & 3D fluid simulation on the in Unity & https://github.com/Scrawk/GPU-GEMS-3D-Fluid-Simulation & 2017-06-21 00:49:51 & 2023-09-14 08:04:33 & NA                  &   77 & 261 & 39 & 0 & ⋯ & TRUE &  TRUE & TRUE & TRUE & FALSE & FALSE & FALSE & FALSE & FALSE & master\\\\\n",
       "\t legacy-dotfiles              & NA                                  & https://github.com/rbnis/legacy-dotfiles               & 2018-06-02 11:40:21 & 2023-09-13 13:30:09 & NA                  & 5774 & 175 & 44 & 5 & ⋯ & TRUE & FALSE & TRUE & TRUE & FALSE & FALSE & FALSE &  TRUE & FALSE & master\\\\\n",
       "\\end{tabular}\n"
      ],
      "text/markdown": [
       "\n",
       "A tibble: 3 × 24\n",
       "\n",
       "| Name &lt;chr&gt; | Description &lt;chr&gt; | URL &lt;chr&gt; | Created At &lt;dttm&gt; | Updated At &lt;dttm&gt; | Homepage &lt;chr&gt; | Size &lt;dbl&gt; | Stars &lt;dbl&gt; | Forks &lt;dbl&gt; | Issues &lt;dbl&gt; | ⋯ ⋯ | Has Issues &lt;lgl&gt; | Has Projects &lt;lgl&gt; | Has Downloads &lt;lgl&gt; | Has Wiki &lt;lgl&gt; | Has Pages &lt;lgl&gt; | Has Discussions &lt;lgl&gt; | Is Fork &lt;lgl&gt; | Is Archived &lt;lgl&gt; | Is Template &lt;lgl&gt; | Default Branch &lt;chr&gt; |\n",
       "|---|---|---|---|---|---|---|---|---|---|---|---|---|---|---|---|---|---|---|---|---|\n",
       "| kvs                          | 💿 KVS: NVMe Key-Value Store        | https://github.com/synrc/kvs                           | 2013-05-29 11:10:53 | 2023-08-31 09:06:02 | https://kvs.n2o.dev |  917 | 174 | 50 | 0 | ⋯ | TRUE |  TRUE | TRUE | TRUE |  TRUE | FALSE | FALSE | FALSE | FALSE | master |\n",
       "| GPU-GEMS-3D-Fluid-Simulation | 3D fluid simulation on the in Unity | https://github.com/Scrawk/GPU-GEMS-3D-Fluid-Simulation | 2017-06-21 00:49:51 | 2023-09-14 08:04:33 | NA                  |   77 | 261 | 39 | 0 | ⋯ | TRUE |  TRUE | TRUE | TRUE | FALSE | FALSE | FALSE | FALSE | FALSE | master |\n",
       "| legacy-dotfiles              | NA                                  | https://github.com/rbnis/legacy-dotfiles               | 2018-06-02 11:40:21 | 2023-09-13 13:30:09 | NA                  | 5774 | 175 | 44 | 5 | ⋯ | TRUE | FALSE | TRUE | TRUE | FALSE | FALSE | FALSE |  TRUE | FALSE | master |\n",
       "\n"
      ],
      "text/plain": [
       "  Name                         Description                        \n",
       "1 kvs                          💿 KVS: NVMe Key-Value Store       \n",
       "2 GPU-GEMS-3D-Fluid-Simulation 3D fluid simulation on the in Unity\n",
       "3 legacy-dotfiles              NA                                 \n",
       "  URL                                                    Created At         \n",
       "1 https://github.com/synrc/kvs                           2013-05-29 11:10:53\n",
       "2 https://github.com/Scrawk/GPU-GEMS-3D-Fluid-Simulation 2017-06-21 00:49:51\n",
       "3 https://github.com/rbnis/legacy-dotfiles               2018-06-02 11:40:21\n",
       "  Updated At          Homepage            Size Stars Forks Issues ⋯ Has Issues\n",
       "1 2023-08-31 09:06:02 https://kvs.n2o.dev  917 174   50    0      ⋯ TRUE      \n",
       "2 2023-09-14 08:04:33 NA                    77 261   39    0      ⋯ TRUE      \n",
       "3 2023-09-13 13:30:09 NA                  5774 175   44    5      ⋯ TRUE      \n",
       "  Has Projects Has Downloads Has Wiki Has Pages Has Discussions Is Fork\n",
       "1  TRUE        TRUE          TRUE      TRUE     FALSE           FALSE  \n",
       "2  TRUE        TRUE          TRUE     FALSE     FALSE           FALSE  \n",
       "3 FALSE        TRUE          TRUE     FALSE     FALSE           FALSE  \n",
       "  Is Archived Is Template Default Branch\n",
       "1 FALSE       FALSE       master        \n",
       "2 FALSE       FALSE       master        \n",
       "3  TRUE       FALSE       master        "
      ]
     },
     "metadata": {},
     "output_type": "display_data"
    }
   ],
   "source": [
    "df_subset <- df %>% sample_n(size = 10000)\n",
    "\n",
    "head(df_subset, n = 3)"
   ]
  },
  {
   "cell_type": "code",
   "execution_count": 19,
   "id": "6f826410-2951-4963-b4de-ccc618ada651",
   "metadata": {},
   "outputs": [],
   "source": [
    "df_subset$'Created At' <- as.Date(strptime(df_subset$'Created At', format = \"%Y-%m-%d %H:%M:%S\"))\n",
    "df_subset$'Updated At' <- as.Date(strptime(df_subset$'Updated At', format = \"%Y-%m-%d %H:%M:%S\"))"
   ]
  },
  {
   "cell_type": "code",
   "execution_count": 20,
   "id": "86d214b8-d3b2-4ad2-b210-caf32794b31c",
   "metadata": {},
   "outputs": [
    {
     "data": {
      "text/html": [
       "<table class=\"dataframe\">\n",
       "<caption>A tibble: 3 × 26</caption>\n",
       "<thead>\n",
       "\t<tr><th scope=col>Name</th><th scope=col>Description</th><th scope=col>URL</th><th scope=col>Created At</th><th scope=col>Updated At</th><th scope=col>Homepage</th><th scope=col>Size</th><th scope=col>Stars</th><th scope=col>Forks</th><th scope=col>Issues</th><th scope=col>⋯</th><th scope=col>Has Downloads</th><th scope=col>Has Wiki</th><th scope=col>Has Pages</th><th scope=col>Has Discussions</th><th scope=col>Is Fork</th><th scope=col>Is Archived</th><th scope=col>Is Template</th><th scope=col>Default Branch</th><th scope=col>repo_age_days</th><th scope=col>days_since_update</th></tr>\n",
       "\t<tr><th scope=col>&lt;chr&gt;</th><th scope=col>&lt;chr&gt;</th><th scope=col>&lt;chr&gt;</th><th scope=col>&lt;date&gt;</th><th scope=col>&lt;date&gt;</th><th scope=col>&lt;chr&gt;</th><th scope=col>&lt;dbl&gt;</th><th scope=col>&lt;dbl&gt;</th><th scope=col>&lt;dbl&gt;</th><th scope=col>&lt;dbl&gt;</th><th scope=col>⋯</th><th scope=col>&lt;lgl&gt;</th><th scope=col>&lt;lgl&gt;</th><th scope=col>&lt;lgl&gt;</th><th scope=col>&lt;lgl&gt;</th><th scope=col>&lt;lgl&gt;</th><th scope=col>&lt;lgl&gt;</th><th scope=col>&lt;lgl&gt;</th><th scope=col>&lt;chr&gt;</th><th scope=col>&lt;dbl&gt;</th><th scope=col>&lt;dbl&gt;</th></tr>\n",
       "</thead>\n",
       "<tbody>\n",
       "\t<tr><td>kvs                         </td><td>💿 KVS: NVMe Key-Value Store       </td><td>https://github.com/synrc/kvs                          </td><td>2013-05-29</td><td>2023-08-31</td><td>https://kvs.n2o.dev</td><td> 917</td><td>174</td><td>50</td><td>0</td><td>⋯</td><td>TRUE</td><td>TRUE</td><td> TRUE</td><td>FALSE</td><td>FALSE</td><td>FALSE</td><td>FALSE</td><td>master</td><td>4201</td><td>455</td></tr>\n",
       "\t<tr><td>GPU-GEMS-3D-Fluid-Simulation</td><td>3D fluid simulation on the in Unity</td><td>https://github.com/Scrawk/GPU-GEMS-3D-Fluid-Simulation</td><td>2017-06-21</td><td>2023-09-14</td><td>NA                 </td><td>  77</td><td>261</td><td>39</td><td>0</td><td>⋯</td><td>TRUE</td><td>TRUE</td><td>FALSE</td><td>FALSE</td><td>FALSE</td><td>FALSE</td><td>FALSE</td><td>master</td><td>2717</td><td>441</td></tr>\n",
       "\t<tr><td>legacy-dotfiles             </td><td>NA                                 </td><td>https://github.com/rbnis/legacy-dotfiles              </td><td>2018-06-02</td><td>2023-09-13</td><td>NA                 </td><td>5774</td><td>175</td><td>44</td><td>5</td><td>⋯</td><td>TRUE</td><td>TRUE</td><td>FALSE</td><td>FALSE</td><td>FALSE</td><td> TRUE</td><td>FALSE</td><td>master</td><td>2371</td><td>442</td></tr>\n",
       "</tbody>\n",
       "</table>\n"
      ],
      "text/latex": [
       "A tibble: 3 × 26\n",
       "\\begin{tabular}{lllllllllllllllllllll}\n",
       " Name & Description & URL & Created At & Updated At & Homepage & Size & Stars & Forks & Issues & ⋯ & Has Downloads & Has Wiki & Has Pages & Has Discussions & Is Fork & Is Archived & Is Template & Default Branch & repo\\_age\\_days & days\\_since\\_update\\\\\n",
       " <chr> & <chr> & <chr> & <date> & <date> & <chr> & <dbl> & <dbl> & <dbl> & <dbl> & ⋯ & <lgl> & <lgl> & <lgl> & <lgl> & <lgl> & <lgl> & <lgl> & <chr> & <dbl> & <dbl>\\\\\n",
       "\\hline\n",
       "\t kvs                          & 💿 KVS: NVMe Key-Value Store        & https://github.com/synrc/kvs                           & 2013-05-29 & 2023-08-31 & https://kvs.n2o.dev &  917 & 174 & 50 & 0 & ⋯ & TRUE & TRUE &  TRUE & FALSE & FALSE & FALSE & FALSE & master & 4201 & 455\\\\\n",
       "\t GPU-GEMS-3D-Fluid-Simulation & 3D fluid simulation on the in Unity & https://github.com/Scrawk/GPU-GEMS-3D-Fluid-Simulation & 2017-06-21 & 2023-09-14 & NA                  &   77 & 261 & 39 & 0 & ⋯ & TRUE & TRUE & FALSE & FALSE & FALSE & FALSE & FALSE & master & 2717 & 441\\\\\n",
       "\t legacy-dotfiles              & NA                                  & https://github.com/rbnis/legacy-dotfiles               & 2018-06-02 & 2023-09-13 & NA                  & 5774 & 175 & 44 & 5 & ⋯ & TRUE & TRUE & FALSE & FALSE & FALSE &  TRUE & FALSE & master & 2371 & 442\\\\\n",
       "\\end{tabular}\n"
      ],
      "text/markdown": [
       "\n",
       "A tibble: 3 × 26\n",
       "\n",
       "| Name &lt;chr&gt; | Description &lt;chr&gt; | URL &lt;chr&gt; | Created At &lt;date&gt; | Updated At &lt;date&gt; | Homepage &lt;chr&gt; | Size &lt;dbl&gt; | Stars &lt;dbl&gt; | Forks &lt;dbl&gt; | Issues &lt;dbl&gt; | ⋯ ⋯ | Has Downloads &lt;lgl&gt; | Has Wiki &lt;lgl&gt; | Has Pages &lt;lgl&gt; | Has Discussions &lt;lgl&gt; | Is Fork &lt;lgl&gt; | Is Archived &lt;lgl&gt; | Is Template &lt;lgl&gt; | Default Branch &lt;chr&gt; | repo_age_days &lt;dbl&gt; | days_since_update &lt;dbl&gt; |\n",
       "|---|---|---|---|---|---|---|---|---|---|---|---|---|---|---|---|---|---|---|---|---|\n",
       "| kvs                          | 💿 KVS: NVMe Key-Value Store        | https://github.com/synrc/kvs                           | 2013-05-29 | 2023-08-31 | https://kvs.n2o.dev |  917 | 174 | 50 | 0 | ⋯ | TRUE | TRUE |  TRUE | FALSE | FALSE | FALSE | FALSE | master | 4201 | 455 |\n",
       "| GPU-GEMS-3D-Fluid-Simulation | 3D fluid simulation on the in Unity | https://github.com/Scrawk/GPU-GEMS-3D-Fluid-Simulation | 2017-06-21 | 2023-09-14 | NA                  |   77 | 261 | 39 | 0 | ⋯ | TRUE | TRUE | FALSE | FALSE | FALSE | FALSE | FALSE | master | 2717 | 441 |\n",
       "| legacy-dotfiles              | NA                                  | https://github.com/rbnis/legacy-dotfiles               | 2018-06-02 | 2023-09-13 | NA                  | 5774 | 175 | 44 | 5 | ⋯ | TRUE | TRUE | FALSE | FALSE | FALSE |  TRUE | FALSE | master | 2371 | 442 |\n",
       "\n"
      ],
      "text/plain": [
       "  Name                         Description                        \n",
       "1 kvs                          💿 KVS: NVMe Key-Value Store       \n",
       "2 GPU-GEMS-3D-Fluid-Simulation 3D fluid simulation on the in Unity\n",
       "3 legacy-dotfiles              NA                                 \n",
       "  URL                                                    Created At Updated At\n",
       "1 https://github.com/synrc/kvs                           2013-05-29 2023-08-31\n",
       "2 https://github.com/Scrawk/GPU-GEMS-3D-Fluid-Simulation 2017-06-21 2023-09-14\n",
       "3 https://github.com/rbnis/legacy-dotfiles               2018-06-02 2023-09-13\n",
       "  Homepage            Size Stars Forks Issues ⋯ Has Downloads Has Wiki\n",
       "1 https://kvs.n2o.dev  917 174   50    0      ⋯ TRUE          TRUE    \n",
       "2 NA                    77 261   39    0      ⋯ TRUE          TRUE    \n",
       "3 NA                  5774 175   44    5      ⋯ TRUE          TRUE    \n",
       "  Has Pages Has Discussions Is Fork Is Archived Is Template Default Branch\n",
       "1  TRUE     FALSE           FALSE   FALSE       FALSE       master        \n",
       "2 FALSE     FALSE           FALSE   FALSE       FALSE       master        \n",
       "3 FALSE     FALSE           FALSE    TRUE       FALSE       master        \n",
       "  repo_age_days days_since_update\n",
       "1 4201          455              \n",
       "2 2717          441              \n",
       "3 2371          442              "
      ]
     },
     "metadata": {},
     "output_type": "display_data"
    }
   ],
   "source": [
    "df_subset_1 <- df_subset %>%\n",
    "  mutate(repo_age_days = as.numeric(Sys.Date() - `Created At`),\n",
    "         days_since_update = as.numeric(Sys.Date() - `Updated At`))\n",
    "head(df_subset_1, n = 3)"
   ]
  },
  {
   "cell_type": "code",
   "execution_count": 21,
   "id": "07e62245-cccd-4577-b56a-34d56bfced18",
   "metadata": {},
   "outputs": [
    {
     "data": {
      "text/html": [
       "<table class=\"dataframe\">\n",
       "<caption>A tibble: 3 × 24</caption>\n",
       "<thead>\n",
       "\t<tr><th scope=col>Name</th><th scope=col>Description</th><th scope=col>URL</th><th scope=col>Homepage</th><th scope=col>Size</th><th scope=col>Stars</th><th scope=col>Forks</th><th scope=col>Issues</th><th scope=col>Watchers</th><th scope=col>Language</th><th scope=col>⋯</th><th scope=col>Has Downloads</th><th scope=col>Has Wiki</th><th scope=col>Has Pages</th><th scope=col>Has Discussions</th><th scope=col>Is Fork</th><th scope=col>Is Archived</th><th scope=col>Is Template</th><th scope=col>Default Branch</th><th scope=col>repo_age_days</th><th scope=col>days_since_update</th></tr>\n",
       "\t<tr><th scope=col>&lt;chr&gt;</th><th scope=col>&lt;chr&gt;</th><th scope=col>&lt;chr&gt;</th><th scope=col>&lt;chr&gt;</th><th scope=col>&lt;dbl&gt;</th><th scope=col>&lt;dbl&gt;</th><th scope=col>&lt;dbl&gt;</th><th scope=col>&lt;dbl&gt;</th><th scope=col>&lt;dbl&gt;</th><th scope=col>&lt;chr&gt;</th><th scope=col>⋯</th><th scope=col>&lt;lgl&gt;</th><th scope=col>&lt;lgl&gt;</th><th scope=col>&lt;lgl&gt;</th><th scope=col>&lt;lgl&gt;</th><th scope=col>&lt;lgl&gt;</th><th scope=col>&lt;lgl&gt;</th><th scope=col>&lt;lgl&gt;</th><th scope=col>&lt;chr&gt;</th><th scope=col>&lt;dbl&gt;</th><th scope=col>&lt;dbl&gt;</th></tr>\n",
       "</thead>\n",
       "<tbody>\n",
       "\t<tr><td>mm0      </td><td>Metamath Zero specification language                         </td><td>https://github.com/digama0/mm0      </td><td>NA                                                                  </td><td>30211</td><td>272</td><td>40</td><td>12</td><td>272</td><td>Rust </td><td>⋯</td><td>TRUE</td><td>TRUE</td><td> TRUE</td><td>FALSE</td><td>FALSE</td><td>FALSE</td><td>FALSE</td><td>master</td><td>2103</td><td>437</td></tr>\n",
       "\t<tr><td>node-yolo</td><td>Node bindings for YOLO/Darknet image recognition library     </td><td>https://github.com/mobimeo/node-yolo</td><td>https://lab.moovel.com/blog/what-you-get-is-what-you-see-nodejs-yolo</td><td> 1889</td><td>370</td><td>50</td><td>10</td><td>370</td><td>C++  </td><td>⋯</td><td>TRUE</td><td>TRUE</td><td>FALSE</td><td>FALSE</td><td>FALSE</td><td>FALSE</td><td>FALSE</td><td>master</td><td>2869</td><td>442</td></tr>\n",
       "\t<tr><td>python   </td><td>Framework files for use with popular python macadmin toolsets</td><td>https://github.com/macadmins/python </td><td>NA                                                                  </td><td>  121</td><td>208</td><td>45</td><td> 4</td><td>208</td><td>Shell</td><td>⋯</td><td>TRUE</td><td>TRUE</td><td>FALSE</td><td> TRUE</td><td>FALSE</td><td>FALSE</td><td>FALSE</td><td>main  </td><td>1630</td><td>433</td></tr>\n",
       "</tbody>\n",
       "</table>\n"
      ],
      "text/latex": [
       "A tibble: 3 × 24\n",
       "\\begin{tabular}{lllllllllllllllllllll}\n",
       " Name & Description & URL & Homepage & Size & Stars & Forks & Issues & Watchers & Language & ⋯ & Has Downloads & Has Wiki & Has Pages & Has Discussions & Is Fork & Is Archived & Is Template & Default Branch & repo\\_age\\_days & days\\_since\\_update\\\\\n",
       " <chr> & <chr> & <chr> & <chr> & <dbl> & <dbl> & <dbl> & <dbl> & <dbl> & <chr> & ⋯ & <lgl> & <lgl> & <lgl> & <lgl> & <lgl> & <lgl> & <lgl> & <chr> & <dbl> & <dbl>\\\\\n",
       "\\hline\n",
       "\t mm0       & Metamath Zero specification language                          & https://github.com/digama0/mm0       & NA                                                                   & 30211 & 272 & 40 & 12 & 272 & Rust  & ⋯ & TRUE & TRUE &  TRUE & FALSE & FALSE & FALSE & FALSE & master & 2103 & 437\\\\\n",
       "\t node-yolo & Node bindings for YOLO/Darknet image recognition library      & https://github.com/mobimeo/node-yolo & https://lab.moovel.com/blog/what-you-get-is-what-you-see-nodejs-yolo &  1889 & 370 & 50 & 10 & 370 & C++   & ⋯ & TRUE & TRUE & FALSE & FALSE & FALSE & FALSE & FALSE & master & 2869 & 442\\\\\n",
       "\t python    & Framework files for use with popular python macadmin toolsets & https://github.com/macadmins/python  & NA                                                                   &   121 & 208 & 45 &  4 & 208 & Shell & ⋯ & TRUE & TRUE & FALSE &  TRUE & FALSE & FALSE & FALSE & main   & 1630 & 433\\\\\n",
       "\\end{tabular}\n"
      ],
      "text/markdown": [
       "\n",
       "A tibble: 3 × 24\n",
       "\n",
       "| Name &lt;chr&gt; | Description &lt;chr&gt; | URL &lt;chr&gt; | Homepage &lt;chr&gt; | Size &lt;dbl&gt; | Stars &lt;dbl&gt; | Forks &lt;dbl&gt; | Issues &lt;dbl&gt; | Watchers &lt;dbl&gt; | Language &lt;chr&gt; | ⋯ ⋯ | Has Downloads &lt;lgl&gt; | Has Wiki &lt;lgl&gt; | Has Pages &lt;lgl&gt; | Has Discussions &lt;lgl&gt; | Is Fork &lt;lgl&gt; | Is Archived &lt;lgl&gt; | Is Template &lt;lgl&gt; | Default Branch &lt;chr&gt; | repo_age_days &lt;dbl&gt; | days_since_update &lt;dbl&gt; |\n",
       "|---|---|---|---|---|---|---|---|---|---|---|---|---|---|---|---|---|---|---|---|---|\n",
       "| mm0       | Metamath Zero specification language                          | https://github.com/digama0/mm0       | NA                                                                   | 30211 | 272 | 40 | 12 | 272 | Rust  | ⋯ | TRUE | TRUE |  TRUE | FALSE | FALSE | FALSE | FALSE | master | 2103 | 437 |\n",
       "| node-yolo | Node bindings for YOLO/Darknet image recognition library      | https://github.com/mobimeo/node-yolo | https://lab.moovel.com/blog/what-you-get-is-what-you-see-nodejs-yolo |  1889 | 370 | 50 | 10 | 370 | C++   | ⋯ | TRUE | TRUE | FALSE | FALSE | FALSE | FALSE | FALSE | master | 2869 | 442 |\n",
       "| python    | Framework files for use with popular python macadmin toolsets | https://github.com/macadmins/python  | NA                                                                   |   121 | 208 | 45 |  4 | 208 | Shell | ⋯ | TRUE | TRUE | FALSE |  TRUE | FALSE | FALSE | FALSE | main   | 1630 | 433 |\n",
       "\n"
      ],
      "text/plain": [
       "  Name      Description                                                  \n",
       "1 mm0       Metamath Zero specification language                         \n",
       "2 node-yolo Node bindings for YOLO/Darknet image recognition library     \n",
       "3 python    Framework files for use with popular python macadmin toolsets\n",
       "  URL                                 \n",
       "1 https://github.com/digama0/mm0      \n",
       "2 https://github.com/mobimeo/node-yolo\n",
       "3 https://github.com/macadmins/python \n",
       "  Homepage                                                             Size \n",
       "1 NA                                                                   30211\n",
       "2 https://lab.moovel.com/blog/what-you-get-is-what-you-see-nodejs-yolo  1889\n",
       "3 NA                                                                     121\n",
       "  Stars Forks Issues Watchers Language ⋯ Has Downloads Has Wiki Has Pages\n",
       "1 272   40    12     272      Rust     ⋯ TRUE          TRUE      TRUE    \n",
       "2 370   50    10     370      C++      ⋯ TRUE          TRUE     FALSE    \n",
       "3 208   45     4     208      Shell    ⋯ TRUE          TRUE     FALSE    \n",
       "  Has Discussions Is Fork Is Archived Is Template Default Branch repo_age_days\n",
       "1 FALSE           FALSE   FALSE       FALSE       master         2103         \n",
       "2 FALSE           FALSE   FALSE       FALSE       master         2869         \n",
       "3  TRUE           FALSE   FALSE       FALSE       main           1630         \n",
       "  days_since_update\n",
       "1 437              \n",
       "2 442              \n",
       "3 433              "
      ]
     },
     "metadata": {},
     "output_type": "display_data"
    }
   ],
   "source": [
    "df_subset_2 <- df_subset_1 %>% select(-c('Created At', 'Updated At'))\n",
    "\n",
    "head(df_subset2, n = 3)"
   ]
  },
  {
   "cell_type": "code",
   "execution_count": 22,
   "id": "82a4fcff-8911-4292-8232-15882b4fa26b",
   "metadata": {},
   "outputs": [
    {
     "data": {
      "text/html": [
       "<table class=\"dataframe\">\n",
       "<caption>A tibble: 6 × 3</caption>\n",
       "<thead>\n",
       "\t<tr><th scope=col>repo_age_days</th><th scope=col>days_since_update</th><th scope=col>n</th></tr>\n",
       "\t<tr><th scope=col>&lt;dbl&gt;</th><th scope=col>&lt;dbl&gt;</th><th scope=col>&lt;chr&gt;</th></tr>\n",
       "</thead>\n",
       "<tbody>\n",
       "\t<tr><td>4201</td><td>455</td><td>https://github.com/synrc/kvs                          </td></tr>\n",
       "\t<tr><td>2717</td><td>441</td><td>https://github.com/Scrawk/GPU-GEMS-3D-Fluid-Simulation</td></tr>\n",
       "\t<tr><td>2371</td><td>442</td><td>https://github.com/rbnis/legacy-dotfiles              </td></tr>\n",
       "\t<tr><td>4563</td><td>464</td><td>https://github.com/mendsley/tinystl                   </td></tr>\n",
       "\t<tr><td>2057</td><td>439</td><td>https://github.com/victorvoid/dinoql                  </td></tr>\n",
       "\t<tr><td>5719</td><td>439</td><td>https://github.com/ryanmcgrath/twython                </td></tr>\n",
       "</tbody>\n",
       "</table>\n"
      ],
      "text/latex": [
       "A tibble: 6 × 3\n",
       "\\begin{tabular}{lll}\n",
       " repo\\_age\\_days & days\\_since\\_update & n\\\\\n",
       " <dbl> & <dbl> & <chr>\\\\\n",
       "\\hline\n",
       "\t 4201 & 455 & https://github.com/synrc/kvs                          \\\\\n",
       "\t 2717 & 441 & https://github.com/Scrawk/GPU-GEMS-3D-Fluid-Simulation\\\\\n",
       "\t 2371 & 442 & https://github.com/rbnis/legacy-dotfiles              \\\\\n",
       "\t 4563 & 464 & https://github.com/mendsley/tinystl                   \\\\\n",
       "\t 2057 & 439 & https://github.com/victorvoid/dinoql                  \\\\\n",
       "\t 5719 & 439 & https://github.com/ryanmcgrath/twython                \\\\\n",
       "\\end{tabular}\n"
      ],
      "text/markdown": [
       "\n",
       "A tibble: 6 × 3\n",
       "\n",
       "| repo_age_days &lt;dbl&gt; | days_since_update &lt;dbl&gt; | n &lt;chr&gt; |\n",
       "|---|---|---|\n",
       "| 4201 | 455 | https://github.com/synrc/kvs                           |\n",
       "| 2717 | 441 | https://github.com/Scrawk/GPU-GEMS-3D-Fluid-Simulation |\n",
       "| 2371 | 442 | https://github.com/rbnis/legacy-dotfiles               |\n",
       "| 4563 | 464 | https://github.com/mendsley/tinystl                    |\n",
       "| 2057 | 439 | https://github.com/victorvoid/dinoql                   |\n",
       "| 5719 | 439 | https://github.com/ryanmcgrath/twython                 |\n",
       "\n"
      ],
      "text/plain": [
       "  repo_age_days days_since_update\n",
       "1 4201          455              \n",
       "2 2717          441              \n",
       "3 2371          442              \n",
       "4 4563          464              \n",
       "5 2057          439              \n",
       "6 5719          439              \n",
       "  n                                                     \n",
       "1 https://github.com/synrc/kvs                          \n",
       "2 https://github.com/Scrawk/GPU-GEMS-3D-Fluid-Simulation\n",
       "3 https://github.com/rbnis/legacy-dotfiles              \n",
       "4 https://github.com/mendsley/tinystl                   \n",
       "5 https://github.com/victorvoid/dinoql                  \n",
       "6 https://github.com/ryanmcgrath/twython                "
      ]
     },
     "metadata": {},
     "output_type": "display_data"
    }
   ],
   "source": [
    "non_na_repo_age <- df_subset_2 %>% filter(!is.na(repo_age_days))\n",
    "non_na_days_since_update <- df_subset_2 %>% filter(!is.na(days_since_update))\n",
    "\n",
    "head(df_subset_2 %>% select(repo_age_days, days_since_update, n = 3))"
   ]
  },
  {
   "cell_type": "code",
   "execution_count": 23,
   "id": "7eee156d-27bf-464e-9dc8-3b553d09b56b",
   "metadata": {},
   "outputs": [
    {
     "data": {
      "text/html": [
       "<table class=\"dataframe\">\n",
       "<caption>A tibble: 3 × 24</caption>\n",
       "<thead>\n",
       "\t<tr><th scope=col>Name</th><th scope=col>Description</th><th scope=col>URL</th><th scope=col>Homepage</th><th scope=col>Size</th><th scope=col>Stars</th><th scope=col>Forks</th><th scope=col>Issues</th><th scope=col>Watchers</th><th scope=col>Language</th><th scope=col>⋯</th><th scope=col>Has Downloads</th><th scope=col>Has Wiki</th><th scope=col>Has Pages</th><th scope=col>Has Discussions</th><th scope=col>Is Fork</th><th scope=col>Is Archived</th><th scope=col>Is Template</th><th scope=col>Default Branch</th><th scope=col>repo_age_days</th><th scope=col>days_since_update</th></tr>\n",
       "\t<tr><th scope=col>&lt;chr&gt;</th><th scope=col>&lt;chr&gt;</th><th scope=col>&lt;chr&gt;</th><th scope=col>&lt;chr&gt;</th><th scope=col>&lt;dbl&gt;</th><th scope=col>&lt;dbl&gt;</th><th scope=col>&lt;dbl&gt;</th><th scope=col>&lt;dbl&gt;</th><th scope=col>&lt;dbl&gt;</th><th scope=col>&lt;chr&gt;</th><th scope=col>⋯</th><th scope=col>&lt;lgl&gt;</th><th scope=col>&lt;lgl&gt;</th><th scope=col>&lt;lgl&gt;</th><th scope=col>&lt;lgl&gt;</th><th scope=col>&lt;lgl&gt;</th><th scope=col>&lt;lgl&gt;</th><th scope=col>&lt;lgl&gt;</th><th scope=col>&lt;chr&gt;</th><th scope=col>&lt;dbl&gt;</th><th scope=col>&lt;dbl&gt;</th></tr>\n",
       "</thead>\n",
       "<tbody>\n",
       "\t<tr><td>kvs                         </td><td>💿 KVS: NVMe Key-Value Store       </td><td>https://github.com/synrc/kvs                          </td><td>https://kvs.n2o.dev</td><td> 917</td><td>174</td><td>50</td><td>0</td><td>174</td><td>Erlang</td><td>⋯</td><td>TRUE</td><td>TRUE</td><td> TRUE</td><td>FALSE</td><td>FALSE</td><td>FALSE</td><td>FALSE</td><td>master</td><td>4201</td><td>455</td></tr>\n",
       "\t<tr><td>GPU-GEMS-3D-Fluid-Simulation</td><td>3D fluid simulation on the in Unity</td><td>https://github.com/Scrawk/GPU-GEMS-3D-Fluid-Simulation</td><td>NA                 </td><td>  77</td><td>261</td><td>39</td><td>0</td><td>261</td><td>C#    </td><td>⋯</td><td>TRUE</td><td>TRUE</td><td>FALSE</td><td>FALSE</td><td>FALSE</td><td>FALSE</td><td>FALSE</td><td>master</td><td>2717</td><td>441</td></tr>\n",
       "\t<tr><td>legacy-dotfiles             </td><td>NA                                 </td><td>https://github.com/rbnis/legacy-dotfiles              </td><td>NA                 </td><td>5774</td><td>175</td><td>44</td><td>5</td><td>175</td><td>Shell </td><td>⋯</td><td>TRUE</td><td>TRUE</td><td>FALSE</td><td>FALSE</td><td>FALSE</td><td> TRUE</td><td>FALSE</td><td>master</td><td>2371</td><td>442</td></tr>\n",
       "</tbody>\n",
       "</table>\n"
      ],
      "text/latex": [
       "A tibble: 3 × 24\n",
       "\\begin{tabular}{lllllllllllllllllllll}\n",
       " Name & Description & URL & Homepage & Size & Stars & Forks & Issues & Watchers & Language & ⋯ & Has Downloads & Has Wiki & Has Pages & Has Discussions & Is Fork & Is Archived & Is Template & Default Branch & repo\\_age\\_days & days\\_since\\_update\\\\\n",
       " <chr> & <chr> & <chr> & <chr> & <dbl> & <dbl> & <dbl> & <dbl> & <dbl> & <chr> & ⋯ & <lgl> & <lgl> & <lgl> & <lgl> & <lgl> & <lgl> & <lgl> & <chr> & <dbl> & <dbl>\\\\\n",
       "\\hline\n",
       "\t kvs                          & 💿 KVS: NVMe Key-Value Store        & https://github.com/synrc/kvs                           & https://kvs.n2o.dev &  917 & 174 & 50 & 0 & 174 & Erlang & ⋯ & TRUE & TRUE &  TRUE & FALSE & FALSE & FALSE & FALSE & master & 4201 & 455\\\\\n",
       "\t GPU-GEMS-3D-Fluid-Simulation & 3D fluid simulation on the in Unity & https://github.com/Scrawk/GPU-GEMS-3D-Fluid-Simulation & NA                  &   77 & 261 & 39 & 0 & 261 & C\\#     & ⋯ & TRUE & TRUE & FALSE & FALSE & FALSE & FALSE & FALSE & master & 2717 & 441\\\\\n",
       "\t legacy-dotfiles              & NA                                  & https://github.com/rbnis/legacy-dotfiles               & NA                  & 5774 & 175 & 44 & 5 & 175 & Shell  & ⋯ & TRUE & TRUE & FALSE & FALSE & FALSE &  TRUE & FALSE & master & 2371 & 442\\\\\n",
       "\\end{tabular}\n"
      ],
      "text/markdown": [
       "\n",
       "A tibble: 3 × 24\n",
       "\n",
       "| Name &lt;chr&gt; | Description &lt;chr&gt; | URL &lt;chr&gt; | Homepage &lt;chr&gt; | Size &lt;dbl&gt; | Stars &lt;dbl&gt; | Forks &lt;dbl&gt; | Issues &lt;dbl&gt; | Watchers &lt;dbl&gt; | Language &lt;chr&gt; | ⋯ ⋯ | Has Downloads &lt;lgl&gt; | Has Wiki &lt;lgl&gt; | Has Pages &lt;lgl&gt; | Has Discussions &lt;lgl&gt; | Is Fork &lt;lgl&gt; | Is Archived &lt;lgl&gt; | Is Template &lt;lgl&gt; | Default Branch &lt;chr&gt; | repo_age_days &lt;dbl&gt; | days_since_update &lt;dbl&gt; |\n",
       "|---|---|---|---|---|---|---|---|---|---|---|---|---|---|---|---|---|---|---|---|---|\n",
       "| kvs                          | 💿 KVS: NVMe Key-Value Store        | https://github.com/synrc/kvs                           | https://kvs.n2o.dev |  917 | 174 | 50 | 0 | 174 | Erlang | ⋯ | TRUE | TRUE |  TRUE | FALSE | FALSE | FALSE | FALSE | master | 4201 | 455 |\n",
       "| GPU-GEMS-3D-Fluid-Simulation | 3D fluid simulation on the in Unity | https://github.com/Scrawk/GPU-GEMS-3D-Fluid-Simulation | NA                  |   77 | 261 | 39 | 0 | 261 | C#     | ⋯ | TRUE | TRUE | FALSE | FALSE | FALSE | FALSE | FALSE | master | 2717 | 441 |\n",
       "| legacy-dotfiles              | NA                                  | https://github.com/rbnis/legacy-dotfiles               | NA                  | 5774 | 175 | 44 | 5 | 175 | Shell  | ⋯ | TRUE | TRUE | FALSE | FALSE | FALSE |  TRUE | FALSE | master | 2371 | 442 |\n",
       "\n"
      ],
      "text/plain": [
       "  Name                         Description                        \n",
       "1 kvs                          💿 KVS: NVMe Key-Value Store       \n",
       "2 GPU-GEMS-3D-Fluid-Simulation 3D fluid simulation on the in Unity\n",
       "3 legacy-dotfiles              NA                                 \n",
       "  URL                                                    Homepage           \n",
       "1 https://github.com/synrc/kvs                           https://kvs.n2o.dev\n",
       "2 https://github.com/Scrawk/GPU-GEMS-3D-Fluid-Simulation NA                 \n",
       "3 https://github.com/rbnis/legacy-dotfiles               NA                 \n",
       "  Size Stars Forks Issues Watchers Language ⋯ Has Downloads Has Wiki Has Pages\n",
       "1  917 174   50    0      174      Erlang   ⋯ TRUE          TRUE      TRUE    \n",
       "2   77 261   39    0      261      C#       ⋯ TRUE          TRUE     FALSE    \n",
       "3 5774 175   44    5      175      Shell    ⋯ TRUE          TRUE     FALSE    \n",
       "  Has Discussions Is Fork Is Archived Is Template Default Branch repo_age_days\n",
       "1 FALSE           FALSE   FALSE       FALSE       master         4201         \n",
       "2 FALSE           FALSE   FALSE       FALSE       master         2717         \n",
       "3 FALSE           FALSE    TRUE       FALSE       master         2371         \n",
       "  days_since_update\n",
       "1 455              \n",
       "2 441              \n",
       "3 442              "
      ]
     },
     "metadata": {},
     "output_type": "display_data"
    }
   ],
   "source": [
    "df_cleaned <- df_subset_2 %>% filter(!is.na(Stars) & !is.na(Forks) & !is.na(repo_age_days))  \n",
    "\n",
    "head(df_cleaned, n = 3)"
   ]
  },
  {
   "cell_type": "code",
   "execution_count": 24,
   "id": "e22f50c3-b282-4dcc-b122-f51cc3fcc4e8",
   "metadata": {},
   "outputs": [
    {
     "name": "stdout",
     "output_type": "stream",
     "text": [
      "\u001b[90m# A tibble: 1 × 6\u001b[39m\n",
      "  count avg_stars avg_forks avg_issues avg_repo_age avg_days_since_update\n",
      "  \u001b[3m\u001b[90m<int>\u001b[39m\u001b[23m     \u001b[3m\u001b[90m<dbl>\u001b[39m\u001b[23m     \u001b[3m\u001b[90m<dbl>\u001b[39m\u001b[23m      \u001b[3m\u001b[90m<dbl>\u001b[39m\u001b[23m        \u001b[3m\u001b[90m<dbl>\u001b[39m\u001b[23m                 \u001b[3m\u001b[90m<dbl>\u001b[39m\u001b[23m\n",
      "\u001b[90m1\u001b[39m \u001b[4m1\u001b[24m\u001b[4m0\u001b[24m000     \u001b[4m1\u001b[24m092.      230.       37.8        \u001b[4m2\u001b[24m764.                  453.\n"
     ]
    },
    {
     "data": {
      "text/html": [
       "<table class=\"dataframe\">\n",
       "<caption>A tibble: 3 × 24</caption>\n",
       "<thead>\n",
       "\t<tr><th scope=col>Name</th><th scope=col>Description</th><th scope=col>URL</th><th scope=col>Homepage</th><th scope=col>Size</th><th scope=col>Stars</th><th scope=col>Forks</th><th scope=col>Issues</th><th scope=col>Watchers</th><th scope=col>Language</th><th scope=col>⋯</th><th scope=col>Has Downloads</th><th scope=col>Has Wiki</th><th scope=col>Has Pages</th><th scope=col>Has Discussions</th><th scope=col>Is Fork</th><th scope=col>Is Archived</th><th scope=col>Is Template</th><th scope=col>Default Branch</th><th scope=col>repo_age_days</th><th scope=col>days_since_update</th></tr>\n",
       "\t<tr><th scope=col>&lt;chr&gt;</th><th scope=col>&lt;chr&gt;</th><th scope=col>&lt;chr&gt;</th><th scope=col>&lt;chr&gt;</th><th scope=col>&lt;dbl&gt;</th><th scope=col>&lt;dbl&gt;</th><th scope=col>&lt;dbl&gt;</th><th scope=col>&lt;dbl&gt;</th><th scope=col>&lt;dbl&gt;</th><th scope=col>&lt;chr&gt;</th><th scope=col>⋯</th><th scope=col>&lt;lgl&gt;</th><th scope=col>&lt;lgl&gt;</th><th scope=col>&lt;lgl&gt;</th><th scope=col>&lt;lgl&gt;</th><th scope=col>&lt;lgl&gt;</th><th scope=col>&lt;lgl&gt;</th><th scope=col>&lt;lgl&gt;</th><th scope=col>&lt;chr&gt;</th><th scope=col>&lt;dbl&gt;</th><th scope=col>&lt;dbl&gt;</th></tr>\n",
       "</thead>\n",
       "<tbody>\n",
       "\t<tr><td>kvs                         </td><td>💿 KVS: NVMe Key-Value Store       </td><td>https://github.com/synrc/kvs                          </td><td>https://kvs.n2o.dev</td><td> 917</td><td>174</td><td>50</td><td>0</td><td>174</td><td>Erlang</td><td>⋯</td><td>TRUE</td><td>TRUE</td><td> TRUE</td><td>FALSE</td><td>FALSE</td><td>FALSE</td><td>FALSE</td><td>master</td><td>4201</td><td>455</td></tr>\n",
       "\t<tr><td>GPU-GEMS-3D-Fluid-Simulation</td><td>3D fluid simulation on the in Unity</td><td>https://github.com/Scrawk/GPU-GEMS-3D-Fluid-Simulation</td><td>NA                 </td><td>  77</td><td>261</td><td>39</td><td>0</td><td>261</td><td>C#    </td><td>⋯</td><td>TRUE</td><td>TRUE</td><td>FALSE</td><td>FALSE</td><td>FALSE</td><td>FALSE</td><td>FALSE</td><td>master</td><td>2717</td><td>441</td></tr>\n",
       "\t<tr><td>legacy-dotfiles             </td><td>NA                                 </td><td>https://github.com/rbnis/legacy-dotfiles              </td><td>NA                 </td><td>5774</td><td>175</td><td>44</td><td>5</td><td>175</td><td>Shell </td><td>⋯</td><td>TRUE</td><td>TRUE</td><td>FALSE</td><td>FALSE</td><td>FALSE</td><td> TRUE</td><td>FALSE</td><td>master</td><td>2371</td><td>442</td></tr>\n",
       "</tbody>\n",
       "</table>\n"
      ],
      "text/latex": [
       "A tibble: 3 × 24\n",
       "\\begin{tabular}{lllllllllllllllllllll}\n",
       " Name & Description & URL & Homepage & Size & Stars & Forks & Issues & Watchers & Language & ⋯ & Has Downloads & Has Wiki & Has Pages & Has Discussions & Is Fork & Is Archived & Is Template & Default Branch & repo\\_age\\_days & days\\_since\\_update\\\\\n",
       " <chr> & <chr> & <chr> & <chr> & <dbl> & <dbl> & <dbl> & <dbl> & <dbl> & <chr> & ⋯ & <lgl> & <lgl> & <lgl> & <lgl> & <lgl> & <lgl> & <lgl> & <chr> & <dbl> & <dbl>\\\\\n",
       "\\hline\n",
       "\t kvs                          & 💿 KVS: NVMe Key-Value Store        & https://github.com/synrc/kvs                           & https://kvs.n2o.dev &  917 & 174 & 50 & 0 & 174 & Erlang & ⋯ & TRUE & TRUE &  TRUE & FALSE & FALSE & FALSE & FALSE & master & 4201 & 455\\\\\n",
       "\t GPU-GEMS-3D-Fluid-Simulation & 3D fluid simulation on the in Unity & https://github.com/Scrawk/GPU-GEMS-3D-Fluid-Simulation & NA                  &   77 & 261 & 39 & 0 & 261 & C\\#     & ⋯ & TRUE & TRUE & FALSE & FALSE & FALSE & FALSE & FALSE & master & 2717 & 441\\\\\n",
       "\t legacy-dotfiles              & NA                                  & https://github.com/rbnis/legacy-dotfiles               & NA                  & 5774 & 175 & 44 & 5 & 175 & Shell  & ⋯ & TRUE & TRUE & FALSE & FALSE & FALSE &  TRUE & FALSE & master & 2371 & 442\\\\\n",
       "\\end{tabular}\n"
      ],
      "text/markdown": [
       "\n",
       "A tibble: 3 × 24\n",
       "\n",
       "| Name &lt;chr&gt; | Description &lt;chr&gt; | URL &lt;chr&gt; | Homepage &lt;chr&gt; | Size &lt;dbl&gt; | Stars &lt;dbl&gt; | Forks &lt;dbl&gt; | Issues &lt;dbl&gt; | Watchers &lt;dbl&gt; | Language &lt;chr&gt; | ⋯ ⋯ | Has Downloads &lt;lgl&gt; | Has Wiki &lt;lgl&gt; | Has Pages &lt;lgl&gt; | Has Discussions &lt;lgl&gt; | Is Fork &lt;lgl&gt; | Is Archived &lt;lgl&gt; | Is Template &lt;lgl&gt; | Default Branch &lt;chr&gt; | repo_age_days &lt;dbl&gt; | days_since_update &lt;dbl&gt; |\n",
       "|---|---|---|---|---|---|---|---|---|---|---|---|---|---|---|---|---|---|---|---|---|\n",
       "| kvs                          | 💿 KVS: NVMe Key-Value Store        | https://github.com/synrc/kvs                           | https://kvs.n2o.dev |  917 | 174 | 50 | 0 | 174 | Erlang | ⋯ | TRUE | TRUE |  TRUE | FALSE | FALSE | FALSE | FALSE | master | 4201 | 455 |\n",
       "| GPU-GEMS-3D-Fluid-Simulation | 3D fluid simulation on the in Unity | https://github.com/Scrawk/GPU-GEMS-3D-Fluid-Simulation | NA                  |   77 | 261 | 39 | 0 | 261 | C#     | ⋯ | TRUE | TRUE | FALSE | FALSE | FALSE | FALSE | FALSE | master | 2717 | 441 |\n",
       "| legacy-dotfiles              | NA                                  | https://github.com/rbnis/legacy-dotfiles               | NA                  | 5774 | 175 | 44 | 5 | 175 | Shell  | ⋯ | TRUE | TRUE | FALSE | FALSE | FALSE |  TRUE | FALSE | master | 2371 | 442 |\n",
       "\n"
      ],
      "text/plain": [
       "  Name                         Description                        \n",
       "1 kvs                          💿 KVS: NVMe Key-Value Store       \n",
       "2 GPU-GEMS-3D-Fluid-Simulation 3D fluid simulation on the in Unity\n",
       "3 legacy-dotfiles              NA                                 \n",
       "  URL                                                    Homepage           \n",
       "1 https://github.com/synrc/kvs                           https://kvs.n2o.dev\n",
       "2 https://github.com/Scrawk/GPU-GEMS-3D-Fluid-Simulation NA                 \n",
       "3 https://github.com/rbnis/legacy-dotfiles               NA                 \n",
       "  Size Stars Forks Issues Watchers Language ⋯ Has Downloads Has Wiki Has Pages\n",
       "1  917 174   50    0      174      Erlang   ⋯ TRUE          TRUE      TRUE    \n",
       "2   77 261   39    0      261      C#       ⋯ TRUE          TRUE     FALSE    \n",
       "3 5774 175   44    5      175      Shell    ⋯ TRUE          TRUE     FALSE    \n",
       "  Has Discussions Is Fork Is Archived Is Template Default Branch repo_age_days\n",
       "1 FALSE           FALSE   FALSE       FALSE       master         4201         \n",
       "2 FALSE           FALSE   FALSE       FALSE       master         2717         \n",
       "3 FALSE           FALSE    TRUE       FALSE       master         2371         \n",
       "  days_since_update\n",
       "1 455              \n",
       "2 441              \n",
       "3 442              "
      ]
     },
     "metadata": {},
     "output_type": "display_data"
    },
    {
     "data": {
      "text/html": [
       "10000"
      ],
      "text/latex": [
       "10000"
      ],
      "text/markdown": [
       "10000"
      ],
      "text/plain": [
       "[1] 10000"
      ]
     },
     "metadata": {},
     "output_type": "display_data"
    },
    {
     "data": {
      "text/html": [
       "10131"
      ],
      "text/latex": [
       "10131"
      ],
      "text/markdown": [
       "10131"
      ],
      "text/plain": [
       "[1] 10131"
      ]
     },
     "metadata": {},
     "output_type": "display_data"
    }
   ],
   "source": [
    "summary_stats <- df_cleaned %>%\n",
    "  summarize(\n",
    "    count = n(),\n",
    "    avg_stars = mean(Stars, na.rm = TRUE),\n",
    "    avg_forks = mean(Forks, na.rm = TRUE),\n",
    "    avg_issues = mean(Issues, na.rm = TRUE),\n",
    "    avg_repo_age = mean(repo_age_days, na.rm = TRUE),\n",
    "    avg_days_since_update = mean(days_since_update, na.rm = TRUE)\n",
    "  )\n",
    "\n",
    "print(summary_stats)\n",
    "head(df_cleaned, n = 3)\n",
    "nrow(df_cleaned)\n",
    "sum(is.na(df_cleaned))"
   ]
  },
  {
   "cell_type": "markdown",
   "id": "b6a38a8c-aa39-41b4-8acd-528c102f848b",
   "metadata": {},
   "source": [
    "*the limitation I faced with the variables I deleted is that they had many missing values. therefore, I decided to keep the same variables I used in previous assignment.*"
   ]
  },
  {
   "cell_type": "code",
   "execution_count": 25,
   "id": "545809fb-9013-4b78-b617-f346816c355d",
   "metadata": {},
   "outputs": [
    {
     "data": {
      "text/html": [
       "<table class=\"dataframe\">\n",
       "<caption>A tibble: 6 × 24</caption>\n",
       "<thead>\n",
       "\t<tr><th scope=col>Name</th><th scope=col>Description</th><th scope=col>URL</th><th scope=col>Homepage</th><th scope=col>Size</th><th scope=col>Stars</th><th scope=col>Forks</th><th scope=col>Issues</th><th scope=col>Watchers</th><th scope=col>Language</th><th scope=col>⋯</th><th scope=col>Has Downloads</th><th scope=col>Has Wiki</th><th scope=col>Has Pages</th><th scope=col>Has Discussions</th><th scope=col>Is Fork</th><th scope=col>Is Archived</th><th scope=col>Is Template</th><th scope=col>Default Branch</th><th scope=col>repo_age_days</th><th scope=col>days_since_update</th></tr>\n",
       "\t<tr><th scope=col>&lt;chr&gt;</th><th scope=col>&lt;chr&gt;</th><th scope=col>&lt;chr&gt;</th><th scope=col>&lt;chr&gt;</th><th scope=col>&lt;dbl&gt;</th><th scope=col>&lt;dbl&gt;</th><th scope=col>&lt;dbl&gt;</th><th scope=col>&lt;dbl&gt;</th><th scope=col>&lt;dbl&gt;</th><th scope=col>&lt;chr&gt;</th><th scope=col>⋯</th><th scope=col>&lt;lgl&gt;</th><th scope=col>&lt;lgl&gt;</th><th scope=col>&lt;lgl&gt;</th><th scope=col>&lt;lgl&gt;</th><th scope=col>&lt;lgl&gt;</th><th scope=col>&lt;lgl&gt;</th><th scope=col>&lt;lgl&gt;</th><th scope=col>&lt;chr&gt;</th><th scope=col>&lt;dbl&gt;</th><th scope=col>&lt;dbl&gt;</th></tr>\n",
       "</thead>\n",
       "<tbody>\n",
       "\t<tr><td>awesome-scholarly-productivity</td><td>NA                                                       </td><td>https://github.com/OpenMindClub/awesome-scholarly-productivity</td><td>NA                                           </td><td>  1806</td><td>291</td><td> 24</td><td> 0</td><td>291</td><td>NA    </td><td>⋯</td><td> TRUE</td><td> TRUE</td><td>FALSE</td><td>FALSE</td><td>FALSE</td><td>FALSE</td><td>FALSE</td><td>main  </td><td> 926</td><td>440</td></tr>\n",
       "\t<tr><td>re                            </td><td>Regular Expression Construction                          </td><td>https://github.com/jimweirich/re                              </td><td>NA                                           </td><td>   176</td><td>181</td><td> 17</td><td> 0</td><td>181</td><td>Ruby  </td><td>⋯</td><td> TRUE</td><td>FALSE</td><td>FALSE</td><td>FALSE</td><td>FALSE</td><td>FALSE</td><td>FALSE</td><td>master</td><td>5449</td><td>559</td></tr>\n",
       "\t<tr><td>pinpoint-docker               </td><td>Official Dockerized components of the Pinpoint           </td><td>https://github.com/pinpoint-apm/pinpoint-docker               </td><td>http://pinpoint-apm.github.io/pinpoint/      </td><td>250118</td><td>428</td><td>222</td><td>24</td><td>428</td><td>Shell </td><td>⋯</td><td> TRUE</td><td>FALSE</td><td>FALSE</td><td>FALSE</td><td>FALSE</td><td>FALSE</td><td>FALSE</td><td>master</td><td>2400</td><td>436</td></tr>\n",
       "\t<tr><td>datrie                        </td><td>Fast, efficiently stored Trie for Python. Uses libdatrie.</td><td>https://github.com/pytries/datrie                             </td><td>http://pypi.python.org/pypi/datrie/          </td><td>  2205</td><td>515</td><td> 86</td><td>36</td><td>515</td><td>Python</td><td>⋯</td><td> TRUE</td><td> TRUE</td><td>FALSE</td><td>FALSE</td><td>FALSE</td><td>FALSE</td><td>FALSE</td><td>master</td><td>4526</td><td>460</td></tr>\n",
       "\t<tr><td>vbagx                         </td><td>Visual Boy Advance GX                                    </td><td>https://github.com/dborth/vbagx                               </td><td>http://wiibrew.org/wiki/Visual_Boy_Advance_GX</td><td> 15445</td><td>250</td><td> 34</td><td> 2</td><td>250</td><td>C++   </td><td>⋯</td><td>FALSE</td><td> TRUE</td><td>FALSE</td><td>FALSE</td><td>FALSE</td><td>FALSE</td><td>FALSE</td><td>master</td><td>3450</td><td>439</td></tr>\n",
       "\t<tr><td>vcrtl                         </td><td>C++ Exceptions in Windows Drivers                        </td><td>https://github.com/avakar/vcrtl                               </td><td>NA                                           </td><td>    50</td><td>183</td><td> 39</td><td> 4</td><td>183</td><td>C++   </td><td>⋯</td><td> TRUE</td><td> TRUE</td><td>FALSE</td><td> TRUE</td><td>FALSE</td><td>FALSE</td><td>FALSE</td><td>master</td><td>1829</td><td>431</td></tr>\n",
       "</tbody>\n",
       "</table>\n"
      ],
      "text/latex": [
       "A tibble: 6 × 24\n",
       "\\begin{tabular}{lllllllllllllllllllll}\n",
       " Name & Description & URL & Homepage & Size & Stars & Forks & Issues & Watchers & Language & ⋯ & Has Downloads & Has Wiki & Has Pages & Has Discussions & Is Fork & Is Archived & Is Template & Default Branch & repo\\_age\\_days & days\\_since\\_update\\\\\n",
       " <chr> & <chr> & <chr> & <chr> & <dbl> & <dbl> & <dbl> & <dbl> & <dbl> & <chr> & ⋯ & <lgl> & <lgl> & <lgl> & <lgl> & <lgl> & <lgl> & <lgl> & <chr> & <dbl> & <dbl>\\\\\n",
       "\\hline\n",
       "\t awesome-scholarly-productivity & NA                                                        & https://github.com/OpenMindClub/awesome-scholarly-productivity & NA                                            &   1806 & 291 &  24 &  0 & 291 & NA     & ⋯ &  TRUE &  TRUE & FALSE & FALSE & FALSE & FALSE & FALSE & main   &  926 & 440\\\\\n",
       "\t re                             & Regular Expression Construction                           & https://github.com/jimweirich/re                               & NA                                            &    176 & 181 &  17 &  0 & 181 & Ruby   & ⋯ &  TRUE & FALSE & FALSE & FALSE & FALSE & FALSE & FALSE & master & 5449 & 559\\\\\n",
       "\t pinpoint-docker                & Official Dockerized components of the Pinpoint            & https://github.com/pinpoint-apm/pinpoint-docker                & http://pinpoint-apm.github.io/pinpoint/       & 250118 & 428 & 222 & 24 & 428 & Shell  & ⋯ &  TRUE & FALSE & FALSE & FALSE & FALSE & FALSE & FALSE & master & 2400 & 436\\\\\n",
       "\t datrie                         & Fast, efficiently stored Trie for Python. Uses libdatrie. & https://github.com/pytries/datrie                              & http://pypi.python.org/pypi/datrie/           &   2205 & 515 &  86 & 36 & 515 & Python & ⋯ &  TRUE &  TRUE & FALSE & FALSE & FALSE & FALSE & FALSE & master & 4526 & 460\\\\\n",
       "\t vbagx                          & Visual Boy Advance GX                                     & https://github.com/dborth/vbagx                                & http://wiibrew.org/wiki/Visual\\_Boy\\_Advance\\_GX &  15445 & 250 &  34 &  2 & 250 & C++    & ⋯ & FALSE &  TRUE & FALSE & FALSE & FALSE & FALSE & FALSE & master & 3450 & 439\\\\\n",
       "\t vcrtl                          & C++ Exceptions in Windows Drivers                         & https://github.com/avakar/vcrtl                                & NA                                            &     50 & 183 &  39 &  4 & 183 & C++    & ⋯ &  TRUE &  TRUE & FALSE &  TRUE & FALSE & FALSE & FALSE & master & 1829 & 431\\\\\n",
       "\\end{tabular}\n"
      ],
      "text/markdown": [
       "\n",
       "A tibble: 6 × 24\n",
       "\n",
       "| Name &lt;chr&gt; | Description &lt;chr&gt; | URL &lt;chr&gt; | Homepage &lt;chr&gt; | Size &lt;dbl&gt; | Stars &lt;dbl&gt; | Forks &lt;dbl&gt; | Issues &lt;dbl&gt; | Watchers &lt;dbl&gt; | Language &lt;chr&gt; | ⋯ ⋯ | Has Downloads &lt;lgl&gt; | Has Wiki &lt;lgl&gt; | Has Pages &lt;lgl&gt; | Has Discussions &lt;lgl&gt; | Is Fork &lt;lgl&gt; | Is Archived &lt;lgl&gt; | Is Template &lt;lgl&gt; | Default Branch &lt;chr&gt; | repo_age_days &lt;dbl&gt; | days_since_update &lt;dbl&gt; |\n",
       "|---|---|---|---|---|---|---|---|---|---|---|---|---|---|---|---|---|---|---|---|---|\n",
       "| awesome-scholarly-productivity | NA                                                        | https://github.com/OpenMindClub/awesome-scholarly-productivity | NA                                            |   1806 | 291 |  24 |  0 | 291 | NA     | ⋯ |  TRUE |  TRUE | FALSE | FALSE | FALSE | FALSE | FALSE | main   |  926 | 440 |\n",
       "| re                             | Regular Expression Construction                           | https://github.com/jimweirich/re                               | NA                                            |    176 | 181 |  17 |  0 | 181 | Ruby   | ⋯ |  TRUE | FALSE | FALSE | FALSE | FALSE | FALSE | FALSE | master | 5449 | 559 |\n",
       "| pinpoint-docker                | Official Dockerized components of the Pinpoint            | https://github.com/pinpoint-apm/pinpoint-docker                | http://pinpoint-apm.github.io/pinpoint/       | 250118 | 428 | 222 | 24 | 428 | Shell  | ⋯ |  TRUE | FALSE | FALSE | FALSE | FALSE | FALSE | FALSE | master | 2400 | 436 |\n",
       "| datrie                         | Fast, efficiently stored Trie for Python. Uses libdatrie. | https://github.com/pytries/datrie                              | http://pypi.python.org/pypi/datrie/           |   2205 | 515 |  86 | 36 | 515 | Python | ⋯ |  TRUE |  TRUE | FALSE | FALSE | FALSE | FALSE | FALSE | master | 4526 | 460 |\n",
       "| vbagx                          | Visual Boy Advance GX                                     | https://github.com/dborth/vbagx                                | http://wiibrew.org/wiki/Visual_Boy_Advance_GX |  15445 | 250 |  34 |  2 | 250 | C++    | ⋯ | FALSE |  TRUE | FALSE | FALSE | FALSE | FALSE | FALSE | master | 3450 | 439 |\n",
       "| vcrtl                          | C++ Exceptions in Windows Drivers                         | https://github.com/avakar/vcrtl                                | NA                                            |     50 | 183 |  39 |  4 | 183 | C++    | ⋯ |  TRUE |  TRUE | FALSE |  TRUE | FALSE | FALSE | FALSE | master | 1829 | 431 |\n",
       "\n"
      ],
      "text/plain": [
       "  Name                          \n",
       "1 awesome-scholarly-productivity\n",
       "2 re                            \n",
       "3 pinpoint-docker               \n",
       "4 datrie                        \n",
       "5 vbagx                         \n",
       "6 vcrtl                         \n",
       "  Description                                              \n",
       "1 NA                                                       \n",
       "2 Regular Expression Construction                          \n",
       "3 Official Dockerized components of the Pinpoint           \n",
       "4 Fast, efficiently stored Trie for Python. Uses libdatrie.\n",
       "5 Visual Boy Advance GX                                    \n",
       "6 C++ Exceptions in Windows Drivers                        \n",
       "  URL                                                           \n",
       "1 https://github.com/OpenMindClub/awesome-scholarly-productivity\n",
       "2 https://github.com/jimweirich/re                              \n",
       "3 https://github.com/pinpoint-apm/pinpoint-docker               \n",
       "4 https://github.com/pytries/datrie                             \n",
       "5 https://github.com/dborth/vbagx                               \n",
       "6 https://github.com/avakar/vcrtl                               \n",
       "  Homepage                                      Size   Stars Forks Issues\n",
       "1 NA                                              1806 291    24    0    \n",
       "2 NA                                               176 181    17    0    \n",
       "3 http://pinpoint-apm.github.io/pinpoint/       250118 428   222   24    \n",
       "4 http://pypi.python.org/pypi/datrie/             2205 515    86   36    \n",
       "5 http://wiibrew.org/wiki/Visual_Boy_Advance_GX  15445 250    34    2    \n",
       "6 NA                                                50 183    39    4    \n",
       "  Watchers Language ⋯ Has Downloads Has Wiki Has Pages Has Discussions Is Fork\n",
       "1 291      NA       ⋯  TRUE          TRUE    FALSE     FALSE           FALSE  \n",
       "2 181      Ruby     ⋯  TRUE         FALSE    FALSE     FALSE           FALSE  \n",
       "3 428      Shell    ⋯  TRUE         FALSE    FALSE     FALSE           FALSE  \n",
       "4 515      Python   ⋯  TRUE          TRUE    FALSE     FALSE           FALSE  \n",
       "5 250      C++      ⋯ FALSE          TRUE    FALSE     FALSE           FALSE  \n",
       "6 183      C++      ⋯  TRUE          TRUE    FALSE      TRUE           FALSE  \n",
       "  Is Archived Is Template Default Branch repo_age_days days_since_update\n",
       "1 FALSE       FALSE       main            926          440              \n",
       "2 FALSE       FALSE       master         5449          559              \n",
       "3 FALSE       FALSE       master         2400          436              \n",
       "4 FALSE       FALSE       master         4526          460              \n",
       "5 FALSE       FALSE       master         3450          439              \n",
       "6 FALSE       FALSE       master         1829          431              "
      ]
     },
     "metadata": {},
     "output_type": "display_data"
    },
    {
     "data": {
      "text/html": [
       "8000"
      ],
      "text/latex": [
       "8000"
      ],
      "text/markdown": [
       "8000"
      ],
      "text/plain": [
       "[1] 8000"
      ]
     },
     "metadata": {},
     "output_type": "display_data"
    },
    {
     "data": {
      "text/html": [
       "2000"
      ],
      "text/latex": [
       "2000"
      ],
      "text/markdown": [
       "2000"
      ],
      "text/plain": [
       "[1] 2000"
      ]
     },
     "metadata": {},
     "output_type": "display_data"
    }
   ],
   "source": [
    "set.seed(123) # DO NOT CHANGE!\n",
    "\n",
    "GitHub_sample <-\n",
    "    df_cleaned %>%\n",
    "    mutate(id = row_number())\n",
    "\n",
    "training_GitHub <- \n",
    "    GitHub_sample %>%\n",
    "    slice_sample(prop = 0.80, replace = FALSE)\n",
    "\n",
    "testing_GitHub <- \n",
    "    GitHub_sample %>% \n",
    "    anti_join(training_GitHub, by = \"id\") %>%\n",
    "    select(-id)\n",
    "\n",
    "training_GitHub <- \n",
    "    training_GitHub %>% \n",
    "    select(-id)\n",
    "\n",
    "head(training_GitHub)\n",
    "nrow(training_GitHub)\n",
    "\n",
    "nrow(testing_GitHub)"
   ]
  },
  {
   "cell_type": "markdown",
   "id": "8ece48fa-6f3d-4b5d-888a-bdbcad6c0ded",
   "metadata": {},
   "source": [
    "- One of the limitations I faced when runing the Forward Selection Algorithm on the given data is that The kernel will collapse and the restart entirly.\n",
    "- To solve this problem, I will drop some of the catogrical variables that have many levels (>2) and I, from the experince I gained in this course belive they are in little to no utillity in predicting the number of stars."
   ]
  },
  {
   "cell_type": "code",
   "execution_count": 27,
   "id": "751230b0-7a93-480b-9bff-693b4855a1f8",
   "metadata": {},
   "outputs": [
    {
     "ename": "ERROR",
     "evalue": "Error in eval(expr, envir, enclos): object 'repo_age_days' not found\n",
     "output_type": "error",
     "traceback": [
      "Error in eval(expr, envir, enclos): object 'repo_age_days' not found\nTraceback:\n"
     ]
    }
   ],
   "source": [
    "features <- c(repo_age_days, days_since_update, \"Size\", \"Stars\", \"Forks\",\n",
    "              \"Issues\", 'Watchers', 'Has Discussions')\n",
    "df_subset <- df_subset %>% select(all_of(features))\n",
    "\n",
    "head(df_subset, n = 3)"
   ]
  },
  {
   "cell_type": "code",
   "execution_count": null,
   "id": "cca645b6-3779-4735-998c-cb7dc9c13019",
   "metadata": {},
   "outputs": [
    {
     "name": "stderr",
     "output_type": "stream",
     "text": [
      "Warning message in model.matrix.default(terms(formula, data = data), mm):\n",
      "“term names will be truncated”\n"
     ]
    }
   ],
   "source": [
    "GitHub_forward_sel <- regsubsets(\n",
    "  Stars ~ ., data = training_GitHub,\n",
    "  method = \"forward\",\n",
    "  nvmax = ncol(training_GitHub) - 1\n",
    ")\n",
    "GitHub_forward_sel\n",
    "\n",
    "GitHub_fwd_summary <- summary(GitHub_forward_sel)\n",
    "\n",
    "GitHub_fwd_summary <- tibble(\n",
    "  n_input_variables = 1:length(GitHub_fwd_summary$rss),  \n",
    "  RSS = GitHub_fwd_summary$rss,\n",
    "  BIC = GitHub_fwd_summary$bic,\n",
    "  Cp = GitHub_fwd_summary$cp\n",
    ")"
   ]
  },
  {
   "cell_type": "code",
   "execution_count": null,
   "id": "e0ca7186-3557-4de3-8c01-efc0b6dc5283",
   "metadata": {},
   "outputs": [],
   "source": [
    "GitHub_fwd_summary\n",
    "summary(GitHub_forward_sel)"
   ]
  },
  {
   "cell_type": "markdown",
   "id": "d1190c44-142e-4af6-85a2-02c1635162b5",
   "metadata": {},
   "source": [
    "*based on the forward selection, the variables for the best-fit model are Size Forks Issues Watchers. Therefore I will fit the training data into a linear regression prediction model using an additive model for all the variables we just selected(4). the reason I selected model (4) is that it has the best combination of lowest CP, BIC and the among the highest RSS.*"
   ]
  },
  {
   "cell_type": "code",
   "execution_count": 53,
   "id": "6d5c626d-ef2f-40b9-b65c-ad6cbd8bb781",
   "metadata": {},
   "outputs": [
    {
     "data": {
      "text/plain": [
       "\n",
       "Call:\n",
       "lm(formula = Stars ~ Size + Watchers + `Has Discussions`, data = training_GitHub)\n",
       "\n",
       "Coefficients:\n",
       "          (Intercept)                   Size               Watchers  \n",
       "            1.596e-13              5.887e-20              1.000e+00  \n",
       "`Has Discussions`TRUE  \n",
       "            1.948e-15  \n"
      ]
     },
     "metadata": {},
     "output_type": "display_data"
    }
   ],
   "source": [
    "GitHub_full <- lm(Stars ~ Size + Watchers + `Has Discussions`, data = training_GitHub)\n",
    "\n",
    "GitHub_full"
   ]
  },
  {
   "cell_type": "code",
   "execution_count": 54,
   "id": "31caa5d6-bc34-4b06-8711-72419e5152dc",
   "metadata": {},
   "outputs": [
    {
     "data": {
      "text/html": [
       "<style>\n",
       ".dl-inline {width: auto; margin:0; padding: 0}\n",
       ".dl-inline>dt, .dl-inline>dd {float: none; width: auto; display: inline-block}\n",
       ".dl-inline>dt::after {content: \":\\0020\"; padding-right: .5ex}\n",
       ".dl-inline>dt:not(:first-of-type) {padding-left: .5ex}\n",
       "</style><dl class=dl-inline><dt>1</dt><dd>1848</dd><dt>2</dt><dd>815</dd><dt>3</dt><dd>194</dd><dt>4</dt><dd>257</dd><dt>5</dt><dd>401</dd><dt>6</dt><dd>841</dd></dl>\n"
      ],
      "text/latex": [
       "\\begin{description*}\n",
       "\\item[1] 1848\n",
       "\\item[2] 815\n",
       "\\item[3] 194\n",
       "\\item[4] 257\n",
       "\\item[5] 401\n",
       "\\item[6] 841\n",
       "\\end{description*}\n"
      ],
      "text/markdown": [
       "1\n",
       ":   18482\n",
       ":   8153\n",
       ":   1944\n",
       ":   2575\n",
       ":   4016\n",
       ":   841\n",
       "\n"
      ],
      "text/plain": [
       "   1    2    3    4    5    6 \n",
       "1848  815  194  257  401  841 "
      ]
     },
     "metadata": {},
     "output_type": "display_data"
    }
   ],
   "source": [
    "GitHub_test_pred_full <- predict(GitHub_full, newdata = testing_GitHub)\n",
    "\n",
    "head(GitHub_test_pred_full)"
   ]
  },
  {
   "cell_type": "code",
   "execution_count": 55,
   "id": "2ddf5f9e-b6f9-4404-bc3e-f2f1b97a9b9e",
   "metadata": {},
   "outputs": [
    {
     "data": {
      "text/html": [
       "<table class=\"dataframe\">\n",
       "<caption>A tibble: 1 × 2</caption>\n",
       "<thead>\n",
       "\t<tr><th scope=col>Model</th><th scope=col>RMSE</th></tr>\n",
       "\t<tr><th scope=col>&lt;chr&gt;</th><th scope=col>&lt;dbl&gt;</th></tr>\n",
       "</thead>\n",
       "<tbody>\n",
       "\t<tr><td>Full Regression</td><td>5.781083e-13</td></tr>\n",
       "</tbody>\n",
       "</table>\n"
      ],
      "text/latex": [
       "A tibble: 1 × 2\n",
       "\\begin{tabular}{ll}\n",
       " Model & RMSE\\\\\n",
       " <chr> & <dbl>\\\\\n",
       "\\hline\n",
       "\t Full Regression & 5.781083e-13\\\\\n",
       "\\end{tabular}\n"
      ],
      "text/markdown": [
       "\n",
       "A tibble: 1 × 2\n",
       "\n",
       "| Model &lt;chr&gt; | RMSE &lt;dbl&gt; |\n",
       "|---|---|\n",
       "| Full Regression | 5.781083e-13 |\n",
       "\n"
      ],
      "text/plain": [
       "  Model           RMSE        \n",
       "1 Full Regression 5.781083e-13"
      ]
     },
     "metadata": {},
     "output_type": "display_data"
    }
   ],
   "source": [
    "GitHub_RMSE_model <- tibble(\n",
    "    Model = \"Full Regression\",\n",
    "    RMSE = rmse(model = GitHub_full,\n",
    "                data = testing_GitHub))\n",
    "\n",
    "GitHub_RMSE_model "
   ]
  },
  {
   "cell_type": "markdown",
   "id": "eff1030b-0555-4e03-9244-799911980d52",
   "metadata": {},
   "source": [
    "*By using the vif function, and to resolve multicollinearity, I got the following results: Size: 1.001, Forks: 1.615, Issues: 1.441, Watchers: 2.042, `Has Discussions`: 1.051repo_age_days: 1.087, days_since_update: 1.071.\n",
    "and I saw that 'Watchers' has a strong correlation with both 'Forks' and 'Issues' (0.62 and 0.55 respectively). Now lets fit a linear regression model without 'Watchers'*"
   ]
  },
  {
   "cell_type": "code",
   "execution_count": 56,
   "id": "842a677e-6149-466e-9268-6b2e3b906393",
   "metadata": {},
   "outputs": [
    {
     "data": {
      "text/plain": [
       "\n",
       "Call:\n",
       "lm(formula = Stars ~ Size + Forks + Issues + `Has Discussions`, \n",
       "    data = training_GitHub)\n",
       "\n",
       "Coefficients:\n",
       "          (Intercept)                   Size                  Forks  \n",
       "            4.104e+02              4.346e-05              1.878e+00  \n",
       "               Issues  `Has Discussions`TRUE  \n",
       "            2.863e+00              1.029e+03  \n"
      ]
     },
     "metadata": {},
     "output_type": "display_data"
    }
   ],
   "source": [
    "GitHub_No_Watchers <- lm(Stars ~ Size + Forks + Issues + `Has Discussions`, data = training_GitHub)\n",
    "\n",
    "GitHub_No_Watchers"
   ]
  },
  {
   "cell_type": "code",
   "execution_count": 57,
   "id": "53ae783e-67ad-4764-8d5f-193a72b8511b",
   "metadata": {},
   "outputs": [
    {
     "data": {
      "text/html": [
       "<style>\n",
       ".dl-inline {width: auto; margin:0; padding: 0}\n",
       ".dl-inline>dt, .dl-inline>dd {float: none; width: auto; display: inline-block}\n",
       ".dl-inline>dt::after {content: \":\\0020\"; padding-right: .5ex}\n",
       ".dl-inline>dt:not(:first-of-type) {padding-left: .5ex}\n",
       "</style><dl class=dl-inline><dt>1</dt><dd>1250.34918426686</dd><dt>2</dt><dd>770.266231590364</dd><dt>3</dt><dd>497.996064144874</dd><dt>4</dt><dd>478.155462314931</dd><dt>5</dt><dd>598.714717337358</dd><dt>6</dt><dd>1480.02976265815</dd></dl>\n"
      ],
      "text/latex": [
       "\\begin{description*}\n",
       "\\item[1] 1250.34918426686\n",
       "\\item[2] 770.266231590364\n",
       "\\item[3] 497.996064144874\n",
       "\\item[4] 478.155462314931\n",
       "\\item[5] 598.714717337358\n",
       "\\item[6] 1480.02976265815\n",
       "\\end{description*}\n"
      ],
      "text/markdown": [
       "1\n",
       ":   1250.349184266862\n",
       ":   770.2662315903643\n",
       ":   497.9960641448744\n",
       ":   478.1554623149315\n",
       ":   598.7147173373586\n",
       ":   1480.02976265815\n",
       "\n"
      ],
      "text/plain": [
       "        1         2         3         4         5         6 \n",
       "1250.3492  770.2662  497.9961  478.1555  598.7147 1480.0298 "
      ]
     },
     "metadata": {},
     "output_type": "display_data"
    }
   ],
   "source": [
    "GitHub_pred_No_Watchers <- predict(GitHub_No_Watchers, newdata = testing_GitHub)\n",
    "\n",
    "head(GitHub_pred_No_Watchers)"
   ]
  },
  {
   "cell_type": "code",
   "execution_count": 58,
   "id": "51de351d-7a89-4c0a-9364-7dad1e1007f0",
   "metadata": {},
   "outputs": [
    {
     "data": {
      "text/html": [
       "<table class=\"dataframe\">\n",
       "<caption>A tibble: 1 × 2</caption>\n",
       "<thead>\n",
       "\t<tr><th scope=col>Model</th><th scope=col>RMSE</th></tr>\n",
       "\t<tr><th scope=col>&lt;chr&gt;</th><th scope=col>&lt;dbl&gt;</th></tr>\n",
       "</thead>\n",
       "<tbody>\n",
       "\t<tr><td>Full Regression No Watchers</td><td>1962.103</td></tr>\n",
       "</tbody>\n",
       "</table>\n"
      ],
      "text/latex": [
       "A tibble: 1 × 2\n",
       "\\begin{tabular}{ll}\n",
       " Model & RMSE\\\\\n",
       " <chr> & <dbl>\\\\\n",
       "\\hline\n",
       "\t Full Regression No Watchers & 1962.103\\\\\n",
       "\\end{tabular}\n"
      ],
      "text/markdown": [
       "\n",
       "A tibble: 1 × 2\n",
       "\n",
       "| Model &lt;chr&gt; | RMSE &lt;dbl&gt; |\n",
       "|---|---|\n",
       "| Full Regression No Watchers | 1962.103 |\n",
       "\n"
      ],
      "text/plain": [
       "  Model                       RMSE    \n",
       "1 Full Regression No Watchers 1962.103"
      ]
     },
     "metadata": {},
     "output_type": "display_data"
    }
   ],
   "source": [
    "GitHub_RMSE_No_Watchers <- tibble(\n",
    "    Model = \"Full Regression No Watchers\",\n",
    "    RMSE = rmse(model = GitHub_No_Watchers,\n",
    "                data = testing_GitHub))\n",
    "\n",
    "GitHub_RMSE_No_Watchers"
   ]
  },
  {
   "cell_type": "markdown",
   "id": "4ff5380c-134d-4a5e-8b41-efc786fd644f",
   "metadata": {},
   "source": [
    "*Since we saw in the previous assignment visualization that 'Watchers' was perfectly linearly correlated with Stars, let's fit a simple linear regression model with only 'Watchers' as an input.*"
   ]
  },
  {
   "cell_type": "code",
   "execution_count": 59,
   "id": "a5f10f93-9513-466d-8041-fc752fd53aa4",
   "metadata": {},
   "outputs": [
    {
     "data": {
      "text/plain": [
       "\n",
       "Call:\n",
       "lm(formula = Stars ~ Issues, data = training_GitHub)\n",
       "\n",
       "Coefficients:\n",
       "(Intercept)       Issues  \n",
       "    845.588        6.472  \n"
      ]
     },
     "metadata": {},
     "output_type": "display_data"
    }
   ],
   "source": [
    "GitHub_Simple_model <- lm(Stars ~ Issues, data = training_GitHub)\n",
    "\n",
    "GitHub_Simple_model"
   ]
  },
  {
   "cell_type": "code",
   "execution_count": 60,
   "id": "f2617e53-545d-4304-bd66-b027fff61439",
   "metadata": {},
   "outputs": [
    {
     "data": {
      "text/html": [
       "<style>\n",
       ".dl-inline {width: auto; margin:0; padding: 0}\n",
       ".dl-inline>dt, .dl-inline>dd {float: none; width: auto; display: inline-block}\n",
       ".dl-inline>dt::after {content: \":\\0020\"; padding-right: .5ex}\n",
       ".dl-inline>dt:not(:first-of-type) {padding-left: .5ex}\n",
       "</style><dl class=dl-inline><dt>1</dt><dd>1848</dd><dt>2</dt><dd>815</dd><dt>3</dt><dd>194</dd><dt>4</dt><dd>257</dd><dt>5</dt><dd>401</dd><dt>6</dt><dd>841</dd></dl>\n"
      ],
      "text/latex": [
       "\\begin{description*}\n",
       "\\item[1] 1848\n",
       "\\item[2] 815\n",
       "\\item[3] 194\n",
       "\\item[4] 257\n",
       "\\item[5] 401\n",
       "\\item[6] 841\n",
       "\\end{description*}\n"
      ],
      "text/markdown": [
       "1\n",
       ":   18482\n",
       ":   8153\n",
       ":   1944\n",
       ":   2575\n",
       ":   4016\n",
       ":   841\n",
       "\n"
      ],
      "text/plain": [
       "   1    2    3    4    5    6 \n",
       "1848  815  194  257  401  841 "
      ]
     },
     "metadata": {},
     "output_type": "display_data"
    }
   ],
   "source": [
    "GitHub_test_pred_Simple <- predict(GitHub_full, newdata = testing_GitHub)\n",
    "\n",
    "head(GitHub_test_pred_full)"
   ]
  },
  {
   "cell_type": "code",
   "execution_count": 61,
   "id": "5e15c7b4-92be-4502-86b5-66f99d631a18",
   "metadata": {},
   "outputs": [
    {
     "data": {
      "text/html": [
       "<table class=\"dataframe\">\n",
       "<caption>A tibble: 1 × 2</caption>\n",
       "<thead>\n",
       "\t<tr><th scope=col>Model</th><th scope=col>RMSE</th></tr>\n",
       "\t<tr><th scope=col>&lt;chr&gt;</th><th scope=col>&lt;dbl&gt;</th></tr>\n",
       "</thead>\n",
       "<tbody>\n",
       "\t<tr><td>OLS Simple Regression</td><td>2435.912</td></tr>\n",
       "</tbody>\n",
       "</table>\n"
      ],
      "text/latex": [
       "A tibble: 1 × 2\n",
       "\\begin{tabular}{ll}\n",
       " Model & RMSE\\\\\n",
       " <chr> & <dbl>\\\\\n",
       "\\hline\n",
       "\t OLS Simple Regression & 2435.912\\\\\n",
       "\\end{tabular}\n"
      ],
      "text/markdown": [
       "\n",
       "A tibble: 1 × 2\n",
       "\n",
       "| Model &lt;chr&gt; | RMSE &lt;dbl&gt; |\n",
       "|---|---|\n",
       "| OLS Simple Regression | 2435.912 |\n",
       "\n"
      ],
      "text/plain": [
       "  Model                 RMSE    \n",
       "1 OLS Simple Regression 2435.912"
      ]
     },
     "metadata": {},
     "output_type": "display_data"
    }
   ],
   "source": [
    "GitHub_RMSE_Simple_models <- tibble(\n",
    "    Model = \"OLS Simple Regression\",\n",
    "    RMSE = rmse(model = GitHub_Simple_model,\n",
    "                data = testing_GitHub))\n",
    "\n",
    "GitHub_RMSE_Simple_models"
   ]
  },
  {
   "cell_type": "code",
   "execution_count": null,
   "id": "e35c8ab4-b064-4995-b112-88c9ebf695b9",
   "metadata": {},
   "outputs": [],
   "source": []
  },
  {
   "cell_type": "code",
   "execution_count": null,
   "id": "931850ad-6e23-4292-b258-667f1ebd537d",
   "metadata": {},
   "outputs": [],
   "source": []
  }
 ],
 "metadata": {
  "kernelspec": {
   "display_name": "R",
   "language": "R",
   "name": "ir"
  },
  "language_info": {
   "codemirror_mode": "r",
   "file_extension": ".r",
   "mimetype": "text/x-r-source",
   "name": "R",
   "pygments_lexer": "r",
   "version": "4.3.3"
  }
 },
 "nbformat": 4,
 "nbformat_minor": 5
}
