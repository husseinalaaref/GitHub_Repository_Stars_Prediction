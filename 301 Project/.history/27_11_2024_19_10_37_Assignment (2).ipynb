{
 "cells": [
  {
   "cell_type": "code",
   "execution_count": 3,
   "id": "46dfd43c-6749-40ee-be96-aafa874560f2",
   "metadata": {},
   "outputs": [
    {
     "name": "stderr",
     "output_type": "stream",
     "text": [
      "Updating HTML index of packages in '.Library'\n",
      "\n",
      "Making 'packages.html' ...\n",
      " done\n",
      "\n",
      "Updating HTML index of packages in '.Library'\n",
      "\n",
      "Making 'packages.html' ...\n",
      " done\n",
      "\n"
     ]
    }
   ],
   "source": [
    "install.packages(\"leaps\")\n",
    "install.packages(\"Metrics\")"
   ]
  },
  {
   "cell_type": "code",
   "execution_count": 16,
   "id": "1f9ec1bc-2d6b-4e88-bd2f-6665b2873918",
   "metadata": {},
   "outputs": [],
   "source": [
    "library(tidyverse)\n",
    "library(lubridate)\n",
    "\n",
    "library(ggplot2)\n",
    "library(broom)\n",
    "library(tidyr)\n",
    "library(dplyr)\n",
    "library(Metrics)\n",
    "library(modelr)\n",
    "\n",
    "library(leaps)\n",
    "library(caret)"
   ]
  },
  {
   "cell_type": "markdown",
   "id": "9b63d316-d9d8-4a8f-8216-689664893163",
   "metadata": {},
   "source": [
    "- In the previous assignment, I explored the data with useful visuals that allowed me to observe relationships between input variables and response one and among input variables themselves. I also observed how some input variables were highly correlated (multicollinearity) by plotting a heatmap.\n",
    "- in this assignment, I will first convert the 'Created_At' and 'Updated_AT' Date variables to numerical values, where they represent the days since created, updated respectively.\n",
    "- Then, I will clean the Data and use the Forward Selection Algorithm to find the best-fit model.\n",
    "- Afterward, I am going to split the data into training, testing data with a ratio of 80/20.\n",
    "- then, I am going to use the variables from the Forward Selection results to fit an Additive linear regression model.\n",
    "- Then, using the predict function, I am going to predict the number of stars in the testing set using the fitted model.\n",
    "- Finally, I will calculate the RMSE to evaluate the accuracy of the prediction model.*\n"
   ]
  },
  {
   "cell_type": "code",
   "execution_count": 42,
   "id": "1f7a1023-ec2d-4b14-97f8-0e868e7bebca",
   "metadata": {},
   "outputs": [
    {
     "name": "stderr",
     "output_type": "stream",
     "text": [
      "\u001b[1mRows: \u001b[22m\u001b[34m215029\u001b[39m \u001b[1mColumns: \u001b[22m\u001b[34m24\u001b[39m\n",
      "\u001b[36m──\u001b[39m \u001b[1mColumn specification\u001b[22m \u001b[36m────────────────────────────────────────────────────────\u001b[39m\n",
      "\u001b[1mDelimiter:\u001b[22m \",\"\n",
      "\u001b[31mchr\u001b[39m  (8): Name, Description, URL, Homepage, Language, License, Topics, Defau...\n",
      "\u001b[32mdbl\u001b[39m  (5): Size, Stars, Forks, Issues, Watchers\n",
      "\u001b[33mlgl\u001b[39m  (9): Has Issues, Has Projects, Has Downloads, Has Wiki, Has Pages, Has ...\n",
      "\u001b[34mdttm\u001b[39m (2): Created At, Updated At\n",
      "\n",
      "\u001b[36mℹ\u001b[39m Use `spec()` to retrieve the full column specification for this data.\n",
      "\u001b[36mℹ\u001b[39m Specify the column types or set `show_col_types = FALSE` to quiet this message.\n"
     ]
    }
   ],
   "source": [
    "df <- read_csv('repositories.csv')"
   ]
  },
  {
   "cell_type": "code",
   "execution_count": 43,
   "id": "c1354ad3-4a6a-4ef9-acc9-de3b0de47a66",
   "metadata": {},
   "outputs": [
    {
     "data": {
      "text/html": [
       "<table class=\"dataframe\">\n",
       "<caption>A tibble: 3 × 24</caption>\n",
       "<thead>\n",
       "\t<tr><th scope=col>Name</th><th scope=col>Description</th><th scope=col>URL</th><th scope=col>Created At</th><th scope=col>Updated At</th><th scope=col>Homepage</th><th scope=col>Size</th><th scope=col>Stars</th><th scope=col>Forks</th><th scope=col>Issues</th><th scope=col>⋯</th><th scope=col>Has Issues</th><th scope=col>Has Projects</th><th scope=col>Has Downloads</th><th scope=col>Has Wiki</th><th scope=col>Has Pages</th><th scope=col>Has Discussions</th><th scope=col>Is Fork</th><th scope=col>Is Archived</th><th scope=col>Is Template</th><th scope=col>Default Branch</th></tr>\n",
       "\t<tr><th scope=col>&lt;chr&gt;</th><th scope=col>&lt;chr&gt;</th><th scope=col>&lt;chr&gt;</th><th scope=col>&lt;dttm&gt;</th><th scope=col>&lt;dttm&gt;</th><th scope=col>&lt;chr&gt;</th><th scope=col>&lt;dbl&gt;</th><th scope=col>&lt;dbl&gt;</th><th scope=col>&lt;dbl&gt;</th><th scope=col>&lt;dbl&gt;</th><th scope=col>⋯</th><th scope=col>&lt;lgl&gt;</th><th scope=col>&lt;lgl&gt;</th><th scope=col>&lt;lgl&gt;</th><th scope=col>&lt;lgl&gt;</th><th scope=col>&lt;lgl&gt;</th><th scope=col>&lt;lgl&gt;</th><th scope=col>&lt;lgl&gt;</th><th scope=col>&lt;lgl&gt;</th><th scope=col>&lt;lgl&gt;</th><th scope=col>&lt;chr&gt;</th></tr>\n",
       "</thead>\n",
       "<tbody>\n",
       "\t<tr><td>monoio  </td><td>Rust async runtime based on io-uring.            </td><td>https://github.com/bytedance/monoio</td><td>2021-11-30 08:25:46</td><td>2023-09-21 08:50:14</td><td>NA                              </td><td> 5178</td><td>3020</td><td>171</td><td>24</td><td>⋯</td><td>TRUE</td><td> TRUE</td><td>TRUE</td><td> TRUE</td><td>FALSE</td><td> TRUE</td><td>FALSE</td><td>FALSE</td><td>FALSE</td><td>master</td></tr>\n",
       "\t<tr><td>laychat </td><td>layIM+workerman+thinkphp5的webIM即时通讯系统 V2.0</td><td>https://github.com/nick-bai/laychat</td><td>2016-08-30 06:32:30</td><td>2023-09-05 07:58:21</td><td>NA                              </td><td>10294</td><td> 431</td><td>232</td><td> 6</td><td>⋯</td><td>TRUE</td><td> TRUE</td><td>TRUE</td><td> TRUE</td><td>FALSE</td><td>FALSE</td><td>FALSE</td><td>FALSE</td><td>FALSE</td><td>master</td></tr>\n",
       "\t<tr><td>raw-wasm</td><td>Raw WebAssembly demos                            </td><td>https://github.com/binji/raw-wasm  </td><td>2019-05-30 05:56:27</td><td>2023-09-15 08:47:52</td><td>https://binji.github.io/raw-wasm</td><td>  582</td><td> 393</td><td> 16</td><td> 0</td><td>⋯</td><td>TRUE</td><td>FALSE</td><td>TRUE</td><td>FALSE</td><td> TRUE</td><td>FALSE</td><td>FALSE</td><td>FALSE</td><td>FALSE</td><td>main  </td></tr>\n",
       "</tbody>\n",
       "</table>\n"
      ],
      "text/latex": [
       "A tibble: 3 × 24\n",
       "\\begin{tabular}{lllllllllllllllllllll}\n",
       " Name & Description & URL & Created At & Updated At & Homepage & Size & Stars & Forks & Issues & ⋯ & Has Issues & Has Projects & Has Downloads & Has Wiki & Has Pages & Has Discussions & Is Fork & Is Archived & Is Template & Default Branch\\\\\n",
       " <chr> & <chr> & <chr> & <dttm> & <dttm> & <chr> & <dbl> & <dbl> & <dbl> & <dbl> & ⋯ & <lgl> & <lgl> & <lgl> & <lgl> & <lgl> & <lgl> & <lgl> & <lgl> & <lgl> & <chr>\\\\\n",
       "\\hline\n",
       "\t monoio   & Rust async runtime based on io-uring.             & https://github.com/bytedance/monoio & 2021-11-30 08:25:46 & 2023-09-21 08:50:14 & NA                               &  5178 & 3020 & 171 & 24 & ⋯ & TRUE &  TRUE & TRUE &  TRUE & FALSE &  TRUE & FALSE & FALSE & FALSE & master\\\\\n",
       "\t laychat  & layIM+workerman+thinkphp5的webIM即时通讯系统 V2.0 & https://github.com/nick-bai/laychat & 2016-08-30 06:32:30 & 2023-09-05 07:58:21 & NA                               & 10294 &  431 & 232 &  6 & ⋯ & TRUE &  TRUE & TRUE &  TRUE & FALSE & FALSE & FALSE & FALSE & FALSE & master\\\\\n",
       "\t raw-wasm & Raw WebAssembly demos                             & https://github.com/binji/raw-wasm   & 2019-05-30 05:56:27 & 2023-09-15 08:47:52 & https://binji.github.io/raw-wasm &   582 &  393 &  16 &  0 & ⋯ & TRUE & FALSE & TRUE & FALSE &  TRUE & FALSE & FALSE & FALSE & FALSE & main  \\\\\n",
       "\\end{tabular}\n"
      ],
      "text/markdown": [
       "\n",
       "A tibble: 3 × 24\n",
       "\n",
       "| Name &lt;chr&gt; | Description &lt;chr&gt; | URL &lt;chr&gt; | Created At &lt;dttm&gt; | Updated At &lt;dttm&gt; | Homepage &lt;chr&gt; | Size &lt;dbl&gt; | Stars &lt;dbl&gt; | Forks &lt;dbl&gt; | Issues &lt;dbl&gt; | ⋯ ⋯ | Has Issues &lt;lgl&gt; | Has Projects &lt;lgl&gt; | Has Downloads &lt;lgl&gt; | Has Wiki &lt;lgl&gt; | Has Pages &lt;lgl&gt; | Has Discussions &lt;lgl&gt; | Is Fork &lt;lgl&gt; | Is Archived &lt;lgl&gt; | Is Template &lt;lgl&gt; | Default Branch &lt;chr&gt; |\n",
       "|---|---|---|---|---|---|---|---|---|---|---|---|---|---|---|---|---|---|---|---|---|\n",
       "| monoio   | Rust async runtime based on io-uring.             | https://github.com/bytedance/monoio | 2021-11-30 08:25:46 | 2023-09-21 08:50:14 | NA                               |  5178 | 3020 | 171 | 24 | ⋯ | TRUE |  TRUE | TRUE |  TRUE | FALSE |  TRUE | FALSE | FALSE | FALSE | master |\n",
       "| laychat  | layIM+workerman+thinkphp5的webIM即时通讯系统 V2.0 | https://github.com/nick-bai/laychat | 2016-08-30 06:32:30 | 2023-09-05 07:58:21 | NA                               | 10294 |  431 | 232 |  6 | ⋯ | TRUE |  TRUE | TRUE |  TRUE | FALSE | FALSE | FALSE | FALSE | FALSE | master |\n",
       "| raw-wasm | Raw WebAssembly demos                             | https://github.com/binji/raw-wasm   | 2019-05-30 05:56:27 | 2023-09-15 08:47:52 | https://binji.github.io/raw-wasm |   582 |  393 |  16 |  0 | ⋯ | TRUE | FALSE | TRUE | FALSE |  TRUE | FALSE | FALSE | FALSE | FALSE | main   |\n",
       "\n"
      ],
      "text/plain": [
       "  Name     Description                                      \n",
       "1 monoio   Rust async runtime based on io-uring.            \n",
       "2 laychat  layIM+workerman+thinkphp5的webIM即时通讯系统 V2.0\n",
       "3 raw-wasm Raw WebAssembly demos                            \n",
       "  URL                                 Created At          Updated At         \n",
       "1 https://github.com/bytedance/monoio 2021-11-30 08:25:46 2023-09-21 08:50:14\n",
       "2 https://github.com/nick-bai/laychat 2016-08-30 06:32:30 2023-09-05 07:58:21\n",
       "3 https://github.com/binji/raw-wasm   2019-05-30 05:56:27 2023-09-15 08:47:52\n",
       "  Homepage                         Size  Stars Forks Issues ⋯ Has Issues\n",
       "1 NA                                5178 3020  171   24     ⋯ TRUE      \n",
       "2 NA                               10294  431  232    6     ⋯ TRUE      \n",
       "3 https://binji.github.io/raw-wasm   582  393   16    0     ⋯ TRUE      \n",
       "  Has Projects Has Downloads Has Wiki Has Pages Has Discussions Is Fork\n",
       "1  TRUE        TRUE           TRUE    FALSE      TRUE           FALSE  \n",
       "2  TRUE        TRUE           TRUE    FALSE     FALSE           FALSE  \n",
       "3 FALSE        TRUE          FALSE     TRUE     FALSE           FALSE  \n",
       "  Is Archived Is Template Default Branch\n",
       "1 FALSE       FALSE       master        \n",
       "2 FALSE       FALSE       master        \n",
       "3 FALSE       FALSE       main          "
      ]
     },
     "metadata": {},
     "output_type": "display_data"
    }
   ],
   "source": [
    "df_subset <- df %>% sample_n(size = 10000)\n",
    "\n",
    "head(df_subset, n = 3)"
   ]
  },
  {
   "cell_type": "code",
   "execution_count": 44,
   "id": "de0a61f7-37ab-49f9-abe9-e32cc75b0576",
   "metadata": {},
   "outputs": [
    {
     "data": {
      "text/html": [
       "<table class=\"dataframe\">\n",
       "<caption>A tibble: 3 × 8</caption>\n",
       "<thead>\n",
       "\t<tr><th scope=col>Size</th><th scope=col>Stars</th><th scope=col>Forks</th><th scope=col>Issues</th><th scope=col>Watchers</th><th scope=col>Has Discussions</th><th scope=col>Created At</th><th scope=col>Updated At</th></tr>\n",
       "\t<tr><th scope=col>&lt;dbl&gt;</th><th scope=col>&lt;dbl&gt;</th><th scope=col>&lt;dbl&gt;</th><th scope=col>&lt;dbl&gt;</th><th scope=col>&lt;dbl&gt;</th><th scope=col>&lt;lgl&gt;</th><th scope=col>&lt;dttm&gt;</th><th scope=col>&lt;dttm&gt;</th></tr>\n",
       "</thead>\n",
       "<tbody>\n",
       "\t<tr><td> 5178</td><td>3020</td><td>171</td><td>24</td><td>3020</td><td> TRUE</td><td>2021-11-30 08:25:46</td><td>2023-09-21 08:50:14</td></tr>\n",
       "\t<tr><td>10294</td><td> 431</td><td>232</td><td> 6</td><td> 431</td><td>FALSE</td><td>2016-08-30 06:32:30</td><td>2023-09-05 07:58:21</td></tr>\n",
       "\t<tr><td>  582</td><td> 393</td><td> 16</td><td> 0</td><td> 393</td><td>FALSE</td><td>2019-05-30 05:56:27</td><td>2023-09-15 08:47:52</td></tr>\n",
       "</tbody>\n",
       "</table>\n"
      ],
      "text/latex": [
       "A tibble: 3 × 8\n",
       "\\begin{tabular}{llllllll}\n",
       " Size & Stars & Forks & Issues & Watchers & Has Discussions & Created At & Updated At\\\\\n",
       " <dbl> & <dbl> & <dbl> & <dbl> & <dbl> & <lgl> & <dttm> & <dttm>\\\\\n",
       "\\hline\n",
       "\t  5178 & 3020 & 171 & 24 & 3020 &  TRUE & 2021-11-30 08:25:46 & 2023-09-21 08:50:14\\\\\n",
       "\t 10294 &  431 & 232 &  6 &  431 & FALSE & 2016-08-30 06:32:30 & 2023-09-05 07:58:21\\\\\n",
       "\t   582 &  393 &  16 &  0 &  393 & FALSE & 2019-05-30 05:56:27 & 2023-09-15 08:47:52\\\\\n",
       "\\end{tabular}\n"
      ],
      "text/markdown": [
       "\n",
       "A tibble: 3 × 8\n",
       "\n",
       "| Size &lt;dbl&gt; | Stars &lt;dbl&gt; | Forks &lt;dbl&gt; | Issues &lt;dbl&gt; | Watchers &lt;dbl&gt; | Has Discussions &lt;lgl&gt; | Created At &lt;dttm&gt; | Updated At &lt;dttm&gt; |\n",
       "|---|---|---|---|---|---|---|---|\n",
       "|  5178 | 3020 | 171 | 24 | 3020 |  TRUE | 2021-11-30 08:25:46 | 2023-09-21 08:50:14 |\n",
       "| 10294 |  431 | 232 |  6 |  431 | FALSE | 2016-08-30 06:32:30 | 2023-09-05 07:58:21 |\n",
       "|   582 |  393 |  16 |  0 |  393 | FALSE | 2019-05-30 05:56:27 | 2023-09-15 08:47:52 |\n",
       "\n"
      ],
      "text/plain": [
       "  Size  Stars Forks Issues Watchers Has Discussions Created At         \n",
       "1  5178 3020  171   24     3020      TRUE           2021-11-30 08:25:46\n",
       "2 10294  431  232    6      431     FALSE           2016-08-30 06:32:30\n",
       "3   582  393   16    0      393     FALSE           2019-05-30 05:56:27\n",
       "  Updated At         \n",
       "1 2023-09-21 08:50:14\n",
       "2 2023-09-05 07:58:21\n",
       "3 2023-09-15 08:47:52"
      ]
     },
     "metadata": {},
     "output_type": "display_data"
    },
    {
     "data": {
      "text/html": [
       "10000"
      ],
      "text/latex": [
       "10000"
      ],
      "text/markdown": [
       "10000"
      ],
      "text/plain": [
       "[1] 10000"
      ]
     },
     "metadata": {},
     "output_type": "display_data"
    },
    {
     "data": {
      "text/html": [
       "0"
      ],
      "text/latex": [
       "0"
      ],
      "text/markdown": [
       "0"
      ],
      "text/plain": [
       "[1] 0"
      ]
     },
     "metadata": {},
     "output_type": "display_data"
    }
   ],
   "source": [
    "features <- c(\"Size\", \"Stars\", \"Forks\",\n",
    "              \"Issues\", 'Watchers', 'Has Discussions', 'Created At', 'Updated At')\n",
    "df_subset_1 <- df_subset %>% select(all_of(features))\n",
    "\n",
    "head(df_subset_1, n = 3)\n",
    "nrow(df_subset_1)\n",
    "sum(is.na(df_subset_1))"
   ]
  },
  {
   "cell_type": "code",
   "execution_count": 45,
   "id": "224b0b29-54f7-4d25-8495-2348490ba656",
   "metadata": {},
   "outputs": [],
   "source": [
    "df_subset$'Created At' <- as.Date(strptime(df_subset$'Created At', format = \"%Y-%m-%d %H:%M:%S\"))\n",
    "df_subset$'Updated At' <- as.Date(strptime(df_subset$'Updated At', format = \"%Y-%m-%d %H:%M:%S\"))"
   ]
  },
  {
   "cell_type": "code",
   "execution_count": null,
   "id": "54c4c5da-6760-44b8-b6a8-af9a9ca7b65c",
   "metadata": {},
   "outputs": [],
   "source": []
  },
  {
   "cell_type": "code",
   "execution_count": 46,
   "id": "86d214b8-d3b2-4ad2-b210-caf32794b31c",
   "metadata": {},
   "outputs": [
    {
     "name": "stderr",
     "output_type": "stream",
     "text": [
      "Warning message:\n",
      "“\u001b[1m\u001b[22mThere were 2 warnings in `mutate()`.\n",
      "The first warning was:\n",
      "\u001b[1m\u001b[22m\u001b[36mℹ\u001b[39m In argument: `repo_age_days = as.numeric(Sys.Date() - `Created At`)`.\n",
      "Caused by warning:\n",
      "\u001b[33m!\u001b[39m Incompatible methods (\"-.Date\", \"-.POSIXt\") for \"-\"\n",
      "\u001b[1m\u001b[22m\u001b[36mℹ\u001b[39m Run `dplyr::last_dplyr_warnings()` to see the 1 remaining warning.”\n"
     ]
    },
    {
     "data": {
      "text/html": [
       "<table class=\"dataframe\">\n",
       "<caption>A tibble: 3 × 10</caption>\n",
       "<thead>\n",
       "\t<tr><th scope=col>Size</th><th scope=col>Stars</th><th scope=col>Forks</th><th scope=col>Issues</th><th scope=col>Watchers</th><th scope=col>Has Discussions</th><th scope=col>Created At</th><th scope=col>Updated At</th><th scope=col>repo_age_days</th><th scope=col>days_since_update</th></tr>\n",
       "\t<tr><th scope=col>&lt;dbl&gt;</th><th scope=col>&lt;dbl&gt;</th><th scope=col>&lt;dbl&gt;</th><th scope=col>&lt;dbl&gt;</th><th scope=col>&lt;dbl&gt;</th><th scope=col>&lt;lgl&gt;</th><th scope=col>&lt;dttm&gt;</th><th scope=col>&lt;dttm&gt;</th><th scope=col>&lt;dbl&gt;</th><th scope=col>&lt;dbl&gt;</th></tr>\n",
       "</thead>\n",
       "<tbody>\n",
       "\t<tr><td> 5178</td><td>3020</td><td>171</td><td>24</td><td>3020</td><td> TRUE</td><td>2021-11-30 08:25:46</td><td>2023-09-21 08:50:14</td><td>-1638240691</td><td>-1695266159</td></tr>\n",
       "\t<tr><td>10294</td><td> 431</td><td>232</td><td> 6</td><td> 431</td><td>FALSE</td><td>2016-08-30 06:32:30</td><td>2023-09-05 07:58:21</td><td>-1472518695</td><td>-1693880646</td></tr>\n",
       "\t<tr><td>  582</td><td> 393</td><td> 16</td><td> 0</td><td> 393</td><td>FALSE</td><td>2019-05-30 05:56:27</td><td>2023-09-15 08:47:52</td><td>-1559175732</td><td>-1694747617</td></tr>\n",
       "</tbody>\n",
       "</table>\n"
      ],
      "text/latex": [
       "A tibble: 3 × 10\n",
       "\\begin{tabular}{llllllllll}\n",
       " Size & Stars & Forks & Issues & Watchers & Has Discussions & Created At & Updated At & repo\\_age\\_days & days\\_since\\_update\\\\\n",
       " <dbl> & <dbl> & <dbl> & <dbl> & <dbl> & <lgl> & <dttm> & <dttm> & <dbl> & <dbl>\\\\\n",
       "\\hline\n",
       "\t  5178 & 3020 & 171 & 24 & 3020 &  TRUE & 2021-11-30 08:25:46 & 2023-09-21 08:50:14 & -1638240691 & -1695266159\\\\\n",
       "\t 10294 &  431 & 232 &  6 &  431 & FALSE & 2016-08-30 06:32:30 & 2023-09-05 07:58:21 & -1472518695 & -1693880646\\\\\n",
       "\t   582 &  393 &  16 &  0 &  393 & FALSE & 2019-05-30 05:56:27 & 2023-09-15 08:47:52 & -1559175732 & -1694747617\\\\\n",
       "\\end{tabular}\n"
      ],
      "text/markdown": [
       "\n",
       "A tibble: 3 × 10\n",
       "\n",
       "| Size &lt;dbl&gt; | Stars &lt;dbl&gt; | Forks &lt;dbl&gt; | Issues &lt;dbl&gt; | Watchers &lt;dbl&gt; | Has Discussions &lt;lgl&gt; | Created At &lt;dttm&gt; | Updated At &lt;dttm&gt; | repo_age_days &lt;dbl&gt; | days_since_update &lt;dbl&gt; |\n",
       "|---|---|---|---|---|---|---|---|---|---|\n",
       "|  5178 | 3020 | 171 | 24 | 3020 |  TRUE | 2021-11-30 08:25:46 | 2023-09-21 08:50:14 | -1638240691 | -1695266159 |\n",
       "| 10294 |  431 | 232 |  6 |  431 | FALSE | 2016-08-30 06:32:30 | 2023-09-05 07:58:21 | -1472518695 | -1693880646 |\n",
       "|   582 |  393 |  16 |  0 |  393 | FALSE | 2019-05-30 05:56:27 | 2023-09-15 08:47:52 | -1559175732 | -1694747617 |\n",
       "\n"
      ],
      "text/plain": [
       "  Size  Stars Forks Issues Watchers Has Discussions Created At         \n",
       "1  5178 3020  171   24     3020      TRUE           2021-11-30 08:25:46\n",
       "2 10294  431  232    6      431     FALSE           2016-08-30 06:32:30\n",
       "3   582  393   16    0      393     FALSE           2019-05-30 05:56:27\n",
       "  Updated At          repo_age_days days_since_update\n",
       "1 2023-09-21 08:50:14 -1638240691   -1695266159      \n",
       "2 2023-09-05 07:58:21 -1472518695   -1693880646      \n",
       "3 2023-09-15 08:47:52 -1559175732   -1694747617      "
      ]
     },
     "metadata": {},
     "output_type": "display_data"
    }
   ],
   "source": [
    "df_subset_2 <- df_subset_1 %>%\n",
    "  mutate(repo_age_days = as.numeric(Sys.Date() - `Created At`),\n",
    "         days_since_update = as.numeric(Sys.Date() - `Updated At`))\n",
    "head(df_subset_2, n = 3)"
   ]
  },
  {
   "cell_type": "code",
   "execution_count": 51,
   "id": "07e62245-cccd-4577-b56a-34d56bfced18",
   "metadata": {},
   "outputs": [
    {
     "data": {
      "text/html": [
       "<table class=\"dataframe\">\n",
       "<caption>A tibble: 3 × 8</caption>\n",
       "<thead>\n",
       "\t<tr><th scope=col>Size</th><th scope=col>Stars</th><th scope=col>Forks</th><th scope=col>Issues</th><th scope=col>Watchers</th><th scope=col>Has Discussions</th><th scope=col>repo_age_days</th><th scope=col>days_since_update</th></tr>\n",
       "\t<tr><th scope=col>&lt;dbl&gt;</th><th scope=col>&lt;dbl&gt;</th><th scope=col>&lt;dbl&gt;</th><th scope=col>&lt;dbl&gt;</th><th scope=col>&lt;dbl&gt;</th><th scope=col>&lt;lgl&gt;</th><th scope=col>&lt;dbl&gt;</th><th scope=col>&lt;dbl&gt;</th></tr>\n",
       "</thead>\n",
       "<tbody>\n",
       "\t<tr><td> 5178</td><td>3020</td><td>171</td><td>24</td><td>3020</td><td> TRUE</td><td>-1638240691</td><td>-1695266159</td></tr>\n",
       "\t<tr><td>10294</td><td> 431</td><td>232</td><td> 6</td><td> 431</td><td>FALSE</td><td>-1472518695</td><td>-1693880646</td></tr>\n",
       "\t<tr><td>  582</td><td> 393</td><td> 16</td><td> 0</td><td> 393</td><td>FALSE</td><td>-1559175732</td><td>-1694747617</td></tr>\n",
       "</tbody>\n",
       "</table>\n"
      ],
      "text/latex": [
       "A tibble: 3 × 8\n",
       "\\begin{tabular}{llllllll}\n",
       " Size & Stars & Forks & Issues & Watchers & Has Discussions & repo\\_age\\_days & days\\_since\\_update\\\\\n",
       " <dbl> & <dbl> & <dbl> & <dbl> & <dbl> & <lgl> & <dbl> & <dbl>\\\\\n",
       "\\hline\n",
       "\t  5178 & 3020 & 171 & 24 & 3020 &  TRUE & -1638240691 & -1695266159\\\\\n",
       "\t 10294 &  431 & 232 &  6 &  431 & FALSE & -1472518695 & -1693880646\\\\\n",
       "\t   582 &  393 &  16 &  0 &  393 & FALSE & -1559175732 & -1694747617\\\\\n",
       "\\end{tabular}\n"
      ],
      "text/markdown": [
       "\n",
       "A tibble: 3 × 8\n",
       "\n",
       "| Size &lt;dbl&gt; | Stars &lt;dbl&gt; | Forks &lt;dbl&gt; | Issues &lt;dbl&gt; | Watchers &lt;dbl&gt; | Has Discussions &lt;lgl&gt; | repo_age_days &lt;dbl&gt; | days_since_update &lt;dbl&gt; |\n",
       "|---|---|---|---|---|---|---|---|\n",
       "|  5178 | 3020 | 171 | 24 | 3020 |  TRUE | -1638240691 | -1695266159 |\n",
       "| 10294 |  431 | 232 |  6 |  431 | FALSE | -1472518695 | -1693880646 |\n",
       "|   582 |  393 |  16 |  0 |  393 | FALSE | -1559175732 | -1694747617 |\n",
       "\n"
      ],
      "text/plain": [
       "  Size  Stars Forks Issues Watchers Has Discussions repo_age_days\n",
       "1  5178 3020  171   24     3020      TRUE           -1638240691  \n",
       "2 10294  431  232    6      431     FALSE           -1472518695  \n",
       "3   582  393   16    0      393     FALSE           -1559175732  \n",
       "  days_since_update\n",
       "1 -1695266159      \n",
       "2 -1693880646      \n",
       "3 -1694747617      "
      ]
     },
     "metadata": {},
     "output_type": "display_data"
    }
   ],
   "source": [
    "df_subset_3 <- df_subset_2 %>% select(-c('Created At', 'Updated At'))\n",
    "\n",
    "head(df_subset_3, n = 3)"
   ]
  },
  {
   "cell_type": "code",
   "execution_count": 54,
   "id": "82a4fcff-8911-4292-8232-15882b4fa26b",
   "metadata": {},
   "outputs": [
    {
     "data": {
      "text/html": [
       "<table class=\"dataframe\">\n",
       "<caption>A tibble: 6 × 3</caption>\n",
       "<thead>\n",
       "\t<tr><th scope=col>repo_age_days</th><th scope=col>days_since_update</th><th scope=col>n</th></tr>\n",
       "\t<tr><th scope=col>&lt;dbl&gt;</th><th scope=col>&lt;dbl&gt;</th><th scope=col>&lt;dbl&gt;</th></tr>\n",
       "</thead>\n",
       "<tbody>\n",
       "\t<tr><td>-1638240691</td><td>-1695266159</td><td>171</td></tr>\n",
       "\t<tr><td>-1472518695</td><td>-1693880646</td><td>232</td></tr>\n",
       "\t<tr><td>-1559175732</td><td>-1694747617</td><td> 16</td></tr>\n",
       "\t<tr><td>-1487332626</td><td>-1695460522</td><td> 77</td></tr>\n",
       "\t<tr><td>-1553253385</td><td>-1694513641</td><td> 50</td></tr>\n",
       "\t<tr><td>-1379300219</td><td>-1694727155</td><td>117</td></tr>\n",
       "</tbody>\n",
       "</table>\n"
      ],
      "text/latex": [
       "A tibble: 6 × 3\n",
       "\\begin{tabular}{lll}\n",
       " repo\\_age\\_days & days\\_since\\_update & n\\\\\n",
       " <dbl> & <dbl> & <dbl>\\\\\n",
       "\\hline\n",
       "\t -1638240691 & -1695266159 & 171\\\\\n",
       "\t -1472518695 & -1693880646 & 232\\\\\n",
       "\t -1559175732 & -1694747617 &  16\\\\\n",
       "\t -1487332626 & -1695460522 &  77\\\\\n",
       "\t -1553253385 & -1694513641 &  50\\\\\n",
       "\t -1379300219 & -1694727155 & 117\\\\\n",
       "\\end{tabular}\n"
      ],
      "text/markdown": [
       "\n",
       "A tibble: 6 × 3\n",
       "\n",
       "| repo_age_days &lt;dbl&gt; | days_since_update &lt;dbl&gt; | n &lt;dbl&gt; |\n",
       "|---|---|---|\n",
       "| -1638240691 | -1695266159 | 171 |\n",
       "| -1472518695 | -1693880646 | 232 |\n",
       "| -1559175732 | -1694747617 |  16 |\n",
       "| -1487332626 | -1695460522 |  77 |\n",
       "| -1553253385 | -1694513641 |  50 |\n",
       "| -1379300219 | -1694727155 | 117 |\n",
       "\n"
      ],
      "text/plain": [
       "  repo_age_days days_since_update n  \n",
       "1 -1638240691   -1695266159       171\n",
       "2 -1472518695   -1693880646       232\n",
       "3 -1559175732   -1694747617        16\n",
       "4 -1487332626   -1695460522        77\n",
       "5 -1553253385   -1694513641        50\n",
       "6 -1379300219   -1694727155       117"
      ]
     },
     "metadata": {},
     "output_type": "display_data"
    }
   ],
   "source": [
    "non_na_repo_age <- df_subset_3 %>% filter(!is.na(repo_age_days))\n",
    "non_na_days_since_update <- df_subset_3 %>% filter(!is.na(days_since_update))\n",
    "\n",
    "head(df_subset_3 %>% select(repo_age_days, days_since_update, n = 3))"
   ]
  },
  {
   "cell_type": "code",
   "execution_count": 55,
   "id": "7eee156d-27bf-464e-9dc8-3b553d09b56b",
   "metadata": {},
   "outputs": [
    {
     "data": {
      "text/html": [
       "<table class=\"dataframe\">\n",
       "<caption>A tibble: 3 × 8</caption>\n",
       "<thead>\n",
       "\t<tr><th scope=col>Size</th><th scope=col>Stars</th><th scope=col>Forks</th><th scope=col>Issues</th><th scope=col>Watchers</th><th scope=col>Has Discussions</th><th scope=col>repo_age_days</th><th scope=col>days_since_update</th></tr>\n",
       "\t<tr><th scope=col>&lt;dbl&gt;</th><th scope=col>&lt;dbl&gt;</th><th scope=col>&lt;dbl&gt;</th><th scope=col>&lt;dbl&gt;</th><th scope=col>&lt;dbl&gt;</th><th scope=col>&lt;lgl&gt;</th><th scope=col>&lt;dbl&gt;</th><th scope=col>&lt;dbl&gt;</th></tr>\n",
       "</thead>\n",
       "<tbody>\n",
       "\t<tr><td> 5178</td><td>3020</td><td>171</td><td>24</td><td>3020</td><td> TRUE</td><td>-1638240691</td><td>-1695266159</td></tr>\n",
       "\t<tr><td>10294</td><td> 431</td><td>232</td><td> 6</td><td> 431</td><td>FALSE</td><td>-1472518695</td><td>-1693880646</td></tr>\n",
       "\t<tr><td>  582</td><td> 393</td><td> 16</td><td> 0</td><td> 393</td><td>FALSE</td><td>-1559175732</td><td>-1694747617</td></tr>\n",
       "</tbody>\n",
       "</table>\n"
      ],
      "text/latex": [
       "A tibble: 3 × 8\n",
       "\\begin{tabular}{llllllll}\n",
       " Size & Stars & Forks & Issues & Watchers & Has Discussions & repo\\_age\\_days & days\\_since\\_update\\\\\n",
       " <dbl> & <dbl> & <dbl> & <dbl> & <dbl> & <lgl> & <dbl> & <dbl>\\\\\n",
       "\\hline\n",
       "\t  5178 & 3020 & 171 & 24 & 3020 &  TRUE & -1638240691 & -1695266159\\\\\n",
       "\t 10294 &  431 & 232 &  6 &  431 & FALSE & -1472518695 & -1693880646\\\\\n",
       "\t   582 &  393 &  16 &  0 &  393 & FALSE & -1559175732 & -1694747617\\\\\n",
       "\\end{tabular}\n"
      ],
      "text/markdown": [
       "\n",
       "A tibble: 3 × 8\n",
       "\n",
       "| Size &lt;dbl&gt; | Stars &lt;dbl&gt; | Forks &lt;dbl&gt; | Issues &lt;dbl&gt; | Watchers &lt;dbl&gt; | Has Discussions &lt;lgl&gt; | repo_age_days &lt;dbl&gt; | days_since_update &lt;dbl&gt; |\n",
       "|---|---|---|---|---|---|---|---|\n",
       "|  5178 | 3020 | 171 | 24 | 3020 |  TRUE | -1638240691 | -1695266159 |\n",
       "| 10294 |  431 | 232 |  6 |  431 | FALSE | -1472518695 | -1693880646 |\n",
       "|   582 |  393 |  16 |  0 |  393 | FALSE | -1559175732 | -1694747617 |\n",
       "\n"
      ],
      "text/plain": [
       "  Size  Stars Forks Issues Watchers Has Discussions repo_age_days\n",
       "1  5178 3020  171   24     3020      TRUE           -1638240691  \n",
       "2 10294  431  232    6      431     FALSE           -1472518695  \n",
       "3   582  393   16    0      393     FALSE           -1559175732  \n",
       "  days_since_update\n",
       "1 -1695266159      \n",
       "2 -1693880646      \n",
       "3 -1694747617      "
      ]
     },
     "metadata": {},
     "output_type": "display_data"
    }
   ],
   "source": [
    "df_cleaned <- df_subset_3 %>% filter(!is.na(Stars) & !is.na(Forks) & !is.na(repo_age_days))  \n",
    "\n",
    "head(df_cleaned, n = 3)"
   ]
  },
  {
   "cell_type": "code",
   "execution_count": 56,
   "id": "e22f50c3-b282-4dcc-b122-f51cc3fcc4e8",
   "metadata": {},
   "outputs": [
    {
     "name": "stdout",
     "output_type": "stream",
     "text": [
      "\u001b[90m# A tibble: 1 × 6\u001b[39m\n",
      "  count avg_stars avg_forks avg_issues avg_repo_age avg_days_since_update\n",
      "  \u001b[3m\u001b[90m<int>\u001b[39m\u001b[23m     \u001b[3m\u001b[90m<dbl>\u001b[39m\u001b[23m     \u001b[3m\u001b[90m<dbl>\u001b[39m\u001b[23m      \u001b[3m\u001b[90m<dbl>\u001b[39m\u001b[23m        \u001b[3m\u001b[90m<dbl>\u001b[39m\u001b[23m                 \u001b[3m\u001b[90m<dbl>\u001b[39m\u001b[23m\n",
      "\u001b[90m1\u001b[39m \u001b[4m1\u001b[24m\u001b[4m0\u001b[24m000     \u001b[4m1\u001b[24m088.      230.       38.5 -\u001b[31m\u001b[4m1\u001b[24m49\u001b[39m\u001b[31m5\u001b[4m4\u001b[24m\u001b[4m2\u001b[24m\u001b[4m2\u001b[24m863\u001b[39m\u001b[31m.\u001b[39m          -\u001b[31m\u001b[4m1\u001b[24m69\u001b[39m\u001b[31m3\u001b[4m6\u001b[24m\u001b[4m3\u001b[24m\u001b[4m3\u001b[24m875\u001b[39m\u001b[31m.\u001b[39m\n"
     ]
    },
    {
     "data": {
      "text/html": [
       "<table class=\"dataframe\">\n",
       "<caption>A tibble: 3 × 8</caption>\n",
       "<thead>\n",
       "\t<tr><th scope=col>Size</th><th scope=col>Stars</th><th scope=col>Forks</th><th scope=col>Issues</th><th scope=col>Watchers</th><th scope=col>Has Discussions</th><th scope=col>repo_age_days</th><th scope=col>days_since_update</th></tr>\n",
       "\t<tr><th scope=col>&lt;dbl&gt;</th><th scope=col>&lt;dbl&gt;</th><th scope=col>&lt;dbl&gt;</th><th scope=col>&lt;dbl&gt;</th><th scope=col>&lt;dbl&gt;</th><th scope=col>&lt;lgl&gt;</th><th scope=col>&lt;dbl&gt;</th><th scope=col>&lt;dbl&gt;</th></tr>\n",
       "</thead>\n",
       "<tbody>\n",
       "\t<tr><td> 5178</td><td>3020</td><td>171</td><td>24</td><td>3020</td><td> TRUE</td><td>-1638240691</td><td>-1695266159</td></tr>\n",
       "\t<tr><td>10294</td><td> 431</td><td>232</td><td> 6</td><td> 431</td><td>FALSE</td><td>-1472518695</td><td>-1693880646</td></tr>\n",
       "\t<tr><td>  582</td><td> 393</td><td> 16</td><td> 0</td><td> 393</td><td>FALSE</td><td>-1559175732</td><td>-1694747617</td></tr>\n",
       "</tbody>\n",
       "</table>\n"
      ],
      "text/latex": [
       "A tibble: 3 × 8\n",
       "\\begin{tabular}{llllllll}\n",
       " Size & Stars & Forks & Issues & Watchers & Has Discussions & repo\\_age\\_days & days\\_since\\_update\\\\\n",
       " <dbl> & <dbl> & <dbl> & <dbl> & <dbl> & <lgl> & <dbl> & <dbl>\\\\\n",
       "\\hline\n",
       "\t  5178 & 3020 & 171 & 24 & 3020 &  TRUE & -1638240691 & -1695266159\\\\\n",
       "\t 10294 &  431 & 232 &  6 &  431 & FALSE & -1472518695 & -1693880646\\\\\n",
       "\t   582 &  393 &  16 &  0 &  393 & FALSE & -1559175732 & -1694747617\\\\\n",
       "\\end{tabular}\n"
      ],
      "text/markdown": [
       "\n",
       "A tibble: 3 × 8\n",
       "\n",
       "| Size &lt;dbl&gt; | Stars &lt;dbl&gt; | Forks &lt;dbl&gt; | Issues &lt;dbl&gt; | Watchers &lt;dbl&gt; | Has Discussions &lt;lgl&gt; | repo_age_days &lt;dbl&gt; | days_since_update &lt;dbl&gt; |\n",
       "|---|---|---|---|---|---|---|---|\n",
       "|  5178 | 3020 | 171 | 24 | 3020 |  TRUE | -1638240691 | -1695266159 |\n",
       "| 10294 |  431 | 232 |  6 |  431 | FALSE | -1472518695 | -1693880646 |\n",
       "|   582 |  393 |  16 |  0 |  393 | FALSE | -1559175732 | -1694747617 |\n",
       "\n"
      ],
      "text/plain": [
       "  Size  Stars Forks Issues Watchers Has Discussions repo_age_days\n",
       "1  5178 3020  171   24     3020      TRUE           -1638240691  \n",
       "2 10294  431  232    6      431     FALSE           -1472518695  \n",
       "3   582  393   16    0      393     FALSE           -1559175732  \n",
       "  days_since_update\n",
       "1 -1695266159      \n",
       "2 -1693880646      \n",
       "3 -1694747617      "
      ]
     },
     "metadata": {},
     "output_type": "display_data"
    },
    {
     "data": {
      "text/html": [
       "10000"
      ],
      "text/latex": [
       "10000"
      ],
      "text/markdown": [
       "10000"
      ],
      "text/plain": [
       "[1] 10000"
      ]
     },
     "metadata": {},
     "output_type": "display_data"
    },
    {
     "data": {
      "text/html": [
       "0"
      ],
      "text/latex": [
       "0"
      ],
      "text/markdown": [
       "0"
      ],
      "text/plain": [
       "[1] 0"
      ]
     },
     "metadata": {},
     "output_type": "display_data"
    }
   ],
   "source": [
    "summary_stats <- df_cleaned %>%\n",
    "  summarize(\n",
    "    count = n(),\n",
    "    avg_stars = mean(Stars, na.rm = TRUE),\n",
    "    avg_forks = mean(Forks, na.rm = TRUE),\n",
    "    avg_issues = mean(Issues, na.rm = TRUE),\n",
    "    avg_repo_age = mean(repo_age_days, na.rm = TRUE),\n",
    "    avg_days_since_update = mean(days_since_update, na.rm = TRUE)\n",
    "  )\n",
    "\n",
    "print(summary_stats)\n",
    "head(df_cleaned, n = 3)\n",
    "nrow(df_cleaned)\n",
    "sum(is.na(df_cleaned))"
   ]
  },
  {
   "cell_type": "markdown",
   "id": "b6a38a8c-aa39-41b4-8acd-528c102f848b",
   "metadata": {},
   "source": [
    "*the limitation I faced with the variables I deleted is that they had many missing values. therefore, I decided to keep the same variables I used in previous assignment.*"
   ]
  },
  {
   "cell_type": "code",
   "execution_count": 57,
   "id": "545809fb-9013-4b78-b617-f346816c355d",
   "metadata": {},
   "outputs": [
    {
     "data": {
      "text/html": [
       "<table class=\"dataframe\">\n",
       "<caption>A tibble: 6 × 8</caption>\n",
       "<thead>\n",
       "\t<tr><th scope=col>Size</th><th scope=col>Stars</th><th scope=col>Forks</th><th scope=col>Issues</th><th scope=col>Watchers</th><th scope=col>Has Discussions</th><th scope=col>repo_age_days</th><th scope=col>days_since_update</th></tr>\n",
       "\t<tr><th scope=col>&lt;dbl&gt;</th><th scope=col>&lt;dbl&gt;</th><th scope=col>&lt;dbl&gt;</th><th scope=col>&lt;dbl&gt;</th><th scope=col>&lt;dbl&gt;</th><th scope=col>&lt;lgl&gt;</th><th scope=col>&lt;dbl&gt;</th><th scope=col>&lt;dbl&gt;</th></tr>\n",
       "</thead>\n",
       "<tbody>\n",
       "\t<tr><td>5085</td><td>710</td><td>126</td><td>30</td><td>710</td><td> TRUE</td><td>-1576286416</td><td>-1695620955</td></tr>\n",
       "\t<tr><td>  30</td><td>388</td><td> 36</td><td>19</td><td>388</td><td>FALSE</td><td>-1593409146</td><td>-1695160568</td></tr>\n",
       "\t<tr><td>   9</td><td>468</td><td> 20</td><td> 0</td><td>468</td><td>FALSE</td><td>-1597834823</td><td>-1694954641</td></tr>\n",
       "\t<tr><td>  59</td><td>728</td><td>173</td><td>38</td><td>728</td><td>FALSE</td><td>-1397965717</td><td>-1694201615</td></tr>\n",
       "\t<tr><td>9250</td><td>277</td><td>152</td><td>82</td><td>277</td><td>FALSE</td><td>-1319732142</td><td>-1686803134</td></tr>\n",
       "\t<tr><td> 506</td><td>338</td><td> 27</td><td>22</td><td>338</td><td>FALSE</td><td>-1365057096</td><td>-1695028417</td></tr>\n",
       "</tbody>\n",
       "</table>\n"
      ],
      "text/latex": [
       "A tibble: 6 × 8\n",
       "\\begin{tabular}{llllllll}\n",
       " Size & Stars & Forks & Issues & Watchers & Has Discussions & repo\\_age\\_days & days\\_since\\_update\\\\\n",
       " <dbl> & <dbl> & <dbl> & <dbl> & <dbl> & <lgl> & <dbl> & <dbl>\\\\\n",
       "\\hline\n",
       "\t 5085 & 710 & 126 & 30 & 710 &  TRUE & -1576286416 & -1695620955\\\\\n",
       "\t   30 & 388 &  36 & 19 & 388 & FALSE & -1593409146 & -1695160568\\\\\n",
       "\t    9 & 468 &  20 &  0 & 468 & FALSE & -1597834823 & -1694954641\\\\\n",
       "\t   59 & 728 & 173 & 38 & 728 & FALSE & -1397965717 & -1694201615\\\\\n",
       "\t 9250 & 277 & 152 & 82 & 277 & FALSE & -1319732142 & -1686803134\\\\\n",
       "\t  506 & 338 &  27 & 22 & 338 & FALSE & -1365057096 & -1695028417\\\\\n",
       "\\end{tabular}\n"
      ],
      "text/markdown": [
       "\n",
       "A tibble: 6 × 8\n",
       "\n",
       "| Size &lt;dbl&gt; | Stars &lt;dbl&gt; | Forks &lt;dbl&gt; | Issues &lt;dbl&gt; | Watchers &lt;dbl&gt; | Has Discussions &lt;lgl&gt; | repo_age_days &lt;dbl&gt; | days_since_update &lt;dbl&gt; |\n",
       "|---|---|---|---|---|---|---|---|\n",
       "| 5085 | 710 | 126 | 30 | 710 |  TRUE | -1576286416 | -1695620955 |\n",
       "|   30 | 388 |  36 | 19 | 388 | FALSE | -1593409146 | -1695160568 |\n",
       "|    9 | 468 |  20 |  0 | 468 | FALSE | -1597834823 | -1694954641 |\n",
       "|   59 | 728 | 173 | 38 | 728 | FALSE | -1397965717 | -1694201615 |\n",
       "| 9250 | 277 | 152 | 82 | 277 | FALSE | -1319732142 | -1686803134 |\n",
       "|  506 | 338 |  27 | 22 | 338 | FALSE | -1365057096 | -1695028417 |\n",
       "\n"
      ],
      "text/plain": [
       "  Size Stars Forks Issues Watchers Has Discussions repo_age_days\n",
       "1 5085 710   126   30     710       TRUE           -1576286416  \n",
       "2   30 388    36   19     388      FALSE           -1593409146  \n",
       "3    9 468    20    0     468      FALSE           -1597834823  \n",
       "4   59 728   173   38     728      FALSE           -1397965717  \n",
       "5 9250 277   152   82     277      FALSE           -1319732142  \n",
       "6  506 338    27   22     338      FALSE           -1365057096  \n",
       "  days_since_update\n",
       "1 -1695620955      \n",
       "2 -1695160568      \n",
       "3 -1694954641      \n",
       "4 -1694201615      \n",
       "5 -1686803134      \n",
       "6 -1695028417      "
      ]
     },
     "metadata": {},
     "output_type": "display_data"
    },
    {
     "data": {
      "text/html": [
       "8000"
      ],
      "text/latex": [
       "8000"
      ],
      "text/markdown": [
       "8000"
      ],
      "text/plain": [
       "[1] 8000"
      ]
     },
     "metadata": {},
     "output_type": "display_data"
    },
    {
     "data": {
      "text/html": [
       "2000"
      ],
      "text/latex": [
       "2000"
      ],
      "text/markdown": [
       "2000"
      ],
      "text/plain": [
       "[1] 2000"
      ]
     },
     "metadata": {},
     "output_type": "display_data"
    }
   ],
   "source": [
    "set.seed(123) # DO NOT CHANGE!\n",
    "\n",
    "GitHub_sample <-\n",
    "    df_cleaned %>%\n",
    "    mutate(id = row_number())\n",
    "\n",
    "training_GitHub <- \n",
    "    GitHub_sample %>%\n",
    "    slice_sample(prop = 0.80, replace = FALSE)\n",
    "\n",
    "testing_GitHub <- \n",
    "    GitHub_sample %>% \n",
    "    anti_join(training_GitHub, by = \"id\") %>%\n",
    "    select(-id)\n",
    "\n",
    "training_GitHub <- \n",
    "    training_GitHub %>% \n",
    "    select(-id)\n",
    "\n",
    "head(training_GitHub)\n",
    "nrow(training_GitHub)\n",
    "\n",
    "nrow(testing_GitHub)"
   ]
  },
  {
   "cell_type": "markdown",
   "id": "8ece48fa-6f3d-4b5d-888a-bdbcad6c0ded",
   "metadata": {},
   "source": [
    "- One of the limitations I faced when runing the Forward Selection Algorithm on the given data is that The kernel will collapse and the restart entirly.\n",
    "- To solve this problem, I will drop some of the catogrical variables that have many levels (>2) and I, from the experince I gained in this course belive they are in little to no utillity in predicting the number of stars."
   ]
  },
  {
   "cell_type": "code",
   "execution_count": 58,
   "id": "cca645b6-3779-4735-998c-cb7dc9c13019",
   "metadata": {},
   "outputs": [
    {
     "data": {
      "text/plain": [
       "Subset selection object\n",
       "Call: regsubsets.formula(Stars ~ ., data = training_GitHub, method = \"forward\", \n",
       "    nvmax = ncol(training_GitHub) - 1)\n",
       "7 Variables  (and intercept)\n",
       "                      Forced in Forced out\n",
       "Size                      FALSE      FALSE\n",
       "Forks                     FALSE      FALSE\n",
       "Issues                    FALSE      FALSE\n",
       "Watchers                  FALSE      FALSE\n",
       "`Has Discussions`TRUE     FALSE      FALSE\n",
       "repo_age_days             FALSE      FALSE\n",
       "days_since_update         FALSE      FALSE\n",
       "1 subsets of each size up to 7\n",
       "Selection Algorithm: forward"
      ]
     },
     "metadata": {},
     "output_type": "display_data"
    }
   ],
   "source": [
    "GitHub_forward_sel <- regsubsets(\n",
    "  Stars ~ ., data = training_GitHub,\n",
    "  method = \"forward\",\n",
    "  nvmax = ncol(training_GitHub) - 1\n",
    ")\n",
    "GitHub_forward_sel\n",
    "\n",
    "GitHub_fwd_summary <- summary(GitHub_forward_sel)\n",
    "\n",
    "GitHub_fwd_summary <- tibble(\n",
    "  n_input_variables = 1:length(GitHub_fwd_summary$rss),  \n",
    "  RSS = GitHub_fwd_summary$rss,\n",
    "  BIC = GitHub_fwd_summary$bic,\n",
    "  Cp = GitHub_fwd_summary$cp\n",
    ")"
   ]
  },
  {
   "cell_type": "code",
   "execution_count": 59,
   "id": "e0ca7186-3557-4de3-8c01-efc0b6dc5283",
   "metadata": {},
   "outputs": [
    {
     "data": {
      "text/html": [
       "<table class=\"dataframe\">\n",
       "<caption>A tibble: 7 × 4</caption>\n",
       "<thead>\n",
       "\t<tr><th scope=col>n_input_variables</th><th scope=col>RSS</th><th scope=col>BIC</th><th scope=col>Cp</th></tr>\n",
       "\t<tr><th scope=col>&lt;int&gt;</th><th scope=col>&lt;dbl&gt;</th><th scope=col>&lt;dbl&gt;</th><th scope=col>&lt;dbl&gt;</th></tr>\n",
       "</thead>\n",
       "<tbody>\n",
       "\t<tr><td>1</td><td>2.029885e-19</td><td>-547191.3</td><td>8627.521879</td></tr>\n",
       "\t<tr><td>2</td><td>1.044763e-19</td><td>-552495.8</td><td> 561.972226</td></tr>\n",
       "\t<tr><td>3</td><td>9.801435e-20</td><td>-552997.6</td><td>  34.778257</td></tr>\n",
       "\t<tr><td>4</td><td>9.759576e-20</td><td>-553022.9</td><td>   2.498561</td></tr>\n",
       "\t<tr><td>5</td><td>9.759375e-20</td><td>-553014.0</td><td>   4.334287</td></tr>\n",
       "\t<tr><td>6</td><td>9.759097e-20</td><td>-553005.3</td><td>   6.106768</td></tr>\n",
       "\t<tr><td>7</td><td>9.758967e-20</td><td>-552996.4</td><td>   8.000000</td></tr>\n",
       "</tbody>\n",
       "</table>\n"
      ],
      "text/latex": [
       "A tibble: 7 × 4\n",
       "\\begin{tabular}{llll}\n",
       " n\\_input\\_variables & RSS & BIC & Cp\\\\\n",
       " <int> & <dbl> & <dbl> & <dbl>\\\\\n",
       "\\hline\n",
       "\t 1 & 2.029885e-19 & -547191.3 & 8627.521879\\\\\n",
       "\t 2 & 1.044763e-19 & -552495.8 &  561.972226\\\\\n",
       "\t 3 & 9.801435e-20 & -552997.6 &   34.778257\\\\\n",
       "\t 4 & 9.759576e-20 & -553022.9 &    2.498561\\\\\n",
       "\t 5 & 9.759375e-20 & -553014.0 &    4.334287\\\\\n",
       "\t 6 & 9.759097e-20 & -553005.3 &    6.106768\\\\\n",
       "\t 7 & 9.758967e-20 & -552996.4 &    8.000000\\\\\n",
       "\\end{tabular}\n"
      ],
      "text/markdown": [
       "\n",
       "A tibble: 7 × 4\n",
       "\n",
       "| n_input_variables &lt;int&gt; | RSS &lt;dbl&gt; | BIC &lt;dbl&gt; | Cp &lt;dbl&gt; |\n",
       "|---|---|---|---|\n",
       "| 1 | 2.029885e-19 | -547191.3 | 8627.521879 |\n",
       "| 2 | 1.044763e-19 | -552495.8 |  561.972226 |\n",
       "| 3 | 9.801435e-20 | -552997.6 |   34.778257 |\n",
       "| 4 | 9.759576e-20 | -553022.9 |    2.498561 |\n",
       "| 5 | 9.759375e-20 | -553014.0 |    4.334287 |\n",
       "| 6 | 9.759097e-20 | -553005.3 |    6.106768 |\n",
       "| 7 | 9.758967e-20 | -552996.4 |    8.000000 |\n",
       "\n"
      ],
      "text/plain": [
       "  n_input_variables RSS          BIC       Cp         \n",
       "1 1                 2.029885e-19 -547191.3 8627.521879\n",
       "2 2                 1.044763e-19 -552495.8  561.972226\n",
       "3 3                 9.801435e-20 -552997.6   34.778257\n",
       "4 4                 9.759576e-20 -553022.9    2.498561\n",
       "5 5                 9.759375e-20 -553014.0    4.334287\n",
       "6 6                 9.759097e-20 -553005.3    6.106768\n",
       "7 7                 9.758967e-20 -552996.4    8.000000"
      ]
     },
     "metadata": {},
     "output_type": "display_data"
    },
    {
     "data": {
      "text/plain": [
       "Subset selection object\n",
       "Call: regsubsets.formula(Stars ~ ., data = training_GitHub, method = \"forward\", \n",
       "    nvmax = ncol(training_GitHub) - 1)\n",
       "7 Variables  (and intercept)\n",
       "                      Forced in Forced out\n",
       "Size                      FALSE      FALSE\n",
       "Forks                     FALSE      FALSE\n",
       "Issues                    FALSE      FALSE\n",
       "Watchers                  FALSE      FALSE\n",
       "`Has Discussions`TRUE     FALSE      FALSE\n",
       "repo_age_days             FALSE      FALSE\n",
       "days_since_update         FALSE      FALSE\n",
       "1 subsets of each size up to 7\n",
       "Selection Algorithm: forward\n",
       "         Size Forks Issues Watchers `Has Discussions`TRUE repo_age_days\n",
       "1  ( 1 ) \" \"  \" \"   \" \"    \"*\"      \" \"                   \" \"          \n",
       "2  ( 1 ) \" \"  \"*\"   \" \"    \"*\"      \" \"                   \" \"          \n",
       "3  ( 1 ) \" \"  \"*\"   \"*\"    \"*\"      \" \"                   \" \"          \n",
       "4  ( 1 ) \"*\"  \"*\"   \"*\"    \"*\"      \" \"                   \" \"          \n",
       "5  ( 1 ) \"*\"  \"*\"   \"*\"    \"*\"      \" \"                   \"*\"          \n",
       "6  ( 1 ) \"*\"  \"*\"   \"*\"    \"*\"      \"*\"                   \"*\"          \n",
       "7  ( 1 ) \"*\"  \"*\"   \"*\"    \"*\"      \"*\"                   \"*\"          \n",
       "         days_since_update\n",
       "1  ( 1 ) \" \"              \n",
       "2  ( 1 ) \" \"              \n",
       "3  ( 1 ) \" \"              \n",
       "4  ( 1 ) \" \"              \n",
       "5  ( 1 ) \" \"              \n",
       "6  ( 1 ) \" \"              \n",
       "7  ( 1 ) \"*\"              "
      ]
     },
     "metadata": {},
     "output_type": "display_data"
    }
   ],
   "source": [
    "GitHub_fwd_summary\n",
    "summary(GitHub_forward_sel)"
   ]
  },
  {
   "cell_type": "markdown",
   "id": "d1190c44-142e-4af6-85a2-02c1635162b5",
   "metadata": {},
   "source": [
    "*based on the forward selection, the variables for the best-fit model are Size Forks Issues Watchers. Therefore I will fit the training data into a linear regression prediction model using an additive model for all the variables we just selected(4). the reason I selected model (4) is that it has the best combination of lowest CP, BIC and the among the highest RSS.*"
   ]
  },
  {
   "cell_type": "code",
   "execution_count": 72,
   "id": "6d5c626d-ef2f-40b9-b65c-ad6cbd8bb781",
   "metadata": {},
   "outputs": [
    {
     "data": {
      "text/plain": [
       "\n",
       "Call:\n",
       "lm(formula = Stars ~ Size + Forks + Issues + Watchers, data = training_GitHub)\n",
       "\n",
       "Coefficients:\n",
       "(Intercept)         Size        Forks       Issues     Watchers  \n",
       " -6.663e-13   -1.241e-19   -4.173e-16   -1.169e-15    1.000e+00  \n"
      ]
     },
     "metadata": {},
     "output_type": "display_data"
    }
   ],
   "source": [
    "GitHub_full <- lm(Stars ~ Size + Forks + Issues + Watchers, data = training_GitHub)\n",
    "\n",
    "GitHub_full"
   ]
  },
  {
   "cell_type": "code",
   "execution_count": 73,
   "id": "31caa5d6-bc34-4b06-8711-72419e5152dc",
   "metadata": {},
   "outputs": [
    {
     "data": {
      "text/html": [
       "<style>\n",
       ".dl-inline {width: auto; margin:0; padding: 0}\n",
       ".dl-inline>dt, .dl-inline>dd {float: none; width: auto; display: inline-block}\n",
       ".dl-inline>dt::after {content: \":\\0020\"; padding-right: .5ex}\n",
       ".dl-inline>dt:not(:first-of-type) {padding-left: .5ex}\n",
       "</style><dl class=dl-inline><dt>1</dt><dd>260.999999999999</dd><dt>2</dt><dd>238.999999999999</dd><dt>3</dt><dd>720</dd><dt>4</dt><dd>288.999999999999</dd><dt>5</dt><dd>615</dd><dt>6</dt><dd>471</dd></dl>\n"
      ],
      "text/latex": [
       "\\begin{description*}\n",
       "\\item[1] 260.999999999999\n",
       "\\item[2] 238.999999999999\n",
       "\\item[3] 720\n",
       "\\item[4] 288.999999999999\n",
       "\\item[5] 615\n",
       "\\item[6] 471\n",
       "\\end{description*}\n"
      ],
      "text/markdown": [
       "1\n",
       ":   260.9999999999992\n",
       ":   238.9999999999993\n",
       ":   7204\n",
       ":   288.9999999999995\n",
       ":   6156\n",
       ":   471\n",
       "\n"
      ],
      "text/plain": [
       "  1   2   3   4   5   6 \n",
       "261 239 720 289 615 471 "
      ]
     },
     "metadata": {},
     "output_type": "display_data"
    }
   ],
   "source": [
    "GitHub_test_pred_full <- predict(GitHub_full, newdata = testing_GitHub)\n",
    "\n",
    "head(GitHub_test_pred_full)"
   ]
  },
  {
   "cell_type": "code",
   "execution_count": 74,
   "id": "2ddf5f9e-b6f9-4404-bc3e-f2f1b97a9b9e",
   "metadata": {},
   "outputs": [
    {
     "data": {
      "text/html": [
       "<table class=\"dataframe\">\n",
       "<caption>A tibble: 1 × 2</caption>\n",
       "<thead>\n",
       "\t<tr><th scope=col>Model</th><th scope=col>RMSE</th></tr>\n",
       "\t<tr><th scope=col>&lt;chr&gt;</th><th scope=col>&lt;dbl&gt;</th></tr>\n",
       "</thead>\n",
       "<tbody>\n",
       "\t<tr><td>Full Regression</td><td>1.286056e-12</td></tr>\n",
       "</tbody>\n",
       "</table>\n"
      ],
      "text/latex": [
       "A tibble: 1 × 2\n",
       "\\begin{tabular}{ll}\n",
       " Model & RMSE\\\\\n",
       " <chr> & <dbl>\\\\\n",
       "\\hline\n",
       "\t Full Regression & 1.286056e-12\\\\\n",
       "\\end{tabular}\n"
      ],
      "text/markdown": [
       "\n",
       "A tibble: 1 × 2\n",
       "\n",
       "| Model &lt;chr&gt; | RMSE &lt;dbl&gt; |\n",
       "|---|---|\n",
       "| Full Regression | 1.286056e-12 |\n",
       "\n"
      ],
      "text/plain": [
       "  Model           RMSE        \n",
       "1 Full Regression 1.286056e-12"
      ]
     },
     "metadata": {},
     "output_type": "display_data"
    }
   ],
   "source": [
    "GitHub_RMSE_model <- tibble(\n",
    "    Model = \"Full Regression\",\n",
    "    RMSE = rmse(model = GitHub_full,\n",
    "                data = testing_GitHub))\n",
    "\n",
    "GitHub_RMSE_model "
   ]
  },
  {
   "cell_type": "markdown",
   "id": "eff1030b-0555-4e03-9244-799911980d52",
   "metadata": {},
   "source": [
    "*By using the vif function, and to resolve multicollinearity, I got the following results: Size: 1.001, Forks: 1.615, Issues: 1.441, Watchers: 2.042, `Has Discussions`: 1.051repo_age_days: 1.087, days_since_update: 1.071.\n",
    "and I saw that 'Watchers' has a strong correlation with both 'Forks' and 'Issues' (0.62 and 0.55 respectively). Now lets fit a linear regression model without 'Watchers'\n",
    "Note: I could have removed 'Watchers' before running the Forward Selection Algorithm, however, I wanted to see what will the algorithm select as the best-fit model.*"
   ]
  },
  {
   "cell_type": "code",
   "execution_count": 77,
   "id": "842a677e-6149-466e-9268-6b2e3b906393",
   "metadata": {},
   "outputs": [
    {
     "data": {
      "text/plain": [
       "\n",
       "Call:\n",
       "lm(formula = Stars ~ Size + Forks + Issues + `Has Discussions`, \n",
       "    data = training_GitHub)\n",
       "\n",
       "Coefficients:\n",
       "          (Intercept)                   Size                  Forks  \n",
       "            7.295e+02              1.477e-04              6.137e-01  \n",
       "               Issues  `Has Discussions`TRUE  \n",
       "            1.472e+00              1.402e+03  \n"
      ]
     },
     "metadata": {},
     "output_type": "display_data"
    }
   ],
   "source": [
    "GitHub_No_Watchers <- lm(Stars ~ Size + Forks + Issues + `Has Discussions`, data = training_GitHub)\n",
    "\n",
    "GitHub_No_Watchers"
   ]
  },
  {
   "cell_type": "code",
   "execution_count": 78,
   "id": "53ae783e-67ad-4764-8d5f-193a72b8511b",
   "metadata": {},
   "outputs": [
    {
     "data": {
      "text/html": [
       "<style>\n",
       ".dl-inline {width: auto; margin:0; padding: 0}\n",
       ".dl-inline>dt, .dl-inline>dd {float: none; width: auto; display: inline-block}\n",
       ".dl-inline>dt::after {content: \":\\0020\"; padding-right: .5ex}\n",
       ".dl-inline>dt:not(:first-of-type) {padding-left: .5ex}\n",
       "</style><dl class=dl-inline><dt>1</dt><dd>801.319077863303</dd><dt>2</dt><dd>2151.91122146481</dd><dt>3</dt><dd>817.622415422047</dd><dt>4</dt><dd>828.174979907227</dd><dt>5</dt><dd>863.736857371171</dd><dt>6</dt><dd>807.944959901375</dd></dl>\n"
      ],
      "text/latex": [
       "\\begin{description*}\n",
       "\\item[1] 801.319077863303\n",
       "\\item[2] 2151.91122146481\n",
       "\\item[3] 817.622415422047\n",
       "\\item[4] 828.174979907227\n",
       "\\item[5] 863.736857371171\n",
       "\\item[6] 807.944959901375\n",
       "\\end{description*}\n"
      ],
      "text/markdown": [
       "1\n",
       ":   801.3190778633032\n",
       ":   2151.911221464813\n",
       ":   817.6224154220474\n",
       ":   828.1749799072275\n",
       ":   863.7368573711716\n",
       ":   807.944959901375\n",
       "\n"
      ],
      "text/plain": [
       "        1         2         3         4         5         6 \n",
       " 801.3191 2151.9112  817.6224  828.1750  863.7369  807.9450 "
      ]
     },
     "metadata": {},
     "output_type": "display_data"
    }
   ],
   "source": [
    "GitHub_pred_No_Watchers <- predict(GitHub_No_Watchers, newdata = testing_GitHub)\n",
    "\n",
    "head(GitHub_pred_No_Watchers)"
   ]
  },
  {
   "cell_type": "code",
   "execution_count": 80,
   "id": "51de351d-7a89-4c0a-9364-7dad1e1007f0",
   "metadata": {},
   "outputs": [
    {
     "data": {
      "text/html": [
       "<table class=\"dataframe\">\n",
       "<caption>A tibble: 1 × 2</caption>\n",
       "<thead>\n",
       "\t<tr><th scope=col>Model</th><th scope=col>RMSE</th></tr>\n",
       "\t<tr><th scope=col>&lt;chr&gt;</th><th scope=col>&lt;dbl&gt;</th></tr>\n",
       "</thead>\n",
       "<tbody>\n",
       "\t<tr><td>Full Regression No Watchers</td><td>1934.879</td></tr>\n",
       "</tbody>\n",
       "</table>\n"
      ],
      "text/latex": [
       "A tibble: 1 × 2\n",
       "\\begin{tabular}{ll}\n",
       " Model & RMSE\\\\\n",
       " <chr> & <dbl>\\\\\n",
       "\\hline\n",
       "\t Full Regression No Watchers & 1934.879\\\\\n",
       "\\end{tabular}\n"
      ],
      "text/markdown": [
       "\n",
       "A tibble: 1 × 2\n",
       "\n",
       "| Model &lt;chr&gt; | RMSE &lt;dbl&gt; |\n",
       "|---|---|\n",
       "| Full Regression No Watchers | 1934.879 |\n",
       "\n"
      ],
      "text/plain": [
       "  Model                       RMSE    \n",
       "1 Full Regression No Watchers 1934.879"
      ]
     },
     "metadata": {},
     "output_type": "display_data"
    }
   ],
   "source": [
    "GitHub_RMSE_No_Watchers <- tibble(\n",
    "    Model = \"Full Regression No Watchers\",\n",
    "    RMSE = rmse(model = GitHub_No_Watchers,\n",
    "                data = testing_GitHub))\n",
    "\n",
    "GitHub_RMSE_No_Watchers"
   ]
  },
  {
   "cell_type": "markdown",
   "id": "4ff5380c-134d-4a5e-8b41-efc786fd644f",
   "metadata": {},
   "source": [
    "*Since we saw in the previous assignment visualization that 'Watchers' was perfectly linearly correlated with Stars, let's fit a simple linear regression model with only 'Watchers' as an input.*"
   ]
  },
  {
   "cell_type": "code",
   "execution_count": 81,
   "id": "a5f10f93-9513-466d-8041-fc752fd53aa4",
   "metadata": {},
   "outputs": [
    {
     "data": {
      "text/plain": [
       "\n",
       "Call:\n",
       "lm(formula = Stars ~ Issues, data = training_GitHub)\n",
       "\n",
       "Coefficients:\n",
       "(Intercept)       Issues  \n",
       "    967.428        3.748  \n"
      ]
     },
     "metadata": {},
     "output_type": "display_data"
    }
   ],
   "source": [
    "GitHub_Simple_model <- lm(Stars ~ Issues, data = training_GitHub)\n",
    "\n",
    "GitHub_Simple_model"
   ]
  },
  {
   "cell_type": "code",
   "execution_count": 82,
   "id": "f2617e53-545d-4304-bd66-b027fff61439",
   "metadata": {},
   "outputs": [
    {
     "data": {
      "text/html": [
       "<style>\n",
       ".dl-inline {width: auto; margin:0; padding: 0}\n",
       ".dl-inline>dt, .dl-inline>dd {float: none; width: auto; display: inline-block}\n",
       ".dl-inline>dt::after {content: \":\\0020\"; padding-right: .5ex}\n",
       ".dl-inline>dt:not(:first-of-type) {padding-left: .5ex}\n",
       "</style><dl class=dl-inline><dt>1</dt><dd>260.999999999999</dd><dt>2</dt><dd>238.999999999999</dd><dt>3</dt><dd>720</dd><dt>4</dt><dd>288.999999999999</dd><dt>5</dt><dd>615</dd><dt>6</dt><dd>471</dd></dl>\n"
      ],
      "text/latex": [
       "\\begin{description*}\n",
       "\\item[1] 260.999999999999\n",
       "\\item[2] 238.999999999999\n",
       "\\item[3] 720\n",
       "\\item[4] 288.999999999999\n",
       "\\item[5] 615\n",
       "\\item[6] 471\n",
       "\\end{description*}\n"
      ],
      "text/markdown": [
       "1\n",
       ":   260.9999999999992\n",
       ":   238.9999999999993\n",
       ":   7204\n",
       ":   288.9999999999995\n",
       ":   6156\n",
       ":   471\n",
       "\n"
      ],
      "text/plain": [
       "  1   2   3   4   5   6 \n",
       "261 239 720 289 615 471 "
      ]
     },
     "metadata": {},
     "output_type": "display_data"
    }
   ],
   "source": [
    "GitHub_test_pred_Simple <- predict(GitHub_full, newdata = testing_GitHub)\n",
    "\n",
    "head(GitHub_test_pred_full)"
   ]
  },
  {
   "cell_type": "code",
   "execution_count": 83,
   "id": "5e15c7b4-92be-4502-86b5-66f99d631a18",
   "metadata": {},
   "outputs": [
    {
     "data": {
      "text/html": [
       "<table class=\"dataframe\">\n",
       "<caption>A tibble: 1 × 2</caption>\n",
       "<thead>\n",
       "\t<tr><th scope=col>Model</th><th scope=col>RMSE</th></tr>\n",
       "\t<tr><th scope=col>&lt;chr&gt;</th><th scope=col>&lt;dbl&gt;</th></tr>\n",
       "</thead>\n",
       "<tbody>\n",
       "\t<tr><td>OLS Simple Regression</td><td>2110.801</td></tr>\n",
       "</tbody>\n",
       "</table>\n"
      ],
      "text/latex": [
       "A tibble: 1 × 2\n",
       "\\begin{tabular}{ll}\n",
       " Model & RMSE\\\\\n",
       " <chr> & <dbl>\\\\\n",
       "\\hline\n",
       "\t OLS Simple Regression & 2110.801\\\\\n",
       "\\end{tabular}\n"
      ],
      "text/markdown": [
       "\n",
       "A tibble: 1 × 2\n",
       "\n",
       "| Model &lt;chr&gt; | RMSE &lt;dbl&gt; |\n",
       "|---|---|\n",
       "| OLS Simple Regression | 2110.801 |\n",
       "\n"
      ],
      "text/plain": [
       "  Model                 RMSE    \n",
       "1 OLS Simple Regression 2110.801"
      ]
     },
     "metadata": {},
     "output_type": "display_data"
    }
   ],
   "source": [
    "GitHub_RMSE_Simple_models <- tibble(\n",
    "    Model = \"OLS Simple Regression\",\n",
    "    RMSE = rmse(model = GitHub_Simple_model,\n",
    "                data = testing_GitHub))\n",
    "\n",
    "GitHub_RMSE_Simple_models"
   ]
  }
 ],
 "metadata": {
  "kernelspec": {
   "display_name": "R",
   "language": "R",
   "name": "ir"
  },
  "language_info": {
   "codemirror_mode": "r",
   "file_extension": ".r",
   "mimetype": "text/x-r-source",
   "name": "R",
   "pygments_lexer": "r",
   "version": "4.3.3"
  }
 },
 "nbformat": 4,
 "nbformat_minor": 5
}
