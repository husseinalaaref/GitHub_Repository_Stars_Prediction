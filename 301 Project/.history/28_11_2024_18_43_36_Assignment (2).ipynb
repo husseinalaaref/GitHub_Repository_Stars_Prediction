{
 "cells": [
  {
   "cell_type": "code",
   "execution_count": 1,
   "id": "46dfd43c-6749-40ee-be96-aafa874560f2",
   "metadata": {},
   "outputs": [
    {
     "name": "stderr",
     "output_type": "stream",
     "text": [
      "Updating HTML index of packages in '.Library'\n",
      "\n",
      "Making 'packages.html' ...\n",
      " done\n",
      "\n",
      "Updating HTML index of packages in '.Library'\n",
      "\n",
      "Making 'packages.html' ...\n",
      " done\n",
      "\n"
     ]
    }
   ],
   "source": [
    "install.packages(\"leaps\")\n",
    "install.packages(\"Metrics\")"
   ]
  },
  {
   "cell_type": "code",
   "execution_count": 2,
   "id": "1f9ec1bc-2d6b-4e88-bd2f-6665b2873918",
   "metadata": {},
   "outputs": [
    {
     "name": "stderr",
     "output_type": "stream",
     "text": [
      "── \u001b[1mAttaching core tidyverse packages\u001b[22m ──────────────────────── tidyverse 2.0.0 ──\n",
      "\u001b[32m✔\u001b[39m \u001b[34mdplyr    \u001b[39m 1.1.4     \u001b[32m✔\u001b[39m \u001b[34mreadr    \u001b[39m 2.1.5\n",
      "\u001b[32m✔\u001b[39m \u001b[34mforcats  \u001b[39m 1.0.0     \u001b[32m✔\u001b[39m \u001b[34mstringr  \u001b[39m 1.5.1\n",
      "\u001b[32m✔\u001b[39m \u001b[34mggplot2  \u001b[39m 3.5.1     \u001b[32m✔\u001b[39m \u001b[34mtibble   \u001b[39m 3.2.1\n",
      "\u001b[32m✔\u001b[39m \u001b[34mlubridate\u001b[39m 1.9.3     \u001b[32m✔\u001b[39m \u001b[34mtidyr    \u001b[39m 1.3.1\n",
      "\u001b[32m✔\u001b[39m \u001b[34mpurrr    \u001b[39m 1.0.2     \n",
      "── \u001b[1mConflicts\u001b[22m ────────────────────────────────────────── tidyverse_conflicts() ──\n",
      "\u001b[31m✖\u001b[39m \u001b[34mdplyr\u001b[39m::\u001b[32mfilter()\u001b[39m masks \u001b[34mstats\u001b[39m::filter()\n",
      "\u001b[31m✖\u001b[39m \u001b[34mdplyr\u001b[39m::\u001b[32mlag()\u001b[39m    masks \u001b[34mstats\u001b[39m::lag()\n",
      "\u001b[36mℹ\u001b[39m Use the conflicted package (\u001b[3m\u001b[34m<http://conflicted.r-lib.org/>\u001b[39m\u001b[23m) to force all conflicts to become errors\n",
      "\n",
      "Attaching package: ‘modelr’\n",
      "\n",
      "\n",
      "The following objects are masked from ‘package:Metrics’:\n",
      "\n",
      "    mae, mape, mse, rmse\n",
      "\n",
      "\n",
      "The following object is masked from ‘package:broom’:\n",
      "\n",
      "    bootstrap\n",
      "\n",
      "\n",
      "Loading required package: lattice\n",
      "\n",
      "\n",
      "Attaching package: ‘caret’\n",
      "\n",
      "\n",
      "The following objects are masked from ‘package:Metrics’:\n",
      "\n",
      "    precision, recall\n",
      "\n",
      "\n",
      "The following object is masked from ‘package:purrr’:\n",
      "\n",
      "    lift\n",
      "\n",
      "\n"
     ]
    }
   ],
   "source": [
    "library(tidyverse)\n",
    "library(lubridate)\n",
    "\n",
    "library(ggplot2)\n",
    "library(broom)\n",
    "library(tidyr)\n",
    "library(dplyr)\n",
    "library(Metrics)\n",
    "library(modelr)\n",
    "\n",
    "library(leaps)\n",
    "library(caret)"
   ]
  },
  {
   "cell_type": "markdown",
   "id": "9b63d316-d9d8-4a8f-8216-689664893163",
   "metadata": {},
   "source": [
    "- In the previous assignment, I explored the data with useful visuals that allowed me to observe relationships between input variables and response one and among input variables themselves. I also observed how some input variables were highly correlated (multicollinearity) by plotting a heatmap.\n",
    "- in this assignment, I will first convert the 'Created_At' and 'Updated_AT' Date variables to numerical values, where they represent the days since created, updated respectively.\n",
    "- Then, I will clean the Data and use the Forward Selection Algorithm to find the best-fit model.\n",
    "- Afterward, I am going to split the data into training, testing data with a ratio of 80/20.\n",
    "- then, I am going to use the variables from the Forward Selection results to fit an Additive linear regression model.\n",
    "- Then, using the predict function, I am going to predict the number of stars in the testing set using the fitted model.\n",
    "- Finally, I will calculate the RMSE to evaluate the accuracy of the prediction model.*\n"
   ]
  },
  {
   "cell_type": "code",
   "execution_count": 3,
   "id": "1f7a1023-ec2d-4b14-97f8-0e868e7bebca",
   "metadata": {},
   "outputs": [
    {
     "name": "stderr",
     "output_type": "stream",
     "text": [
      "\u001b[1mRows: \u001b[22m\u001b[34m215029\u001b[39m \u001b[1mColumns: \u001b[22m\u001b[34m24\u001b[39m\n",
      "\u001b[36m──\u001b[39m \u001b[1mColumn specification\u001b[22m \u001b[36m────────────────────────────────────────────────────────\u001b[39m\n",
      "\u001b[1mDelimiter:\u001b[22m \",\"\n",
      "\u001b[31mchr\u001b[39m  (8): Name, Description, URL, Homepage, Language, License, Topics, Defau...\n",
      "\u001b[32mdbl\u001b[39m  (5): Size, Stars, Forks, Issues, Watchers\n",
      "\u001b[33mlgl\u001b[39m  (9): Has Issues, Has Projects, Has Downloads, Has Wiki, Has Pages, Has ...\n",
      "\u001b[34mdttm\u001b[39m (2): Created At, Updated At\n",
      "\n",
      "\u001b[36mℹ\u001b[39m Use `spec()` to retrieve the full column specification for this data.\n",
      "\u001b[36mℹ\u001b[39m Specify the column types or set `show_col_types = FALSE` to quiet this message.\n"
     ]
    }
   ],
   "source": [
    "df <- read_csv('repositories.csv')"
   ]
  },
  {
   "cell_type": "code",
   "execution_count": 4,
   "id": "c1354ad3-4a6a-4ef9-acc9-de3b0de47a66",
   "metadata": {},
   "outputs": [
    {
     "data": {
      "text/html": [
       "<table class=\"dataframe\">\n",
       "<caption>A tibble: 3 × 24</caption>\n",
       "<thead>\n",
       "\t<tr><th scope=col>Name</th><th scope=col>Description</th><th scope=col>URL</th><th scope=col>Created At</th><th scope=col>Updated At</th><th scope=col>Homepage</th><th scope=col>Size</th><th scope=col>Stars</th><th scope=col>Forks</th><th scope=col>Issues</th><th scope=col>⋯</th><th scope=col>Has Issues</th><th scope=col>Has Projects</th><th scope=col>Has Downloads</th><th scope=col>Has Wiki</th><th scope=col>Has Pages</th><th scope=col>Has Discussions</th><th scope=col>Is Fork</th><th scope=col>Is Archived</th><th scope=col>Is Template</th><th scope=col>Default Branch</th></tr>\n",
       "\t<tr><th scope=col>&lt;chr&gt;</th><th scope=col>&lt;chr&gt;</th><th scope=col>&lt;chr&gt;</th><th scope=col>&lt;dttm&gt;</th><th scope=col>&lt;dttm&gt;</th><th scope=col>&lt;chr&gt;</th><th scope=col>&lt;dbl&gt;</th><th scope=col>&lt;dbl&gt;</th><th scope=col>&lt;dbl&gt;</th><th scope=col>&lt;dbl&gt;</th><th scope=col>⋯</th><th scope=col>&lt;lgl&gt;</th><th scope=col>&lt;lgl&gt;</th><th scope=col>&lt;lgl&gt;</th><th scope=col>&lt;lgl&gt;</th><th scope=col>&lt;lgl&gt;</th><th scope=col>&lt;lgl&gt;</th><th scope=col>&lt;lgl&gt;</th><th scope=col>&lt;lgl&gt;</th><th scope=col>&lt;lgl&gt;</th><th scope=col>&lt;chr&gt;</th></tr>\n",
       "</thead>\n",
       "<tbody>\n",
       "\t<tr><td>XTTable      </td><td>A tool for quickly laying out and configuring UITable and UICollectionView      </td><td>https://github.com/Akateason/XTTable         </td><td>2015-12-07 10:30:31</td><td>2023-05-31 09:29:10</td><td>NA                 </td><td> 2949</td><td>208</td><td>40</td><td>0</td><td>⋯</td><td>TRUE</td><td>TRUE</td><td>TRUE</td><td> TRUE</td><td>FALSE</td><td>FALSE</td><td>FALSE</td><td>FALSE</td><td>FALSE</td><td>master</td></tr>\n",
       "\t<tr><td>OBD2-Scantool</td><td>A scantool to read OBD2 info from cars.                                         </td><td>https://github.com/AustinMurphy/OBD2-Scantool</td><td>2011-11-27 22:28:43</td><td>2023-09-20 15:25:07</td><td>NA                 </td><td>   99</td><td>191</td><td>53</td><td>2</td><td>⋯</td><td>TRUE</td><td>TRUE</td><td>TRUE</td><td> TRUE</td><td>FALSE</td><td>FALSE</td><td>FALSE</td><td>FALSE</td><td>FALSE</td><td>master</td></tr>\n",
       "\t<tr><td>LLMStack     </td><td>No-code platform to build generative AI apps, chatbots and agents with your data</td><td>https://github.com/trypromptly/LLMStack      </td><td>2023-08-06 00:39:25</td><td>2023-09-25 14:04:37</td><td>https://llmstack.ai</td><td>48701</td><td>436</td><td>28</td><td>4</td><td>⋯</td><td>TRUE</td><td>TRUE</td><td>TRUE</td><td>FALSE</td><td>FALSE</td><td> TRUE</td><td>FALSE</td><td>FALSE</td><td>FALSE</td><td>main  </td></tr>\n",
       "</tbody>\n",
       "</table>\n"
      ],
      "text/latex": [
       "A tibble: 3 × 24\n",
       "\\begin{tabular}{lllllllllllllllllllll}\n",
       " Name & Description & URL & Created At & Updated At & Homepage & Size & Stars & Forks & Issues & ⋯ & Has Issues & Has Projects & Has Downloads & Has Wiki & Has Pages & Has Discussions & Is Fork & Is Archived & Is Template & Default Branch\\\\\n",
       " <chr> & <chr> & <chr> & <dttm> & <dttm> & <chr> & <dbl> & <dbl> & <dbl> & <dbl> & ⋯ & <lgl> & <lgl> & <lgl> & <lgl> & <lgl> & <lgl> & <lgl> & <lgl> & <lgl> & <chr>\\\\\n",
       "\\hline\n",
       "\t XTTable       & A tool for quickly laying out and configuring UITable and UICollectionView       & https://github.com/Akateason/XTTable          & 2015-12-07 10:30:31 & 2023-05-31 09:29:10 & NA                  &  2949 & 208 & 40 & 0 & ⋯ & TRUE & TRUE & TRUE &  TRUE & FALSE & FALSE & FALSE & FALSE & FALSE & master\\\\\n",
       "\t OBD2-Scantool & A scantool to read OBD2 info from cars.                                          & https://github.com/AustinMurphy/OBD2-Scantool & 2011-11-27 22:28:43 & 2023-09-20 15:25:07 & NA                  &    99 & 191 & 53 & 2 & ⋯ & TRUE & TRUE & TRUE &  TRUE & FALSE & FALSE & FALSE & FALSE & FALSE & master\\\\\n",
       "\t LLMStack      & No-code platform to build generative AI apps, chatbots and agents with your data & https://github.com/trypromptly/LLMStack       & 2023-08-06 00:39:25 & 2023-09-25 14:04:37 & https://llmstack.ai & 48701 & 436 & 28 & 4 & ⋯ & TRUE & TRUE & TRUE & FALSE & FALSE &  TRUE & FALSE & FALSE & FALSE & main  \\\\\n",
       "\\end{tabular}\n"
      ],
      "text/markdown": [
       "\n",
       "A tibble: 3 × 24\n",
       "\n",
       "| Name &lt;chr&gt; | Description &lt;chr&gt; | URL &lt;chr&gt; | Created At &lt;dttm&gt; | Updated At &lt;dttm&gt; | Homepage &lt;chr&gt; | Size &lt;dbl&gt; | Stars &lt;dbl&gt; | Forks &lt;dbl&gt; | Issues &lt;dbl&gt; | ⋯ ⋯ | Has Issues &lt;lgl&gt; | Has Projects &lt;lgl&gt; | Has Downloads &lt;lgl&gt; | Has Wiki &lt;lgl&gt; | Has Pages &lt;lgl&gt; | Has Discussions &lt;lgl&gt; | Is Fork &lt;lgl&gt; | Is Archived &lt;lgl&gt; | Is Template &lt;lgl&gt; | Default Branch &lt;chr&gt; |\n",
       "|---|---|---|---|---|---|---|---|---|---|---|---|---|---|---|---|---|---|---|---|---|\n",
       "| XTTable       | A tool for quickly laying out and configuring UITable and UICollectionView       | https://github.com/Akateason/XTTable          | 2015-12-07 10:30:31 | 2023-05-31 09:29:10 | NA                  |  2949 | 208 | 40 | 0 | ⋯ | TRUE | TRUE | TRUE |  TRUE | FALSE | FALSE | FALSE | FALSE | FALSE | master |\n",
       "| OBD2-Scantool | A scantool to read OBD2 info from cars.                                          | https://github.com/AustinMurphy/OBD2-Scantool | 2011-11-27 22:28:43 | 2023-09-20 15:25:07 | NA                  |    99 | 191 | 53 | 2 | ⋯ | TRUE | TRUE | TRUE |  TRUE | FALSE | FALSE | FALSE | FALSE | FALSE | master |\n",
       "| LLMStack      | No-code platform to build generative AI apps, chatbots and agents with your data | https://github.com/trypromptly/LLMStack       | 2023-08-06 00:39:25 | 2023-09-25 14:04:37 | https://llmstack.ai | 48701 | 436 | 28 | 4 | ⋯ | TRUE | TRUE | TRUE | FALSE | FALSE |  TRUE | FALSE | FALSE | FALSE | main   |\n",
       "\n"
      ],
      "text/plain": [
       "  Name         \n",
       "1 XTTable      \n",
       "2 OBD2-Scantool\n",
       "3 LLMStack     \n",
       "  Description                                                                     \n",
       "1 A tool for quickly laying out and configuring UITable and UICollectionView      \n",
       "2 A scantool to read OBD2 info from cars.                                         \n",
       "3 No-code platform to build generative AI apps, chatbots and agents with your data\n",
       "  URL                                           Created At         \n",
       "1 https://github.com/Akateason/XTTable          2015-12-07 10:30:31\n",
       "2 https://github.com/AustinMurphy/OBD2-Scantool 2011-11-27 22:28:43\n",
       "3 https://github.com/trypromptly/LLMStack       2023-08-06 00:39:25\n",
       "  Updated At          Homepage            Size  Stars Forks Issues ⋯ Has Issues\n",
       "1 2023-05-31 09:29:10 NA                   2949 208   40    0      ⋯ TRUE      \n",
       "2 2023-09-20 15:25:07 NA                     99 191   53    2      ⋯ TRUE      \n",
       "3 2023-09-25 14:04:37 https://llmstack.ai 48701 436   28    4      ⋯ TRUE      \n",
       "  Has Projects Has Downloads Has Wiki Has Pages Has Discussions Is Fork\n",
       "1 TRUE         TRUE           TRUE    FALSE     FALSE           FALSE  \n",
       "2 TRUE         TRUE           TRUE    FALSE     FALSE           FALSE  \n",
       "3 TRUE         TRUE          FALSE    FALSE      TRUE           FALSE  \n",
       "  Is Archived Is Template Default Branch\n",
       "1 FALSE       FALSE       master        \n",
       "2 FALSE       FALSE       master        \n",
       "3 FALSE       FALSE       main          "
      ]
     },
     "metadata": {},
     "output_type": "display_data"
    }
   ],
   "source": [
    "df_subset <- df %>% sample_n(size = 10000)\n",
    "\n",
    "head(df_subset, n = 3)"
   ]
  },
  {
   "cell_type": "markdown",
   "id": "e3cc974b-f8c8-4361-b186-539f43095c17",
   "metadata": {},
   "source": [
    "* - I am choosing only those variables because of the limitation on running the Forward Selection Algorithm on all of the given variables. Also, the other columns (e.g. logical variables) contain very redundant data.  \n",
    "Note: I explain more about this issue in the cell just above the Forward Selection cell down below.*"
   ]
  },
  {
   "cell_type": "code",
   "execution_count": 24,
   "id": "d39c5894-4139-4741-8ea2-6a37762017e1",
   "metadata": {},
   "outputs": [
    {
     "data": {
      "text/html": [
       "<table class=\"dataframe\">\n",
       "<caption>A tibble: 3 × 10</caption>\n",
       "<thead>\n",
       "\t<tr><th scope=col>Size</th><th scope=col>Stars</th><th scope=col>Forks</th><th scope=col>Issues</th><th scope=col>Watchers</th><th scope=col>Is Archived</th><th scope=col>Has Issues</th><th scope=col>Has Pages</th><th scope=col>Created At</th><th scope=col>Updated At</th></tr>\n",
       "\t<tr><th scope=col>&lt;dbl&gt;</th><th scope=col>&lt;dbl&gt;</th><th scope=col>&lt;dbl&gt;</th><th scope=col>&lt;dbl&gt;</th><th scope=col>&lt;dbl&gt;</th><th scope=col>&lt;lgl&gt;</th><th scope=col>&lt;lgl&gt;</th><th scope=col>&lt;lgl&gt;</th><th scope=col>&lt;date&gt;</th><th scope=col>&lt;date&gt;</th></tr>\n",
       "</thead>\n",
       "<tbody>\n",
       "\t<tr><td> 2949</td><td>208</td><td>40</td><td>0</td><td>208</td><td>FALSE</td><td>TRUE</td><td>FALSE</td><td>2015-12-07</td><td>2023-05-31</td></tr>\n",
       "\t<tr><td>   99</td><td>191</td><td>53</td><td>2</td><td>191</td><td>FALSE</td><td>TRUE</td><td>FALSE</td><td>2011-11-27</td><td>2023-09-20</td></tr>\n",
       "\t<tr><td>48701</td><td>436</td><td>28</td><td>4</td><td>436</td><td>FALSE</td><td>TRUE</td><td>FALSE</td><td>2023-08-06</td><td>2023-09-25</td></tr>\n",
       "</tbody>\n",
       "</table>\n"
      ],
      "text/latex": [
       "A tibble: 3 × 10\n",
       "\\begin{tabular}{llllllllll}\n",
       " Size & Stars & Forks & Issues & Watchers & Is Archived & Has Issues & Has Pages & Created At & Updated At\\\\\n",
       " <dbl> & <dbl> & <dbl> & <dbl> & <dbl> & <lgl> & <lgl> & <lgl> & <date> & <date>\\\\\n",
       "\\hline\n",
       "\t  2949 & 208 & 40 & 0 & 208 & FALSE & TRUE & FALSE & 2015-12-07 & 2023-05-31\\\\\n",
       "\t    99 & 191 & 53 & 2 & 191 & FALSE & TRUE & FALSE & 2011-11-27 & 2023-09-20\\\\\n",
       "\t 48701 & 436 & 28 & 4 & 436 & FALSE & TRUE & FALSE & 2023-08-06 & 2023-09-25\\\\\n",
       "\\end{tabular}\n"
      ],
      "text/markdown": [
       "\n",
       "A tibble: 3 × 10\n",
       "\n",
       "| Size &lt;dbl&gt; | Stars &lt;dbl&gt; | Forks &lt;dbl&gt; | Issues &lt;dbl&gt; | Watchers &lt;dbl&gt; | Is Archived &lt;lgl&gt; | Has Issues &lt;lgl&gt; | Has Pages &lt;lgl&gt; | Created At &lt;date&gt; | Updated At &lt;date&gt; |\n",
       "|---|---|---|---|---|---|---|---|---|---|\n",
       "|  2949 | 208 | 40 | 0 | 208 | FALSE | TRUE | FALSE | 2015-12-07 | 2023-05-31 |\n",
       "|    99 | 191 | 53 | 2 | 191 | FALSE | TRUE | FALSE | 2011-11-27 | 2023-09-20 |\n",
       "| 48701 | 436 | 28 | 4 | 436 | FALSE | TRUE | FALSE | 2023-08-06 | 2023-09-25 |\n",
       "\n"
      ],
      "text/plain": [
       "  Size  Stars Forks Issues Watchers Is Archived Has Issues Has Pages Created At\n",
       "1  2949 208   40    0      208      FALSE       TRUE       FALSE     2015-12-07\n",
       "2    99 191   53    2      191      FALSE       TRUE       FALSE     2011-11-27\n",
       "3 48701 436   28    4      436      FALSE       TRUE       FALSE     2023-08-06\n",
       "  Updated At\n",
       "1 2023-05-31\n",
       "2 2023-09-20\n",
       "3 2023-09-25"
      ]
     },
     "metadata": {},
     "output_type": "display_data"
    },
    {
     "data": {
      "text/html": [
       "10000"
      ],
      "text/latex": [
       "10000"
      ],
      "text/markdown": [
       "10000"
      ],
      "text/plain": [
       "[1] 10000"
      ]
     },
     "metadata": {},
     "output_type": "display_data"
    },
    {
     "data": {
      "text/html": [
       "0"
      ],
      "text/latex": [
       "0"
      ],
      "text/markdown": [
       "0"
      ],
      "text/plain": [
       "[1] 0"
      ]
     },
     "metadata": {},
     "output_type": "display_data"
    }
   ],
   "source": [
    "features <- c(\"Size\", \"Stars\", \"Forks\",\n",
    "              \"Issues\", 'Watchers', 'Is Archived', 'Has Issues', 'Has Pages',\n",
    "              'Created At', 'Updated At')\n",
    "df_subset_1 <- df_subset %>% select(all_of(features))\n",
    "\n",
    "head(df_subset_1, n = 3)\n",
    "nrow(df_subset_1)\n",
    "sum(is.na(df_subset_1))"
   ]
  },
  {
   "cell_type": "code",
   "execution_count": 6,
   "id": "224b0b29-54f7-4d25-8495-2348490ba656",
   "metadata": {},
   "outputs": [],
   "source": [
    "df_subset$'Created At' <- as.Date(strptime(df_subset$'Created At', format = \"%Y-%m-%d %H:%M:%S\"))\n",
    "df_subset$'Updated At' <- as.Date(strptime(df_subset$'Updated At', format = \"%Y-%m-%d %H:%M:%S\"))"
   ]
  },
  {
   "cell_type": "code",
   "execution_count": 7,
   "id": "86d214b8-d3b2-4ad2-b210-caf32794b31c",
   "metadata": {},
   "outputs": [
    {
     "data": {
      "text/html": [
       "<table class=\"dataframe\">\n",
       "<caption>A tibble: 3 × 12</caption>\n",
       "<thead>\n",
       "\t<tr><th scope=col>Size</th><th scope=col>Stars</th><th scope=col>Forks</th><th scope=col>Issues</th><th scope=col>Watchers</th><th scope=col>Is Archived</th><th scope=col>Has Issues</th><th scope=col>Has Pages</th><th scope=col>Created At</th><th scope=col>Updated At</th><th scope=col>repo_age_days</th><th scope=col>days_since_update</th></tr>\n",
       "\t<tr><th scope=col>&lt;dbl&gt;</th><th scope=col>&lt;dbl&gt;</th><th scope=col>&lt;dbl&gt;</th><th scope=col>&lt;dbl&gt;</th><th scope=col>&lt;dbl&gt;</th><th scope=col>&lt;lgl&gt;</th><th scope=col>&lt;lgl&gt;</th><th scope=col>&lt;lgl&gt;</th><th scope=col>&lt;date&gt;</th><th scope=col>&lt;date&gt;</th><th scope=col>&lt;dbl&gt;</th><th scope=col>&lt;dbl&gt;</th></tr>\n",
       "</thead>\n",
       "<tbody>\n",
       "\t<tr><td> 2949</td><td>208</td><td>40</td><td>0</td><td>208</td><td>FALSE</td><td>TRUE</td><td>FALSE</td><td>2015-12-07</td><td>2023-05-31</td><td>3280</td><td>548</td></tr>\n",
       "\t<tr><td>   99</td><td>191</td><td>53</td><td>2</td><td>191</td><td>FALSE</td><td>TRUE</td><td>FALSE</td><td>2011-11-27</td><td>2023-09-20</td><td>4751</td><td>436</td></tr>\n",
       "\t<tr><td>48701</td><td>436</td><td>28</td><td>4</td><td>436</td><td>FALSE</td><td>TRUE</td><td>FALSE</td><td>2023-08-06</td><td>2023-09-25</td><td> 481</td><td>431</td></tr>\n",
       "</tbody>\n",
       "</table>\n"
      ],
      "text/latex": [
       "A tibble: 3 × 12\n",
       "\\begin{tabular}{llllllllllll}\n",
       " Size & Stars & Forks & Issues & Watchers & Is Archived & Has Issues & Has Pages & Created At & Updated At & repo\\_age\\_days & days\\_since\\_update\\\\\n",
       " <dbl> & <dbl> & <dbl> & <dbl> & <dbl> & <lgl> & <lgl> & <lgl> & <date> & <date> & <dbl> & <dbl>\\\\\n",
       "\\hline\n",
       "\t  2949 & 208 & 40 & 0 & 208 & FALSE & TRUE & FALSE & 2015-12-07 & 2023-05-31 & 3280 & 548\\\\\n",
       "\t    99 & 191 & 53 & 2 & 191 & FALSE & TRUE & FALSE & 2011-11-27 & 2023-09-20 & 4751 & 436\\\\\n",
       "\t 48701 & 436 & 28 & 4 & 436 & FALSE & TRUE & FALSE & 2023-08-06 & 2023-09-25 &  481 & 431\\\\\n",
       "\\end{tabular}\n"
      ],
      "text/markdown": [
       "\n",
       "A tibble: 3 × 12\n",
       "\n",
       "| Size &lt;dbl&gt; | Stars &lt;dbl&gt; | Forks &lt;dbl&gt; | Issues &lt;dbl&gt; | Watchers &lt;dbl&gt; | Is Archived &lt;lgl&gt; | Has Issues &lt;lgl&gt; | Has Pages &lt;lgl&gt; | Created At &lt;date&gt; | Updated At &lt;date&gt; | repo_age_days &lt;dbl&gt; | days_since_update &lt;dbl&gt; |\n",
       "|---|---|---|---|---|---|---|---|---|---|---|---|\n",
       "|  2949 | 208 | 40 | 0 | 208 | FALSE | TRUE | FALSE | 2015-12-07 | 2023-05-31 | 3280 | 548 |\n",
       "|    99 | 191 | 53 | 2 | 191 | FALSE | TRUE | FALSE | 2011-11-27 | 2023-09-20 | 4751 | 436 |\n",
       "| 48701 | 436 | 28 | 4 | 436 | FALSE | TRUE | FALSE | 2023-08-06 | 2023-09-25 |  481 | 431 |\n",
       "\n"
      ],
      "text/plain": [
       "  Size  Stars Forks Issues Watchers Is Archived Has Issues Has Pages Created At\n",
       "1  2949 208   40    0      208      FALSE       TRUE       FALSE     2015-12-07\n",
       "2    99 191   53    2      191      FALSE       TRUE       FALSE     2011-11-27\n",
       "3 48701 436   28    4      436      FALSE       TRUE       FALSE     2023-08-06\n",
       "  Updated At repo_age_days days_since_update\n",
       "1 2023-05-31 3280          548              \n",
       "2 2023-09-20 4751          436              \n",
       "3 2023-09-25  481          431              "
      ]
     },
     "metadata": {},
     "output_type": "display_data"
    }
   ],
   "source": [
    "df_subset_2 <- df_subset_1 %>%\n",
    "  mutate(\n",
    "    `Created At` = as.Date(`Created At`),        \n",
    "    `Updated At` = as.Date(`Updated At`),        \n",
    "    repo_age_days = as.numeric(Sys.Date() - `Created At`),\n",
    "    days_since_update = as.numeric(Sys.Date() - `Updated At`)\n",
    "  )\n",
    "\n",
    "head(df_subset_2, n = 3)"
   ]
  },
  {
   "cell_type": "code",
   "execution_count": 8,
   "id": "07e62245-cccd-4577-b56a-34d56bfced18",
   "metadata": {},
   "outputs": [
    {
     "data": {
      "text/html": [
       "<table class=\"dataframe\">\n",
       "<caption>A tibble: 3 × 10</caption>\n",
       "<thead>\n",
       "\t<tr><th scope=col>Size</th><th scope=col>Stars</th><th scope=col>Forks</th><th scope=col>Issues</th><th scope=col>Watchers</th><th scope=col>Is Archived</th><th scope=col>Has Issues</th><th scope=col>Has Pages</th><th scope=col>repo_age_days</th><th scope=col>days_since_update</th></tr>\n",
       "\t<tr><th scope=col>&lt;dbl&gt;</th><th scope=col>&lt;dbl&gt;</th><th scope=col>&lt;dbl&gt;</th><th scope=col>&lt;dbl&gt;</th><th scope=col>&lt;dbl&gt;</th><th scope=col>&lt;lgl&gt;</th><th scope=col>&lt;lgl&gt;</th><th scope=col>&lt;lgl&gt;</th><th scope=col>&lt;dbl&gt;</th><th scope=col>&lt;dbl&gt;</th></tr>\n",
       "</thead>\n",
       "<tbody>\n",
       "\t<tr><td> 2949</td><td>208</td><td>40</td><td>0</td><td>208</td><td>FALSE</td><td>TRUE</td><td>FALSE</td><td>3280</td><td>548</td></tr>\n",
       "\t<tr><td>   99</td><td>191</td><td>53</td><td>2</td><td>191</td><td>FALSE</td><td>TRUE</td><td>FALSE</td><td>4751</td><td>436</td></tr>\n",
       "\t<tr><td>48701</td><td>436</td><td>28</td><td>4</td><td>436</td><td>FALSE</td><td>TRUE</td><td>FALSE</td><td> 481</td><td>431</td></tr>\n",
       "</tbody>\n",
       "</table>\n"
      ],
      "text/latex": [
       "A tibble: 3 × 10\n",
       "\\begin{tabular}{llllllllll}\n",
       " Size & Stars & Forks & Issues & Watchers & Is Archived & Has Issues & Has Pages & repo\\_age\\_days & days\\_since\\_update\\\\\n",
       " <dbl> & <dbl> & <dbl> & <dbl> & <dbl> & <lgl> & <lgl> & <lgl> & <dbl> & <dbl>\\\\\n",
       "\\hline\n",
       "\t  2949 & 208 & 40 & 0 & 208 & FALSE & TRUE & FALSE & 3280 & 548\\\\\n",
       "\t    99 & 191 & 53 & 2 & 191 & FALSE & TRUE & FALSE & 4751 & 436\\\\\n",
       "\t 48701 & 436 & 28 & 4 & 436 & FALSE & TRUE & FALSE &  481 & 431\\\\\n",
       "\\end{tabular}\n"
      ],
      "text/markdown": [
       "\n",
       "A tibble: 3 × 10\n",
       "\n",
       "| Size &lt;dbl&gt; | Stars &lt;dbl&gt; | Forks &lt;dbl&gt; | Issues &lt;dbl&gt; | Watchers &lt;dbl&gt; | Is Archived &lt;lgl&gt; | Has Issues &lt;lgl&gt; | Has Pages &lt;lgl&gt; | repo_age_days &lt;dbl&gt; | days_since_update &lt;dbl&gt; |\n",
       "|---|---|---|---|---|---|---|---|---|---|\n",
       "|  2949 | 208 | 40 | 0 | 208 | FALSE | TRUE | FALSE | 3280 | 548 |\n",
       "|    99 | 191 | 53 | 2 | 191 | FALSE | TRUE | FALSE | 4751 | 436 |\n",
       "| 48701 | 436 | 28 | 4 | 436 | FALSE | TRUE | FALSE |  481 | 431 |\n",
       "\n"
      ],
      "text/plain": [
       "  Size  Stars Forks Issues Watchers Is Archived Has Issues Has Pages\n",
       "1  2949 208   40    0      208      FALSE       TRUE       FALSE    \n",
       "2    99 191   53    2      191      FALSE       TRUE       FALSE    \n",
       "3 48701 436   28    4      436      FALSE       TRUE       FALSE    \n",
       "  repo_age_days days_since_update\n",
       "1 3280          548              \n",
       "2 4751          436              \n",
       "3  481          431              "
      ]
     },
     "metadata": {},
     "output_type": "display_data"
    }
   ],
   "source": [
    "df_subset_3 <- df_subset_2 %>% select(-c('Created At', 'Updated At'))\n",
    "\n",
    "head(df_subset_3, n = 3)"
   ]
  },
  {
   "cell_type": "code",
   "execution_count": 9,
   "id": "82a4fcff-8911-4292-8232-15882b4fa26b",
   "metadata": {},
   "outputs": [
    {
     "data": {
      "text/html": [
       "<table class=\"dataframe\">\n",
       "<caption>A tibble: 6 × 3</caption>\n",
       "<thead>\n",
       "\t<tr><th scope=col>repo_age_days</th><th scope=col>days_since_update</th><th scope=col>n</th></tr>\n",
       "\t<tr><th scope=col>&lt;dbl&gt;</th><th scope=col>&lt;dbl&gt;</th><th scope=col>&lt;dbl&gt;</th></tr>\n",
       "</thead>\n",
       "<tbody>\n",
       "\t<tr><td>3280</td><td>548</td><td> 40</td></tr>\n",
       "\t<tr><td>4751</td><td>436</td><td> 53</td></tr>\n",
       "\t<tr><td> 481</td><td>431</td><td> 28</td></tr>\n",
       "\t<tr><td>4002</td><td>590</td><td> 30</td></tr>\n",
       "\t<tr><td>3198</td><td>432</td><td> 56</td></tr>\n",
       "\t<tr><td>3643</td><td>433</td><td>165</td></tr>\n",
       "</tbody>\n",
       "</table>\n"
      ],
      "text/latex": [
       "A tibble: 6 × 3\n",
       "\\begin{tabular}{lll}\n",
       " repo\\_age\\_days & days\\_since\\_update & n\\\\\n",
       " <dbl> & <dbl> & <dbl>\\\\\n",
       "\\hline\n",
       "\t 3280 & 548 &  40\\\\\n",
       "\t 4751 & 436 &  53\\\\\n",
       "\t  481 & 431 &  28\\\\\n",
       "\t 4002 & 590 &  30\\\\\n",
       "\t 3198 & 432 &  56\\\\\n",
       "\t 3643 & 433 & 165\\\\\n",
       "\\end{tabular}\n"
      ],
      "text/markdown": [
       "\n",
       "A tibble: 6 × 3\n",
       "\n",
       "| repo_age_days &lt;dbl&gt; | days_since_update &lt;dbl&gt; | n &lt;dbl&gt; |\n",
       "|---|---|---|\n",
       "| 3280 | 548 |  40 |\n",
       "| 4751 | 436 |  53 |\n",
       "|  481 | 431 |  28 |\n",
       "| 4002 | 590 |  30 |\n",
       "| 3198 | 432 |  56 |\n",
       "| 3643 | 433 | 165 |\n",
       "\n"
      ],
      "text/plain": [
       "  repo_age_days days_since_update n  \n",
       "1 3280          548                40\n",
       "2 4751          436                53\n",
       "3  481          431                28\n",
       "4 4002          590                30\n",
       "5 3198          432                56\n",
       "6 3643          433               165"
      ]
     },
     "metadata": {},
     "output_type": "display_data"
    }
   ],
   "source": [
    "non_na_repo_age <- df_subset_3 %>% filter(!is.na(repo_age_days))\n",
    "non_na_days_since_update <- df_subset_3 %>% filter(!is.na(days_since_update))\n",
    "\n",
    "head(df_subset_3 %>% select(repo_age_days, days_since_update, n = 3))"
   ]
  },
  {
   "cell_type": "code",
   "execution_count": 10,
   "id": "7eee156d-27bf-464e-9dc8-3b553d09b56b",
   "metadata": {},
   "outputs": [
    {
     "data": {
      "text/html": [
       "<table class=\"dataframe\">\n",
       "<caption>A tibble: 3 × 10</caption>\n",
       "<thead>\n",
       "\t<tr><th scope=col>Size</th><th scope=col>Stars</th><th scope=col>Forks</th><th scope=col>Issues</th><th scope=col>Watchers</th><th scope=col>Is Archived</th><th scope=col>Has Issues</th><th scope=col>Has Pages</th><th scope=col>repo_age_days</th><th scope=col>days_since_update</th></tr>\n",
       "\t<tr><th scope=col>&lt;dbl&gt;</th><th scope=col>&lt;dbl&gt;</th><th scope=col>&lt;dbl&gt;</th><th scope=col>&lt;dbl&gt;</th><th scope=col>&lt;dbl&gt;</th><th scope=col>&lt;lgl&gt;</th><th scope=col>&lt;lgl&gt;</th><th scope=col>&lt;lgl&gt;</th><th scope=col>&lt;dbl&gt;</th><th scope=col>&lt;dbl&gt;</th></tr>\n",
       "</thead>\n",
       "<tbody>\n",
       "\t<tr><td> 2949</td><td>208</td><td>40</td><td>0</td><td>208</td><td>FALSE</td><td>TRUE</td><td>FALSE</td><td>3280</td><td>548</td></tr>\n",
       "\t<tr><td>   99</td><td>191</td><td>53</td><td>2</td><td>191</td><td>FALSE</td><td>TRUE</td><td>FALSE</td><td>4751</td><td>436</td></tr>\n",
       "\t<tr><td>48701</td><td>436</td><td>28</td><td>4</td><td>436</td><td>FALSE</td><td>TRUE</td><td>FALSE</td><td> 481</td><td>431</td></tr>\n",
       "</tbody>\n",
       "</table>\n"
      ],
      "text/latex": [
       "A tibble: 3 × 10\n",
       "\\begin{tabular}{llllllllll}\n",
       " Size & Stars & Forks & Issues & Watchers & Is Archived & Has Issues & Has Pages & repo\\_age\\_days & days\\_since\\_update\\\\\n",
       " <dbl> & <dbl> & <dbl> & <dbl> & <dbl> & <lgl> & <lgl> & <lgl> & <dbl> & <dbl>\\\\\n",
       "\\hline\n",
       "\t  2949 & 208 & 40 & 0 & 208 & FALSE & TRUE & FALSE & 3280 & 548\\\\\n",
       "\t    99 & 191 & 53 & 2 & 191 & FALSE & TRUE & FALSE & 4751 & 436\\\\\n",
       "\t 48701 & 436 & 28 & 4 & 436 & FALSE & TRUE & FALSE &  481 & 431\\\\\n",
       "\\end{tabular}\n"
      ],
      "text/markdown": [
       "\n",
       "A tibble: 3 × 10\n",
       "\n",
       "| Size &lt;dbl&gt; | Stars &lt;dbl&gt; | Forks &lt;dbl&gt; | Issues &lt;dbl&gt; | Watchers &lt;dbl&gt; | Is Archived &lt;lgl&gt; | Has Issues &lt;lgl&gt; | Has Pages &lt;lgl&gt; | repo_age_days &lt;dbl&gt; | days_since_update &lt;dbl&gt; |\n",
       "|---|---|---|---|---|---|---|---|---|---|\n",
       "|  2949 | 208 | 40 | 0 | 208 | FALSE | TRUE | FALSE | 3280 | 548 |\n",
       "|    99 | 191 | 53 | 2 | 191 | FALSE | TRUE | FALSE | 4751 | 436 |\n",
       "| 48701 | 436 | 28 | 4 | 436 | FALSE | TRUE | FALSE |  481 | 431 |\n",
       "\n"
      ],
      "text/plain": [
       "  Size  Stars Forks Issues Watchers Is Archived Has Issues Has Pages\n",
       "1  2949 208   40    0      208      FALSE       TRUE       FALSE    \n",
       "2    99 191   53    2      191      FALSE       TRUE       FALSE    \n",
       "3 48701 436   28    4      436      FALSE       TRUE       FALSE    \n",
       "  repo_age_days days_since_update\n",
       "1 3280          548              \n",
       "2 4751          436              \n",
       "3  481          431              "
      ]
     },
     "metadata": {},
     "output_type": "display_data"
    }
   ],
   "source": [
    "df_cleaned <- df_subset_3 %>% filter(!is.na(Stars) & !is.na(Forks) & !is.na(repo_age_days))  \n",
    "\n",
    "head(df_cleaned, n = 3)"
   ]
  },
  {
   "cell_type": "code",
   "execution_count": 11,
   "id": "e22f50c3-b282-4dcc-b122-f51cc3fcc4e8",
   "metadata": {},
   "outputs": [
    {
     "name": "stdout",
     "output_type": "stream",
     "text": [
      "\u001b[90m# A tibble: 1 × 6\u001b[39m\n",
      "  count avg_stars avg_forks avg_issues avg_repo_age avg_days_since_update\n",
      "  \u001b[3m\u001b[90m<int>\u001b[39m\u001b[23m     \u001b[3m\u001b[90m<dbl>\u001b[39m\u001b[23m     \u001b[3m\u001b[90m<dbl>\u001b[39m\u001b[23m      \u001b[3m\u001b[90m<dbl>\u001b[39m\u001b[23m        \u001b[3m\u001b[90m<dbl>\u001b[39m\u001b[23m                 \u001b[3m\u001b[90m<dbl>\u001b[39m\u001b[23m\n",
      "\u001b[90m1\u001b[39m \u001b[4m1\u001b[24m\u001b[4m0\u001b[24m000     \u001b[4m1\u001b[24m007.      202.       36.0        \u001b[4m2\u001b[24m744.                  453.\n"
     ]
    },
    {
     "data": {
      "text/html": [
       "<table class=\"dataframe\">\n",
       "<caption>A tibble: 3 × 10</caption>\n",
       "<thead>\n",
       "\t<tr><th scope=col>Size</th><th scope=col>Stars</th><th scope=col>Forks</th><th scope=col>Issues</th><th scope=col>Watchers</th><th scope=col>Is Archived</th><th scope=col>Has Issues</th><th scope=col>Has Pages</th><th scope=col>repo_age_days</th><th scope=col>days_since_update</th></tr>\n",
       "\t<tr><th scope=col>&lt;dbl&gt;</th><th scope=col>&lt;dbl&gt;</th><th scope=col>&lt;dbl&gt;</th><th scope=col>&lt;dbl&gt;</th><th scope=col>&lt;dbl&gt;</th><th scope=col>&lt;lgl&gt;</th><th scope=col>&lt;lgl&gt;</th><th scope=col>&lt;lgl&gt;</th><th scope=col>&lt;dbl&gt;</th><th scope=col>&lt;dbl&gt;</th></tr>\n",
       "</thead>\n",
       "<tbody>\n",
       "\t<tr><td> 2949</td><td>208</td><td>40</td><td>0</td><td>208</td><td>FALSE</td><td>TRUE</td><td>FALSE</td><td>3280</td><td>548</td></tr>\n",
       "\t<tr><td>   99</td><td>191</td><td>53</td><td>2</td><td>191</td><td>FALSE</td><td>TRUE</td><td>FALSE</td><td>4751</td><td>436</td></tr>\n",
       "\t<tr><td>48701</td><td>436</td><td>28</td><td>4</td><td>436</td><td>FALSE</td><td>TRUE</td><td>FALSE</td><td> 481</td><td>431</td></tr>\n",
       "</tbody>\n",
       "</table>\n"
      ],
      "text/latex": [
       "A tibble: 3 × 10\n",
       "\\begin{tabular}{llllllllll}\n",
       " Size & Stars & Forks & Issues & Watchers & Is Archived & Has Issues & Has Pages & repo\\_age\\_days & days\\_since\\_update\\\\\n",
       " <dbl> & <dbl> & <dbl> & <dbl> & <dbl> & <lgl> & <lgl> & <lgl> & <dbl> & <dbl>\\\\\n",
       "\\hline\n",
       "\t  2949 & 208 & 40 & 0 & 208 & FALSE & TRUE & FALSE & 3280 & 548\\\\\n",
       "\t    99 & 191 & 53 & 2 & 191 & FALSE & TRUE & FALSE & 4751 & 436\\\\\n",
       "\t 48701 & 436 & 28 & 4 & 436 & FALSE & TRUE & FALSE &  481 & 431\\\\\n",
       "\\end{tabular}\n"
      ],
      "text/markdown": [
       "\n",
       "A tibble: 3 × 10\n",
       "\n",
       "| Size &lt;dbl&gt; | Stars &lt;dbl&gt; | Forks &lt;dbl&gt; | Issues &lt;dbl&gt; | Watchers &lt;dbl&gt; | Is Archived &lt;lgl&gt; | Has Issues &lt;lgl&gt; | Has Pages &lt;lgl&gt; | repo_age_days &lt;dbl&gt; | days_since_update &lt;dbl&gt; |\n",
       "|---|---|---|---|---|---|---|---|---|---|\n",
       "|  2949 | 208 | 40 | 0 | 208 | FALSE | TRUE | FALSE | 3280 | 548 |\n",
       "|    99 | 191 | 53 | 2 | 191 | FALSE | TRUE | FALSE | 4751 | 436 |\n",
       "| 48701 | 436 | 28 | 4 | 436 | FALSE | TRUE | FALSE |  481 | 431 |\n",
       "\n"
      ],
      "text/plain": [
       "  Size  Stars Forks Issues Watchers Is Archived Has Issues Has Pages\n",
       "1  2949 208   40    0      208      FALSE       TRUE       FALSE    \n",
       "2    99 191   53    2      191      FALSE       TRUE       FALSE    \n",
       "3 48701 436   28    4      436      FALSE       TRUE       FALSE    \n",
       "  repo_age_days days_since_update\n",
       "1 3280          548              \n",
       "2 4751          436              \n",
       "3  481          431              "
      ]
     },
     "metadata": {},
     "output_type": "display_data"
    },
    {
     "data": {
      "text/html": [
       "10000"
      ],
      "text/latex": [
       "10000"
      ],
      "text/markdown": [
       "10000"
      ],
      "text/plain": [
       "[1] 10000"
      ]
     },
     "metadata": {},
     "output_type": "display_data"
    },
    {
     "data": {
      "text/html": [
       "0"
      ],
      "text/latex": [
       "0"
      ],
      "text/markdown": [
       "0"
      ],
      "text/plain": [
       "[1] 0"
      ]
     },
     "metadata": {},
     "output_type": "display_data"
    }
   ],
   "source": [
    "summary_stats <- df_cleaned %>%\n",
    "  summarize(\n",
    "    count = n(),\n",
    "    avg_stars = mean(Stars, na.rm = TRUE),\n",
    "    avg_forks = mean(Forks, na.rm = TRUE),\n",
    "    avg_issues = mean(Issues, na.rm = TRUE),\n",
    "    avg_repo_age = mean(repo_age_days, na.rm = TRUE),\n",
    "    avg_days_since_update = mean(days_since_update, na.rm = TRUE)\n",
    "  )\n",
    "\n",
    "print(summary_stats)\n",
    "head(df_cleaned, n = 3)\n",
    "nrow(df_cleaned)\n",
    "sum(is.na(df_cleaned))"
   ]
  },
  {
   "cell_type": "markdown",
   "id": "b6a38a8c-aa39-41b4-8acd-528c102f848b",
   "metadata": {},
   "source": [
    "In this cell, I will split the data into training/testing data (80/20 ratio). I will use them to fit the linear regression model, predict 'Stars' values, and evaluate the model.  "
   ]
  },
  {
   "cell_type": "code",
   "execution_count": 12,
   "id": "545809fb-9013-4b78-b617-f346816c355d",
   "metadata": {},
   "outputs": [
    {
     "data": {
      "text/html": [
       "<table class=\"dataframe\">\n",
       "<caption>A tibble: 6 × 10</caption>\n",
       "<thead>\n",
       "\t<tr><th scope=col>Size</th><th scope=col>Stars</th><th scope=col>Forks</th><th scope=col>Issues</th><th scope=col>Watchers</th><th scope=col>Is Archived</th><th scope=col>Has Issues</th><th scope=col>Has Pages</th><th scope=col>repo_age_days</th><th scope=col>days_since_update</th></tr>\n",
       "\t<tr><th scope=col>&lt;dbl&gt;</th><th scope=col>&lt;dbl&gt;</th><th scope=col>&lt;dbl&gt;</th><th scope=col>&lt;dbl&gt;</th><th scope=col>&lt;dbl&gt;</th><th scope=col>&lt;lgl&gt;</th><th scope=col>&lt;lgl&gt;</th><th scope=col>&lt;lgl&gt;</th><th scope=col>&lt;dbl&gt;</th><th scope=col>&lt;dbl&gt;</th></tr>\n",
       "</thead>\n",
       "<tbody>\n",
       "\t<tr><td>  4131</td><td>1513</td><td>102</td><td>51</td><td>1513</td><td>FALSE</td><td>TRUE</td><td>FALSE</td><td>2703</td><td>433</td></tr>\n",
       "\t<tr><td>  1202</td><td> 538</td><td> 76</td><td>45</td><td> 538</td><td>FALSE</td><td>TRUE</td><td>FALSE</td><td>3290</td><td>431</td></tr>\n",
       "\t<tr><td>   380</td><td> 219</td><td> 24</td><td> 6</td><td> 219</td><td>FALSE</td><td>TRUE</td><td>FALSE</td><td>3055</td><td>547</td></tr>\n",
       "\t<tr><td>  8082</td><td> 931</td><td>671</td><td> 7</td><td> 931</td><td>FALSE</td><td>TRUE</td><td>FALSE</td><td>2475</td><td>432</td></tr>\n",
       "\t<tr><td>    19</td><td> 538</td><td> 43</td><td> 3</td><td> 538</td><td>FALSE</td><td>TRUE</td><td>FALSE</td><td>1370</td><td>434</td></tr>\n",
       "\t<tr><td>443338</td><td> 260</td><td>148</td><td> 1</td><td> 260</td><td>FALSE</td><td>TRUE</td><td>FALSE</td><td>1921</td><td>433</td></tr>\n",
       "</tbody>\n",
       "</table>\n"
      ],
      "text/latex": [
       "A tibble: 6 × 10\n",
       "\\begin{tabular}{llllllllll}\n",
       " Size & Stars & Forks & Issues & Watchers & Is Archived & Has Issues & Has Pages & repo\\_age\\_days & days\\_since\\_update\\\\\n",
       " <dbl> & <dbl> & <dbl> & <dbl> & <dbl> & <lgl> & <lgl> & <lgl> & <dbl> & <dbl>\\\\\n",
       "\\hline\n",
       "\t   4131 & 1513 & 102 & 51 & 1513 & FALSE & TRUE & FALSE & 2703 & 433\\\\\n",
       "\t   1202 &  538 &  76 & 45 &  538 & FALSE & TRUE & FALSE & 3290 & 431\\\\\n",
       "\t    380 &  219 &  24 &  6 &  219 & FALSE & TRUE & FALSE & 3055 & 547\\\\\n",
       "\t   8082 &  931 & 671 &  7 &  931 & FALSE & TRUE & FALSE & 2475 & 432\\\\\n",
       "\t     19 &  538 &  43 &  3 &  538 & FALSE & TRUE & FALSE & 1370 & 434\\\\\n",
       "\t 443338 &  260 & 148 &  1 &  260 & FALSE & TRUE & FALSE & 1921 & 433\\\\\n",
       "\\end{tabular}\n"
      ],
      "text/markdown": [
       "\n",
       "A tibble: 6 × 10\n",
       "\n",
       "| Size &lt;dbl&gt; | Stars &lt;dbl&gt; | Forks &lt;dbl&gt; | Issues &lt;dbl&gt; | Watchers &lt;dbl&gt; | Is Archived &lt;lgl&gt; | Has Issues &lt;lgl&gt; | Has Pages &lt;lgl&gt; | repo_age_days &lt;dbl&gt; | days_since_update &lt;dbl&gt; |\n",
       "|---|---|---|---|---|---|---|---|---|---|\n",
       "|   4131 | 1513 | 102 | 51 | 1513 | FALSE | TRUE | FALSE | 2703 | 433 |\n",
       "|   1202 |  538 |  76 | 45 |  538 | FALSE | TRUE | FALSE | 3290 | 431 |\n",
       "|    380 |  219 |  24 |  6 |  219 | FALSE | TRUE | FALSE | 3055 | 547 |\n",
       "|   8082 |  931 | 671 |  7 |  931 | FALSE | TRUE | FALSE | 2475 | 432 |\n",
       "|     19 |  538 |  43 |  3 |  538 | FALSE | TRUE | FALSE | 1370 | 434 |\n",
       "| 443338 |  260 | 148 |  1 |  260 | FALSE | TRUE | FALSE | 1921 | 433 |\n",
       "\n"
      ],
      "text/plain": [
       "  Size   Stars Forks Issues Watchers Is Archived Has Issues Has Pages\n",
       "1   4131 1513  102   51     1513     FALSE       TRUE       FALSE    \n",
       "2   1202  538   76   45      538     FALSE       TRUE       FALSE    \n",
       "3    380  219   24    6      219     FALSE       TRUE       FALSE    \n",
       "4   8082  931  671    7      931     FALSE       TRUE       FALSE    \n",
       "5     19  538   43    3      538     FALSE       TRUE       FALSE    \n",
       "6 443338  260  148    1      260     FALSE       TRUE       FALSE    \n",
       "  repo_age_days days_since_update\n",
       "1 2703          433              \n",
       "2 3290          431              \n",
       "3 3055          547              \n",
       "4 2475          432              \n",
       "5 1370          434              \n",
       "6 1921          433              "
      ]
     },
     "metadata": {},
     "output_type": "display_data"
    },
    {
     "data": {
      "text/html": [
       "8000"
      ],
      "text/latex": [
       "8000"
      ],
      "text/markdown": [
       "8000"
      ],
      "text/plain": [
       "[1] 8000"
      ]
     },
     "metadata": {},
     "output_type": "display_data"
    },
    {
     "data": {
      "text/html": [
       "2000"
      ],
      "text/latex": [
       "2000"
      ],
      "text/markdown": [
       "2000"
      ],
      "text/plain": [
       "[1] 2000"
      ]
     },
     "metadata": {},
     "output_type": "display_data"
    }
   ],
   "source": [
    "set.seed(123) # DO NOT CHANGE!\n",
    "\n",
    "GitHub_sample <-\n",
    "    df_cleaned %>%\n",
    "    mutate(id = row_number())\n",
    "\n",
    "training_GitHub <- \n",
    "    GitHub_sample %>%\n",
    "    slice_sample(prop = 0.80, replace = FALSE)\n",
    "\n",
    "testing_GitHub <- \n",
    "    GitHub_sample %>% \n",
    "    anti_join(training_GitHub, by = \"id\") %>%\n",
    "    select(-id)\n",
    "\n",
    "training_GitHub <- \n",
    "    training_GitHub %>% \n",
    "    select(-id)\n",
    "\n",
    "head(training_GitHub)\n",
    "nrow(training_GitHub)\n",
    "\n",
    "nrow(testing_GitHub)"
   ]
  },
  {
   "cell_type": "markdown",
   "id": "8ece48fa-6f3d-4b5d-888a-bdbcad6c0ded",
   "metadata": {},
   "source": [
    "- One of the limitations I faced when running the Forward Selection Algorithm on the given data was that The kernel would collapse and restart entirely.\n",
    "- To solve this problem, I will drop some of the categorical variables that have many levels (>2) and I, from the experience I gained in this course, believe they have little to no utility in predicting the number of stars."
   ]
  },
  {
   "cell_type": "code",
   "execution_count": 13,
   "id": "cca645b6-3779-4735-998c-cb7dc9c13019",
   "metadata": {},
   "outputs": [
    {
     "data": {
      "text/plain": [
       "Subset selection object\n",
       "Call: regsubsets.formula(Stars ~ ., data = training_GitHub, method = \"forward\", \n",
       "    nvmax = ncol(training_GitHub) - 1)\n",
       "9 Variables  (and intercept)\n",
       "                  Forced in Forced out\n",
       "Size                  FALSE      FALSE\n",
       "Forks                 FALSE      FALSE\n",
       "Issues                FALSE      FALSE\n",
       "Watchers              FALSE      FALSE\n",
       "`Is Archived`TRUE     FALSE      FALSE\n",
       "`Has Issues`TRUE      FALSE      FALSE\n",
       "`Has Pages`TRUE       FALSE      FALSE\n",
       "repo_age_days         FALSE      FALSE\n",
       "days_since_update     FALSE      FALSE\n",
       "1 subsets of each size up to 9\n",
       "Selection Algorithm: forward"
      ]
     },
     "metadata": {},
     "output_type": "display_data"
    }
   ],
   "source": [
    "GitHub_forward_sel <- regsubsets(\n",
    "  Stars ~ ., data = training_GitHub,\n",
    "  method = \"forward\",\n",
    "  nvmax = ncol(training_GitHub) - 1\n",
    ")\n",
    "GitHub_forward_sel\n",
    "\n",
    "GitHub_fwd_summary <- summary(GitHub_forward_sel)\n",
    "\n",
    "GitHub_fwd_summary <- tibble(\n",
    "  n_input_variables = 1:length(GitHub_fwd_summary$rss),  \n",
    "  RSS = GitHub_fwd_summary$rss,\n",
    "  BIC = GitHub_fwd_summary$bic,\n",
    "  Cp = GitHub_fwd_summary$cp\n",
    ")"
   ]
  },
  {
   "cell_type": "code",
   "execution_count": 14,
   "id": "e0ca7186-3557-4de3-8c01-efc0b6dc5283",
   "metadata": {},
   "outputs": [
    {
     "data": {
      "text/html": [
       "<table class=\"dataframe\">\n",
       "<caption>A tibble: 9 × 4</caption>\n",
       "<thead>\n",
       "\t<tr><th scope=col>n_input_variables</th><th scope=col>RSS</th><th scope=col>BIC</th><th scope=col>Cp</th></tr>\n",
       "\t<tr><th scope=col>&lt;int&gt;</th><th scope=col>&lt;dbl&gt;</th><th scope=col>&lt;dbl&gt;</th><th scope=col>&lt;dbl&gt;</th></tr>\n",
       "</thead>\n",
       "<tbody>\n",
       "\t<tr><td>1</td><td>1.522173e-19</td><td>-546543.4</td><td>16.5675151</td></tr>\n",
       "\t<tr><td>2</td><td>1.518752e-19</td><td>-546552.5</td><td> 0.5579650</td></tr>\n",
       "\t<tr><td>3</td><td>1.518428e-19</td><td>-546545.2</td><td> 0.8531394</td></tr>\n",
       "\t<tr><td>4</td><td>1.518212e-19</td><td>-546537.3</td><td> 1.7156305</td></tr>\n",
       "\t<tr><td>5</td><td>1.518023e-19</td><td>-546529.3</td><td> 2.7214185</td></tr>\n",
       "\t<tr><td>6</td><td>1.517895e-19</td><td>-546521.0</td><td> 4.0451975</td></tr>\n",
       "\t<tr><td>7</td><td>1.517889e-19</td><td>-546512.1</td><td> 6.0138368</td></tr>\n",
       "\t<tr><td>8</td><td>1.517887e-19</td><td>-546503.1</td><td> 8.0055957</td></tr>\n",
       "\t<tr><td>9</td><td>1.517886e-19</td><td>-546494.1</td><td>10.0000000</td></tr>\n",
       "</tbody>\n",
       "</table>\n"
      ],
      "text/latex": [
       "A tibble: 9 × 4\n",
       "\\begin{tabular}{llll}\n",
       " n\\_input\\_variables & RSS & BIC & Cp\\\\\n",
       " <int> & <dbl> & <dbl> & <dbl>\\\\\n",
       "\\hline\n",
       "\t 1 & 1.522173e-19 & -546543.4 & 16.5675151\\\\\n",
       "\t 2 & 1.518752e-19 & -546552.5 &  0.5579650\\\\\n",
       "\t 3 & 1.518428e-19 & -546545.2 &  0.8531394\\\\\n",
       "\t 4 & 1.518212e-19 & -546537.3 &  1.7156305\\\\\n",
       "\t 5 & 1.518023e-19 & -546529.3 &  2.7214185\\\\\n",
       "\t 6 & 1.517895e-19 & -546521.0 &  4.0451975\\\\\n",
       "\t 7 & 1.517889e-19 & -546512.1 &  6.0138368\\\\\n",
       "\t 8 & 1.517887e-19 & -546503.1 &  8.0055957\\\\\n",
       "\t 9 & 1.517886e-19 & -546494.1 & 10.0000000\\\\\n",
       "\\end{tabular}\n"
      ],
      "text/markdown": [
       "\n",
       "A tibble: 9 × 4\n",
       "\n",
       "| n_input_variables &lt;int&gt; | RSS &lt;dbl&gt; | BIC &lt;dbl&gt; | Cp &lt;dbl&gt; |\n",
       "|---|---|---|---|\n",
       "| 1 | 1.522173e-19 | -546543.4 | 16.5675151 |\n",
       "| 2 | 1.518752e-19 | -546552.5 |  0.5579650 |\n",
       "| 3 | 1.518428e-19 | -546545.2 |  0.8531394 |\n",
       "| 4 | 1.518212e-19 | -546537.3 |  1.7156305 |\n",
       "| 5 | 1.518023e-19 | -546529.3 |  2.7214185 |\n",
       "| 6 | 1.517895e-19 | -546521.0 |  4.0451975 |\n",
       "| 7 | 1.517889e-19 | -546512.1 |  6.0138368 |\n",
       "| 8 | 1.517887e-19 | -546503.1 |  8.0055957 |\n",
       "| 9 | 1.517886e-19 | -546494.1 | 10.0000000 |\n",
       "\n"
      ],
      "text/plain": [
       "  n_input_variables RSS          BIC       Cp        \n",
       "1 1                 1.522173e-19 -546543.4 16.5675151\n",
       "2 2                 1.518752e-19 -546552.5  0.5579650\n",
       "3 3                 1.518428e-19 -546545.2  0.8531394\n",
       "4 4                 1.518212e-19 -546537.3  1.7156305\n",
       "5 5                 1.518023e-19 -546529.3  2.7214185\n",
       "6 6                 1.517895e-19 -546521.0  4.0451975\n",
       "7 7                 1.517889e-19 -546512.1  6.0138368\n",
       "8 8                 1.517887e-19 -546503.1  8.0055957\n",
       "9 9                 1.517886e-19 -546494.1 10.0000000"
      ]
     },
     "metadata": {},
     "output_type": "display_data"
    },
    {
     "data": {
      "text/plain": [
       "Subset selection object\n",
       "Call: regsubsets.formula(Stars ~ ., data = training_GitHub, method = \"forward\", \n",
       "    nvmax = ncol(training_GitHub) - 1)\n",
       "9 Variables  (and intercept)\n",
       "                  Forced in Forced out\n",
       "Size                  FALSE      FALSE\n",
       "Forks                 FALSE      FALSE\n",
       "Issues                FALSE      FALSE\n",
       "Watchers              FALSE      FALSE\n",
       "`Is Archived`TRUE     FALSE      FALSE\n",
       "`Has Issues`TRUE      FALSE      FALSE\n",
       "`Has Pages`TRUE       FALSE      FALSE\n",
       "repo_age_days         FALSE      FALSE\n",
       "days_since_update     FALSE      FALSE\n",
       "1 subsets of each size up to 9\n",
       "Selection Algorithm: forward\n",
       "         Size Forks Issues Watchers `Is Archived`TRUE `Has Issues`TRUE\n",
       "1  ( 1 ) \" \"  \" \"   \" \"    \"*\"      \" \"               \" \"             \n",
       "2  ( 1 ) \" \"  \"*\"   \" \"    \"*\"      \" \"               \" \"             \n",
       "3  ( 1 ) \" \"  \"*\"   \" \"    \"*\"      \" \"               \" \"             \n",
       "4  ( 1 ) \" \"  \"*\"   \" \"    \"*\"      \" \"               \" \"             \n",
       "5  ( 1 ) \" \"  \"*\"   \" \"    \"*\"      \"*\"               \" \"             \n",
       "6  ( 1 ) \" \"  \"*\"   \" \"    \"*\"      \"*\"               \" \"             \n",
       "7  ( 1 ) \"*\"  \"*\"   \" \"    \"*\"      \"*\"               \" \"             \n",
       "8  ( 1 ) \"*\"  \"*\"   \" \"    \"*\"      \"*\"               \"*\"             \n",
       "9  ( 1 ) \"*\"  \"*\"   \"*\"    \"*\"      \"*\"               \"*\"             \n",
       "         `Has Pages`TRUE repo_age_days days_since_update\n",
       "1  ( 1 ) \" \"             \" \"           \" \"              \n",
       "2  ( 1 ) \" \"             \" \"           \" \"              \n",
       "3  ( 1 ) \" \"             \"*\"           \" \"              \n",
       "4  ( 1 ) \"*\"             \"*\"           \" \"              \n",
       "5  ( 1 ) \"*\"             \"*\"           \" \"              \n",
       "6  ( 1 ) \"*\"             \"*\"           \"*\"              \n",
       "7  ( 1 ) \"*\"             \"*\"           \"*\"              \n",
       "8  ( 1 ) \"*\"             \"*\"           \"*\"              \n",
       "9  ( 1 ) \"*\"             \"*\"           \"*\"              "
      ]
     },
     "metadata": {},
     "output_type": "display_data"
    }
   ],
   "source": [
    "GitHub_fwd_summary\n",
    "summary(GitHub_forward_sel)"
   ]
  },
  {
   "cell_type": "markdown",
   "id": "d1190c44-142e-4af6-85a2-02c1635162b5",
   "metadata": {},
   "source": [
    "*based on the forward selection, the variables for the best-fit model are Size Forks Issues Watchers. Therefore I will fit the training data into a linear regression prediction model using an additive model for all the variables we just selected(4). the reason I selected model (4) is that it has the best combination of lowest CP, BIC and the among the highest RSS.*"
   ]
  },
  {
   "cell_type": "code",
   "execution_count": 15,
   "id": "6d5c626d-ef2f-40b9-b65c-ad6cbd8bb781",
   "metadata": {},
   "outputs": [
    {
     "data": {
      "text/plain": [
       "\n",
       "Call:\n",
       "lm(formula = Stars ~ Size + Forks + Issues + Watchers, data = training_GitHub)\n",
       "\n",
       "Coefficients:\n",
       "(Intercept)         Size        Forks       Issues     Watchers  \n",
       "          0            0            0            0            1  \n"
      ]
     },
     "metadata": {},
     "output_type": "display_data"
    }
   ],
   "source": [
    "GitHub_full <- lm(Stars ~ Size + Forks + Issues + Watchers, data = training_GitHub)\n",
    "\n",
    "GitHub_full"
   ]
  },
  {
   "cell_type": "code",
   "execution_count": 16,
   "id": "31caa5d6-bc34-4b06-8711-72419e5152dc",
   "metadata": {},
   "outputs": [
    {
     "data": {
      "text/html": [
       "<style>\n",
       ".dl-inline {width: auto; margin:0; padding: 0}\n",
       ".dl-inline>dt, .dl-inline>dd {float: none; width: auto; display: inline-block}\n",
       ".dl-inline>dt::after {content: \":\\0020\"; padding-right: .5ex}\n",
       ".dl-inline>dt:not(:first-of-type) {padding-left: .5ex}\n",
       "</style><dl class=dl-inline><dt>1</dt><dd>418</dd><dt>2</dt><dd>2838</dd><dt>3</dt><dd>532</dd><dt>4</dt><dd>1029</dd><dt>5</dt><dd>289</dd><dt>6</dt><dd>206</dd></dl>\n"
      ],
      "text/latex": [
       "\\begin{description*}\n",
       "\\item[1] 418\n",
       "\\item[2] 2838\n",
       "\\item[3] 532\n",
       "\\item[4] 1029\n",
       "\\item[5] 289\n",
       "\\item[6] 206\n",
       "\\end{description*}\n"
      ],
      "text/markdown": [
       "1\n",
       ":   4182\n",
       ":   28383\n",
       ":   5324\n",
       ":   10295\n",
       ":   2896\n",
       ":   206\n",
       "\n"
      ],
      "text/plain": [
       "   1    2    3    4    5    6 \n",
       " 418 2838  532 1029  289  206 "
      ]
     },
     "metadata": {},
     "output_type": "display_data"
    }
   ],
   "source": [
    "GitHub_test_pred_full <- predict(GitHub_full, newdata = testing_GitHub)\n",
    "\n",
    "head(GitHub_test_pred_full)"
   ]
  },
  {
   "cell_type": "code",
   "execution_count": 17,
   "id": "2ddf5f9e-b6f9-4404-bc3e-f2f1b97a9b9e",
   "metadata": {},
   "outputs": [
    {
     "data": {
      "text/html": [
       "<table class=\"dataframe\">\n",
       "<caption>A tibble: 1 × 2</caption>\n",
       "<thead>\n",
       "\t<tr><th scope=col>Model</th><th scope=col>RMSE</th></tr>\n",
       "\t<tr><th scope=col>&lt;chr&gt;</th><th scope=col>&lt;dbl&gt;</th></tr>\n",
       "</thead>\n",
       "<tbody>\n",
       "\t<tr><td>Full Regression</td><td>0</td></tr>\n",
       "</tbody>\n",
       "</table>\n"
      ],
      "text/latex": [
       "A tibble: 1 × 2\n",
       "\\begin{tabular}{ll}\n",
       " Model & RMSE\\\\\n",
       " <chr> & <dbl>\\\\\n",
       "\\hline\n",
       "\t Full Regression & 0\\\\\n",
       "\\end{tabular}\n"
      ],
      "text/markdown": [
       "\n",
       "A tibble: 1 × 2\n",
       "\n",
       "| Model &lt;chr&gt; | RMSE &lt;dbl&gt; |\n",
       "|---|---|\n",
       "| Full Regression | 0 |\n",
       "\n"
      ],
      "text/plain": [
       "  Model           RMSE\n",
       "1 Full Regression 0   "
      ]
     },
     "metadata": {},
     "output_type": "display_data"
    }
   ],
   "source": [
    "GitHub_RMSE_model <- tibble(\n",
    "    Model = \"Full Regression\",\n",
    "    RMSE = rmse(model = GitHub_full,\n",
    "                data = testing_GitHub))\n",
    "\n",
    "GitHub_RMSE_model "
   ]
  },
  {
   "cell_type": "markdown",
   "id": "eff1030b-0555-4e03-9244-799911980d52",
   "metadata": {},
   "source": [
    "* - By using the vif function, and to resolve multicollinearity, I got the following results:\n",
    "  - Size: 1.001, Forks: 1.615, Issues: 1.441, Watchers: 2.042, `Has Discussions`: 1.051repo_age_days: 1.087, days_since_update: 1.071.\n",
    "  - I saw that 'Watchers' has a strong correlation with both 'Forks' and 'Issues' (0.62 and 0.55 respectively).\n",
    "  - Now lets fit a linear regression model without 'Watchers'\n",
    "  - Note: I could have removed 'Watchers' before running the Forward Selection Algorithm, however, I wanted to see what will the algorithm select as the best-fit model (and it included 'Watchers')*"
   ]
  },
  {
   "cell_type": "code",
   "execution_count": 18,
   "id": "842a677e-6149-466e-9268-6b2e3b906393",
   "metadata": {},
   "outputs": [
    {
     "data": {
      "text/plain": [
       "\n",
       "Call:\n",
       "lm(formula = Stars ~ Size + Forks + Issues + `Is Archived`, data = training_GitHub)\n",
       "\n",
       "Coefficients:\n",
       "      (Intercept)               Size              Forks             Issues  \n",
       "        3.737e+02         -7.477e-05          3.318e+00         -1.086e+00  \n",
       "`Is Archived`TRUE  \n",
       "       -1.976e+02  \n"
      ]
     },
     "metadata": {},
     "output_type": "display_data"
    }
   ],
   "source": [
    "GitHub_No_Watchers <- lm(Stars ~ Size + Forks + Issues + `Is Archived`, data = training_GitHub)\n",
    "\n",
    "GitHub_No_Watchers"
   ]
  },
  {
   "cell_type": "code",
   "execution_count": 19,
   "id": "53ae783e-67ad-4764-8d5f-193a72b8511b",
   "metadata": {},
   "outputs": [
    {
     "data": {
      "text/html": [
       "<style>\n",
       ".dl-inline {width: auto; margin:0; padding: 0}\n",
       ".dl-inline>dt, .dl-inline>dd {float: none; width: auto; display: inline-block}\n",
       ".dl-inline>dt::after {content: \":\\0020\"; padding-right: .5ex}\n",
       ".dl-inline>dt:not(:first-of-type) {padding-left: .5ex}\n",
       "</style><dl class=dl-inline><dt>1</dt><dd>815.020639491151</dd><dt>2</dt><dd>2740.79980435976</dd><dt>3</dt><dd>486.665581124347</dd><dt>4</dt><dd>2015.21422655178</dd><dt>5</dt><dd>608.346541968668</dd><dt>6</dt><dd>715.502628484911</dd></dl>\n"
      ],
      "text/latex": [
       "\\begin{description*}\n",
       "\\item[1] 815.020639491151\n",
       "\\item[2] 2740.79980435976\n",
       "\\item[3] 486.665581124347\n",
       "\\item[4] 2015.21422655178\n",
       "\\item[5] 608.346541968668\n",
       "\\item[6] 715.502628484911\n",
       "\\end{description*}\n"
      ],
      "text/markdown": [
       "1\n",
       ":   815.0206394911512\n",
       ":   2740.799804359763\n",
       ":   486.6655811243474\n",
       ":   2015.214226551785\n",
       ":   608.3465419686686\n",
       ":   715.502628484911\n",
       "\n"
      ],
      "text/plain": [
       "        1         2         3         4         5         6 \n",
       " 815.0206 2740.7998  486.6656 2015.2142  608.3465  715.5026 "
      ]
     },
     "metadata": {},
     "output_type": "display_data"
    }
   ],
   "source": [
    "GitHub_pred_No_Watchers <- predict(GitHub_No_Watchers, newdata = testing_GitHub)\n",
    "\n",
    "head(GitHub_pred_No_Watchers)"
   ]
  },
  {
   "cell_type": "code",
   "execution_count": 20,
   "id": "51de351d-7a89-4c0a-9364-7dad1e1007f0",
   "metadata": {},
   "outputs": [
    {
     "data": {
      "text/html": [
       "<table class=\"dataframe\">\n",
       "<caption>A tibble: 1 × 2</caption>\n",
       "<thead>\n",
       "\t<tr><th scope=col>Model</th><th scope=col>RMSE</th></tr>\n",
       "\t<tr><th scope=col>&lt;chr&gt;</th><th scope=col>&lt;dbl&gt;</th></tr>\n",
       "</thead>\n",
       "<tbody>\n",
       "\t<tr><td>Full Regression No Watchers</td><td>2759.662</td></tr>\n",
       "</tbody>\n",
       "</table>\n"
      ],
      "text/latex": [
       "A tibble: 1 × 2\n",
       "\\begin{tabular}{ll}\n",
       " Model & RMSE\\\\\n",
       " <chr> & <dbl>\\\\\n",
       "\\hline\n",
       "\t Full Regression No Watchers & 2759.662\\\\\n",
       "\\end{tabular}\n"
      ],
      "text/markdown": [
       "\n",
       "A tibble: 1 × 2\n",
       "\n",
       "| Model &lt;chr&gt; | RMSE &lt;dbl&gt; |\n",
       "|---|---|\n",
       "| Full Regression No Watchers | 2759.662 |\n",
       "\n"
      ],
      "text/plain": [
       "  Model                       RMSE    \n",
       "1 Full Regression No Watchers 2759.662"
      ]
     },
     "metadata": {},
     "output_type": "display_data"
    }
   ],
   "source": [
    "GitHub_RMSE_No_Watchers <- tibble(\n",
    "    Model = \"Full Regression No Watchers\",\n",
    "    RMSE = rmse(model = GitHub_No_Watchers,\n",
    "                data = testing_GitHub))\n",
    "\n",
    "GitHub_RMSE_No_Watchers"
   ]
  },
  {
   "cell_type": "markdown",
   "id": "4ff5380c-134d-4a5e-8b41-efc786fd644f",
   "metadata": {},
   "source": [
    "*Since we saw in the previous assignment visualization that 'Watchers' was perfectly linearly correlated with Stars.  Now, let's fit a simple linear regression model with only 'Forks' as an input.*"
   ]
  },
  {
   "cell_type": "code",
   "execution_count": 21,
   "id": "a5f10f93-9513-466d-8041-fc752fd53aa4",
   "metadata": {},
   "outputs": [
    {
     "data": {
      "text/plain": [
       "\n",
       "Call:\n",
       "lm(formula = Stars ~ Forks, data = training_GitHub)\n",
       "\n",
       "Coefficients:\n",
       "(Intercept)        Forks  \n",
       "    339.489        3.219  \n"
      ]
     },
     "metadata": {},
     "output_type": "display_data"
    }
   ],
   "source": [
    "GitHub_Simple_model <- lm(Stars ~ Forks, data = training_GitHub)\n",
    "\n",
    "GitHub_Simple_model"
   ]
  },
  {
   "cell_type": "code",
   "execution_count": 22,
   "id": "f2617e53-545d-4304-bd66-b027fff61439",
   "metadata": {},
   "outputs": [
    {
     "data": {
      "text/html": [
       "<style>\n",
       ".dl-inline {width: auto; margin:0; padding: 0}\n",
       ".dl-inline>dt, .dl-inline>dd {float: none; width: auto; display: inline-block}\n",
       ".dl-inline>dt::after {content: \":\\0020\"; padding-right: .5ex}\n",
       ".dl-inline>dt:not(:first-of-type) {padding-left: .5ex}\n",
       "</style><dl class=dl-inline><dt>1</dt><dd>418</dd><dt>2</dt><dd>2838</dd><dt>3</dt><dd>532</dd><dt>4</dt><dd>1029</dd><dt>5</dt><dd>289</dd><dt>6</dt><dd>206</dd></dl>\n"
      ],
      "text/latex": [
       "\\begin{description*}\n",
       "\\item[1] 418\n",
       "\\item[2] 2838\n",
       "\\item[3] 532\n",
       "\\item[4] 1029\n",
       "\\item[5] 289\n",
       "\\item[6] 206\n",
       "\\end{description*}\n"
      ],
      "text/markdown": [
       "1\n",
       ":   4182\n",
       ":   28383\n",
       ":   5324\n",
       ":   10295\n",
       ":   2896\n",
       ":   206\n",
       "\n"
      ],
      "text/plain": [
       "   1    2    3    4    5    6 \n",
       " 418 2838  532 1029  289  206 "
      ]
     },
     "metadata": {},
     "output_type": "display_data"
    }
   ],
   "source": [
    "GitHub_test_pred_Simple <- predict(GitHub_full, newdata = testing_GitHub)\n",
    "\n",
    "head(GitHub_test_pred_full)"
   ]
  },
  {
   "cell_type": "code",
   "execution_count": 23,
   "id": "5e15c7b4-92be-4502-86b5-66f99d631a18",
   "metadata": {},
   "outputs": [
    {
     "data": {
      "text/html": [
       "<table class=\"dataframe\">\n",
       "<caption>A tibble: 1 × 2</caption>\n",
       "<thead>\n",
       "\t<tr><th scope=col>Model</th><th scope=col>RMSE</th></tr>\n",
       "\t<tr><th scope=col>&lt;chr&gt;</th><th scope=col>&lt;dbl&gt;</th></tr>\n",
       "</thead>\n",
       "<tbody>\n",
       "\t<tr><td>OLS Simple Regression</td><td>2692.918</td></tr>\n",
       "</tbody>\n",
       "</table>\n"
      ],
      "text/latex": [
       "A tibble: 1 × 2\n",
       "\\begin{tabular}{ll}\n",
       " Model & RMSE\\\\\n",
       " <chr> & <dbl>\\\\\n",
       "\\hline\n",
       "\t OLS Simple Regression & 2692.918\\\\\n",
       "\\end{tabular}\n"
      ],
      "text/markdown": [
       "\n",
       "A tibble: 1 × 2\n",
       "\n",
       "| Model &lt;chr&gt; | RMSE &lt;dbl&gt; |\n",
       "|---|---|\n",
       "| OLS Simple Regression | 2692.918 |\n",
       "\n"
      ],
      "text/plain": [
       "  Model                 RMSE    \n",
       "1 OLS Simple Regression 2692.918"
      ]
     },
     "metadata": {},
     "output_type": "display_data"
    }
   ],
   "source": [
    "GitHub_RMSE_Simple_models <- tibble(\n",
    "    Model = \"OLS Simple Regression\",\n",
    "    RMSE = rmse(model = GitHub_Simple_model,\n",
    "                data = testing_GitHub))\n",
    "\n",
    "GitHub_RMSE_Simple_models"
   ]
  },
  {
   "cell_type": "code",
   "execution_count": null,
   "id": "40bcf093-cf4a-43c6-92cc-bb01281413b0",
   "metadata": {},
   "outputs": [],
   "source": []
  }
 ],
 "metadata": {
  "kernelspec": {
   "display_name": "R",
   "language": "R",
   "name": "ir"
  },
  "language_info": {
   "codemirror_mode": "r",
   "file_extension": ".r",
   "mimetype": "text/x-r-source",
   "name": "R",
   "pygments_lexer": "r",
   "version": "4.3.3"
  }
 },
 "nbformat": 4,
 "nbformat_minor": 5
}
