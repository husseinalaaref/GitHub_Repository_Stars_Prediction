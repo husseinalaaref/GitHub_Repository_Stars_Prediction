{
 "cells": [
  {
   "cell_type": "markdown",
   "id": "17cc6bf6-07df-4322-a83d-f8df67fc0978",
   "metadata": {},
   "source": [
    "## Implementation of a proposed model"
   ]
  },
  {
   "cell_type": "code",
   "execution_count": null,
   "id": "085dcc33-efbf-4574-bf88-9dae3d30d3b0",
   "metadata": {},
   "outputs": [
    {
     "name": "stderr",
     "output_type": "stream",
     "text": [
      "Updating HTML index of packages in '.Library'\n",
      "\n",
      "Making 'packages.html' ...\n",
      " done\n",
      "\n",
      "Updating HTML index of packages in '.Library'\n",
      "\n",
      "Making 'packages.html' ...\n",
      " done\n",
      "\n"
     ]
    }
   ],
   "source": [
    "install.packages(\"leaps\")\n",
    "install.packages(\"Metrics\")"
   ]
  },
  {
   "cell_type": "code",
   "execution_count": 67,
   "id": "1f9ec1bc-2d6b-4e88-bd2f-6665b2873918",
   "metadata": {},
   "outputs": [],
   "source": [
    "library(tidyverse)\n",
    "library(lubridate)\n",
    "\n",
    "library(ggplot2)\n",
    "library(broom)\n",
    "library(tidyr)\n",
    "library(dplyr)\n",
    "library(Metrics)\n",
    "library(modelr)\n",
    "\n",
    "library(leaps)\n",
    "library(caret)"
   ]
  },
  {
   "cell_type": "markdown",
   "id": "9b63d316-d9d8-4a8f-8216-689664893163",
   "metadata": {},
   "source": [
    "- In the previous assignment, I explored the data with useful visuals that allowed me to observe relationships between input variables and response one and among input variables themselves. I also observed how some input variables were highly correlated (multicollinearity) by plotting a heatmap.\n",
    "- in this assignment, I will first convert the 'Created_At' and 'Updated_AT' Date variables to numerical values, where they represent the days since created, updated respectively.\n",
    "- Then, I will clean the Data and use the Forward Selection Algorithm to find the best-fit model.\n",
    "- Afterward, I am going to split the data into training, testing data with a ratio of 80/20.\n",
    "- then, I am going to use the variables from the Forward Selection results to fit an Additive linear regression model.\n",
    "- Then, using the predict function, I am going to predict the number of stars in the testing set using the fitted model.\n",
    "- Finally, I will calculate the RMSE to evaluate the accuracy of the prediction model.*\n"
   ]
  },
  {
   "cell_type": "code",
   "execution_count": 68,
   "id": "1f7a1023-ec2d-4b14-97f8-0e868e7bebca",
   "metadata": {},
   "outputs": [
    {
     "name": "stderr",
     "output_type": "stream",
     "text": [
      "\u001b[1mRows: \u001b[22m\u001b[34m215029\u001b[39m \u001b[1mColumns: \u001b[22m\u001b[34m24\u001b[39m\n",
      "\u001b[36m──\u001b[39m \u001b[1mColumn specification\u001b[22m \u001b[36m────────────────────────────────────────────────────────\u001b[39m\n",
      "\u001b[1mDelimiter:\u001b[22m \",\"\n",
      "\u001b[31mchr\u001b[39m  (8): Name, Description, URL, Homepage, Language, License, Topics, Defau...\n",
      "\u001b[32mdbl\u001b[39m  (5): Size, Stars, Forks, Issues, Watchers\n",
      "\u001b[33mlgl\u001b[39m  (9): Has Issues, Has Projects, Has Downloads, Has Wiki, Has Pages, Has ...\n",
      "\u001b[34mdttm\u001b[39m (2): Created At, Updated At\n",
      "\n",
      "\u001b[36mℹ\u001b[39m Use `spec()` to retrieve the full column specification for this data.\n",
      "\u001b[36mℹ\u001b[39m Specify the column types or set `show_col_types = FALSE` to quiet this message.\n"
     ]
    }
   ],
   "source": [
    "df <- read_csv('repositories.csv')"
   ]
  },
  {
   "cell_type": "code",
   "execution_count": 69,
   "id": "c1354ad3-4a6a-4ef9-acc9-de3b0de47a66",
   "metadata": {},
   "outputs": [
    {
     "data": {
      "text/html": [
       "<table class=\"dataframe\">\n",
       "<caption>A tibble: 3 × 24</caption>\n",
       "<thead>\n",
       "\t<tr><th scope=col>Name</th><th scope=col>Description</th><th scope=col>URL</th><th scope=col>Created At</th><th scope=col>Updated At</th><th scope=col>Homepage</th><th scope=col>Size</th><th scope=col>Stars</th><th scope=col>Forks</th><th scope=col>Issues</th><th scope=col>⋯</th><th scope=col>Has Issues</th><th scope=col>Has Projects</th><th scope=col>Has Downloads</th><th scope=col>Has Wiki</th><th scope=col>Has Pages</th><th scope=col>Has Discussions</th><th scope=col>Is Fork</th><th scope=col>Is Archived</th><th scope=col>Is Template</th><th scope=col>Default Branch</th></tr>\n",
       "\t<tr><th scope=col>&lt;chr&gt;</th><th scope=col>&lt;chr&gt;</th><th scope=col>&lt;chr&gt;</th><th scope=col>&lt;dttm&gt;</th><th scope=col>&lt;dttm&gt;</th><th scope=col>&lt;chr&gt;</th><th scope=col>&lt;dbl&gt;</th><th scope=col>&lt;dbl&gt;</th><th scope=col>&lt;dbl&gt;</th><th scope=col>&lt;dbl&gt;</th><th scope=col>⋯</th><th scope=col>&lt;lgl&gt;</th><th scope=col>&lt;lgl&gt;</th><th scope=col>&lt;lgl&gt;</th><th scope=col>&lt;lgl&gt;</th><th scope=col>&lt;lgl&gt;</th><th scope=col>&lt;lgl&gt;</th><th scope=col>&lt;lgl&gt;</th><th scope=col>&lt;lgl&gt;</th><th scope=col>&lt;lgl&gt;</th><th scope=col>&lt;chr&gt;</th></tr>\n",
       "</thead>\n",
       "<tbody>\n",
       "\t<tr><td>kvs                         </td><td>💿 KVS: NVMe Key-Value Store       </td><td>https://github.com/synrc/kvs                          </td><td>2013-05-29 11:10:53</td><td>2023-08-31 09:06:02</td><td>https://kvs.n2o.dev</td><td> 917</td><td>174</td><td>50</td><td>0</td><td>⋯</td><td>TRUE</td><td> TRUE</td><td>TRUE</td><td>TRUE</td><td> TRUE</td><td>FALSE</td><td>FALSE</td><td>FALSE</td><td>FALSE</td><td>master</td></tr>\n",
       "\t<tr><td>GPU-GEMS-3D-Fluid-Simulation</td><td>3D fluid simulation on the in Unity</td><td>https://github.com/Scrawk/GPU-GEMS-3D-Fluid-Simulation</td><td>2017-06-21 00:49:51</td><td>2023-09-14 08:04:33</td><td>NA                 </td><td>  77</td><td>261</td><td>39</td><td>0</td><td>⋯</td><td>TRUE</td><td> TRUE</td><td>TRUE</td><td>TRUE</td><td>FALSE</td><td>FALSE</td><td>FALSE</td><td>FALSE</td><td>FALSE</td><td>master</td></tr>\n",
       "\t<tr><td>legacy-dotfiles             </td><td>NA                                 </td><td>https://github.com/rbnis/legacy-dotfiles              </td><td>2018-06-02 11:40:21</td><td>2023-09-13 13:30:09</td><td>NA                 </td><td>5774</td><td>175</td><td>44</td><td>5</td><td>⋯</td><td>TRUE</td><td>FALSE</td><td>TRUE</td><td>TRUE</td><td>FALSE</td><td>FALSE</td><td>FALSE</td><td> TRUE</td><td>FALSE</td><td>master</td></tr>\n",
       "</tbody>\n",
       "</table>\n"
      ],
      "text/latex": [
       "A tibble: 3 × 24\n",
       "\\begin{tabular}{lllllllllllllllllllll}\n",
       " Name & Description & URL & Created At & Updated At & Homepage & Size & Stars & Forks & Issues & ⋯ & Has Issues & Has Projects & Has Downloads & Has Wiki & Has Pages & Has Discussions & Is Fork & Is Archived & Is Template & Default Branch\\\\\n",
       " <chr> & <chr> & <chr> & <dttm> & <dttm> & <chr> & <dbl> & <dbl> & <dbl> & <dbl> & ⋯ & <lgl> & <lgl> & <lgl> & <lgl> & <lgl> & <lgl> & <lgl> & <lgl> & <lgl> & <chr>\\\\\n",
       "\\hline\n",
       "\t kvs                          & 💿 KVS: NVMe Key-Value Store        & https://github.com/synrc/kvs                           & 2013-05-29 11:10:53 & 2023-08-31 09:06:02 & https://kvs.n2o.dev &  917 & 174 & 50 & 0 & ⋯ & TRUE &  TRUE & TRUE & TRUE &  TRUE & FALSE & FALSE & FALSE & FALSE & master\\\\\n",
       "\t GPU-GEMS-3D-Fluid-Simulation & 3D fluid simulation on the in Unity & https://github.com/Scrawk/GPU-GEMS-3D-Fluid-Simulation & 2017-06-21 00:49:51 & 2023-09-14 08:04:33 & NA                  &   77 & 261 & 39 & 0 & ⋯ & TRUE &  TRUE & TRUE & TRUE & FALSE & FALSE & FALSE & FALSE & FALSE & master\\\\\n",
       "\t legacy-dotfiles              & NA                                  & https://github.com/rbnis/legacy-dotfiles               & 2018-06-02 11:40:21 & 2023-09-13 13:30:09 & NA                  & 5774 & 175 & 44 & 5 & ⋯ & TRUE & FALSE & TRUE & TRUE & FALSE & FALSE & FALSE &  TRUE & FALSE & master\\\\\n",
       "\\end{tabular}\n"
      ],
      "text/markdown": [
       "\n",
       "A tibble: 3 × 24\n",
       "\n",
       "| Name &lt;chr&gt; | Description &lt;chr&gt; | URL &lt;chr&gt; | Created At &lt;dttm&gt; | Updated At &lt;dttm&gt; | Homepage &lt;chr&gt; | Size &lt;dbl&gt; | Stars &lt;dbl&gt; | Forks &lt;dbl&gt; | Issues &lt;dbl&gt; | ⋯ ⋯ | Has Issues &lt;lgl&gt; | Has Projects &lt;lgl&gt; | Has Downloads &lt;lgl&gt; | Has Wiki &lt;lgl&gt; | Has Pages &lt;lgl&gt; | Has Discussions &lt;lgl&gt; | Is Fork &lt;lgl&gt; | Is Archived &lt;lgl&gt; | Is Template &lt;lgl&gt; | Default Branch &lt;chr&gt; |\n",
       "|---|---|---|---|---|---|---|---|---|---|---|---|---|---|---|---|---|---|---|---|---|\n",
       "| kvs                          | 💿 KVS: NVMe Key-Value Store        | https://github.com/synrc/kvs                           | 2013-05-29 11:10:53 | 2023-08-31 09:06:02 | https://kvs.n2o.dev |  917 | 174 | 50 | 0 | ⋯ | TRUE |  TRUE | TRUE | TRUE |  TRUE | FALSE | FALSE | FALSE | FALSE | master |\n",
       "| GPU-GEMS-3D-Fluid-Simulation | 3D fluid simulation on the in Unity | https://github.com/Scrawk/GPU-GEMS-3D-Fluid-Simulation | 2017-06-21 00:49:51 | 2023-09-14 08:04:33 | NA                  |   77 | 261 | 39 | 0 | ⋯ | TRUE |  TRUE | TRUE | TRUE | FALSE | FALSE | FALSE | FALSE | FALSE | master |\n",
       "| legacy-dotfiles              | NA                                  | https://github.com/rbnis/legacy-dotfiles               | 2018-06-02 11:40:21 | 2023-09-13 13:30:09 | NA                  | 5774 | 175 | 44 | 5 | ⋯ | TRUE | FALSE | TRUE | TRUE | FALSE | FALSE | FALSE |  TRUE | FALSE | master |\n",
       "\n"
      ],
      "text/plain": [
       "  Name                         Description                        \n",
       "1 kvs                          💿 KVS: NVMe Key-Value Store       \n",
       "2 GPU-GEMS-3D-Fluid-Simulation 3D fluid simulation on the in Unity\n",
       "3 legacy-dotfiles              NA                                 \n",
       "  URL                                                    Created At         \n",
       "1 https://github.com/synrc/kvs                           2013-05-29 11:10:53\n",
       "2 https://github.com/Scrawk/GPU-GEMS-3D-Fluid-Simulation 2017-06-21 00:49:51\n",
       "3 https://github.com/rbnis/legacy-dotfiles               2018-06-02 11:40:21\n",
       "  Updated At          Homepage            Size Stars Forks Issues ⋯ Has Issues\n",
       "1 2023-08-31 09:06:02 https://kvs.n2o.dev  917 174   50    0      ⋯ TRUE      \n",
       "2 2023-09-14 08:04:33 NA                    77 261   39    0      ⋯ TRUE      \n",
       "3 2023-09-13 13:30:09 NA                  5774 175   44    5      ⋯ TRUE      \n",
       "  Has Projects Has Downloads Has Wiki Has Pages Has Discussions Is Fork\n",
       "1  TRUE        TRUE          TRUE      TRUE     FALSE           FALSE  \n",
       "2  TRUE        TRUE          TRUE     FALSE     FALSE           FALSE  \n",
       "3 FALSE        TRUE          TRUE     FALSE     FALSE           FALSE  \n",
       "  Is Archived Is Template Default Branch\n",
       "1 FALSE       FALSE       master        \n",
       "2 FALSE       FALSE       master        \n",
       "3  TRUE       FALSE       master        "
      ]
     },
     "metadata": {},
     "output_type": "display_data"
    }
   ],
   "source": [
    "df_subset <- df %>% sample_n(size = 10000)\n",
    "\n",
    "head(df_subset, n = 3)"
   ]
  },
  {
   "cell_type": "markdown",
   "id": "e3cc974b-f8c8-4361-b186-539f43095c17",
   "metadata": {},
   "source": [
    "* - I am choosing only those variables because of the limitation on running the Forward Selection Algorithm on all of the given variables. Also, the other columns (e.g. logical variables) contain very redundant data.  \n",
    "Note: I explain more about this issue in the cell just above the Forward Selection cell down below.*"
   ]
  },
  {
   "cell_type": "code",
   "execution_count": 70,
   "id": "d39c5894-4139-4741-8ea2-6a37762017e1",
   "metadata": {},
   "outputs": [
    {
     "data": {
      "text/html": [
       "<table class=\"dataframe\">\n",
       "<caption>A tibble: 3 × 10</caption>\n",
       "<thead>\n",
       "\t<tr><th scope=col>Size</th><th scope=col>Stars</th><th scope=col>Forks</th><th scope=col>Issues</th><th scope=col>Watchers</th><th scope=col>Is Archived</th><th scope=col>Has Issues</th><th scope=col>Has Pages</th><th scope=col>Created At</th><th scope=col>Updated At</th></tr>\n",
       "\t<tr><th scope=col>&lt;dbl&gt;</th><th scope=col>&lt;dbl&gt;</th><th scope=col>&lt;dbl&gt;</th><th scope=col>&lt;dbl&gt;</th><th scope=col>&lt;dbl&gt;</th><th scope=col>&lt;lgl&gt;</th><th scope=col>&lt;lgl&gt;</th><th scope=col>&lt;lgl&gt;</th><th scope=col>&lt;dttm&gt;</th><th scope=col>&lt;dttm&gt;</th></tr>\n",
       "</thead>\n",
       "<tbody>\n",
       "\t<tr><td> 917</td><td>174</td><td>50</td><td>0</td><td>174</td><td>FALSE</td><td>TRUE</td><td> TRUE</td><td>2013-05-29 11:10:53</td><td>2023-08-31 09:06:02</td></tr>\n",
       "\t<tr><td>  77</td><td>261</td><td>39</td><td>0</td><td>261</td><td>FALSE</td><td>TRUE</td><td>FALSE</td><td>2017-06-21 00:49:51</td><td>2023-09-14 08:04:33</td></tr>\n",
       "\t<tr><td>5774</td><td>175</td><td>44</td><td>5</td><td>175</td><td> TRUE</td><td>TRUE</td><td>FALSE</td><td>2018-06-02 11:40:21</td><td>2023-09-13 13:30:09</td></tr>\n",
       "</tbody>\n",
       "</table>\n"
      ],
      "text/latex": [
       "A tibble: 3 × 10\n",
       "\\begin{tabular}{llllllllll}\n",
       " Size & Stars & Forks & Issues & Watchers & Is Archived & Has Issues & Has Pages & Created At & Updated At\\\\\n",
       " <dbl> & <dbl> & <dbl> & <dbl> & <dbl> & <lgl> & <lgl> & <lgl> & <dttm> & <dttm>\\\\\n",
       "\\hline\n",
       "\t  917 & 174 & 50 & 0 & 174 & FALSE & TRUE &  TRUE & 2013-05-29 11:10:53 & 2023-08-31 09:06:02\\\\\n",
       "\t   77 & 261 & 39 & 0 & 261 & FALSE & TRUE & FALSE & 2017-06-21 00:49:51 & 2023-09-14 08:04:33\\\\\n",
       "\t 5774 & 175 & 44 & 5 & 175 &  TRUE & TRUE & FALSE & 2018-06-02 11:40:21 & 2023-09-13 13:30:09\\\\\n",
       "\\end{tabular}\n"
      ],
      "text/markdown": [
       "\n",
       "A tibble: 3 × 10\n",
       "\n",
       "| Size &lt;dbl&gt; | Stars &lt;dbl&gt; | Forks &lt;dbl&gt; | Issues &lt;dbl&gt; | Watchers &lt;dbl&gt; | Is Archived &lt;lgl&gt; | Has Issues &lt;lgl&gt; | Has Pages &lt;lgl&gt; | Created At &lt;dttm&gt; | Updated At &lt;dttm&gt; |\n",
       "|---|---|---|---|---|---|---|---|---|---|\n",
       "|  917 | 174 | 50 | 0 | 174 | FALSE | TRUE |  TRUE | 2013-05-29 11:10:53 | 2023-08-31 09:06:02 |\n",
       "|   77 | 261 | 39 | 0 | 261 | FALSE | TRUE | FALSE | 2017-06-21 00:49:51 | 2023-09-14 08:04:33 |\n",
       "| 5774 | 175 | 44 | 5 | 175 |  TRUE | TRUE | FALSE | 2018-06-02 11:40:21 | 2023-09-13 13:30:09 |\n",
       "\n"
      ],
      "text/plain": [
       "  Size Stars Forks Issues Watchers Is Archived Has Issues Has Pages\n",
       "1  917 174   50    0      174      FALSE       TRUE        TRUE    \n",
       "2   77 261   39    0      261      FALSE       TRUE       FALSE    \n",
       "3 5774 175   44    5      175       TRUE       TRUE       FALSE    \n",
       "  Created At          Updated At         \n",
       "1 2013-05-29 11:10:53 2023-08-31 09:06:02\n",
       "2 2017-06-21 00:49:51 2023-09-14 08:04:33\n",
       "3 2018-06-02 11:40:21 2023-09-13 13:30:09"
      ]
     },
     "metadata": {},
     "output_type": "display_data"
    },
    {
     "data": {
      "text/html": [
       "10000"
      ],
      "text/latex": [
       "10000"
      ],
      "text/markdown": [
       "10000"
      ],
      "text/plain": [
       "[1] 10000"
      ]
     },
     "metadata": {},
     "output_type": "display_data"
    },
    {
     "data": {
      "text/html": [
       "0"
      ],
      "text/latex": [
       "0"
      ],
      "text/markdown": [
       "0"
      ],
      "text/plain": [
       "[1] 0"
      ]
     },
     "metadata": {},
     "output_type": "display_data"
    }
   ],
   "source": [
    "features <- c(\"Size\", \"Stars\", \"Forks\",\n",
    "              \"Issues\", 'Watchers', 'Is Archived', 'Has Issues', 'Has Pages',\n",
    "              'Created At', 'Updated At')\n",
    "df_subset_1 <- df_subset %>% select(all_of(features))\n",
    "\n",
    "head(df_subset_1, n = 3)\n",
    "nrow(df_subset_1)\n",
    "sum(is.na(df_subset_1))"
   ]
  },
  {
   "cell_type": "code",
   "execution_count": 71,
   "id": "224b0b29-54f7-4d25-8495-2348490ba656",
   "metadata": {},
   "outputs": [],
   "source": [
    "df_subset$'Created At' <- as.Date(strptime(df_subset$'Created At', format = \"%Y-%m-%d %H:%M:%S\"))\n",
    "df_subset$'Updated At' <- as.Date(strptime(df_subset$'Updated At', format = \"%Y-%m-%d %H:%M:%S\"))"
   ]
  },
  {
   "cell_type": "code",
   "execution_count": 72,
   "id": "86d214b8-d3b2-4ad2-b210-caf32794b31c",
   "metadata": {},
   "outputs": [
    {
     "data": {
      "text/html": [
       "<table class=\"dataframe\">\n",
       "<caption>A tibble: 3 × 12</caption>\n",
       "<thead>\n",
       "\t<tr><th scope=col>Size</th><th scope=col>Stars</th><th scope=col>Forks</th><th scope=col>Issues</th><th scope=col>Watchers</th><th scope=col>Is Archived</th><th scope=col>Has Issues</th><th scope=col>Has Pages</th><th scope=col>Created At</th><th scope=col>Updated At</th><th scope=col>repo_age_days</th><th scope=col>days_since_update</th></tr>\n",
       "\t<tr><th scope=col>&lt;dbl&gt;</th><th scope=col>&lt;dbl&gt;</th><th scope=col>&lt;dbl&gt;</th><th scope=col>&lt;dbl&gt;</th><th scope=col>&lt;dbl&gt;</th><th scope=col>&lt;lgl&gt;</th><th scope=col>&lt;lgl&gt;</th><th scope=col>&lt;lgl&gt;</th><th scope=col>&lt;date&gt;</th><th scope=col>&lt;date&gt;</th><th scope=col>&lt;dbl&gt;</th><th scope=col>&lt;dbl&gt;</th></tr>\n",
       "</thead>\n",
       "<tbody>\n",
       "\t<tr><td> 917</td><td>174</td><td>50</td><td>0</td><td>174</td><td>FALSE</td><td>TRUE</td><td> TRUE</td><td>2013-05-29</td><td>2023-08-31</td><td>4202</td><td>456</td></tr>\n",
       "\t<tr><td>  77</td><td>261</td><td>39</td><td>0</td><td>261</td><td>FALSE</td><td>TRUE</td><td>FALSE</td><td>2017-06-21</td><td>2023-09-14</td><td>2718</td><td>442</td></tr>\n",
       "\t<tr><td>5774</td><td>175</td><td>44</td><td>5</td><td>175</td><td> TRUE</td><td>TRUE</td><td>FALSE</td><td>2018-06-02</td><td>2023-09-13</td><td>2372</td><td>443</td></tr>\n",
       "</tbody>\n",
       "</table>\n"
      ],
      "text/latex": [
       "A tibble: 3 × 12\n",
       "\\begin{tabular}{llllllllllll}\n",
       " Size & Stars & Forks & Issues & Watchers & Is Archived & Has Issues & Has Pages & Created At & Updated At & repo\\_age\\_days & days\\_since\\_update\\\\\n",
       " <dbl> & <dbl> & <dbl> & <dbl> & <dbl> & <lgl> & <lgl> & <lgl> & <date> & <date> & <dbl> & <dbl>\\\\\n",
       "\\hline\n",
       "\t  917 & 174 & 50 & 0 & 174 & FALSE & TRUE &  TRUE & 2013-05-29 & 2023-08-31 & 4202 & 456\\\\\n",
       "\t   77 & 261 & 39 & 0 & 261 & FALSE & TRUE & FALSE & 2017-06-21 & 2023-09-14 & 2718 & 442\\\\\n",
       "\t 5774 & 175 & 44 & 5 & 175 &  TRUE & TRUE & FALSE & 2018-06-02 & 2023-09-13 & 2372 & 443\\\\\n",
       "\\end{tabular}\n"
      ],
      "text/markdown": [
       "\n",
       "A tibble: 3 × 12\n",
       "\n",
       "| Size &lt;dbl&gt; | Stars &lt;dbl&gt; | Forks &lt;dbl&gt; | Issues &lt;dbl&gt; | Watchers &lt;dbl&gt; | Is Archived &lt;lgl&gt; | Has Issues &lt;lgl&gt; | Has Pages &lt;lgl&gt; | Created At &lt;date&gt; | Updated At &lt;date&gt; | repo_age_days &lt;dbl&gt; | days_since_update &lt;dbl&gt; |\n",
       "|---|---|---|---|---|---|---|---|---|---|---|---|\n",
       "|  917 | 174 | 50 | 0 | 174 | FALSE | TRUE |  TRUE | 2013-05-29 | 2023-08-31 | 4202 | 456 |\n",
       "|   77 | 261 | 39 | 0 | 261 | FALSE | TRUE | FALSE | 2017-06-21 | 2023-09-14 | 2718 | 442 |\n",
       "| 5774 | 175 | 44 | 5 | 175 |  TRUE | TRUE | FALSE | 2018-06-02 | 2023-09-13 | 2372 | 443 |\n",
       "\n"
      ],
      "text/plain": [
       "  Size Stars Forks Issues Watchers Is Archived Has Issues Has Pages Created At\n",
       "1  917 174   50    0      174      FALSE       TRUE        TRUE     2013-05-29\n",
       "2   77 261   39    0      261      FALSE       TRUE       FALSE     2017-06-21\n",
       "3 5774 175   44    5      175       TRUE       TRUE       FALSE     2018-06-02\n",
       "  Updated At repo_age_days days_since_update\n",
       "1 2023-08-31 4202          456              \n",
       "2 2023-09-14 2718          442              \n",
       "3 2023-09-13 2372          443              "
      ]
     },
     "metadata": {},
     "output_type": "display_data"
    }
   ],
   "source": [
    "df_subset_2 <- df_subset_1 %>%\n",
    "  mutate(\n",
    "    `Created At` = as.Date(`Created At`),        \n",
    "    `Updated At` = as.Date(`Updated At`),        \n",
    "    repo_age_days = as.numeric(Sys.Date() - `Created At`),\n",
    "    days_since_update = as.numeric(Sys.Date() - `Updated At`)\n",
    "  )\n",
    "\n",
    "head(df_subset_2, n = 3)"
   ]
  },
  {
   "cell_type": "code",
   "execution_count": 73,
   "id": "07e62245-cccd-4577-b56a-34d56bfced18",
   "metadata": {},
   "outputs": [
    {
     "data": {
      "text/html": [
       "<table class=\"dataframe\">\n",
       "<caption>A tibble: 3 × 10</caption>\n",
       "<thead>\n",
       "\t<tr><th scope=col>Size</th><th scope=col>Stars</th><th scope=col>Forks</th><th scope=col>Issues</th><th scope=col>Watchers</th><th scope=col>Is Archived</th><th scope=col>Has Issues</th><th scope=col>Has Pages</th><th scope=col>repo_age_days</th><th scope=col>days_since_update</th></tr>\n",
       "\t<tr><th scope=col>&lt;dbl&gt;</th><th scope=col>&lt;dbl&gt;</th><th scope=col>&lt;dbl&gt;</th><th scope=col>&lt;dbl&gt;</th><th scope=col>&lt;dbl&gt;</th><th scope=col>&lt;lgl&gt;</th><th scope=col>&lt;lgl&gt;</th><th scope=col>&lt;lgl&gt;</th><th scope=col>&lt;dbl&gt;</th><th scope=col>&lt;dbl&gt;</th></tr>\n",
       "</thead>\n",
       "<tbody>\n",
       "\t<tr><td> 917</td><td>174</td><td>50</td><td>0</td><td>174</td><td>FALSE</td><td>TRUE</td><td> TRUE</td><td>4202</td><td>456</td></tr>\n",
       "\t<tr><td>  77</td><td>261</td><td>39</td><td>0</td><td>261</td><td>FALSE</td><td>TRUE</td><td>FALSE</td><td>2718</td><td>442</td></tr>\n",
       "\t<tr><td>5774</td><td>175</td><td>44</td><td>5</td><td>175</td><td> TRUE</td><td>TRUE</td><td>FALSE</td><td>2372</td><td>443</td></tr>\n",
       "</tbody>\n",
       "</table>\n"
      ],
      "text/latex": [
       "A tibble: 3 × 10\n",
       "\\begin{tabular}{llllllllll}\n",
       " Size & Stars & Forks & Issues & Watchers & Is Archived & Has Issues & Has Pages & repo\\_age\\_days & days\\_since\\_update\\\\\n",
       " <dbl> & <dbl> & <dbl> & <dbl> & <dbl> & <lgl> & <lgl> & <lgl> & <dbl> & <dbl>\\\\\n",
       "\\hline\n",
       "\t  917 & 174 & 50 & 0 & 174 & FALSE & TRUE &  TRUE & 4202 & 456\\\\\n",
       "\t   77 & 261 & 39 & 0 & 261 & FALSE & TRUE & FALSE & 2718 & 442\\\\\n",
       "\t 5774 & 175 & 44 & 5 & 175 &  TRUE & TRUE & FALSE & 2372 & 443\\\\\n",
       "\\end{tabular}\n"
      ],
      "text/markdown": [
       "\n",
       "A tibble: 3 × 10\n",
       "\n",
       "| Size &lt;dbl&gt; | Stars &lt;dbl&gt; | Forks &lt;dbl&gt; | Issues &lt;dbl&gt; | Watchers &lt;dbl&gt; | Is Archived &lt;lgl&gt; | Has Issues &lt;lgl&gt; | Has Pages &lt;lgl&gt; | repo_age_days &lt;dbl&gt; | days_since_update &lt;dbl&gt; |\n",
       "|---|---|---|---|---|---|---|---|---|---|\n",
       "|  917 | 174 | 50 | 0 | 174 | FALSE | TRUE |  TRUE | 4202 | 456 |\n",
       "|   77 | 261 | 39 | 0 | 261 | FALSE | TRUE | FALSE | 2718 | 442 |\n",
       "| 5774 | 175 | 44 | 5 | 175 |  TRUE | TRUE | FALSE | 2372 | 443 |\n",
       "\n"
      ],
      "text/plain": [
       "  Size Stars Forks Issues Watchers Is Archived Has Issues Has Pages\n",
       "1  917 174   50    0      174      FALSE       TRUE        TRUE    \n",
       "2   77 261   39    0      261      FALSE       TRUE       FALSE    \n",
       "3 5774 175   44    5      175       TRUE       TRUE       FALSE    \n",
       "  repo_age_days days_since_update\n",
       "1 4202          456              \n",
       "2 2718          442              \n",
       "3 2372          443              "
      ]
     },
     "metadata": {},
     "output_type": "display_data"
    }
   ],
   "source": [
    "df_subset_3 <- df_subset_2 %>% select(-c('Created At', 'Updated At'))\n",
    "\n",
    "head(df_subset_3, n = 3)"
   ]
  },
  {
   "cell_type": "code",
   "execution_count": 74,
   "id": "82a4fcff-8911-4292-8232-15882b4fa26b",
   "metadata": {},
   "outputs": [
    {
     "data": {
      "text/html": [
       "<table class=\"dataframe\">\n",
       "<caption>A tibble: 6 × 3</caption>\n",
       "<thead>\n",
       "\t<tr><th scope=col>repo_age_days</th><th scope=col>days_since_update</th><th scope=col>n</th></tr>\n",
       "\t<tr><th scope=col>&lt;dbl&gt;</th><th scope=col>&lt;dbl&gt;</th><th scope=col>&lt;dbl&gt;</th></tr>\n",
       "</thead>\n",
       "<tbody>\n",
       "\t<tr><td>4202</td><td>456</td><td> 50</td></tr>\n",
       "\t<tr><td>2718</td><td>442</td><td> 39</td></tr>\n",
       "\t<tr><td>2372</td><td>443</td><td> 44</td></tr>\n",
       "\t<tr><td>4564</td><td>465</td><td> 40</td></tr>\n",
       "\t<tr><td>2058</td><td>440</td><td> 22</td></tr>\n",
       "\t<tr><td>5720</td><td>440</td><td>406</td></tr>\n",
       "</tbody>\n",
       "</table>\n"
      ],
      "text/latex": [
       "A tibble: 6 × 3\n",
       "\\begin{tabular}{lll}\n",
       " repo\\_age\\_days & days\\_since\\_update & n\\\\\n",
       " <dbl> & <dbl> & <dbl>\\\\\n",
       "\\hline\n",
       "\t 4202 & 456 &  50\\\\\n",
       "\t 2718 & 442 &  39\\\\\n",
       "\t 2372 & 443 &  44\\\\\n",
       "\t 4564 & 465 &  40\\\\\n",
       "\t 2058 & 440 &  22\\\\\n",
       "\t 5720 & 440 & 406\\\\\n",
       "\\end{tabular}\n"
      ],
      "text/markdown": [
       "\n",
       "A tibble: 6 × 3\n",
       "\n",
       "| repo_age_days &lt;dbl&gt; | days_since_update &lt;dbl&gt; | n &lt;dbl&gt; |\n",
       "|---|---|---|\n",
       "| 4202 | 456 |  50 |\n",
       "| 2718 | 442 |  39 |\n",
       "| 2372 | 443 |  44 |\n",
       "| 4564 | 465 |  40 |\n",
       "| 2058 | 440 |  22 |\n",
       "| 5720 | 440 | 406 |\n",
       "\n"
      ],
      "text/plain": [
       "  repo_age_days days_since_update n  \n",
       "1 4202          456                50\n",
       "2 2718          442                39\n",
       "3 2372          443                44\n",
       "4 4564          465                40\n",
       "5 2058          440                22\n",
       "6 5720          440               406"
      ]
     },
     "metadata": {},
     "output_type": "display_data"
    }
   ],
   "source": [
    "non_na_repo_age <- df_subset_3 %>% filter(!is.na(repo_age_days))\n",
    "non_na_days_since_update <- df_subset_3 %>% filter(!is.na(days_since_update))\n",
    "\n",
    "head(df_subset_3 %>% select(repo_age_days, days_since_update, n = 3))"
   ]
  },
  {
   "cell_type": "code",
   "execution_count": 75,
   "id": "7eee156d-27bf-464e-9dc8-3b553d09b56b",
   "metadata": {},
   "outputs": [
    {
     "data": {
      "text/html": [
       "<table class=\"dataframe\">\n",
       "<caption>A tibble: 3 × 10</caption>\n",
       "<thead>\n",
       "\t<tr><th scope=col>Size</th><th scope=col>Stars</th><th scope=col>Forks</th><th scope=col>Issues</th><th scope=col>Watchers</th><th scope=col>Is Archived</th><th scope=col>Has Issues</th><th scope=col>Has Pages</th><th scope=col>repo_age_days</th><th scope=col>days_since_update</th></tr>\n",
       "\t<tr><th scope=col>&lt;dbl&gt;</th><th scope=col>&lt;dbl&gt;</th><th scope=col>&lt;dbl&gt;</th><th scope=col>&lt;dbl&gt;</th><th scope=col>&lt;dbl&gt;</th><th scope=col>&lt;lgl&gt;</th><th scope=col>&lt;lgl&gt;</th><th scope=col>&lt;lgl&gt;</th><th scope=col>&lt;dbl&gt;</th><th scope=col>&lt;dbl&gt;</th></tr>\n",
       "</thead>\n",
       "<tbody>\n",
       "\t<tr><td> 917</td><td>174</td><td>50</td><td>0</td><td>174</td><td>FALSE</td><td>TRUE</td><td> TRUE</td><td>4202</td><td>456</td></tr>\n",
       "\t<tr><td>  77</td><td>261</td><td>39</td><td>0</td><td>261</td><td>FALSE</td><td>TRUE</td><td>FALSE</td><td>2718</td><td>442</td></tr>\n",
       "\t<tr><td>5774</td><td>175</td><td>44</td><td>5</td><td>175</td><td> TRUE</td><td>TRUE</td><td>FALSE</td><td>2372</td><td>443</td></tr>\n",
       "</tbody>\n",
       "</table>\n"
      ],
      "text/latex": [
       "A tibble: 3 × 10\n",
       "\\begin{tabular}{llllllllll}\n",
       " Size & Stars & Forks & Issues & Watchers & Is Archived & Has Issues & Has Pages & repo\\_age\\_days & days\\_since\\_update\\\\\n",
       " <dbl> & <dbl> & <dbl> & <dbl> & <dbl> & <lgl> & <lgl> & <lgl> & <dbl> & <dbl>\\\\\n",
       "\\hline\n",
       "\t  917 & 174 & 50 & 0 & 174 & FALSE & TRUE &  TRUE & 4202 & 456\\\\\n",
       "\t   77 & 261 & 39 & 0 & 261 & FALSE & TRUE & FALSE & 2718 & 442\\\\\n",
       "\t 5774 & 175 & 44 & 5 & 175 &  TRUE & TRUE & FALSE & 2372 & 443\\\\\n",
       "\\end{tabular}\n"
      ],
      "text/markdown": [
       "\n",
       "A tibble: 3 × 10\n",
       "\n",
       "| Size &lt;dbl&gt; | Stars &lt;dbl&gt; | Forks &lt;dbl&gt; | Issues &lt;dbl&gt; | Watchers &lt;dbl&gt; | Is Archived &lt;lgl&gt; | Has Issues &lt;lgl&gt; | Has Pages &lt;lgl&gt; | repo_age_days &lt;dbl&gt; | days_since_update &lt;dbl&gt; |\n",
       "|---|---|---|---|---|---|---|---|---|---|\n",
       "|  917 | 174 | 50 | 0 | 174 | FALSE | TRUE |  TRUE | 4202 | 456 |\n",
       "|   77 | 261 | 39 | 0 | 261 | FALSE | TRUE | FALSE | 2718 | 442 |\n",
       "| 5774 | 175 | 44 | 5 | 175 |  TRUE | TRUE | FALSE | 2372 | 443 |\n",
       "\n"
      ],
      "text/plain": [
       "  Size Stars Forks Issues Watchers Is Archived Has Issues Has Pages\n",
       "1  917 174   50    0      174      FALSE       TRUE        TRUE    \n",
       "2   77 261   39    0      261      FALSE       TRUE       FALSE    \n",
       "3 5774 175   44    5      175       TRUE       TRUE       FALSE    \n",
       "  repo_age_days days_since_update\n",
       "1 4202          456              \n",
       "2 2718          442              \n",
       "3 2372          443              "
      ]
     },
     "metadata": {},
     "output_type": "display_data"
    }
   ],
   "source": [
    "df_cleaned <- df_subset_3 %>% filter(!is.na(Stars) & !is.na(Forks) & !is.na(repo_age_days))  \n",
    "\n",
    "head(df_cleaned, n = 3)"
   ]
  },
  {
   "cell_type": "code",
   "execution_count": 76,
   "id": "e22f50c3-b282-4dcc-b122-f51cc3fcc4e8",
   "metadata": {},
   "outputs": [
    {
     "name": "stdout",
     "output_type": "stream",
     "text": [
      "\u001b[90m# A tibble: 1 × 6\u001b[39m\n",
      "  count avg_stars avg_forks avg_issues avg_repo_age avg_days_since_update\n",
      "  \u001b[3m\u001b[90m<int>\u001b[39m\u001b[23m     \u001b[3m\u001b[90m<dbl>\u001b[39m\u001b[23m     \u001b[3m\u001b[90m<dbl>\u001b[39m\u001b[23m      \u001b[3m\u001b[90m<dbl>\u001b[39m\u001b[23m        \u001b[3m\u001b[90m<dbl>\u001b[39m\u001b[23m                 \u001b[3m\u001b[90m<dbl>\u001b[39m\u001b[23m\n",
      "\u001b[90m1\u001b[39m \u001b[4m1\u001b[24m\u001b[4m0\u001b[24m000     \u001b[4m1\u001b[24m092.      230.       37.8        \u001b[4m2\u001b[24m765.                  454.\n"
     ]
    },
    {
     "data": {
      "text/html": [
       "<table class=\"dataframe\">\n",
       "<caption>A tibble: 3 × 10</caption>\n",
       "<thead>\n",
       "\t<tr><th scope=col>Size</th><th scope=col>Stars</th><th scope=col>Forks</th><th scope=col>Issues</th><th scope=col>Watchers</th><th scope=col>Is Archived</th><th scope=col>Has Issues</th><th scope=col>Has Pages</th><th scope=col>repo_age_days</th><th scope=col>days_since_update</th></tr>\n",
       "\t<tr><th scope=col>&lt;dbl&gt;</th><th scope=col>&lt;dbl&gt;</th><th scope=col>&lt;dbl&gt;</th><th scope=col>&lt;dbl&gt;</th><th scope=col>&lt;dbl&gt;</th><th scope=col>&lt;lgl&gt;</th><th scope=col>&lt;lgl&gt;</th><th scope=col>&lt;lgl&gt;</th><th scope=col>&lt;dbl&gt;</th><th scope=col>&lt;dbl&gt;</th></tr>\n",
       "</thead>\n",
       "<tbody>\n",
       "\t<tr><td> 917</td><td>174</td><td>50</td><td>0</td><td>174</td><td>FALSE</td><td>TRUE</td><td> TRUE</td><td>4202</td><td>456</td></tr>\n",
       "\t<tr><td>  77</td><td>261</td><td>39</td><td>0</td><td>261</td><td>FALSE</td><td>TRUE</td><td>FALSE</td><td>2718</td><td>442</td></tr>\n",
       "\t<tr><td>5774</td><td>175</td><td>44</td><td>5</td><td>175</td><td> TRUE</td><td>TRUE</td><td>FALSE</td><td>2372</td><td>443</td></tr>\n",
       "</tbody>\n",
       "</table>\n"
      ],
      "text/latex": [
       "A tibble: 3 × 10\n",
       "\\begin{tabular}{llllllllll}\n",
       " Size & Stars & Forks & Issues & Watchers & Is Archived & Has Issues & Has Pages & repo\\_age\\_days & days\\_since\\_update\\\\\n",
       " <dbl> & <dbl> & <dbl> & <dbl> & <dbl> & <lgl> & <lgl> & <lgl> & <dbl> & <dbl>\\\\\n",
       "\\hline\n",
       "\t  917 & 174 & 50 & 0 & 174 & FALSE & TRUE &  TRUE & 4202 & 456\\\\\n",
       "\t   77 & 261 & 39 & 0 & 261 & FALSE & TRUE & FALSE & 2718 & 442\\\\\n",
       "\t 5774 & 175 & 44 & 5 & 175 &  TRUE & TRUE & FALSE & 2372 & 443\\\\\n",
       "\\end{tabular}\n"
      ],
      "text/markdown": [
       "\n",
       "A tibble: 3 × 10\n",
       "\n",
       "| Size &lt;dbl&gt; | Stars &lt;dbl&gt; | Forks &lt;dbl&gt; | Issues &lt;dbl&gt; | Watchers &lt;dbl&gt; | Is Archived &lt;lgl&gt; | Has Issues &lt;lgl&gt; | Has Pages &lt;lgl&gt; | repo_age_days &lt;dbl&gt; | days_since_update &lt;dbl&gt; |\n",
       "|---|---|---|---|---|---|---|---|---|---|\n",
       "|  917 | 174 | 50 | 0 | 174 | FALSE | TRUE |  TRUE | 4202 | 456 |\n",
       "|   77 | 261 | 39 | 0 | 261 | FALSE | TRUE | FALSE | 2718 | 442 |\n",
       "| 5774 | 175 | 44 | 5 | 175 |  TRUE | TRUE | FALSE | 2372 | 443 |\n",
       "\n"
      ],
      "text/plain": [
       "  Size Stars Forks Issues Watchers Is Archived Has Issues Has Pages\n",
       "1  917 174   50    0      174      FALSE       TRUE        TRUE    \n",
       "2   77 261   39    0      261      FALSE       TRUE       FALSE    \n",
       "3 5774 175   44    5      175       TRUE       TRUE       FALSE    \n",
       "  repo_age_days days_since_update\n",
       "1 4202          456              \n",
       "2 2718          442              \n",
       "3 2372          443              "
      ]
     },
     "metadata": {},
     "output_type": "display_data"
    },
    {
     "data": {
      "text/html": [
       "10000"
      ],
      "text/latex": [
       "10000"
      ],
      "text/markdown": [
       "10000"
      ],
      "text/plain": [
       "[1] 10000"
      ]
     },
     "metadata": {},
     "output_type": "display_data"
    },
    {
     "data": {
      "text/html": [
       "0"
      ],
      "text/latex": [
       "0"
      ],
      "text/markdown": [
       "0"
      ],
      "text/plain": [
       "[1] 0"
      ]
     },
     "metadata": {},
     "output_type": "display_data"
    }
   ],
   "source": [
    "summary_stats <- df_cleaned %>%\n",
    "  summarize(\n",
    "    count = n(),\n",
    "    avg_stars = mean(Stars, na.rm = TRUE),\n",
    "    avg_forks = mean(Forks, na.rm = TRUE),\n",
    "    avg_issues = mean(Issues, na.rm = TRUE),\n",
    "    avg_repo_age = mean(repo_age_days, na.rm = TRUE),\n",
    "    avg_days_since_update = mean(days_since_update, na.rm = TRUE)\n",
    "  )\n",
    "\n",
    "print(summary_stats)\n",
    "head(df_cleaned, n = 3)\n",
    "nrow(df_cleaned)\n",
    "sum(is.na(df_cleaned))"
   ]
  },
  {
   "cell_type": "markdown",
   "id": "b6a38a8c-aa39-41b4-8acd-528c102f848b",
   "metadata": {},
   "source": [
    "In this cell, I will split the data into training/testing data (80/20 ratio). I will use them to fit the linear regression model, predict 'Stars' values, and evaluate the model.  "
   ]
  },
  {
   "cell_type": "code",
   "execution_count": 77,
   "id": "545809fb-9013-4b78-b617-f346816c355d",
   "metadata": {},
   "outputs": [
    {
     "data": {
      "text/html": [
       "<table class=\"dataframe\">\n",
       "<caption>A tibble: 6 × 10</caption>\n",
       "<thead>\n",
       "\t<tr><th scope=col>Size</th><th scope=col>Stars</th><th scope=col>Forks</th><th scope=col>Issues</th><th scope=col>Watchers</th><th scope=col>Is Archived</th><th scope=col>Has Issues</th><th scope=col>Has Pages</th><th scope=col>repo_age_days</th><th scope=col>days_since_update</th></tr>\n",
       "\t<tr><th scope=col>&lt;dbl&gt;</th><th scope=col>&lt;dbl&gt;</th><th scope=col>&lt;dbl&gt;</th><th scope=col>&lt;dbl&gt;</th><th scope=col>&lt;dbl&gt;</th><th scope=col>&lt;lgl&gt;</th><th scope=col>&lt;lgl&gt;</th><th scope=col>&lt;lgl&gt;</th><th scope=col>&lt;dbl&gt;</th><th scope=col>&lt;dbl&gt;</th></tr>\n",
       "</thead>\n",
       "<tbody>\n",
       "\t<tr><td>  1806</td><td>291</td><td> 24</td><td> 0</td><td>291</td><td>FALSE</td><td>TRUE</td><td>FALSE</td><td> 927</td><td>441</td></tr>\n",
       "\t<tr><td>   176</td><td>181</td><td> 17</td><td> 0</td><td>181</td><td>FALSE</td><td>TRUE</td><td>FALSE</td><td>5450</td><td>560</td></tr>\n",
       "\t<tr><td>250118</td><td>428</td><td>222</td><td>24</td><td>428</td><td>FALSE</td><td>TRUE</td><td>FALSE</td><td>2401</td><td>437</td></tr>\n",
       "\t<tr><td>  2205</td><td>515</td><td> 86</td><td>36</td><td>515</td><td>FALSE</td><td>TRUE</td><td>FALSE</td><td>4527</td><td>461</td></tr>\n",
       "\t<tr><td> 15445</td><td>250</td><td> 34</td><td> 2</td><td>250</td><td>FALSE</td><td>TRUE</td><td>FALSE</td><td>3451</td><td>440</td></tr>\n",
       "\t<tr><td>    50</td><td>183</td><td> 39</td><td> 4</td><td>183</td><td>FALSE</td><td>TRUE</td><td>FALSE</td><td>1830</td><td>432</td></tr>\n",
       "</tbody>\n",
       "</table>\n"
      ],
      "text/latex": [
       "A tibble: 6 × 10\n",
       "\\begin{tabular}{llllllllll}\n",
       " Size & Stars & Forks & Issues & Watchers & Is Archived & Has Issues & Has Pages & repo\\_age\\_days & days\\_since\\_update\\\\\n",
       " <dbl> & <dbl> & <dbl> & <dbl> & <dbl> & <lgl> & <lgl> & <lgl> & <dbl> & <dbl>\\\\\n",
       "\\hline\n",
       "\t   1806 & 291 &  24 &  0 & 291 & FALSE & TRUE & FALSE &  927 & 441\\\\\n",
       "\t    176 & 181 &  17 &  0 & 181 & FALSE & TRUE & FALSE & 5450 & 560\\\\\n",
       "\t 250118 & 428 & 222 & 24 & 428 & FALSE & TRUE & FALSE & 2401 & 437\\\\\n",
       "\t   2205 & 515 &  86 & 36 & 515 & FALSE & TRUE & FALSE & 4527 & 461\\\\\n",
       "\t  15445 & 250 &  34 &  2 & 250 & FALSE & TRUE & FALSE & 3451 & 440\\\\\n",
       "\t     50 & 183 &  39 &  4 & 183 & FALSE & TRUE & FALSE & 1830 & 432\\\\\n",
       "\\end{tabular}\n"
      ],
      "text/markdown": [
       "\n",
       "A tibble: 6 × 10\n",
       "\n",
       "| Size &lt;dbl&gt; | Stars &lt;dbl&gt; | Forks &lt;dbl&gt; | Issues &lt;dbl&gt; | Watchers &lt;dbl&gt; | Is Archived &lt;lgl&gt; | Has Issues &lt;lgl&gt; | Has Pages &lt;lgl&gt; | repo_age_days &lt;dbl&gt; | days_since_update &lt;dbl&gt; |\n",
       "|---|---|---|---|---|---|---|---|---|---|\n",
       "|   1806 | 291 |  24 |  0 | 291 | FALSE | TRUE | FALSE |  927 | 441 |\n",
       "|    176 | 181 |  17 |  0 | 181 | FALSE | TRUE | FALSE | 5450 | 560 |\n",
       "| 250118 | 428 | 222 | 24 | 428 | FALSE | TRUE | FALSE | 2401 | 437 |\n",
       "|   2205 | 515 |  86 | 36 | 515 | FALSE | TRUE | FALSE | 4527 | 461 |\n",
       "|  15445 | 250 |  34 |  2 | 250 | FALSE | TRUE | FALSE | 3451 | 440 |\n",
       "|     50 | 183 |  39 |  4 | 183 | FALSE | TRUE | FALSE | 1830 | 432 |\n",
       "\n"
      ],
      "text/plain": [
       "  Size   Stars Forks Issues Watchers Is Archived Has Issues Has Pages\n",
       "1   1806 291    24    0     291      FALSE       TRUE       FALSE    \n",
       "2    176 181    17    0     181      FALSE       TRUE       FALSE    \n",
       "3 250118 428   222   24     428      FALSE       TRUE       FALSE    \n",
       "4   2205 515    86   36     515      FALSE       TRUE       FALSE    \n",
       "5  15445 250    34    2     250      FALSE       TRUE       FALSE    \n",
       "6     50 183    39    4     183      FALSE       TRUE       FALSE    \n",
       "  repo_age_days days_since_update\n",
       "1  927          441              \n",
       "2 5450          560              \n",
       "3 2401          437              \n",
       "4 4527          461              \n",
       "5 3451          440              \n",
       "6 1830          432              "
      ]
     },
     "metadata": {},
     "output_type": "display_data"
    },
    {
     "data": {
      "text/html": [
       "8000"
      ],
      "text/latex": [
       "8000"
      ],
      "text/markdown": [
       "8000"
      ],
      "text/plain": [
       "[1] 8000"
      ]
     },
     "metadata": {},
     "output_type": "display_data"
    },
    {
     "data": {
      "text/html": [
       "2000"
      ],
      "text/latex": [
       "2000"
      ],
      "text/markdown": [
       "2000"
      ],
      "text/plain": [
       "[1] 2000"
      ]
     },
     "metadata": {},
     "output_type": "display_data"
    }
   ],
   "source": [
    "set.seed(123) # DO NOT CHANGE!\n",
    "\n",
    "GitHub_sample <-\n",
    "    df_cleaned %>%\n",
    "    mutate(id = row_number())\n",
    "\n",
    "training_GitHub <- \n",
    "    GitHub_sample %>%\n",
    "    slice_sample(prop = 0.80, replace = FALSE)\n",
    "\n",
    "testing_GitHub <- \n",
    "    GitHub_sample %>% \n",
    "    anti_join(training_GitHub, by = \"id\") %>%\n",
    "    select(-id)\n",
    "\n",
    "training_GitHub <- \n",
    "    training_GitHub %>% \n",
    "    select(-id)\n",
    "\n",
    "head(training_GitHub)\n",
    "nrow(training_GitHub)\n",
    "\n",
    "nrow(testing_GitHub)"
   ]
  },
  {
   "cell_type": "markdown",
   "id": "8ece48fa-6f3d-4b5d-888a-bdbcad6c0ded",
   "metadata": {},
   "source": [
    "- One of the limitations I faced when running the Forward Selection Algorithm on the given data was that The kernel would collapse and restart entirely.\n",
    "- To solve this problem, I will drop some of the categorical variables that have many levels (>2) and I, from the experience I gained in this course, believe they have little to no utility in predicting the number of stars."
   ]
  },
  {
   "cell_type": "code",
   "execution_count": 78,
   "id": "cca645b6-3779-4735-998c-cb7dc9c13019",
   "metadata": {},
   "outputs": [
    {
     "data": {
      "text/plain": [
       "Subset selection object\n",
       "Call: regsubsets.formula(Stars ~ ., data = training_GitHub, method = \"forward\", \n",
       "    nvmax = ncol(training_GitHub) - 1)\n",
       "9 Variables  (and intercept)\n",
       "                  Forced in Forced out\n",
       "Size                  FALSE      FALSE\n",
       "Forks                 FALSE      FALSE\n",
       "Issues                FALSE      FALSE\n",
       "Watchers              FALSE      FALSE\n",
       "`Is Archived`TRUE     FALSE      FALSE\n",
       "`Has Issues`TRUE      FALSE      FALSE\n",
       "`Has Pages`TRUE       FALSE      FALSE\n",
       "repo_age_days         FALSE      FALSE\n",
       "days_since_update     FALSE      FALSE\n",
       "1 subsets of each size up to 9\n",
       "Selection Algorithm: forward"
      ]
     },
     "metadata": {},
     "output_type": "display_data"
    }
   ],
   "source": [
    "GitHub_forward_sel <- regsubsets(\n",
    "  Stars ~ ., data = training_GitHub,\n",
    "  method = \"forward\",\n",
    "  nvmax = ncol(training_GitHub) - 1\n",
    ")\n",
    "GitHub_forward_sel\n",
    "\n",
    "GitHub_fwd_summary <- summary(GitHub_forward_sel)\n",
    "\n",
    "GitHub_fwd_summary <- tibble(\n",
    "  n_input_variables = 1:length(GitHub_fwd_summary$rss),  \n",
    "  RSS = GitHub_fwd_summary$rss,\n",
    "  BIC = GitHub_fwd_summary$bic,\n",
    "  Cp = GitHub_fwd_summary$cp\n",
    ")"
   ]
  },
  {
   "cell_type": "code",
   "execution_count": 79,
   "id": "e0ca7186-3557-4de3-8c01-efc0b6dc5283",
   "metadata": {},
   "outputs": [
    {
     "data": {
      "text/html": [
       "<table class=\"dataframe\">\n",
       "<caption>A tibble: 9 × 4</caption>\n",
       "<thead>\n",
       "\t<tr><th scope=col>n_input_variables</th><th scope=col>RSS</th><th scope=col>BIC</th><th scope=col>Cp</th></tr>\n",
       "\t<tr><th scope=col>&lt;int&gt;</th><th scope=col>&lt;dbl&gt;</th><th scope=col>&lt;dbl&gt;</th><th scope=col>&lt;dbl&gt;</th></tr>\n",
       "</thead>\n",
       "<tbody>\n",
       "\t<tr><td>1</td><td>4.357731e-19</td><td>-538133.9</td><td>628.845164</td></tr>\n",
       "\t<tr><td>2</td><td>4.066121e-19</td><td>-538679.0</td><td> 53.688930</td></tr>\n",
       "\t<tr><td>3</td><td>4.037798e-19</td><td>-538725.9</td><td> -0.368246</td></tr>\n",
       "\t<tr><td>4</td><td>4.037477e-19</td><td>-538717.6</td><td>  0.997205</td></tr>\n",
       "\t<tr><td>5</td><td>4.037134e-19</td><td>-538709.2</td><td>  2.316943</td></tr>\n",
       "\t<tr><td>6</td><td>4.037072e-19</td><td>-538700.4</td><td>  4.194667</td></tr>\n",
       "\t<tr><td>7</td><td>4.037007e-19</td><td>-538691.5</td><td>  6.066094</td></tr>\n",
       "\t<tr><td>8</td><td>4.036974e-19</td><td>-538682.6</td><td>  8.000564</td></tr>\n",
       "\t<tr><td>9</td><td>4.036973e-19</td><td>-538673.6</td><td> 10.000000</td></tr>\n",
       "</tbody>\n",
       "</table>\n"
      ],
      "text/latex": [
       "A tibble: 9 × 4\n",
       "\\begin{tabular}{llll}\n",
       " n\\_input\\_variables & RSS & BIC & Cp\\\\\n",
       " <int> & <dbl> & <dbl> & <dbl>\\\\\n",
       "\\hline\n",
       "\t 1 & 4.357731e-19 & -538133.9 & 628.845164\\\\\n",
       "\t 2 & 4.066121e-19 & -538679.0 &  53.688930\\\\\n",
       "\t 3 & 4.037798e-19 & -538725.9 &  -0.368246\\\\\n",
       "\t 4 & 4.037477e-19 & -538717.6 &   0.997205\\\\\n",
       "\t 5 & 4.037134e-19 & -538709.2 &   2.316943\\\\\n",
       "\t 6 & 4.037072e-19 & -538700.4 &   4.194667\\\\\n",
       "\t 7 & 4.037007e-19 & -538691.5 &   6.066094\\\\\n",
       "\t 8 & 4.036974e-19 & -538682.6 &   8.000564\\\\\n",
       "\t 9 & 4.036973e-19 & -538673.6 &  10.000000\\\\\n",
       "\\end{tabular}\n"
      ],
      "text/markdown": [
       "\n",
       "A tibble: 9 × 4\n",
       "\n",
       "| n_input_variables &lt;int&gt; | RSS &lt;dbl&gt; | BIC &lt;dbl&gt; | Cp &lt;dbl&gt; |\n",
       "|---|---|---|---|\n",
       "| 1 | 4.357731e-19 | -538133.9 | 628.845164 |\n",
       "| 2 | 4.066121e-19 | -538679.0 |  53.688930 |\n",
       "| 3 | 4.037798e-19 | -538725.9 |  -0.368246 |\n",
       "| 4 | 4.037477e-19 | -538717.6 |   0.997205 |\n",
       "| 5 | 4.037134e-19 | -538709.2 |   2.316943 |\n",
       "| 6 | 4.037072e-19 | -538700.4 |   4.194667 |\n",
       "| 7 | 4.037007e-19 | -538691.5 |   6.066094 |\n",
       "| 8 | 4.036974e-19 | -538682.6 |   8.000564 |\n",
       "| 9 | 4.036973e-19 | -538673.6 |  10.000000 |\n",
       "\n"
      ],
      "text/plain": [
       "  n_input_variables RSS          BIC       Cp        \n",
       "1 1                 4.357731e-19 -538133.9 628.845164\n",
       "2 2                 4.066121e-19 -538679.0  53.688930\n",
       "3 3                 4.037798e-19 -538725.9  -0.368246\n",
       "4 4                 4.037477e-19 -538717.6   0.997205\n",
       "5 5                 4.037134e-19 -538709.2   2.316943\n",
       "6 6                 4.037072e-19 -538700.4   4.194667\n",
       "7 7                 4.037007e-19 -538691.5   6.066094\n",
       "8 8                 4.036974e-19 -538682.6   8.000564\n",
       "9 9                 4.036973e-19 -538673.6  10.000000"
      ]
     },
     "metadata": {},
     "output_type": "display_data"
    },
    {
     "data": {
      "text/plain": [
       "Subset selection object\n",
       "Call: regsubsets.formula(Stars ~ ., data = training_GitHub, method = \"forward\", \n",
       "    nvmax = ncol(training_GitHub) - 1)\n",
       "9 Variables  (and intercept)\n",
       "                  Forced in Forced out\n",
       "Size                  FALSE      FALSE\n",
       "Forks                 FALSE      FALSE\n",
       "Issues                FALSE      FALSE\n",
       "Watchers              FALSE      FALSE\n",
       "`Is Archived`TRUE     FALSE      FALSE\n",
       "`Has Issues`TRUE      FALSE      FALSE\n",
       "`Has Pages`TRUE       FALSE      FALSE\n",
       "repo_age_days         FALSE      FALSE\n",
       "days_since_update     FALSE      FALSE\n",
       "1 subsets of each size up to 9\n",
       "Selection Algorithm: forward\n",
       "         Size Forks Issues Watchers `Is Archived`TRUE `Has Issues`TRUE\n",
       "1  ( 1 ) \" \"  \" \"   \" \"    \"*\"      \" \"               \" \"             \n",
       "2  ( 1 ) \" \"  \"*\"   \" \"    \"*\"      \" \"               \" \"             \n",
       "3  ( 1 ) \" \"  \"*\"   \"*\"    \"*\"      \" \"               \" \"             \n",
       "4  ( 1 ) \" \"  \"*\"   \"*\"    \"*\"      \"*\"               \" \"             \n",
       "5  ( 1 ) \" \"  \"*\"   \"*\"    \"*\"      \"*\"               \" \"             \n",
       "6  ( 1 ) \" \"  \"*\"   \"*\"    \"*\"      \"*\"               \"*\"             \n",
       "7  ( 1 ) \"*\"  \"*\"   \"*\"    \"*\"      \"*\"               \"*\"             \n",
       "8  ( 1 ) \"*\"  \"*\"   \"*\"    \"*\"      \"*\"               \"*\"             \n",
       "9  ( 1 ) \"*\"  \"*\"   \"*\"    \"*\"      \"*\"               \"*\"             \n",
       "         `Has Pages`TRUE repo_age_days days_since_update\n",
       "1  ( 1 ) \" \"             \" \"           \" \"              \n",
       "2  ( 1 ) \" \"             \" \"           \" \"              \n",
       "3  ( 1 ) \" \"             \" \"           \" \"              \n",
       "4  ( 1 ) \" \"             \" \"           \" \"              \n",
       "5  ( 1 ) \" \"             \"*\"           \" \"              \n",
       "6  ( 1 ) \" \"             \"*\"           \" \"              \n",
       "7  ( 1 ) \" \"             \"*\"           \" \"              \n",
       "8  ( 1 ) \"*\"             \"*\"           \" \"              \n",
       "9  ( 1 ) \"*\"             \"*\"           \"*\"              "
      ]
     },
     "metadata": {},
     "output_type": "display_data"
    }
   ],
   "source": [
    "GitHub_fwd_summary\n",
    "summary(GitHub_forward_sel)"
   ]
  },
  {
   "cell_type": "markdown",
   "id": "d1190c44-142e-4af6-85a2-02c1635162b5",
   "metadata": {},
   "source": [
    "- based on the forward selection, the variables for the best-fit model are Size Forks Issues Watchers. Therefore I will fit the training data into a linear regression prediction model using an additive model for all the variables we just selected(4).\n",
    "-  the reason I selected model (4) is that it has the best combination of lowest CP, BIC and the among the highest RSS.*"
   ]
  },
  {
   "cell_type": "code",
   "execution_count": 99,
   "id": "6d5c626d-ef2f-40b9-b65c-ad6cbd8bb781",
   "metadata": {},
   "outputs": [
    {
     "data": {
      "text/plain": [
       "\n",
       "Call:\n",
       "lm(formula = Stars ~ Size + Forks + Issues + Watchers + `Is Archived`, \n",
       "    data = training_GitHub)\n",
       "\n",
       "Coefficients:\n",
       "      (Intercept)               Size              Forks             Issues  \n",
       "       -6.610e-14         -6.019e-21         -3.214e-16         -5.368e-16  \n",
       "         Watchers  `Is Archived`TRUE  \n",
       "        1.000e+00          4.625e-16  \n"
      ]
     },
     "metadata": {},
     "output_type": "display_data"
    }
   ],
   "source": [
    "GitHub_full <- lm(Stars ~ Size + Forks + Issues + Watchers + `Is Archived`, data = training_GitHub)\n",
    "\n",
    "GitHub_full"
   ]
  },
  {
   "cell_type": "code",
   "execution_count": 100,
   "id": "31caa5d6-bc34-4b06-8711-72419e5152dc",
   "metadata": {},
   "outputs": [
    {
     "data": {
      "text/html": [
       "<style>\n",
       ".dl-inline {width: auto; margin:0; padding: 0}\n",
       ".dl-inline>dt, .dl-inline>dd {float: none; width: auto; display: inline-block}\n",
       ".dl-inline>dt::after {content: \":\\0020\"; padding-right: .5ex}\n",
       ".dl-inline>dt:not(:first-of-type) {padding-left: .5ex}\n",
       "</style><dl class=dl-inline><dt>1</dt><dd>1848</dd><dt>2</dt><dd>815</dd><dt>3</dt><dd>194</dd><dt>4</dt><dd>257</dd><dt>5</dt><dd>401</dd><dt>6</dt><dd>841</dd></dl>\n"
      ],
      "text/latex": [
       "\\begin{description*}\n",
       "\\item[1] 1848\n",
       "\\item[2] 815\n",
       "\\item[3] 194\n",
       "\\item[4] 257\n",
       "\\item[5] 401\n",
       "\\item[6] 841\n",
       "\\end{description*}\n"
      ],
      "text/markdown": [
       "1\n",
       ":   18482\n",
       ":   8153\n",
       ":   1944\n",
       ":   2575\n",
       ":   4016\n",
       ":   841\n",
       "\n"
      ],
      "text/plain": [
       "   1    2    3    4    5    6 \n",
       "1848  815  194  257  401  841 "
      ]
     },
     "metadata": {},
     "output_type": "display_data"
    }
   ],
   "source": [
    "GitHub_test_pred_full <- predict(GitHub_full, newdata = testing_GitHub)\n",
    "\n",
    "head(GitHub_test_pred_full)"
   ]
  },
  {
   "cell_type": "markdown",
   "id": "26452a27-7cfe-452a-a846-cb7364d4a7ae",
   "metadata": {},
   "source": [
    "- including 'Watchers' in the model will lead to perfect prediction. This is because 'Watchers' = 'Stars'.\n",
    "- Therefore the resulting RMSE will equal to 0 (or approximatly 0). "
   ]
  },
  {
   "cell_type": "markdown",
   "id": "eff1030b-0555-4e03-9244-799911980d52",
   "metadata": {},
   "source": [
    "- By using the vif function, and to resolve multicollinearity, I got the following results:\n",
    "- Size: 1.001, Forks: 1.615, Issues: 1.441, Watchers: 2.042, `Has Discussions`: 1.051repo_age_days: 1.087, days_since_update: 1.071.\n",
    "- I observed that 'Watchers' has a strong correlation with both 'Forks' and 'Issues' (0.62 and 0.55 respectively).\n",
    "- Now let's fit a linear regression model by using the best-fit model result from Forward Selection.(without 'Watchers')\n",
    "- Note: I could have removed 'Watchers' before running the Forward Selection Algorithm, however, I wanted to see what the algorithm would select as the best-fit model."
   ]
  },
  {
   "cell_type": "code",
   "execution_count": 101,
   "id": "842a677e-6149-466e-9268-6b2e3b906393",
   "metadata": {},
   "outputs": [
    {
     "data": {
      "text/plain": [
       "\n",
       "Call:\n",
       "lm(formula = Stars ~ Forks + Issues + `Is Archived`, data = training_GitHub)\n",
       "\n",
       "Coefficients:\n",
       "      (Intercept)              Forks             Issues  `Is Archived`TRUE  \n",
       "          543.753              1.893              3.094           -224.554  \n"
      ]
     },
     "metadata": {},
     "output_type": "display_data"
    }
   ],
   "source": [
    "GitHub_No_Watchers <- lm(Stars ~ Forks + Issues + `Is Archived` , data = training_GitHub)\n",
    "\n",
    "GitHub_No_Watchers"
   ]
  },
  {
   "cell_type": "code",
   "execution_count": 102,
   "id": "53ae783e-67ad-4764-8d5f-193a72b8511b",
   "metadata": {},
   "outputs": [
    {
     "data": {
      "text/html": [
       "<style>\n",
       ".dl-inline {width: auto; margin:0; padding: 0}\n",
       ".dl-inline>dt, .dl-inline>dd {float: none; width: auto; display: inline-block}\n",
       ".dl-inline>dt::after {content: \":\\0020\"; padding-right: .5ex}\n",
       ".dl-inline>dt:not(:first-of-type) {padding-left: .5ex}\n",
       "</style><dl class=dl-inline><dt>1</dt><dd>1395.67873183213</dd><dt>2</dt><dd>915.788478075783</dd><dt>3</dt><dd>633.035140431156</dd><dt>4</dt><dd>611.885079889303</dd><dt>5</dt><dd>735.564745845036</dd><dt>6</dt><dd>586.232776037125</dd></dl>\n"
      ],
      "text/latex": [
       "\\begin{description*}\n",
       "\\item[1] 1395.67873183213\n",
       "\\item[2] 915.788478075783\n",
       "\\item[3] 633.035140431156\n",
       "\\item[4] 611.885079889303\n",
       "\\item[5] 735.564745845036\n",
       "\\item[6] 586.232776037125\n",
       "\\end{description*}\n"
      ],
      "text/markdown": [
       "1\n",
       ":   1395.678731832132\n",
       ":   915.7884780757833\n",
       ":   633.0351404311564\n",
       ":   611.8850798893035\n",
       ":   735.5647458450366\n",
       ":   586.232776037125\n",
       "\n"
      ],
      "text/plain": [
       "        1         2         3         4         5         6 \n",
       "1395.6787  915.7885  633.0351  611.8851  735.5647  586.2328 "
      ]
     },
     "metadata": {},
     "output_type": "display_data"
    }
   ],
   "source": [
    "GitHub_pred_No_Watchers <- predict(GitHub_No_Watchers, newdata = testing_GitHub)\n",
    "\n",
    "head(GitHub_pred_No_Watchers)"
   ]
  },
  {
   "cell_type": "markdown",
   "id": "4ff5380c-134d-4a5e-8b41-efc786fd644f",
   "metadata": {},
   "source": [
    "- Since we saw in the previous assignment visualization that 'Watchers' was perfectly linearly correlated with Stars and also strongly correlated with 'Issues' and 'Forks', now let's fit a simple linear regression model with only 'Forks' as the input then only 'Issues as the input variable.*"
   ]
  },
  {
   "cell_type": "code",
   "execution_count": 107,
   "id": "a5f10f93-9513-466d-8041-fc752fd53aa4",
   "metadata": {},
   "outputs": [
    {
     "data": {
      "text/plain": [
       "\n",
       "Call:\n",
       "lm(formula = Stars ~ Forks, data = training_GitHub)\n",
       "\n",
       "Coefficients:\n",
       "(Intercept)        Forks  \n",
       "    609.813        2.053  \n"
      ]
     },
     "metadata": {},
     "output_type": "display_data"
    },
    {
     "data": {
      "text/plain": [
       "\n",
       "Call:\n",
       "lm(formula = Stars ~ Issues, data = training_GitHub)\n",
       "\n",
       "Coefficients:\n",
       "(Intercept)       Issues  \n",
       "    845.588        6.472  \n"
      ]
     },
     "metadata": {},
     "output_type": "display_data"
    }
   ],
   "source": [
    "GitHub_Simple_Forks <- lm(Stars ~ Forks, data = training_GitHub)\n",
    "\n",
    "\n",
    "GitHub_Simple_Issues <- lm(Stars ~ Issues, data = training_GitHub)\n",
    "\n",
    "GitHub_Simple_Forks\n",
    "GitHub_Simple_Issues"
   ]
  },
  {
   "cell_type": "code",
   "execution_count": 109,
   "id": "f2617e53-545d-4304-bd66-b027fff61439",
   "metadata": {},
   "outputs": [
    {
     "data": {
      "text/html": [
       "<style>\n",
       ".dl-inline {width: auto; margin:0; padding: 0}\n",
       ".dl-inline>dt, .dl-inline>dd {float: none; width: auto; display: inline-block}\n",
       ".dl-inline>dt::after {content: \":\\0020\"; padding-right: .5ex}\n",
       ".dl-inline>dt:not(:first-of-type) {padding-left: .5ex}\n",
       "</style><dl class=dl-inline><dt>1</dt><dd>1443.2028131972</dd><dt>2</dt><dd>862.293055064768</dd><dt>3</dt><dd>689.86754381698</dd><dt>4</dt><dd>683.709489843844</dd><dt>5</dt><dd>784.291038071721</dd><dt>6</dt><dd>632.39237340105</dd></dl>\n"
      ],
      "text/latex": [
       "\\begin{description*}\n",
       "\\item[1] 1443.2028131972\n",
       "\\item[2] 862.293055064768\n",
       "\\item[3] 689.86754381698\n",
       "\\item[4] 683.709489843844\n",
       "\\item[5] 784.291038071721\n",
       "\\item[6] 632.39237340105\n",
       "\\end{description*}\n"
      ],
      "text/markdown": [
       "1\n",
       ":   1443.20281319722\n",
       ":   862.2930550647683\n",
       ":   689.867543816984\n",
       ":   683.7094898438445\n",
       ":   784.2910380717216\n",
       ":   632.39237340105\n",
       "\n"
      ],
      "text/plain": [
       "        1         2         3         4         5         6 \n",
       "1443.2028  862.2931  689.8675  683.7095  784.2910  632.3924 "
      ]
     },
     "metadata": {},
     "output_type": "display_data"
    },
    {
     "data": {
      "text/html": [
       "<style>\n",
       ".dl-inline {width: auto; margin:0; padding: 0}\n",
       ".dl-inline>dt, .dl-inline>dd {float: none; width: auto; display: inline-block}\n",
       ".dl-inline>dt::after {content: \":\\0020\"; padding-right: .5ex}\n",
       ".dl-inline>dt:not(:first-of-type) {padding-left: .5ex}\n",
       "</style><dl class=dl-inline><dt>1</dt><dd>1020.32203528028</dd><dt>2</dt><dd>1136.81167751334</dd><dt>3</dt><dd>877.945805884329</dd><dt>4</dt><dd>845.587571930703</dd><dt>5</dt><dd>910.304039837955</dd><dt>6</dt><dd>890.889099465779</dd></dl>\n"
      ],
      "text/latex": [
       "\\begin{description*}\n",
       "\\item[1] 1020.32203528028\n",
       "\\item[2] 1136.81167751334\n",
       "\\item[3] 877.945805884329\n",
       "\\item[4] 845.587571930703\n",
       "\\item[5] 910.304039837955\n",
       "\\item[6] 890.889099465779\n",
       "\\end{description*}\n"
      ],
      "text/markdown": [
       "1\n",
       ":   1020.322035280282\n",
       ":   1136.811677513343\n",
       ":   877.9458058843294\n",
       ":   845.5875719307035\n",
       ":   910.3040398379556\n",
       ":   890.889099465779\n",
       "\n"
      ],
      "text/plain": [
       "        1         2         3         4         5         6 \n",
       "1020.3220 1136.8117  877.9458  845.5876  910.3040  890.8891 "
      ]
     },
     "metadata": {},
     "output_type": "display_data"
    }
   ],
   "source": [
    "GitHub_test_pred_Simple_Forks <- predict(GitHub_Simple_Forks, newdata = testing_GitHub)\n",
    "\n",
    "GitHub_test_pred_Simple_Issues <- predict(GitHub_Simple_Issues, newdata = testing_GitHub)\n",
    "\n",
    "\n",
    "head(GitHub_test_pred_Simple_Forks)\n",
    "head(GitHub_test_pred_Simple_Issues)"
   ]
  },
  {
   "cell_type": "code",
   "execution_count": 110,
   "id": "5e15c7b4-92be-4502-86b5-66f99d631a18",
   "metadata": {},
   "outputs": [
    {
     "data": {
      "text/html": [
       "<table class=\"dataframe\">\n",
       "<caption>A tibble: 4 × 2</caption>\n",
       "<thead>\n",
       "\t<tr><th scope=col>Model</th><th scope=col>RMSE</th></tr>\n",
       "\t<tr><th scope=col>&lt;chr&gt;</th><th scope=col>&lt;dbl&gt;</th></tr>\n",
       "</thead>\n",
       "<tbody>\n",
       "\t<tr><td>Full Regression            </td><td>5.015018e-13</td></tr>\n",
       "\t<tr><td>Full Regression No Watchers</td><td>1.980421e+03</td></tr>\n",
       "\t<tr><td>Simple Regression (Forks)  </td><td>2.041780e+03</td></tr>\n",
       "\t<tr><td>Simple Regression (Issues) </td><td>2.435912e+03</td></tr>\n",
       "</tbody>\n",
       "</table>\n"
      ],
      "text/latex": [
       "A tibble: 4 × 2\n",
       "\\begin{tabular}{ll}\n",
       " Model & RMSE\\\\\n",
       " <chr> & <dbl>\\\\\n",
       "\\hline\n",
       "\t Full Regression             & 5.015018e-13\\\\\n",
       "\t Full Regression No Watchers & 1.980421e+03\\\\\n",
       "\t Simple Regression (Forks)   & 2.041780e+03\\\\\n",
       "\t Simple Regression (Issues)  & 2.435912e+03\\\\\n",
       "\\end{tabular}\n"
      ],
      "text/markdown": [
       "\n",
       "A tibble: 4 × 2\n",
       "\n",
       "| Model &lt;chr&gt; | RMSE &lt;dbl&gt; |\n",
       "|---|---|\n",
       "| Full Regression             | 5.015018e-13 |\n",
       "| Full Regression No Watchers | 1.980421e+03 |\n",
       "| Simple Regression (Forks)   | 2.041780e+03 |\n",
       "| Simple Regression (Issues)  | 2.435912e+03 |\n",
       "\n"
      ],
      "text/plain": [
       "  Model                       RMSE        \n",
       "1 Full Regression             5.015018e-13\n",
       "2 Full Regression No Watchers 1.980421e+03\n",
       "3 Simple Regression (Forks)   2.041780e+03\n",
       "4 Simple Regression (Issues)  2.435912e+03"
      ]
     },
     "metadata": {},
     "output_type": "display_data"
    }
   ],
   "source": [
    "GitHub_RMSE_table <- bind_rows(\n",
    "  tibble(\n",
    "    Model = \"Full Regression\",\n",
    "    RMSE = rmse(model = GitHub_full, data = testing_GitHub)\n",
    "  ),\n",
    "  tibble(\n",
    "    Model = \"Full Regression No Watchers\",\n",
    "    RMSE = rmse(model = GitHub_No_Watchers, data = testing_GitHub)\n",
    "  ),\n",
    "  tibble(\n",
    "    Model = \"Simple Regression (Forks)\",\n",
    "    RMSE = rmse(model = GitHub_Simple_Forks, data = testing_GitHub)\n",
    "  ),\n",
    "  tibble(\n",
    "    Model = \"Simple Regression (Issues)\",\n",
    "    RMSE = rmse(model = GitHub_Simple_Issues, data = testing_GitHub)\n",
    "  )\n",
    ")\n",
    "\n",
    "GitHub_RMSE_table"
   ]
  },
  {
   "cell_type": "markdown",
   "id": "ab6174f8-e38d-443d-8f7d-3f779643e236",
   "metadata": {},
   "source": [
    "- We can conclude from the RMSE values for all the models, except the one with 'Watchers', that the linear regression model that yielded the best prediction is the Forward Selection one (lowest RMSE).\n",
    "- This was expected because, from the visualization of the relationship between input variables and 'Stars' (in the previous assignment), we saw how those variables had a weak linear correlation with the number of stars a repository has."
   ]
  },
  {
   "cell_type": "code",
   "execution_count": null,
   "id": "3dc7abf1-957f-4014-ab4c-53f63a558aa3",
   "metadata": {},
   "outputs": [],
   "source": []
  }
 ],
 "metadata": {
  "kernelspec": {
   "display_name": "R",
   "language": "R",
   "name": "ir"
  },
  "language_info": {
   "codemirror_mode": "r",
   "file_extension": ".r",
   "mimetype": "text/x-r-source",
   "name": "R",
   "pygments_lexer": "r",
   "version": "4.3.3"
  }
 },
 "nbformat": 4,
 "nbformat_minor": 5
}
