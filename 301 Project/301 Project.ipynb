{
 "cells": [
  {
   "cell_type": "code",
   "execution_count": 1,
   "id": "1d77abc2-4a98-44e4-b51c-ae7f4e6b2d1c",
   "metadata": {},
   "outputs": [
    {
     "name": "stderr",
     "output_type": "stream",
     "text": [
      "── \u001b[1mAttaching core tidyverse packages\u001b[22m ──────────────────────── tidyverse 2.0.0 ──\n",
      "\u001b[32m✔\u001b[39m \u001b[34mdplyr    \u001b[39m 1.1.4     \u001b[32m✔\u001b[39m \u001b[34mreadr    \u001b[39m 2.1.5\n",
      "\u001b[32m✔\u001b[39m \u001b[34mforcats  \u001b[39m 1.0.0     \u001b[32m✔\u001b[39m \u001b[34mstringr  \u001b[39m 1.5.1\n",
      "\u001b[32m✔\u001b[39m \u001b[34mggplot2  \u001b[39m 3.5.1     \u001b[32m✔\u001b[39m \u001b[34mtibble   \u001b[39m 3.2.1\n",
      "\u001b[32m✔\u001b[39m \u001b[34mlubridate\u001b[39m 1.9.3     \u001b[32m✔\u001b[39m \u001b[34mtidyr    \u001b[39m 1.3.1\n",
      "\u001b[32m✔\u001b[39m \u001b[34mpurrr    \u001b[39m 1.0.2     \n",
      "── \u001b[1mConflicts\u001b[22m ────────────────────────────────────────── tidyverse_conflicts() ──\n",
      "\u001b[31m✖\u001b[39m \u001b[34mdplyr\u001b[39m::\u001b[32mfilter()\u001b[39m masks \u001b[34mstats\u001b[39m::filter()\n",
      "\u001b[31m✖\u001b[39m \u001b[34mdplyr\u001b[39m::\u001b[32mlag()\u001b[39m    masks \u001b[34mstats\u001b[39m::lag()\n",
      "\u001b[36mℹ\u001b[39m Use the conflicted package (\u001b[3m\u001b[34m<http://conflicted.r-lib.org/>\u001b[39m\u001b[23m) to force all conflicts to become errors\n",
      "\n",
      "Attaching package: ‘reshape2’\n",
      "\n",
      "\n",
      "The following object is masked from ‘package:tidyr’:\n",
      "\n",
      "    smiths\n",
      "\n",
      "\n",
      "Loading required package: carData\n",
      "\n",
      "\n",
      "Attaching package: ‘car’\n",
      "\n",
      "\n",
      "The following object is masked from ‘package:dplyr’:\n",
      "\n",
      "    recode\n",
      "\n",
      "\n",
      "The following object is masked from ‘package:purrr’:\n",
      "\n",
      "    some\n",
      "\n",
      "\n",
      "Registered S3 method overwritten by 'GGally':\n",
      "  method from   \n",
      "  +.gg   ggplot2\n",
      "\n"
     ]
    }
   ],
   "source": [
    "library(tidyverse)\n",
    "library(lubridate)\n",
    "\n",
    "library(ggplot2)\n",
    "library(reshape2)\n",
    "library(broom)\n",
    "library(tidyr)\n",
    "library(dplyr)\n",
    "\n",
    "library(car)\n",
    "library(GGally)\n",
    "library(caTools)\n",
    "library(knitr)"
   ]
  },
  {
   "cell_type": "markdown",
   "id": "65fc9d3d-3a0a-4ec1-813b-8cb87f8ce3a4",
   "metadata": {},
   "source": [
    "*This dataset lists over 215000 top projects by star with over 167 stars. The dataset was collected using a GitHub search API. This API will get the first 1000 for a query. By looping through the low to high pairs the API returns less than a thousand repositories when query = Star:{Low}...{High}. The repository includes the name, description, URL, date of creation, date of last update, homepage, size, and stars, among other attributes for a total of 24 attributes.*\n",
    "\n",
    "- Name:               chr \n",
    "- Description:        chr\n",
    "- URL:                chr \n",
    "- Created At:         dttm \n",
    "- Updated At:         dttm\n",
    "- Homepage:           chr\n",
    "- Size:               dbl\n",
    "- Stars:              dbl\n",
    "- Forks:              dbl \n",
    "- Issues:             dbl\n",
    "- Watchers:           dbl\n",
    "- Language:           chr \n",
    "- License:            chr \n",
    "- Topics:             chr \n",
    "- Has Issues:        lgl\n",
    "- Has Projects:      lgl \n",
    "- Has Downloads:     lgl \n",
    "- Has Wiki:          lgl \n",
    "- Has Pages:         lgl\n",
    "- Has Discussions:   lgl \n",
    "- Is Fork:           lgl\n",
    "- Is Archived:       lgl \n",
    "- Is Template:       lgl \n",
    "- Default Branch:    chr"
   ]
  },
  {
   "cell_type": "code",
   "execution_count": 2,
   "id": "baa20bc4-6db9-4ce9-9fa6-455e895b1b1c",
   "metadata": {},
   "outputs": [
    {
     "name": "stderr",
     "output_type": "stream",
     "text": [
      "\u001b[1mRows: \u001b[22m\u001b[34m215029\u001b[39m \u001b[1mColumns: \u001b[22m\u001b[34m24\u001b[39m\n",
      "\u001b[36m──\u001b[39m \u001b[1mColumn specification\u001b[22m \u001b[36m────────────────────────────────────────────────────────\u001b[39m\n",
      "\u001b[1mDelimiter:\u001b[22m \",\"\n",
      "\u001b[31mchr\u001b[39m  (8): Name, Description, URL, Homepage, Language, License, Topics, Defau...\n",
      "\u001b[32mdbl\u001b[39m  (5): Size, Stars, Forks, Issues, Watchers\n",
      "\u001b[33mlgl\u001b[39m  (9): Has Issues, Has Projects, Has Downloads, Has Wiki, Has Pages, Has ...\n",
      "\u001b[34mdttm\u001b[39m (2): Created At, Updated At\n",
      "\n",
      "\u001b[36mℹ\u001b[39m Use `spec()` to retrieve the full column specification for this data.\n",
      "\u001b[36mℹ\u001b[39m Specify the column types or set `show_col_types = FALSE` to quiet this message.\n"
     ]
    },
    {
     "data": {
      "text/html": [
       "<table class=\"dataframe\">\n",
       "<caption>A tibble: 3 × 24</caption>\n",
       "<thead>\n",
       "\t<tr><th scope=col>Name</th><th scope=col>Description</th><th scope=col>URL</th><th scope=col>Created At</th><th scope=col>Updated At</th><th scope=col>Homepage</th><th scope=col>Size</th><th scope=col>Stars</th><th scope=col>Forks</th><th scope=col>Issues</th><th scope=col>⋯</th><th scope=col>Has Issues</th><th scope=col>Has Projects</th><th scope=col>Has Downloads</th><th scope=col>Has Wiki</th><th scope=col>Has Pages</th><th scope=col>Has Discussions</th><th scope=col>Is Fork</th><th scope=col>Is Archived</th><th scope=col>Is Template</th><th scope=col>Default Branch</th></tr>\n",
       "\t<tr><th scope=col>&lt;chr&gt;</th><th scope=col>&lt;chr&gt;</th><th scope=col>&lt;chr&gt;</th><th scope=col>&lt;dttm&gt;</th><th scope=col>&lt;dttm&gt;</th><th scope=col>&lt;chr&gt;</th><th scope=col>&lt;dbl&gt;</th><th scope=col>&lt;dbl&gt;</th><th scope=col>&lt;dbl&gt;</th><th scope=col>&lt;dbl&gt;</th><th scope=col>⋯</th><th scope=col>&lt;lgl&gt;</th><th scope=col>&lt;lgl&gt;</th><th scope=col>&lt;lgl&gt;</th><th scope=col>&lt;lgl&gt;</th><th scope=col>&lt;lgl&gt;</th><th scope=col>&lt;lgl&gt;</th><th scope=col>&lt;lgl&gt;</th><th scope=col>&lt;lgl&gt;</th><th scope=col>&lt;lgl&gt;</th><th scope=col>&lt;chr&gt;</th></tr>\n",
       "</thead>\n",
       "<tbody>\n",
       "\t<tr><td>curso-js</td><td>Arquivos criados no meu curso de Javascript.                                       </td><td>https://github.com/luizomf/curso-js  </td><td>2019-10-24 14:41:30</td><td>2023-09-25 03:48:57</td><td>NA                </td><td>13679</td><td>1370</td><td>678</td><td>52</td><td>⋯</td><td>TRUE</td><td>TRUE</td><td>TRUE</td><td>TRUE</td><td>FALSE</td><td>FALSE</td><td>FALSE</td><td>FALSE</td><td>FALSE</td><td>master</td></tr>\n",
       "\t<tr><td>ppq     </td><td>PPL Quantization Tool (PPQ) is a powerful offline neural network quantization tool.</td><td>https://github.com/openppl-public/ppq</td><td>2021-12-30 11:19:31</td><td>2023-09-25 06:29:37</td><td>NA                </td><td> 5806</td><td>1097</td><td>196</td><td>17</td><td>⋯</td><td>TRUE</td><td>TRUE</td><td>TRUE</td><td>TRUE</td><td>FALSE</td><td>FALSE</td><td>FALSE</td><td>FALSE</td><td>FALSE</td><td>master</td></tr>\n",
       "\t<tr><td>cartjs  </td><td>A Javascript library to power cart management for Shopify themes.                  </td><td>https://github.com/discolabs/cartjs  </td><td>2014-06-13 09:56:25</td><td>2023-09-19 23:29:50</td><td>https://cartjs.org</td><td> 3542</td><td> 471</td><td> 85</td><td>49</td><td>⋯</td><td>TRUE</td><td>TRUE</td><td>TRUE</td><td>TRUE</td><td>FALSE</td><td>FALSE</td><td>FALSE</td><td>FALSE</td><td>FALSE</td><td>master</td></tr>\n",
       "</tbody>\n",
       "</table>\n"
      ],
      "text/latex": [
       "A tibble: 3 × 24\n",
       "\\begin{tabular}{lllllllllllllllllllll}\n",
       " Name & Description & URL & Created At & Updated At & Homepage & Size & Stars & Forks & Issues & ⋯ & Has Issues & Has Projects & Has Downloads & Has Wiki & Has Pages & Has Discussions & Is Fork & Is Archived & Is Template & Default Branch\\\\\n",
       " <chr> & <chr> & <chr> & <dttm> & <dttm> & <chr> & <dbl> & <dbl> & <dbl> & <dbl> & ⋯ & <lgl> & <lgl> & <lgl> & <lgl> & <lgl> & <lgl> & <lgl> & <lgl> & <lgl> & <chr>\\\\\n",
       "\\hline\n",
       "\t curso-js & Arquivos criados no meu curso de Javascript.                                        & https://github.com/luizomf/curso-js   & 2019-10-24 14:41:30 & 2023-09-25 03:48:57 & NA                 & 13679 & 1370 & 678 & 52 & ⋯ & TRUE & TRUE & TRUE & TRUE & FALSE & FALSE & FALSE & FALSE & FALSE & master\\\\\n",
       "\t ppq      & PPL Quantization Tool (PPQ) is a powerful offline neural network quantization tool. & https://github.com/openppl-public/ppq & 2021-12-30 11:19:31 & 2023-09-25 06:29:37 & NA                 &  5806 & 1097 & 196 & 17 & ⋯ & TRUE & TRUE & TRUE & TRUE & FALSE & FALSE & FALSE & FALSE & FALSE & master\\\\\n",
       "\t cartjs   & A Javascript library to power cart management for Shopify themes.                   & https://github.com/discolabs/cartjs   & 2014-06-13 09:56:25 & 2023-09-19 23:29:50 & https://cartjs.org &  3542 &  471 &  85 & 49 & ⋯ & TRUE & TRUE & TRUE & TRUE & FALSE & FALSE & FALSE & FALSE & FALSE & master\\\\\n",
       "\\end{tabular}\n"
      ],
      "text/markdown": [
       "\n",
       "A tibble: 3 × 24\n",
       "\n",
       "| Name &lt;chr&gt; | Description &lt;chr&gt; | URL &lt;chr&gt; | Created At &lt;dttm&gt; | Updated At &lt;dttm&gt; | Homepage &lt;chr&gt; | Size &lt;dbl&gt; | Stars &lt;dbl&gt; | Forks &lt;dbl&gt; | Issues &lt;dbl&gt; | ⋯ ⋯ | Has Issues &lt;lgl&gt; | Has Projects &lt;lgl&gt; | Has Downloads &lt;lgl&gt; | Has Wiki &lt;lgl&gt; | Has Pages &lt;lgl&gt; | Has Discussions &lt;lgl&gt; | Is Fork &lt;lgl&gt; | Is Archived &lt;lgl&gt; | Is Template &lt;lgl&gt; | Default Branch &lt;chr&gt; |\n",
       "|---|---|---|---|---|---|---|---|---|---|---|---|---|---|---|---|---|---|---|---|---|\n",
       "| curso-js | Arquivos criados no meu curso de Javascript.                                        | https://github.com/luizomf/curso-js   | 2019-10-24 14:41:30 | 2023-09-25 03:48:57 | NA                 | 13679 | 1370 | 678 | 52 | ⋯ | TRUE | TRUE | TRUE | TRUE | FALSE | FALSE | FALSE | FALSE | FALSE | master |\n",
       "| ppq      | PPL Quantization Tool (PPQ) is a powerful offline neural network quantization tool. | https://github.com/openppl-public/ppq | 2021-12-30 11:19:31 | 2023-09-25 06:29:37 | NA                 |  5806 | 1097 | 196 | 17 | ⋯ | TRUE | TRUE | TRUE | TRUE | FALSE | FALSE | FALSE | FALSE | FALSE | master |\n",
       "| cartjs   | A Javascript library to power cart management for Shopify themes.                   | https://github.com/discolabs/cartjs   | 2014-06-13 09:56:25 | 2023-09-19 23:29:50 | https://cartjs.org |  3542 |  471 |  85 | 49 | ⋯ | TRUE | TRUE | TRUE | TRUE | FALSE | FALSE | FALSE | FALSE | FALSE | master |\n",
       "\n"
      ],
      "text/plain": [
       "  Name    \n",
       "1 curso-js\n",
       "2 ppq     \n",
       "3 cartjs  \n",
       "  Description                                                                        \n",
       "1 Arquivos criados no meu curso de Javascript.                                       \n",
       "2 PPL Quantization Tool (PPQ) is a powerful offline neural network quantization tool.\n",
       "3 A Javascript library to power cart management for Shopify themes.                  \n",
       "  URL                                   Created At          Updated At         \n",
       "1 https://github.com/luizomf/curso-js   2019-10-24 14:41:30 2023-09-25 03:48:57\n",
       "2 https://github.com/openppl-public/ppq 2021-12-30 11:19:31 2023-09-25 06:29:37\n",
       "3 https://github.com/discolabs/cartjs   2014-06-13 09:56:25 2023-09-19 23:29:50\n",
       "  Homepage           Size  Stars Forks Issues ⋯ Has Issues Has Projects\n",
       "1 NA                 13679 1370  678   52     ⋯ TRUE       TRUE        \n",
       "2 NA                  5806 1097  196   17     ⋯ TRUE       TRUE        \n",
       "3 https://cartjs.org  3542  471   85   49     ⋯ TRUE       TRUE        \n",
       "  Has Downloads Has Wiki Has Pages Has Discussions Is Fork Is Archived\n",
       "1 TRUE          TRUE     FALSE     FALSE           FALSE   FALSE      \n",
       "2 TRUE          TRUE     FALSE     FALSE           FALSE   FALSE      \n",
       "3 TRUE          TRUE     FALSE     FALSE           FALSE   FALSE      \n",
       "  Is Template Default Branch\n",
       "1 FALSE       master        \n",
       "2 FALSE       master        \n",
       "3 FALSE       master        "
      ]
     },
     "metadata": {},
     "output_type": "display_data"
    }
   ],
   "source": [
    "df <- read_csv('repositories.csv')\n",
    "\n",
    "df_subset <- df %>% sample_n(size = 10000)\n",
    "\n",
    "head(df_subset, n = 3)"
   ]
  },
  {
   "cell_type": "markdown",
   "id": "87769034-1e39-40c4-b371-0322cae49491",
   "metadata": {},
   "source": [
    "* What factors affect the number of stars a GitHub repository has?\n",
    "* what variables are most correlated with the success of a GitHub repository?\n",
    "* Can we predict the number of stars a GitHub repository will have based on the number of other input variables (e.g. # of Issues, # of Forks, # of days since it was created, ...etc)?\n",
    "* How accurate are the predictions, and what is the best-fit model based on the given input data? "
   ]
  },
  {
   "cell_type": "markdown",
   "id": "b716e63a-b602-4539-b817-beccde04a7a7",
   "metadata": {},
   "source": [
    "*The two cells below provide additional information about the data such as the number of observations, variable names and types, and samples of the data that is included in each column.* "
   ]
  },
  {
   "cell_type": "code",
   "execution_count": 3,
   "id": "2acc6ce2-3c55-4f2a-9047-894ef31a2e67",
   "metadata": {},
   "outputs": [
    {
     "data": {
      "text/html": [
       "10000"
      ],
      "text/latex": [
       "10000"
      ],
      "text/markdown": [
       "10000"
      ],
      "text/plain": [
       "[1] 10000"
      ]
     },
     "metadata": {},
     "output_type": "display_data"
    },
    {
     "name": "stdout",
     "output_type": "stream",
     "text": [
      "Rows: 10,000\n",
      "Columns: 24\n",
      "$ Name              \u001b[3m\u001b[90m<chr>\u001b[39m\u001b[23m \"curso-js\", \"ppq\", \"cartjs\", \"core\", \"orderless\", \"c…\n",
      "$ Description       \u001b[3m\u001b[90m<chr>\u001b[39m\u001b[23m \"Arquivos criados no meu curso de Javascript.\", \"PPL…\n",
      "$ URL               \u001b[3m\u001b[90m<chr>\u001b[39m\u001b[23m \"https://github.com/luizomf/curso-js\", \"https://gith…\n",
      "$ `Created At`      \u001b[3m\u001b[90m<dttm>\u001b[39m\u001b[23m 2019-10-24 14:41:30, 2021-12-30 11:19:31, 2014-06-1…\n",
      "$ `Updated At`      \u001b[3m\u001b[90m<dttm>\u001b[39m\u001b[23m 2023-09-25 03:48:57, 2023-09-25 06:29:37, 2023-09-1…\n",
      "$ Homepage          \u001b[3m\u001b[90m<chr>\u001b[39m\u001b[23m NA, NA, \"https://cartjs.org\", NA, NA, NA, NA, \"http:…\n",
      "$ Size              \u001b[3m\u001b[90m<dbl>\u001b[39m\u001b[23m 13679, 5806, 3542, 8184, 356, 28902, 802, 168, 62494…\n",
      "$ Stars             \u001b[3m\u001b[90m<dbl>\u001b[39m\u001b[23m 1370, 1097, 471, 180, 584, 457, 404, 2291, 168, 281,…\n",
      "$ Forks             \u001b[3m\u001b[90m<dbl>\u001b[39m\u001b[23m 678, 196, 85, 66, 25, 137, 65, 228, 77, 30, 133, 224…\n",
      "$ Issues            \u001b[3m\u001b[90m<dbl>\u001b[39m\u001b[23m 52, 17, 49, 6, 7, 13, 4, 18, 0, 0, 7, 2, 14, 95, 33,…\n",
      "$ Watchers          \u001b[3m\u001b[90m<dbl>\u001b[39m\u001b[23m 1370, 1097, 471, 180, 584, 457, 404, 2291, 168, 281,…\n",
      "$ Language          \u001b[3m\u001b[90m<chr>\u001b[39m\u001b[23m \"JavaScript\", \"Python\", \"CoffeeScript\", \"C++\", \"Emac…\n",
      "$ License           \u001b[3m\u001b[90m<chr>\u001b[39m\u001b[23m NA, \"Apache-2.0\", \"MIT\", \"Apache-2.0\", \"GPL-3.0\", NA…\n",
      "$ Topics            \u001b[3m\u001b[90m<chr>\u001b[39m\u001b[23m \"[]\", \"['caffe', 'cuda', 'deep-learning', 'neural-ne…\n",
      "$ `Has Issues`      \u001b[3m\u001b[90m<lgl>\u001b[39m\u001b[23m TRUE, TRUE, TRUE, TRUE, TRUE, TRUE, TRUE, TRUE, TRUE…\n",
      "$ `Has Projects`    \u001b[3m\u001b[90m<lgl>\u001b[39m\u001b[23m TRUE, TRUE, TRUE, FALSE, TRUE, TRUE, TRUE, TRUE, TRU…\n",
      "$ `Has Downloads`   \u001b[3m\u001b[90m<lgl>\u001b[39m\u001b[23m TRUE, TRUE, TRUE, TRUE, TRUE, TRUE, TRUE, TRUE, TRUE…\n",
      "$ `Has Wiki`        \u001b[3m\u001b[90m<lgl>\u001b[39m\u001b[23m TRUE, TRUE, TRUE, FALSE, TRUE, TRUE, TRUE, TRUE, TRU…\n",
      "$ `Has Pages`       \u001b[3m\u001b[90m<lgl>\u001b[39m\u001b[23m FALSE, FALSE, FALSE, FALSE, FALSE, FALSE, FALSE, FAL…\n",
      "$ `Has Discussions` \u001b[3m\u001b[90m<lgl>\u001b[39m\u001b[23m FALSE, FALSE, FALSE, FALSE, FALSE, FALSE, FALSE, FAL…\n",
      "$ `Is Fork`         \u001b[3m\u001b[90m<lgl>\u001b[39m\u001b[23m FALSE, FALSE, FALSE, FALSE, FALSE, FALSE, FALSE, FAL…\n",
      "$ `Is Archived`     \u001b[3m\u001b[90m<lgl>\u001b[39m\u001b[23m FALSE, FALSE, FALSE, FALSE, FALSE, FALSE, FALSE, FAL…\n",
      "$ `Is Template`     \u001b[3m\u001b[90m<lgl>\u001b[39m\u001b[23m FALSE, FALSE, FALSE, FALSE, FALSE, FALSE, FALSE, FAL…\n",
      "$ `Default Branch`  \u001b[3m\u001b[90m<chr>\u001b[39m\u001b[23m \"master\", \"master\", \"master\", \"master\", \"master\", \"m…\n"
     ]
    },
    {
     "data": {
      "text/html": [
       "<style>\n",
       ".list-inline {list-style: none; margin:0; padding: 0}\n",
       ".list-inline>li {display: inline-block}\n",
       ".list-inline>li:not(:last-child)::after {content: \"\\00b7\"; padding: 0 .5ex}\n",
       "</style>\n",
       "<ol class=list-inline><li>'Name'</li><li>'Description'</li><li>'URL'</li><li>'Created At'</li><li>'Updated At'</li><li>'Homepage'</li><li>'Size'</li><li>'Stars'</li><li>'Forks'</li><li>'Issues'</li><li>'Watchers'</li><li>'Language'</li><li>'License'</li><li>'Topics'</li><li>'Has Issues'</li><li>'Has Projects'</li><li>'Has Downloads'</li><li>'Has Wiki'</li><li>'Has Pages'</li><li>'Has Discussions'</li><li>'Is Fork'</li><li>'Is Archived'</li><li>'Is Template'</li><li>'Default Branch'</li></ol>\n"
      ],
      "text/latex": [
       "\\begin{enumerate*}\n",
       "\\item 'Name'\n",
       "\\item 'Description'\n",
       "\\item 'URL'\n",
       "\\item 'Created At'\n",
       "\\item 'Updated At'\n",
       "\\item 'Homepage'\n",
       "\\item 'Size'\n",
       "\\item 'Stars'\n",
       "\\item 'Forks'\n",
       "\\item 'Issues'\n",
       "\\item 'Watchers'\n",
       "\\item 'Language'\n",
       "\\item 'License'\n",
       "\\item 'Topics'\n",
       "\\item 'Has Issues'\n",
       "\\item 'Has Projects'\n",
       "\\item 'Has Downloads'\n",
       "\\item 'Has Wiki'\n",
       "\\item 'Has Pages'\n",
       "\\item 'Has Discussions'\n",
       "\\item 'Is Fork'\n",
       "\\item 'Is Archived'\n",
       "\\item 'Is Template'\n",
       "\\item 'Default Branch'\n",
       "\\end{enumerate*}\n"
      ],
      "text/markdown": [
       "1. 'Name'\n",
       "2. 'Description'\n",
       "3. 'URL'\n",
       "4. 'Created At'\n",
       "5. 'Updated At'\n",
       "6. 'Homepage'\n",
       "7. 'Size'\n",
       "8. 'Stars'\n",
       "9. 'Forks'\n",
       "10. 'Issues'\n",
       "11. 'Watchers'\n",
       "12. 'Language'\n",
       "13. 'License'\n",
       "14. 'Topics'\n",
       "15. 'Has Issues'\n",
       "16. 'Has Projects'\n",
       "17. 'Has Downloads'\n",
       "18. 'Has Wiki'\n",
       "19. 'Has Pages'\n",
       "20. 'Has Discussions'\n",
       "21. 'Is Fork'\n",
       "22. 'Is Archived'\n",
       "23. 'Is Template'\n",
       "24. 'Default Branch'\n",
       "\n",
       "\n"
      ],
      "text/plain": [
       " [1] \"Name\"            \"Description\"     \"URL\"             \"Created At\"     \n",
       " [5] \"Updated At\"      \"Homepage\"        \"Size\"            \"Stars\"          \n",
       " [9] \"Forks\"           \"Issues\"          \"Watchers\"        \"Language\"       \n",
       "[13] \"License\"         \"Topics\"          \"Has Issues\"      \"Has Projects\"   \n",
       "[17] \"Has Downloads\"   \"Has Wiki\"        \"Has Pages\"       \"Has Discussions\"\n",
       "[21] \"Is Fork\"         \"Is Archived\"     \"Is Template\"     \"Default Branch\" "
      ]
     },
     "metadata": {},
     "output_type": "display_data"
    }
   ],
   "source": [
    "nrow(df_subset)\n",
    "\n",
    "glimpse(df_subset) \n",
    "\n",
    "colnames(df_subset) "
   ]
  },
  {
   "cell_type": "code",
   "execution_count": 4,
   "id": "bcf36a2d-9322-446f-8355-5fe671eea6ff",
   "metadata": {},
   "outputs": [
    {
     "name": "stdout",
     "output_type": "stream",
     "text": [
      "spc_tbl_ [215,029 × 24] (S3: spec_tbl_df/tbl_df/tbl/data.frame)\n",
      " $ Name           : chr [1:215029] \"freeCodeCamp\" \"free-programming-books\" \"awesome\" \"996.ICU\" ...\n",
      " $ Description    : chr [1:215029] \"freeCodeCamp.org's open-source codebase and curriculum. Learn to code for free.\" \":books: Freely available programming books\" \"😎 Awesome lists about all kinds of interesting topics\" \"Repo for counting stars and contributing. Press F to pay respect to glorious developers.\" ...\n",
      " $ URL            : chr [1:215029] \"https://github.com/freeCodeCamp/freeCodeCamp\" \"https://github.com/EbookFoundation/free-programming-books\" \"https://github.com/sindresorhus/awesome\" \"https://github.com/996icu/996.ICU\" ...\n",
      " $ Created At     : POSIXct[1:215029], format: \"2014-12-24 17:49:19\" \"2013-10-11 06:50:37\" ...\n",
      " $ Updated At     : POSIXct[1:215029], format: \"2023-09-21 11:32:33\" \"2023-09-21 11:09:25\" ...\n",
      " $ Homepage       : chr [1:215029] \"http://contribute.freecodecamp.org/\" \"https://ebookfoundation.github.io/free-programming-books/\" NA \"https://996.icu\" ...\n",
      " $ Size           : num [1:215029] 387451 17087 1441 187799 20998 ...\n",
      " $ Stars          : num [1:215029] 374074 298393 269997 267901 265161 ...\n",
      " $ Forks          : num [1:215029] 33599 57194 26485 21497 69434 ...\n",
      " $ Issues         : num [1:215029] 248 46 61 16712 56 ...\n",
      " $ Watchers       : num [1:215029] 374074 298393 269997 267901 265161 ...\n",
      " $ Language       : chr [1:215029] \"TypeScript\" NA NA NA ...\n",
      " $ License        : chr [1:215029] \"BSD-3-Clause\" \"CC-BY-4.0\" \"CC0-1.0\" \"NOASSERTION\" ...\n",
      " $ Topics         : chr [1:215029] \"['careers', 'certification', 'community', 'curriculum', 'd3', 'education', 'freecodecamp', 'hacktoberfest', 'ja\"| __truncated__ \"['books', 'education', 'hacktoberfest', 'list', 'resource']\" \"['awesome', 'awesome-list', 'lists', 'resources', 'unicorns']\" \"[]\" ...\n",
      " $ Has Issues     : logi [1:215029] TRUE TRUE TRUE FALSE TRUE TRUE ...\n",
      " $ Has Projects   : logi [1:215029] TRUE FALSE FALSE FALSE FALSE FALSE ...\n",
      " $ Has Downloads  : logi [1:215029] TRUE TRUE TRUE TRUE TRUE TRUE ...\n",
      " $ Has Wiki       : logi [1:215029] FALSE FALSE FALSE FALSE FALSE FALSE ...\n",
      " $ Has Pages      : logi [1:215029] TRUE TRUE TRUE FALSE FALSE FALSE ...\n",
      " $ Has Discussions: logi [1:215029] FALSE FALSE FALSE FALSE FALSE FALSE ...\n",
      " $ Is Fork        : logi [1:215029] FALSE FALSE FALSE FALSE FALSE FALSE ...\n",
      " $ Is Archived    : logi [1:215029] FALSE FALSE FALSE TRUE FALSE FALSE ...\n",
      " $ Is Template    : logi [1:215029] FALSE FALSE FALSE FALSE FALSE FALSE ...\n",
      " $ Default Branch : chr [1:215029] \"main\" \"main\" \"main\" \"master\" ...\n",
      " - attr(*, \"spec\")=\n",
      "  .. cols(\n",
      "  ..   Name = \u001b[31mcol_character()\u001b[39m,\n",
      "  ..   Description = \u001b[31mcol_character()\u001b[39m,\n",
      "  ..   URL = \u001b[31mcol_character()\u001b[39m,\n",
      "  ..   `Created At` = \u001b[34mcol_datetime(format = \"\")\u001b[39m,\n",
      "  ..   `Updated At` = \u001b[34mcol_datetime(format = \"\")\u001b[39m,\n",
      "  ..   Homepage = \u001b[31mcol_character()\u001b[39m,\n",
      "  ..   Size = \u001b[32mcol_double()\u001b[39m,\n",
      "  ..   Stars = \u001b[32mcol_double()\u001b[39m,\n",
      "  ..   Forks = \u001b[32mcol_double()\u001b[39m,\n",
      "  ..   Issues = \u001b[32mcol_double()\u001b[39m,\n",
      "  ..   Watchers = \u001b[32mcol_double()\u001b[39m,\n",
      "  ..   Language = \u001b[31mcol_character()\u001b[39m,\n",
      "  ..   License = \u001b[31mcol_character()\u001b[39m,\n",
      "  ..   Topics = \u001b[31mcol_character()\u001b[39m,\n",
      "  ..   `Has Issues` = \u001b[33mcol_logical()\u001b[39m,\n",
      "  ..   `Has Projects` = \u001b[33mcol_logical()\u001b[39m,\n",
      "  ..   `Has Downloads` = \u001b[33mcol_logical()\u001b[39m,\n",
      "  ..   `Has Wiki` = \u001b[33mcol_logical()\u001b[39m,\n",
      "  ..   `Has Pages` = \u001b[33mcol_logical()\u001b[39m,\n",
      "  ..   `Has Discussions` = \u001b[33mcol_logical()\u001b[39m,\n",
      "  ..   `Is Fork` = \u001b[33mcol_logical()\u001b[39m,\n",
      "  ..   `Is Archived` = \u001b[33mcol_logical()\u001b[39m,\n",
      "  ..   `Is Template` = \u001b[33mcol_logical()\u001b[39m,\n",
      "  ..   `Default Branch` = \u001b[31mcol_character()\u001b[39m\n",
      "  .. )\n",
      " - attr(*, \"problems\")=<externalptr> \n"
     ]
    }
   ],
   "source": [
    "str(df)"
   ]
  },
  {
   "cell_type": "markdown",
   "id": "b2bed695-2edc-48d6-a5dd-5a176669c158",
   "metadata": {},
   "source": [
    "*By observing the varibles and their types, Now I want to create a subset that include \n",
    "only the variables that are relevant the question I am trying to asnswer with this data.*"
   ]
  },
  {
   "cell_type": "code",
   "execution_count": null,
   "id": "dc97c378-32f0-4ccc-93ec-543d5db61595",
   "metadata": {},
   "outputs": [],
   "source": [
    "features <- c('Created At', 'Updated At', \"Size\", \"Stars\", \"Forks\",\n",
    "              \"Issues\", 'Watchers', 'Has Discussions')\n",
    "df_subset <- df_subset %>% select(all_of(features))\n",
    "\n",
    "head(df_subset, n = 3)"
   ]
  },
  {
   "cell_type": "code",
   "execution_count": null,
   "id": "f124c856-b593-4211-ab2e-f6feb093c5d7",
   "metadata": {},
   "outputs": [],
   "source": [
    "sum(is.na(df_subset))"
   ]
  },
  {
   "cell_type": "markdown",
   "id": "7140bdc5-78ab-462c-ad2d-0cb12d0fbe1e",
   "metadata": {},
   "source": [
    "*The variable 'Created At' and 'Updated At' are in DateTime <dttm> format. To make them easy to work with, I will convert them to numerical values representing the number of days that have elapsed since the repository was created and updated.*"
   ]
  },
  {
   "cell_type": "code",
   "execution_count": null,
   "id": "3ab2482a-8d4a-4fb9-8a72-6eec6a453eda",
   "metadata": {},
   "outputs": [],
   "source": [
    "head(df_subset$'Created At') "
   ]
  },
  {
   "cell_type": "code",
   "execution_count": null,
   "id": "45be4619-f472-4beb-96bf-d25c2d52f188",
   "metadata": {},
   "outputs": [],
   "source": [
    "df_subset$'Created At' <- as.Date(strptime(df_subset$'Created At', format = \"%Y-%m-%d %H:%M:%S\"))\n",
    "df_subset$'Updated At' <- as.Date(strptime(df_subset$'Updated At', format = \"%Y-%m-%d %H:%M:%S\"))"
   ]
  },
  {
   "cell_type": "code",
   "execution_count": null,
   "id": "3f92c944-22f8-41c6-a200-cd8662e7d365",
   "metadata": {},
   "outputs": [],
   "source": [
    "df_subset <- df_subset %>%\n",
    "  mutate(repo_age_days = as.numeric(Sys.Date() - `Created At`),\n",
    "         days_since_update = as.numeric(Sys.Date() - `Updated At`))"
   ]
  },
  {
   "cell_type": "code",
   "execution_count": null,
   "id": "70cfdcbf-fe29-41a5-8c6f-a4d7656c10fe",
   "metadata": {},
   "outputs": [],
   "source": [
    "head(df_subset, n = 3)"
   ]
  },
  {
   "cell_type": "markdown",
   "id": "e1e5eba6-9af8-45aa-891e-4cfe92296d36",
   "metadata": {},
   "source": [
    "*Now, the data needs to be cleaned before we can visualize it.*"
   ]
  },
  {
   "cell_type": "code",
   "execution_count": null,
   "id": "4d1a22ca-05c5-43e0-8994-9a1197c56c9b",
   "metadata": {},
   "outputs": [],
   "source": [
    "df_subset2 <- df_subset %>% select(-c('Created At', 'Updated At'))\n",
    "\n",
    "head(df_subset2, n = 3)"
   ]
  },
  {
   "cell_type": "code",
   "execution_count": null,
   "id": "a48ff052-9978-4f88-9e12-889353878222",
   "metadata": {},
   "outputs": [],
   "source": [
    "non_na_repo_age <- df_subset2 %>% filter(!is.na(repo_age_days))\n",
    "non_na_days_since_update <- df_subset2 %>% filter(!is.na(days_since_update))\n",
    "\n",
    "head(df_subset %>% select(repo_age_days, days_since_update, n = 3))"
   ]
  },
  {
   "cell_type": "code",
   "execution_count": null,
   "id": "5c08ec7a-fbd8-4c25-a4bd-4df378d1a9fc",
   "metadata": {},
   "outputs": [],
   "source": [
    "df_cleaned <- df_subset2 %>% filter(!is.na(Stars) & !is.na(Forks) & !is.na(repo_age_days))  \n",
    "\n",
    "head(df_cleaned, n = 3)"
   ]
  },
  {
   "cell_type": "code",
   "execution_count": null,
   "id": "72137412-0c43-41da-bd14-790889c05053",
   "metadata": {},
   "outputs": [],
   "source": [
    "df_summary <- summary(df_cleaned) %>%\n",
    "              kable()\n",
    "\n",
    "df_summary"
   ]
  },
  {
   "cell_type": "code",
   "execution_count": null,
   "id": "b0d68d50-140c-46de-ad69-3cc0f366dd26",
   "metadata": {},
   "outputs": [],
   "source": [
    "summary_stats <- df_cleaned %>%\n",
    "  summarize(\n",
    "    count = n(),\n",
    "    avg_stars = mean(Stars, na.rm = TRUE),\n",
    "    avg_forks = mean(Forks, na.rm = TRUE),\n",
    "    avg_issues = mean(Issues, na.rm = TRUE),\n",
    "    avg_repo_age = mean(repo_age_days, na.rm = TRUE),\n",
    "    avg_days_since_update = mean(days_since_update, na.rm = TRUE)\n",
    "  )\n",
    "\n",
    "print(summary_stats)"
   ]
  },
  {
   "cell_type": "code",
   "execution_count": null,
   "id": "3e9b421c-3889-4b0d-91ff-d6bddfb89637",
   "metadata": {},
   "outputs": [],
   "source": [
    "head(df, n = 3)\n",
    "nrow(df_cleaned)\n",
    "sum(is.na(df_cleaned))"
   ]
  },
  {
   "cell_type": "code",
   "execution_count": null,
   "id": "a086ca16-ba7c-4ca3-b538-73a673917d16",
   "metadata": {},
   "outputs": [],
   "source": [
    "colSums(is.na(df_cleaned))"
   ]
  },
  {
   "cell_type": "markdown",
   "id": "93cb7e1f-6bd2-4c42-8026-4be73ca9fe67",
   "metadata": {},
   "source": [
    "*Now that our data is clean, I am going to perform visualization. I will start by creating a simple linear model plot for each numerical input variable againt our desired reponse variable (Stars).*"
   ]
  },
  {
   "cell_type": "code",
   "execution_count": null,
   "id": "6276390e-04f1-47fc-892e-0a15cd24e265",
   "metadata": {},
   "outputs": [],
   "source": [
    "colnames(df_cleaned)"
   ]
  },
  {
   "cell_type": "code",
   "execution_count": null,
   "id": "9c82e3d4-dc61-4321-9e39-271556ef9284",
   "metadata": {},
   "outputs": [],
   "source": [
    "continuous_vars <- c(\"Size\", \"Forks\", \"Issues\", \"Watchers\", \"repo_age_days\", \"days_since_update\")\n",
    "\n",
    "model <- lm(Stars ~ ., data = df_cleaned %>% select(Stars, all_of(continuous_vars)))\n",
    "\n",
    "print(summary(model))\n",
    "\n",
    "for (var in continuous_vars) {\n",
    "  ggplot(df_cleaned, aes_string(x = var, y = \"Stars\")) +\n",
    "    geom_point(alpha = 0.5) +\n",
    "    geom_smooth(method = \"lm\", color = \"red\", se = FALSE) +\n",
    "    labs(title = paste(\"Linear Model Fit for Stars vs\", var)) +\n",
    "    theme_minimal() -> p\n",
    "  \n",
    "  print(p)\n",
    "}"
   ]
  },
  {
   "cell_type": "markdown",
   "id": "d9e5b3d3-c1a0-4302-a24b-25d629d550fb",
   "metadata": {},
   "source": [
    "*To investigate the presence of Multicollinearty, I am going to create a heat map to visulize\n",
    "the corellation between input variables.*"
   ]
  },
  {
   "cell_type": "code",
   "execution_count": null,
   "id": "0e5d6d74-650a-4d71-9f2a-fd97877f966a",
   "metadata": {},
   "outputs": [],
   "source": [
    "options(repr.plot.width = 15, repr.plot.height = 12) \n",
    "\n",
    "df_cleaned_pair_plots <- \n",
    "    df_cleaned %>% \n",
    "    select(Size, Forks, Issues, Watchers, repo_age_days, days_since_update)%>% \n",
    "    ggpairs(progress = FALSE) +\n",
    "    theme(text = element_text(size = 15))\n",
    "\n",
    "df_cleaned_pair_plots"
   ]
  },
  {
   "cell_type": "code",
   "execution_count": null,
   "id": "c0528c94-e69f-4105-b3db-ed37fdf9cf76",
   "metadata": {},
   "outputs": [],
   "source": [
    "corr_matrix_df_cleaned <- \n",
    "    df_cleaned %>%  \n",
    "    select(Size, Forks, Issues, Watchers, repo_age_days, days_since_update) %>%\n",
    "    cor() %>%\n",
    "    as_tibble(rownames = 'var1') %>%\n",
    "    pivot_longer(-var1, names_to = \"var2\", values_to = \"corr\")\n",
    "\n",
    "head(corr_matrix_df_cleaned)"
   ]
  },
  {
   "cell_type": "code",
   "execution_count": null,
   "id": "90d589a2-ec8a-46d0-a4a8-344330201422",
   "metadata": {},
   "outputs": [],
   "source": [
    "options(repr.plot.width = 8, repr.plot.height = 5) \n",
    "\n",
    "plot_corr_matrix_df_cleaned <- \n",
    "    corr_matrix_df_cleaned %>%\n",
    "    ggplot(aes(var1, var2)) +\n",
    "    geom_tile(aes(fill = corr), color = \"white\") +\n",
    "    scale_fill_distiller(\"Correlation Coefficient \\n\",\n",
    "                         palette = \"YlOrRd\",\n",
    "                         direction = 1, \n",
    "                         limits = c(-1, 1)\n",
    "    ) +\n",
    "    labs(x = \"\", y = \"\") +\n",
    "    theme_minimal() +\n",
    "    theme(\n",
    "        axis.text.x = element_text(angle = 45, vjust = 1, size = 14, hjust = 1),\n",
    "        axis.text.y = element_text(vjust = 1, size = 14, hjust = 1),\n",
    "        legend.title = element_text(size = 18),\n",
    "        legend.text = element_text(size = 12),\n",
    "        legend.key.size = unit(1.5, \"cm\")\n",
    "    ) +\n",
    "    coord_fixed() +\n",
    "    geom_text(aes(var2, var1, label = round(corr, 2)), color = \"black\", size = 4.5)\n",
    "\n",
    "plot_corr_matrix_df_cleaned"
   ]
  },
  {
   "cell_type": "markdown",
   "id": "f0d9f8bd-4689-4d26-b5b0-98d30625d0bf",
   "metadata": {},
   "source": [
    "*We can see a strong positive correlation between 'Watchers' and 'Forks' implying multicollinearity*"
   ]
  },
  {
   "cell_type": "code",
   "execution_count": null,
   "id": "1284b09b-9d10-4e1a-bd48-dbe7dedad02f",
   "metadata": {},
   "outputs": [],
   "source": [
    "MLR_df_cleaned <- lm(formula = Stars ~ ., data = df_cleaned)\n",
    "\n",
    "MLR_df_cleaned_results <- \n",
    "    tidy(MLR_df_cleaned) %>%\n",
    "    mutate_if(is.numeric, round, 2)\n",
    "\n",
    "head(MLR_df_cleaned_results)"
   ]
  },
  {
   "cell_type": "code",
   "execution_count": null,
   "id": "6eb37707-174b-421b-a713-9fb5991fda84",
   "metadata": {},
   "outputs": [],
   "source": [
    "VIF_MLR_df_cleaned <- vif(MLR_df_cleaned)\n",
    "\n",
    "round(VIF_MLR_df_cleaned, 3)"
   ]
  },
  {
   "cell_type": "markdown",
   "id": "c46dd8dc-4bc7-48a5-8081-c43b44aa3dd4",
   "metadata": {},
   "source": [
    "*We can see from the heat map that some of the input variables have a medium linear correlation. \n",
    " e.g. Forks and Issues(0.667). In the next cell, we are going the find out what are their correlation coefficients.*"
   ]
  },
  {
   "cell_type": "code",
   "execution_count": null,
   "id": "40d58609-2262-4d0d-b210-dba699f68bcd",
   "metadata": {},
   "outputs": [],
   "source": [
    "additive_model <- lm(Stars ~ Size + Forks + Issues + Watchers + `Has Discussions`, data = df_cleaned)\n",
    "\n",
    "additive_model_results <- tidy(additive_model, conf.int = TRUE)\n",
    "\n",
    "additive_model\n",
    "additive_model_results"
   ]
  },
  {
   "cell_type": "code",
   "execution_count": null,
   "id": "424dd187-f78c-4db1-8998-e8256742e011",
   "metadata": {},
   "outputs": [],
   "source": [
    "additive_model <- lm(Stars ~ Size * Watchers * `Has Discussions`, data = df_cleaned)\n",
    "\n",
    "additive_model_results <- tidy(additive_model, conf.int = TRUE)\n",
    "\n",
    "additive_model\n",
    "\n",
    "additive_model_results"
   ]
  },
  {
   "cell_type": "code",
   "execution_count": null,
   "id": "506066cd-d3da-4a6d-82de-86a6949b7cb7",
   "metadata": {},
   "outputs": [],
   "source": []
  }
 ],
 "metadata": {
  "kernelspec": {
   "display_name": "R",
   "language": "R",
   "name": "ir"
  },
  "language_info": {
   "codemirror_mode": "r",
   "file_extension": ".r",
   "mimetype": "text/x-r-source",
   "name": "R",
   "pygments_lexer": "r",
   "version": "4.3.3"
  }
 },
 "nbformat": 4,
 "nbformat_minor": 5
}
