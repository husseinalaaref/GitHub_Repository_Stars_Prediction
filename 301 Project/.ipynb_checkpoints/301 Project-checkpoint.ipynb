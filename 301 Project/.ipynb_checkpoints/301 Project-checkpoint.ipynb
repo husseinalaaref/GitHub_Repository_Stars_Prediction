{
 "cells": [
  {
   "cell_type": "code",
   "execution_count": null,
   "id": "31ba9f47-a42e-445b-abe8-c659e648c051",
   "metadata": {},
   "outputs": [
    {
     "name": "stderr",
     "output_type": "stream",
     "text": [
      "Updating HTML index of packages in '.Library'\n",
      "\n",
      "Making 'packages.html' ...\n",
      " done\n",
      "\n",
      "Updating HTML index of packages in '.Library'\n",
      "\n",
      "Making 'packages.html' ...\n",
      " done\n",
      "\n"
     ]
    }
   ],
   "source": [
    "install.packages(\"leaps\")\n",
    "install.packages(\"ggcorrplot\")\n",
    "install.packages(\"tidyr\")\n",
    "install.packages(\"reshape2\")"
   ]
  },
  {
   "cell_type": "code",
   "execution_count": null,
   "id": "4d949f9a-9ac8-4d30-b6db-40d81d2d3d4c",
   "metadata": {},
   "outputs": [],
   "source": [
    "library(tidyverse)\n",
    "library(lubridate)\n",
    "\n",
    "library(ggplot2)\n",
    "library(reshape2)\n",
    "library(broom)\n",
    "library(tidyr)\n",
    "library(dplyr)\n",
    "library(GGally)\n",
    "\n",
    "library(knitr)"
   ]
  },
  {
   "cell_type": "markdown",
   "id": "81a882af-afc9-4e41-bc49-e225669d9e60",
   "metadata": {},
   "source": [
    "*This dataset lists over 215000 top projects by star with over 167 stars. The dataset was collected using a GitHub search API. This API will get the first 1000 for a query. By looping through the low to high pairs the API returns less than a thousand repositories when query = Star:{Low}...{High}. The repository includes the name, description, URL, date of creation, date of last update, homepage, size, and stars, among other attributes for a total of 24 attributes.*\n",
    "\n",
    "- Name:               chr \n",
    "- Description:        chr\n",
    "- URL:                chr \n",
    "- Created At:         dttm \n",
    "- Updated At:         dttm\n",
    "- Homepage:           chr\n",
    "- Size:               dbl\n",
    "- Stars:              dbl\n",
    "- Forks:              dbl \n",
    "- Issues:             dbl\n",
    "- Watchers:           dbl\n",
    "- Language:           chr \n",
    "- License:            chr \n",
    "- Topics:             chr \n",
    "- Has Issues:        lgl\n",
    "- Has Projects:      lgl \n",
    "- Has Downloads:     lgl \n",
    "- Has Wiki:          lgl \n",
    "- Has Pages:         lgl\n",
    "- Has Discussions:   lgl \n",
    "- Is Fork:           lgl\n",
    "- Is Archived:       lgl \n",
    "- Is Template:       lgl \n",
    "- Default Branch:    chr"
   ]
  },
  {
   "cell_type": "code",
   "execution_count": null,
   "id": "baa20bc4-6db9-4ce9-9fa6-455e895b1b1c",
   "metadata": {},
   "outputs": [],
   "source": [
    "df <- read_csv('repositories.csv')\n",
    "\n",
    "df_subset <- df %>% sample_n(size = 10000)\n",
    "\n",
    "head(df_subset, n = 3)"
   ]
  },
  {
   "cell_type": "markdown",
   "id": "87769034-1e39-40c4-b371-0322cae49491",
   "metadata": {},
   "source": [
    "* What factors affect the number of stars a GitHub repository has?\n",
    "* what variables are most correlated with the success of a GitHub repository?\n",
    "* Can we predict the number of stars a GitHub repository will have based on the number of other input variables (e.g. # of Issues, # of Forks, # of days since it was created, ...etc)?\n",
    "* How accurate are the predictions, and what is the best-fit model based on the given input data? "
   ]
  },
  {
   "cell_type": "markdown",
   "id": "b716e63a-b602-4539-b817-beccde04a7a7",
   "metadata": {},
   "source": [
    "*The two cells below provide additional information about the data such as the number of observations, variable names and types, and samples of the data that is included in each column.* "
   ]
  },
  {
   "cell_type": "code",
   "execution_count": null,
   "id": "2acc6ce2-3c55-4f2a-9047-894ef31a2e67",
   "metadata": {},
   "outputs": [],
   "source": [
    "nrow(df_subset)\n",
    "\n",
    "glimpse(df_subset) \n",
    "\n",
    "colnames(df_subset) "
   ]
  },
  {
   "cell_type": "code",
   "execution_count": null,
   "id": "bcf36a2d-9322-446f-8355-5fe671eea6ff",
   "metadata": {},
   "outputs": [],
   "source": [
    "str(df)"
   ]
  },
  {
   "cell_type": "markdown",
   "id": "b2bed695-2edc-48d6-a5dd-5a176669c158",
   "metadata": {},
   "source": [
    "*By observing the varibles and their types, Now I want to create a subset that include \n",
    "only the variables that are relevant the question I am trying to asnswer with this data.*"
   ]
  },
  {
   "cell_type": "code",
   "execution_count": null,
   "id": "dc97c378-32f0-4ccc-93ec-543d5db61595",
   "metadata": {},
   "outputs": [],
   "source": [
    "features <- c('Created At', 'Updated At', \"Size\", \"Stars\", \"Forks\",\n",
    "              \"Issues\", 'Watchers', 'Has Discussions')\n",
    "df_subset <- df_subset %>% select(all_of(features))\n",
    "\n",
    "head(df_subset, n = 3)"
   ]
  },
  {
   "cell_type": "code",
   "execution_count": null,
   "id": "f124c856-b593-4211-ab2e-f6feb093c5d7",
   "metadata": {},
   "outputs": [],
   "source": [
    "sum(is.na(df_subset))"
   ]
  },
  {
   "cell_type": "markdown",
   "id": "7140bdc5-78ab-462c-ad2d-0cb12d0fbe1e",
   "metadata": {},
   "source": [
    "*The variable 'Created At' and 'Updated At' are in DateTime <dttm> format. To make them easy to work with, I will convert them to numerical values representing the number of days that have elapsed since the repository was created and updated.*"
   ]
  },
  {
   "cell_type": "code",
   "execution_count": null,
   "id": "3ab2482a-8d4a-4fb9-8a72-6eec6a453eda",
   "metadata": {},
   "outputs": [],
   "source": [
    "head(df_subset$'Created At') "
   ]
  },
  {
   "cell_type": "code",
   "execution_count": null,
   "id": "45be4619-f472-4beb-96bf-d25c2d52f188",
   "metadata": {},
   "outputs": [],
   "source": [
    "df_subset$'Created At' <- as.Date(strptime(df_subset$'Created At', format = \"%Y-%m-%d %H:%M:%S\"))\n",
    "df_subset$'Updated At' <- as.Date(strptime(df_subset$'Updated At', format = \"%Y-%m-%d %H:%M:%S\"))"
   ]
  },
  {
   "cell_type": "code",
   "execution_count": null,
   "id": "3f92c944-22f8-41c6-a200-cd8662e7d365",
   "metadata": {},
   "outputs": [],
   "source": [
    "df_subset <- df_subset %>%\n",
    "  mutate(repo_age_days = as.numeric(Sys.Date() - `Created At`),\n",
    "         days_since_update = as.numeric(Sys.Date() - `Updated At`))"
   ]
  },
  {
   "cell_type": "code",
   "execution_count": null,
   "id": "70cfdcbf-fe29-41a5-8c6f-a4d7656c10fe",
   "metadata": {},
   "outputs": [],
   "source": [
    "head(df_subset, n = 3)"
   ]
  },
  {
   "cell_type": "code",
   "execution_count": null,
   "id": "4d1604fc-0db6-4e42-86f2-86fdf930dc95",
   "metadata": {},
   "outputs": [],
   "source": [
    "df_subset <- df_subset %>% select(-c('Created At', 'Updated At'))\n",
    "\n",
    "head(df_subset, n = 3)"
   ]
  },
  {
   "cell_type": "markdown",
   "id": "e1e5eba6-9af8-45aa-891e-4cfe92296d36",
   "metadata": {},
   "source": [
    "*Now, the data needs to be cleaned before we can visualize it.*"
   ]
  },
  {
   "cell_type": "code",
   "execution_count": null,
   "id": "d6e998fc-d63c-48d1-aac8-440a89643faa",
   "metadata": {},
   "outputs": [],
   "source": [
    "non_na_repo_age <- df_subset %>% filter(!is.na(repo_age_days))\n",
    "non_na_days_since_update <- df_subset %>% filter(!is.na(days_since_update))\n",
    "\n",
    "head(df_subset %>% select(repo_age_days, days_since_update, n = 3))"
   ]
  },
  {
   "cell_type": "code",
   "execution_count": null,
   "id": "5c08ec7a-fbd8-4c25-a4bd-4df378d1a9fc",
   "metadata": {},
   "outputs": [],
   "source": [
    "df_cleaned <- df_subset %>% filter(!is.na(Stars) & !is.na(Forks) & !is.na(repo_age_days))  \n",
    "\n",
    "head(df_cleaned, n = 3)"
   ]
  },
  {
   "cell_type": "code",
   "execution_count": null,
   "id": "72137412-0c43-41da-bd14-790889c05053",
   "metadata": {},
   "outputs": [],
   "source": [
    "df_summary <- summary(df_cleaned) %>%\n",
    "              kable()\n",
    "\n",
    "df_summary"
   ]
  },
  {
   "cell_type": "code",
   "execution_count": null,
   "id": "b0d68d50-140c-46de-ad69-3cc0f366dd26",
   "metadata": {},
   "outputs": [],
   "source": [
    "summary_stats <- df_cleaned %>%\n",
    "  summarize(\n",
    "    count = n(),\n",
    "    avg_stars = mean(Stars, na.rm = TRUE),\n",
    "    avg_forks = mean(Forks, na.rm = TRUE),\n",
    "    avg_issues = mean(Issues, na.rm = TRUE),\n",
    "    avg_repo_age = mean(repo_age_days, na.rm = TRUE),\n",
    "    avg_days_since_update = mean(days_since_update, na.rm = TRUE)\n",
    "  )\n",
    "\n",
    "print(summary_stats)"
   ]
  },
  {
   "cell_type": "code",
   "execution_count": null,
   "id": "3e9b421c-3889-4b0d-91ff-d6bddfb89637",
   "metadata": {},
   "outputs": [],
   "source": [
    "head(df, n = 3)\n",
    "nrow(df_cleaned)\n",
    "sum(is.na(df_cleaned))"
   ]
  },
  {
   "cell_type": "code",
   "execution_count": null,
   "id": "a086ca16-ba7c-4ca3-b538-73a673917d16",
   "metadata": {},
   "outputs": [],
   "source": [
    "colSums(is.na(df_cleaned))"
   ]
  },
  {
   "cell_type": "markdown",
   "id": "93cb7e1f-6bd2-4c42-8026-4be73ca9fe67",
   "metadata": {},
   "source": [
    "*Now that our data is clean, I am going to perform visualization. I will start by creating a simple linear model plot for each numerical input variable againt our desired reponse variable (Stars).*"
   ]
  },
  {
   "cell_type": "code",
   "execution_count": null,
   "id": "6276390e-04f1-47fc-892e-0a15cd24e265",
   "metadata": {},
   "outputs": [],
   "source": [
    "colnames(df_cleaned)"
   ]
  },
  {
   "cell_type": "code",
   "execution_count": null,
   "id": "9c82e3d4-dc61-4321-9e39-271556ef9284",
   "metadata": {},
   "outputs": [],
   "source": [
    "continuous_vars <- c(\"Size\", \"Forks\", \"Issues\", \"Watchers\", \"repo_age_days\", \"days_since_update\")\n",
    "\n",
    "model <- lm(Stars ~ ., data = df_cleaned %>% select(Stars, all_of(continuous_vars)))\n",
    "\n",
    "print(summary(model))\n",
    "\n",
    "for (var in continuous_vars) {\n",
    "  ggplot(df_cleaned, aes_string(x = var, y = \"Stars\")) +\n",
    "    geom_point(alpha = 0.5) +\n",
    "    geom_smooth(method = \"lm\", color = \"red\", se = FALSE) +\n",
    "    labs(title = paste(\"Linear Model Fit for Stars vs\", var)) +\n",
    "    theme_minimal() -> p\n",
    "  \n",
    "  print(p)\n",
    "}"
   ]
  },
  {
   "cell_type": "markdown",
   "id": "d9e5b3d3-c1a0-4302-a24b-25d629d550fb",
   "metadata": {},
   "source": [
    "*To investigate the presence of Multicollinearty, I am going to create a heat map to visulize\n",
    "the corellation between input variables.*"
   ]
  },
  {
   "cell_type": "code",
   "execution_count": null,
   "id": "0e5d6d74-650a-4d71-9f2a-fd97877f966a",
   "metadata": {},
   "outputs": [],
   "source": [
    "options(repr.plot.width = 15, repr.plot.height = 12) \n",
    "\n",
    "df_cleaned_pair_plots <- \n",
    "    df_cleaned %>% \n",
    "    select(Size, Forks, Issues, Watchers, repo_age_days, days_since_update)%>% \n",
    "    ggpairs(progress = FALSE) +\n",
    "    theme(text = element_text(size = 15))\n",
    "\n",
    "df_cleaned_pair_plots"
   ]
  },
  {
   "cell_type": "code",
   "execution_count": null,
   "id": "c0528c94-e69f-4105-b3db-ed37fdf9cf76",
   "metadata": {},
   "outputs": [],
   "source": [
    "corr_matrix_df_cleaned <- \n",
    "    df_cleaned %>%  \n",
    "    select(Size, Forks, Issues, Watchers, repo_age_days, days_since_update) %>%\n",
    "    cor() %>%\n",
    "    as_tibble(rownames = 'var1') %>%\n",
    "    pivot_longer(-var1, names_to = \"var2\", values_to = \"corr\")\n",
    "\n",
    "head(corr_matrix_df_cleaned)"
   ]
  },
  {
   "cell_type": "code",
   "execution_count": null,
   "id": "90d589a2-ec8a-46d0-a4a8-344330201422",
   "metadata": {},
   "outputs": [],
   "source": [
    "options(repr.plot.width = 8, repr.plot.height = 5) \n",
    "\n",
    "plot_corr_matrix_df_cleaned <- \n",
    "    corr_matrix_df_cleaned %>%\n",
    "    ggplot(aes(var1, var2)) +\n",
    "    geom_tile(aes(fill = corr), color = \"white\") +\n",
    "    scale_fill_distiller(\"Correlation Coefficient \\n\",\n",
    "                         palette = \"YlOrRd\",\n",
    "                         direction = 1, \n",
    "                         limits = c(-1, 1)\n",
    "    ) +\n",
    "    labs(x = \"\", y = \"\") +\n",
    "    theme_minimal() +\n",
    "    theme(\n",
    "        axis.text.x = element_text(angle = 45, vjust = 1, size = 14, hjust = 1),\n",
    "        axis.text.y = element_text(vjust = 1, size = 14, hjust = 1),\n",
    "        legend.title = element_text(size = 18),\n",
    "        legend.text = element_text(size = 12),\n",
    "        legend.key.size = unit(1.5, \"cm\")\n",
    "    ) +\n",
    "    coord_fixed() +\n",
    "    geom_text(aes(var2, var1, label = round(corr, 2)), color = \"black\", size = 4.5)\n",
    "\n",
    "plot_corr_matrix_df_cleaned"
   ]
  },
  {
   "cell_type": "markdown",
   "id": "f0d9f8bd-4689-4d26-b5b0-98d30625d0bf",
   "metadata": {},
   "source": [
    "*We can see a strong positive correlation between 'Watchers' and 'Forks' implying multicollinearity*"
   ]
  },
  {
   "cell_type": "code",
   "execution_count": null,
   "id": "1284b09b-9d10-4e1a-bd48-dbe7dedad02f",
   "metadata": {},
   "outputs": [],
   "source": [
    "MLR_df_cleaned <- lm(formula = Stars ~ ., data = df_cleaned)\n",
    "\n",
    "MLR_df_cleaned_results <- \n",
    "    tidy(MLR_df_cleaned) %>%\n",
    "    mutate_if(is.numeric, round, 2)\n",
    "\n",
    "head(MLR_df_cleaned_results)"
   ]
  },
  {
   "cell_type": "code",
   "execution_count": null,
   "id": "6eb37707-174b-421b-a713-9fb5991fda84",
   "metadata": {},
   "outputs": [],
   "source": [
    "VIF_MLR_df_cleaned <- vif(MLR_df_cleaned)\n",
    "\n",
    "round(VIF_MLR_df_cleaned, 3)"
   ]
  },
  {
   "cell_type": "markdown",
   "id": "c46dd8dc-4bc7-48a5-8081-c43b44aa3dd4",
   "metadata": {},
   "source": [
    "*We can see from the heat map that some of the input variables have a medium linear correlation. \n",
    " e.g. Forks and Issues(0.667). In the next cell, we are going the find out what are their correlation coefficients.*"
   ]
  },
  {
   "cell_type": "code",
   "execution_count": null,
   "id": "40d58609-2262-4d0d-b210-dba699f68bcd",
   "metadata": {},
   "outputs": [],
   "source": [
    "additive_model <- lm(Stars ~ Size + Forks + Issues + Watchers + `Has Discussions`, data = df_cleaned)\n",
    "\n",
    "additive_model_results <- tidy(additive_model, conf.int = TRUE)\n",
    "\n",
    "additive_model\n",
    "additive_model_results"
   ]
  },
  {
   "cell_type": "code",
   "execution_count": null,
   "id": "424dd187-f78c-4db1-8998-e8256742e011",
   "metadata": {},
   "outputs": [],
   "source": [
    "additive_model <- lm(Stars ~ Size * Watchers * `Has Discussions`, data = df_cleaned)\n",
    "\n",
    "additive_model_results <- tidy(additive_model, conf.int = TRUE)\n",
    "\n",
    "additive_model\n",
    "\n",
    "additive_model_results"
   ]
  }
 ],
 "metadata": {
  "kernelspec": {
   "display_name": "R",
   "language": "R",
   "name": "ir"
  },
  "language_info": {
   "codemirror_mode": "r",
   "file_extension": ".r",
   "mimetype": "text/x-r-source",
   "name": "R",
   "pygments_lexer": "r",
   "version": "4.3.3"
  }
 },
 "nbformat": 4,
 "nbformat_minor": 5
}
